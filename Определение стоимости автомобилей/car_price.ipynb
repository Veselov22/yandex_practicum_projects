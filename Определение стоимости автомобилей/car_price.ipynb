{
 "cells": [
  {
   "cell_type": "markdown",
   "metadata": {},
   "source": [
    "## Подготовка данных"
   ]
  },
  {
   "cell_type": "markdown",
   "metadata": {},
   "source": [
    "Загрузка библиотек:"
   ]
  },
  {
   "cell_type": "code",
   "execution_count": 1,
   "metadata": {},
   "outputs": [],
   "source": [
    "import pandas as pd\n",
    "import numpy as np\n",
    "# Сброс ограничений на количество выводимых рядов\n",
    "pd.set_option('display.max_rows', None)\n",
    "# Сброс ограничений на число столбцов\n",
    "pd.set_option('display.max_columns', None)\n",
    "pd.set_option('display.width', 1000)\n",
    "import matplotlib.pyplot as plt\n",
    "import warnings\n",
    "warnings.simplefilter('ignore')\n",
    "import seaborn as sns\n",
    "from sklearn.model_selection import train_test_split\n",
    "from sklearn.dummy import DummyRegressor\n",
    "from sklearn.ensemble import GradientBoostingRegressor\n",
    "from catboost import CatBoostRegressor, Pool\n",
    "from lightgbm import LGBMRegressor\n",
    "from sklearn.metrics import SCORERS\n",
    "from sklearn.metrics import mean_squared_error, r2_score, mean_absolute_error, make_scorer\n",
    "from sklearn.model_selection import train_test_split, cross_val_score, GridSearchCV, RandomizedSearchCV, KFold\n",
    "from sklearn.preprocessing import StandardScaler, MinMaxScaler, OneHotEncoder, PolynomialFeatures\n",
    "from sklearn.utils import shuffle, resample\n",
    "from sklearn.linear_model import LinearRegression\n",
    "from sklearn.tree import DecisionTreeRegressor\n",
    "from sklearn.ensemble import RandomForestRegressor\n",
    "from sklearn.preprocessing import OrdinalEncoder"
   ]
  },
  {
   "cell_type": "markdown",
   "metadata": {},
   "source": [
    "Загрузка файла:"
   ]
  },
  {
   "cell_type": "code",
   "execution_count": 2,
   "metadata": {},
   "outputs": [],
   "source": [
    "data_autos = pd.read_csv('/datasets/autos.csv')"
   ]
  },
  {
   "cell_type": "code",
   "execution_count": 3,
   "metadata": {},
   "outputs": [
    {
     "data": {
      "text/html": [
       "<div>\n",
       "<style scoped>\n",
       "    .dataframe tbody tr th:only-of-type {\n",
       "        vertical-align: middle;\n",
       "    }\n",
       "\n",
       "    .dataframe tbody tr th {\n",
       "        vertical-align: top;\n",
       "    }\n",
       "\n",
       "    .dataframe thead th {\n",
       "        text-align: right;\n",
       "    }\n",
       "</style>\n",
       "<table border=\"1\" class=\"dataframe\">\n",
       "  <thead>\n",
       "    <tr style=\"text-align: right;\">\n",
       "      <th></th>\n",
       "      <th>DateCrawled</th>\n",
       "      <th>Price</th>\n",
       "      <th>VehicleType</th>\n",
       "      <th>RegistrationYear</th>\n",
       "      <th>Gearbox</th>\n",
       "      <th>Power</th>\n",
       "      <th>Model</th>\n",
       "      <th>Kilometer</th>\n",
       "      <th>RegistrationMonth</th>\n",
       "      <th>FuelType</th>\n",
       "      <th>Brand</th>\n",
       "      <th>NotRepaired</th>\n",
       "      <th>DateCreated</th>\n",
       "      <th>NumberOfPictures</th>\n",
       "      <th>PostalCode</th>\n",
       "      <th>LastSeen</th>\n",
       "    </tr>\n",
       "  </thead>\n",
       "  <tbody>\n",
       "    <tr>\n",
       "      <td>0</td>\n",
       "      <td>2016-03-24 11:52:17</td>\n",
       "      <td>480</td>\n",
       "      <td>NaN</td>\n",
       "      <td>1993</td>\n",
       "      <td>manual</td>\n",
       "      <td>0</td>\n",
       "      <td>golf</td>\n",
       "      <td>150000</td>\n",
       "      <td>0</td>\n",
       "      <td>petrol</td>\n",
       "      <td>volkswagen</td>\n",
       "      <td>NaN</td>\n",
       "      <td>2016-03-24 00:00:00</td>\n",
       "      <td>0</td>\n",
       "      <td>70435</td>\n",
       "      <td>2016-04-07 03:16:57</td>\n",
       "    </tr>\n",
       "    <tr>\n",
       "      <td>1</td>\n",
       "      <td>2016-03-24 10:58:45</td>\n",
       "      <td>18300</td>\n",
       "      <td>coupe</td>\n",
       "      <td>2011</td>\n",
       "      <td>manual</td>\n",
       "      <td>190</td>\n",
       "      <td>NaN</td>\n",
       "      <td>125000</td>\n",
       "      <td>5</td>\n",
       "      <td>gasoline</td>\n",
       "      <td>audi</td>\n",
       "      <td>yes</td>\n",
       "      <td>2016-03-24 00:00:00</td>\n",
       "      <td>0</td>\n",
       "      <td>66954</td>\n",
       "      <td>2016-04-07 01:46:50</td>\n",
       "    </tr>\n",
       "    <tr>\n",
       "      <td>2</td>\n",
       "      <td>2016-03-14 12:52:21</td>\n",
       "      <td>9800</td>\n",
       "      <td>suv</td>\n",
       "      <td>2004</td>\n",
       "      <td>auto</td>\n",
       "      <td>163</td>\n",
       "      <td>grand</td>\n",
       "      <td>125000</td>\n",
       "      <td>8</td>\n",
       "      <td>gasoline</td>\n",
       "      <td>jeep</td>\n",
       "      <td>NaN</td>\n",
       "      <td>2016-03-14 00:00:00</td>\n",
       "      <td>0</td>\n",
       "      <td>90480</td>\n",
       "      <td>2016-04-05 12:47:46</td>\n",
       "    </tr>\n",
       "    <tr>\n",
       "      <td>3</td>\n",
       "      <td>2016-03-17 16:54:04</td>\n",
       "      <td>1500</td>\n",
       "      <td>small</td>\n",
       "      <td>2001</td>\n",
       "      <td>manual</td>\n",
       "      <td>75</td>\n",
       "      <td>golf</td>\n",
       "      <td>150000</td>\n",
       "      <td>6</td>\n",
       "      <td>petrol</td>\n",
       "      <td>volkswagen</td>\n",
       "      <td>no</td>\n",
       "      <td>2016-03-17 00:00:00</td>\n",
       "      <td>0</td>\n",
       "      <td>91074</td>\n",
       "      <td>2016-03-17 17:40:17</td>\n",
       "    </tr>\n",
       "    <tr>\n",
       "      <td>4</td>\n",
       "      <td>2016-03-31 17:25:20</td>\n",
       "      <td>3600</td>\n",
       "      <td>small</td>\n",
       "      <td>2008</td>\n",
       "      <td>manual</td>\n",
       "      <td>69</td>\n",
       "      <td>fabia</td>\n",
       "      <td>90000</td>\n",
       "      <td>7</td>\n",
       "      <td>gasoline</td>\n",
       "      <td>skoda</td>\n",
       "      <td>no</td>\n",
       "      <td>2016-03-31 00:00:00</td>\n",
       "      <td>0</td>\n",
       "      <td>60437</td>\n",
       "      <td>2016-04-06 10:17:21</td>\n",
       "    </tr>\n",
       "  </tbody>\n",
       "</table>\n",
       "</div>"
      ],
      "text/plain": [
       "           DateCrawled  Price VehicleType  RegistrationYear Gearbox  Power  Model  Kilometer  RegistrationMonth  FuelType       Brand NotRepaired          DateCreated  NumberOfPictures  PostalCode             LastSeen\n",
       "0  2016-03-24 11:52:17    480         NaN              1993  manual      0   golf     150000                  0    petrol  volkswagen         NaN  2016-03-24 00:00:00                 0       70435  2016-04-07 03:16:57\n",
       "1  2016-03-24 10:58:45  18300       coupe              2011  manual    190    NaN     125000                  5  gasoline        audi         yes  2016-03-24 00:00:00                 0       66954  2016-04-07 01:46:50\n",
       "2  2016-03-14 12:52:21   9800         suv              2004    auto    163  grand     125000                  8  gasoline        jeep         NaN  2016-03-14 00:00:00                 0       90480  2016-04-05 12:47:46\n",
       "3  2016-03-17 16:54:04   1500       small              2001  manual     75   golf     150000                  6    petrol  volkswagen          no  2016-03-17 00:00:00                 0       91074  2016-03-17 17:40:17\n",
       "4  2016-03-31 17:25:20   3600       small              2008  manual     69  fabia      90000                  7  gasoline       skoda          no  2016-03-31 00:00:00                 0       60437  2016-04-06 10:17:21"
      ]
     },
     "execution_count": 3,
     "metadata": {},
     "output_type": "execute_result"
    }
   ],
   "source": [
    "data_autos.head()"
   ]
  },
  {
   "cell_type": "code",
   "execution_count": 4,
   "metadata": {},
   "outputs": [
    {
     "name": "stdout",
     "output_type": "stream",
     "text": [
      "<class 'pandas.core.frame.DataFrame'>\n",
      "RangeIndex: 354369 entries, 0 to 354368\n",
      "Data columns (total 16 columns):\n",
      "DateCrawled          354369 non-null object\n",
      "Price                354369 non-null int64\n",
      "VehicleType          316879 non-null object\n",
      "RegistrationYear     354369 non-null int64\n",
      "Gearbox              334536 non-null object\n",
      "Power                354369 non-null int64\n",
      "Model                334664 non-null object\n",
      "Kilometer            354369 non-null int64\n",
      "RegistrationMonth    354369 non-null int64\n",
      "FuelType             321474 non-null object\n",
      "Brand                354369 non-null object\n",
      "NotRepaired          283215 non-null object\n",
      "DateCreated          354369 non-null object\n",
      "NumberOfPictures     354369 non-null int64\n",
      "PostalCode           354369 non-null int64\n",
      "LastSeen             354369 non-null object\n",
      "dtypes: int64(7), object(9)\n",
      "memory usage: 43.3+ MB\n"
     ]
    }
   ],
   "source": [
    "data_autos.info()"
   ]
  },
  {
   "cell_type": "code",
   "execution_count": 5,
   "metadata": {},
   "outputs": [
    {
     "data": {
      "text/html": [
       "<div>\n",
       "<style scoped>\n",
       "    .dataframe tbody tr th:only-of-type {\n",
       "        vertical-align: middle;\n",
       "    }\n",
       "\n",
       "    .dataframe tbody tr th {\n",
       "        vertical-align: top;\n",
       "    }\n",
       "\n",
       "    .dataframe thead th {\n",
       "        text-align: right;\n",
       "    }\n",
       "</style>\n",
       "<table border=\"1\" class=\"dataframe\">\n",
       "  <thead>\n",
       "    <tr style=\"text-align: right;\">\n",
       "      <th></th>\n",
       "      <th>Price</th>\n",
       "      <th>RegistrationYear</th>\n",
       "      <th>Power</th>\n",
       "      <th>Kilometer</th>\n",
       "      <th>RegistrationMonth</th>\n",
       "      <th>NumberOfPictures</th>\n",
       "      <th>PostalCode</th>\n",
       "    </tr>\n",
       "  </thead>\n",
       "  <tbody>\n",
       "    <tr>\n",
       "      <td>count</td>\n",
       "      <td>354369.000000</td>\n",
       "      <td>354369.000000</td>\n",
       "      <td>354369.000000</td>\n",
       "      <td>354369.000000</td>\n",
       "      <td>354369.000000</td>\n",
       "      <td>354369.0</td>\n",
       "      <td>354369.000000</td>\n",
       "    </tr>\n",
       "    <tr>\n",
       "      <td>mean</td>\n",
       "      <td>4416.656776</td>\n",
       "      <td>2004.234448</td>\n",
       "      <td>110.094337</td>\n",
       "      <td>128211.172535</td>\n",
       "      <td>5.714645</td>\n",
       "      <td>0.0</td>\n",
       "      <td>50508.689087</td>\n",
       "    </tr>\n",
       "    <tr>\n",
       "      <td>std</td>\n",
       "      <td>4514.158514</td>\n",
       "      <td>90.227958</td>\n",
       "      <td>189.850405</td>\n",
       "      <td>37905.341530</td>\n",
       "      <td>3.726421</td>\n",
       "      <td>0.0</td>\n",
       "      <td>25783.096248</td>\n",
       "    </tr>\n",
       "    <tr>\n",
       "      <td>min</td>\n",
       "      <td>0.000000</td>\n",
       "      <td>1000.000000</td>\n",
       "      <td>0.000000</td>\n",
       "      <td>5000.000000</td>\n",
       "      <td>0.000000</td>\n",
       "      <td>0.0</td>\n",
       "      <td>1067.000000</td>\n",
       "    </tr>\n",
       "    <tr>\n",
       "      <td>25%</td>\n",
       "      <td>1050.000000</td>\n",
       "      <td>1999.000000</td>\n",
       "      <td>69.000000</td>\n",
       "      <td>125000.000000</td>\n",
       "      <td>3.000000</td>\n",
       "      <td>0.0</td>\n",
       "      <td>30165.000000</td>\n",
       "    </tr>\n",
       "    <tr>\n",
       "      <td>50%</td>\n",
       "      <td>2700.000000</td>\n",
       "      <td>2003.000000</td>\n",
       "      <td>105.000000</td>\n",
       "      <td>150000.000000</td>\n",
       "      <td>6.000000</td>\n",
       "      <td>0.0</td>\n",
       "      <td>49413.000000</td>\n",
       "    </tr>\n",
       "    <tr>\n",
       "      <td>75%</td>\n",
       "      <td>6400.000000</td>\n",
       "      <td>2008.000000</td>\n",
       "      <td>143.000000</td>\n",
       "      <td>150000.000000</td>\n",
       "      <td>9.000000</td>\n",
       "      <td>0.0</td>\n",
       "      <td>71083.000000</td>\n",
       "    </tr>\n",
       "    <tr>\n",
       "      <td>max</td>\n",
       "      <td>20000.000000</td>\n",
       "      <td>9999.000000</td>\n",
       "      <td>20000.000000</td>\n",
       "      <td>150000.000000</td>\n",
       "      <td>12.000000</td>\n",
       "      <td>0.0</td>\n",
       "      <td>99998.000000</td>\n",
       "    </tr>\n",
       "  </tbody>\n",
       "</table>\n",
       "</div>"
      ],
      "text/plain": [
       "               Price  RegistrationYear          Power      Kilometer  RegistrationMonth  NumberOfPictures     PostalCode\n",
       "count  354369.000000     354369.000000  354369.000000  354369.000000      354369.000000          354369.0  354369.000000\n",
       "mean     4416.656776       2004.234448     110.094337  128211.172535           5.714645               0.0   50508.689087\n",
       "std      4514.158514         90.227958     189.850405   37905.341530           3.726421               0.0   25783.096248\n",
       "min         0.000000       1000.000000       0.000000    5000.000000           0.000000               0.0    1067.000000\n",
       "25%      1050.000000       1999.000000      69.000000  125000.000000           3.000000               0.0   30165.000000\n",
       "50%      2700.000000       2003.000000     105.000000  150000.000000           6.000000               0.0   49413.000000\n",
       "75%      6400.000000       2008.000000     143.000000  150000.000000           9.000000               0.0   71083.000000\n",
       "max     20000.000000       9999.000000   20000.000000  150000.000000          12.000000               0.0   99998.000000"
      ]
     },
     "execution_count": 5,
     "metadata": {},
     "output_type": "execute_result"
    }
   ],
   "source": [
    "data_autos.describe()"
   ]
  },
  {
   "cell_type": "markdown",
   "metadata": {},
   "source": [
    "Перед нами датафрейм, состоящий из 354369 строк, 16 столбцов (15 признаков и 1 целевой признак). В нем имеются пропущенные значения, а также некоторые лишние признаки для машинного обучения. Заметим, что средняя цена автомобилей 4400 евро, что является очень маленькой суммой, а медиана 2700, значит имеется очень много машин с неадекватной стоимостью. Есть выбросы, например, дата регистрации автомобиля в 1000 году. Почему-то есть нулевой месяц регистрации. А также в таблицу видимо внесли только те автомобили, у которых пробег составляет не более 150000 км."
   ]
  },
  {
   "cell_type": "code",
   "execution_count": 6,
   "metadata": {},
   "outputs": [
    {
     "data": {
      "text/plain": [
       "no     247161\n",
       "yes     36054\n",
       "Name: NotRepaired, dtype: int64"
      ]
     },
     "execution_count": 6,
     "metadata": {},
     "output_type": "execute_result"
    }
   ],
   "source": [
    "data_autos['NotRepaired'].value_counts()"
   ]
  },
  {
   "cell_type": "code",
   "execution_count": 7,
   "metadata": {},
   "outputs": [
    {
     "data": {
      "text/html": [
       "<div>\n",
       "<style scoped>\n",
       "    .dataframe tbody tr th:only-of-type {\n",
       "        vertical-align: middle;\n",
       "    }\n",
       "\n",
       "    .dataframe tbody tr th {\n",
       "        vertical-align: top;\n",
       "    }\n",
       "\n",
       "    .dataframe thead th {\n",
       "        text-align: right;\n",
       "    }\n",
       "</style>\n",
       "<table border=\"1\" class=\"dataframe\">\n",
       "  <thead>\n",
       "    <tr style=\"text-align: right;\">\n",
       "      <th></th>\n",
       "      <th>DateCrawled</th>\n",
       "      <th>VehicleType</th>\n",
       "      <th>Gearbox</th>\n",
       "      <th>Model</th>\n",
       "      <th>FuelType</th>\n",
       "      <th>Brand</th>\n",
       "      <th>NotRepaired</th>\n",
       "      <th>DateCreated</th>\n",
       "      <th>LastSeen</th>\n",
       "    </tr>\n",
       "  </thead>\n",
       "  <tbody>\n",
       "    <tr>\n",
       "      <td>count</td>\n",
       "      <td>354369</td>\n",
       "      <td>316879</td>\n",
       "      <td>334536</td>\n",
       "      <td>334664</td>\n",
       "      <td>321474</td>\n",
       "      <td>354369</td>\n",
       "      <td>283215</td>\n",
       "      <td>354369</td>\n",
       "      <td>354369</td>\n",
       "    </tr>\n",
       "    <tr>\n",
       "      <td>unique</td>\n",
       "      <td>271174</td>\n",
       "      <td>8</td>\n",
       "      <td>2</td>\n",
       "      <td>250</td>\n",
       "      <td>7</td>\n",
       "      <td>40</td>\n",
       "      <td>2</td>\n",
       "      <td>109</td>\n",
       "      <td>179150</td>\n",
       "    </tr>\n",
       "    <tr>\n",
       "      <td>top</td>\n",
       "      <td>2016-03-24 14:49:47</td>\n",
       "      <td>sedan</td>\n",
       "      <td>manual</td>\n",
       "      <td>golf</td>\n",
       "      <td>petrol</td>\n",
       "      <td>volkswagen</td>\n",
       "      <td>no</td>\n",
       "      <td>2016-04-03 00:00:00</td>\n",
       "      <td>2016-04-06 13:45:54</td>\n",
       "    </tr>\n",
       "    <tr>\n",
       "      <td>freq</td>\n",
       "      <td>7</td>\n",
       "      <td>91457</td>\n",
       "      <td>268251</td>\n",
       "      <td>29232</td>\n",
       "      <td>216352</td>\n",
       "      <td>77013</td>\n",
       "      <td>247161</td>\n",
       "      <td>13719</td>\n",
       "      <td>17</td>\n",
       "    </tr>\n",
       "  </tbody>\n",
       "</table>\n",
       "</div>"
      ],
      "text/plain": [
       "                DateCrawled VehicleType Gearbox   Model FuelType       Brand NotRepaired          DateCreated             LastSeen\n",
       "count                354369      316879  334536  334664   321474      354369      283215               354369               354369\n",
       "unique               271174           8       2     250        7          40           2                  109               179150\n",
       "top     2016-03-24 14:49:47       sedan  manual    golf   petrol  volkswagen          no  2016-04-03 00:00:00  2016-04-06 13:45:54\n",
       "freq                      7       91457  268251   29232   216352       77013      247161                13719                   17"
      ]
     },
     "execution_count": 7,
     "metadata": {},
     "output_type": "execute_result"
    }
   ],
   "source": [
    "data_autos.describe(include=['object', 'bool'])"
   ]
  },
  {
   "cell_type": "markdown",
   "metadata": {},
   "source": [
    "Самая популярная марка - Volkswagen Golf. Большинство машин не находилось в ремонте."
   ]
  },
  {
   "cell_type": "code",
   "execution_count": 8,
   "metadata": {},
   "outputs": [
    {
     "data": {
      "text/plain": [
       "Brand       Model   VehicleType\n",
       "volkswagen  golf    sedan          14744\n",
       "opel        corsa   small          10499\n",
       "volkswagen  polo    small          10267\n",
       "bmw         3er     sedan           8087\n",
       "volkswagen  passat  wagon           7134\n",
       "Name: Power, dtype: int64"
      ]
     },
     "execution_count": 8,
     "metadata": {},
     "output_type": "execute_result"
    }
   ],
   "source": [
    "temp = (\n",
    "    data_autos.groupby(['Brand', 'Model', 'VehicleType'])['Power']\n",
    "    .count().sort_values(ascending=False))\n",
    "\n",
    "temp.head()"
   ]
  },
  {
   "cell_type": "markdown",
   "metadata": {},
   "source": [
    "Volkswagen Golf седан лидирует по количеству машин в нашей таблице."
   ]
  },
  {
   "cell_type": "markdown",
   "metadata": {},
   "source": [
    "Проверим датасет на дубликаты и удалим их:"
   ]
  },
  {
   "cell_type": "code",
   "execution_count": 9,
   "metadata": {},
   "outputs": [
    {
     "data": {
      "text/plain": [
       "4"
      ]
     },
     "execution_count": 9,
     "metadata": {},
     "output_type": "execute_result"
    }
   ],
   "source": [
    "data_autos.duplicated().sum()"
   ]
  },
  {
   "cell_type": "code",
   "execution_count": 10,
   "metadata": {},
   "outputs": [
    {
     "data": {
      "text/html": [
       "<div>\n",
       "<style scoped>\n",
       "    .dataframe tbody tr th:only-of-type {\n",
       "        vertical-align: middle;\n",
       "    }\n",
       "\n",
       "    .dataframe tbody tr th {\n",
       "        vertical-align: top;\n",
       "    }\n",
       "\n",
       "    .dataframe thead th {\n",
       "        text-align: right;\n",
       "    }\n",
       "</style>\n",
       "<table border=\"1\" class=\"dataframe\">\n",
       "  <thead>\n",
       "    <tr style=\"text-align: right;\">\n",
       "      <th></th>\n",
       "      <th>DateCrawled</th>\n",
       "      <th>Price</th>\n",
       "      <th>VehicleType</th>\n",
       "      <th>RegistrationYear</th>\n",
       "      <th>Gearbox</th>\n",
       "      <th>Power</th>\n",
       "      <th>Model</th>\n",
       "      <th>Kilometer</th>\n",
       "      <th>RegistrationMonth</th>\n",
       "      <th>FuelType</th>\n",
       "      <th>Brand</th>\n",
       "      <th>NotRepaired</th>\n",
       "      <th>DateCreated</th>\n",
       "      <th>NumberOfPictures</th>\n",
       "      <th>PostalCode</th>\n",
       "      <th>LastSeen</th>\n",
       "    </tr>\n",
       "  </thead>\n",
       "  <tbody>\n",
       "    <tr>\n",
       "      <td>41529</td>\n",
       "      <td>2016-03-18 18:46:15</td>\n",
       "      <td>1999</td>\n",
       "      <td>wagon</td>\n",
       "      <td>2001</td>\n",
       "      <td>manual</td>\n",
       "      <td>131</td>\n",
       "      <td>passat</td>\n",
       "      <td>150000</td>\n",
       "      <td>7</td>\n",
       "      <td>gasoline</td>\n",
       "      <td>volkswagen</td>\n",
       "      <td>no</td>\n",
       "      <td>2016-03-18 00:00:00</td>\n",
       "      <td>0</td>\n",
       "      <td>36391</td>\n",
       "      <td>2016-03-18 18:46:15</td>\n",
       "    </tr>\n",
       "    <tr>\n",
       "      <td>88087</td>\n",
       "      <td>2016-03-08 18:42:48</td>\n",
       "      <td>1799</td>\n",
       "      <td>coupe</td>\n",
       "      <td>1999</td>\n",
       "      <td>auto</td>\n",
       "      <td>193</td>\n",
       "      <td>clk</td>\n",
       "      <td>20000</td>\n",
       "      <td>7</td>\n",
       "      <td>petrol</td>\n",
       "      <td>mercedes_benz</td>\n",
       "      <td>no</td>\n",
       "      <td>2016-03-08 00:00:00</td>\n",
       "      <td>0</td>\n",
       "      <td>89518</td>\n",
       "      <td>2016-03-09 09:46:57</td>\n",
       "    </tr>\n",
       "    <tr>\n",
       "      <td>90964</td>\n",
       "      <td>2016-03-28 00:56:10</td>\n",
       "      <td>1000</td>\n",
       "      <td>small</td>\n",
       "      <td>2002</td>\n",
       "      <td>manual</td>\n",
       "      <td>83</td>\n",
       "      <td>other</td>\n",
       "      <td>150000</td>\n",
       "      <td>1</td>\n",
       "      <td>petrol</td>\n",
       "      <td>suzuki</td>\n",
       "      <td>no</td>\n",
       "      <td>2016-03-28 00:00:00</td>\n",
       "      <td>0</td>\n",
       "      <td>66589</td>\n",
       "      <td>2016-03-28 08:46:21</td>\n",
       "    </tr>\n",
       "    <tr>\n",
       "      <td>171088</td>\n",
       "      <td>2016-03-08 18:42:48</td>\n",
       "      <td>1799</td>\n",
       "      <td>coupe</td>\n",
       "      <td>1999</td>\n",
       "      <td>auto</td>\n",
       "      <td>193</td>\n",
       "      <td>clk</td>\n",
       "      <td>20000</td>\n",
       "      <td>7</td>\n",
       "      <td>petrol</td>\n",
       "      <td>mercedes_benz</td>\n",
       "      <td>no</td>\n",
       "      <td>2016-03-08 00:00:00</td>\n",
       "      <td>0</td>\n",
       "      <td>89518</td>\n",
       "      <td>2016-03-09 09:46:57</td>\n",
       "    </tr>\n",
       "    <tr>\n",
       "      <td>187735</td>\n",
       "      <td>2016-04-03 09:01:15</td>\n",
       "      <td>4699</td>\n",
       "      <td>coupe</td>\n",
       "      <td>2003</td>\n",
       "      <td>auto</td>\n",
       "      <td>218</td>\n",
       "      <td>clk</td>\n",
       "      <td>125000</td>\n",
       "      <td>6</td>\n",
       "      <td>petrol</td>\n",
       "      <td>mercedes_benz</td>\n",
       "      <td>yes</td>\n",
       "      <td>2016-04-03 00:00:00</td>\n",
       "      <td>0</td>\n",
       "      <td>75196</td>\n",
       "      <td>2016-04-07 09:44:54</td>\n",
       "    </tr>\n",
       "    <tr>\n",
       "      <td>231258</td>\n",
       "      <td>2016-03-28 00:56:10</td>\n",
       "      <td>1000</td>\n",
       "      <td>small</td>\n",
       "      <td>2002</td>\n",
       "      <td>manual</td>\n",
       "      <td>83</td>\n",
       "      <td>other</td>\n",
       "      <td>150000</td>\n",
       "      <td>1</td>\n",
       "      <td>petrol</td>\n",
       "      <td>suzuki</td>\n",
       "      <td>no</td>\n",
       "      <td>2016-03-28 00:00:00</td>\n",
       "      <td>0</td>\n",
       "      <td>66589</td>\n",
       "      <td>2016-03-28 08:46:21</td>\n",
       "    </tr>\n",
       "    <tr>\n",
       "      <td>258109</td>\n",
       "      <td>2016-04-03 09:01:15</td>\n",
       "      <td>4699</td>\n",
       "      <td>coupe</td>\n",
       "      <td>2003</td>\n",
       "      <td>auto</td>\n",
       "      <td>218</td>\n",
       "      <td>clk</td>\n",
       "      <td>125000</td>\n",
       "      <td>6</td>\n",
       "      <td>petrol</td>\n",
       "      <td>mercedes_benz</td>\n",
       "      <td>yes</td>\n",
       "      <td>2016-04-03 00:00:00</td>\n",
       "      <td>0</td>\n",
       "      <td>75196</td>\n",
       "      <td>2016-04-07 09:44:54</td>\n",
       "    </tr>\n",
       "    <tr>\n",
       "      <td>325651</td>\n",
       "      <td>2016-03-18 18:46:15</td>\n",
       "      <td>1999</td>\n",
       "      <td>wagon</td>\n",
       "      <td>2001</td>\n",
       "      <td>manual</td>\n",
       "      <td>131</td>\n",
       "      <td>passat</td>\n",
       "      <td>150000</td>\n",
       "      <td>7</td>\n",
       "      <td>gasoline</td>\n",
       "      <td>volkswagen</td>\n",
       "      <td>no</td>\n",
       "      <td>2016-03-18 00:00:00</td>\n",
       "      <td>0</td>\n",
       "      <td>36391</td>\n",
       "      <td>2016-03-18 18:46:15</td>\n",
       "    </tr>\n",
       "  </tbody>\n",
       "</table>\n",
       "</div>"
      ],
      "text/plain": [
       "                DateCrawled  Price VehicleType  RegistrationYear Gearbox  Power   Model  Kilometer  RegistrationMonth  FuelType          Brand NotRepaired          DateCreated  NumberOfPictures  PostalCode             LastSeen\n",
       "41529   2016-03-18 18:46:15   1999       wagon              2001  manual    131  passat     150000                  7  gasoline     volkswagen          no  2016-03-18 00:00:00                 0       36391  2016-03-18 18:46:15\n",
       "88087   2016-03-08 18:42:48   1799       coupe              1999    auto    193     clk      20000                  7    petrol  mercedes_benz          no  2016-03-08 00:00:00                 0       89518  2016-03-09 09:46:57\n",
       "90964   2016-03-28 00:56:10   1000       small              2002  manual     83   other     150000                  1    petrol         suzuki          no  2016-03-28 00:00:00                 0       66589  2016-03-28 08:46:21\n",
       "171088  2016-03-08 18:42:48   1799       coupe              1999    auto    193     clk      20000                  7    petrol  mercedes_benz          no  2016-03-08 00:00:00                 0       89518  2016-03-09 09:46:57\n",
       "187735  2016-04-03 09:01:15   4699       coupe              2003    auto    218     clk     125000                  6    petrol  mercedes_benz         yes  2016-04-03 00:00:00                 0       75196  2016-04-07 09:44:54\n",
       "231258  2016-03-28 00:56:10   1000       small              2002  manual     83   other     150000                  1    petrol         suzuki          no  2016-03-28 00:00:00                 0       66589  2016-03-28 08:46:21\n",
       "258109  2016-04-03 09:01:15   4699       coupe              2003    auto    218     clk     125000                  6    petrol  mercedes_benz         yes  2016-04-03 00:00:00                 0       75196  2016-04-07 09:44:54\n",
       "325651  2016-03-18 18:46:15   1999       wagon              2001  manual    131  passat     150000                  7  gasoline     volkswagen          no  2016-03-18 00:00:00                 0       36391  2016-03-18 18:46:15"
      ]
     },
     "execution_count": 10,
     "metadata": {},
     "output_type": "execute_result"
    }
   ],
   "source": [
    "df1 = data_autos[data_autos.duplicated(keep=False)]\n",
    "df1"
   ]
  },
  {
   "cell_type": "code",
   "execution_count": 11,
   "metadata": {},
   "outputs": [],
   "source": [
    "#df1 = df1.groupby(df1.columns.tolist()).apply(lambda x: x.index.tolist()).values.tolist()\n",
    "#print(df1)"
   ]
  },
  {
   "cell_type": "code",
   "execution_count": 12,
   "metadata": {},
   "outputs": [
    {
     "data": {
      "text/html": [
       "<div>\n",
       "<style scoped>\n",
       "    .dataframe tbody tr th:only-of-type {\n",
       "        vertical-align: middle;\n",
       "    }\n",
       "\n",
       "    .dataframe tbody tr th {\n",
       "        vertical-align: top;\n",
       "    }\n",
       "\n",
       "    .dataframe thead th {\n",
       "        text-align: right;\n",
       "    }\n",
       "</style>\n",
       "<table border=\"1\" class=\"dataframe\">\n",
       "  <thead>\n",
       "    <tr style=\"text-align: right;\">\n",
       "      <th></th>\n",
       "      <th></th>\n",
       "      <th></th>\n",
       "      <th></th>\n",
       "      <th></th>\n",
       "      <th></th>\n",
       "      <th></th>\n",
       "      <th></th>\n",
       "      <th></th>\n",
       "      <th></th>\n",
       "      <th></th>\n",
       "      <th></th>\n",
       "      <th></th>\n",
       "      <th></th>\n",
       "      <th></th>\n",
       "      <th></th>\n",
       "      <th>0</th>\n",
       "    </tr>\n",
       "    <tr>\n",
       "      <th>DateCrawled</th>\n",
       "      <th>Price</th>\n",
       "      <th>VehicleType</th>\n",
       "      <th>RegistrationYear</th>\n",
       "      <th>Gearbox</th>\n",
       "      <th>Power</th>\n",
       "      <th>Model</th>\n",
       "      <th>Kilometer</th>\n",
       "      <th>RegistrationMonth</th>\n",
       "      <th>FuelType</th>\n",
       "      <th>Brand</th>\n",
       "      <th>NotRepaired</th>\n",
       "      <th>DateCreated</th>\n",
       "      <th>NumberOfPictures</th>\n",
       "      <th>PostalCode</th>\n",
       "      <th>LastSeen</th>\n",
       "      <th></th>\n",
       "    </tr>\n",
       "  </thead>\n",
       "  <tbody>\n",
       "    <tr>\n",
       "      <td>2016-03-08 18:42:48</td>\n",
       "      <td>1799</td>\n",
       "      <td>coupe</td>\n",
       "      <td>1999</td>\n",
       "      <td>auto</td>\n",
       "      <td>193</td>\n",
       "      <td>clk</td>\n",
       "      <td>20000</td>\n",
       "      <td>7</td>\n",
       "      <td>petrol</td>\n",
       "      <td>mercedes_benz</td>\n",
       "      <td>no</td>\n",
       "      <td>2016-03-08 00:00:00</td>\n",
       "      <td>0</td>\n",
       "      <td>89518</td>\n",
       "      <td>2016-03-09 09:46:57</td>\n",
       "      <td>[88087, 171088]</td>\n",
       "    </tr>\n",
       "    <tr>\n",
       "      <td>2016-03-18 18:46:15</td>\n",
       "      <td>1999</td>\n",
       "      <td>wagon</td>\n",
       "      <td>2001</td>\n",
       "      <td>manual</td>\n",
       "      <td>131</td>\n",
       "      <td>passat</td>\n",
       "      <td>150000</td>\n",
       "      <td>7</td>\n",
       "      <td>gasoline</td>\n",
       "      <td>volkswagen</td>\n",
       "      <td>no</td>\n",
       "      <td>2016-03-18 00:00:00</td>\n",
       "      <td>0</td>\n",
       "      <td>36391</td>\n",
       "      <td>2016-03-18 18:46:15</td>\n",
       "      <td>[41529, 325651]</td>\n",
       "    </tr>\n",
       "    <tr>\n",
       "      <td>2016-03-28 00:56:10</td>\n",
       "      <td>1000</td>\n",
       "      <td>small</td>\n",
       "      <td>2002</td>\n",
       "      <td>manual</td>\n",
       "      <td>83</td>\n",
       "      <td>other</td>\n",
       "      <td>150000</td>\n",
       "      <td>1</td>\n",
       "      <td>petrol</td>\n",
       "      <td>suzuki</td>\n",
       "      <td>no</td>\n",
       "      <td>2016-03-28 00:00:00</td>\n",
       "      <td>0</td>\n",
       "      <td>66589</td>\n",
       "      <td>2016-03-28 08:46:21</td>\n",
       "      <td>[90964, 231258]</td>\n",
       "    </tr>\n",
       "    <tr>\n",
       "      <td>2016-04-03 09:01:15</td>\n",
       "      <td>4699</td>\n",
       "      <td>coupe</td>\n",
       "      <td>2003</td>\n",
       "      <td>auto</td>\n",
       "      <td>218</td>\n",
       "      <td>clk</td>\n",
       "      <td>125000</td>\n",
       "      <td>6</td>\n",
       "      <td>petrol</td>\n",
       "      <td>mercedes_benz</td>\n",
       "      <td>yes</td>\n",
       "      <td>2016-04-03 00:00:00</td>\n",
       "      <td>0</td>\n",
       "      <td>75196</td>\n",
       "      <td>2016-04-07 09:44:54</td>\n",
       "      <td>[187735, 258109]</td>\n",
       "    </tr>\n",
       "  </tbody>\n",
       "</table>\n",
       "</div>"
      ],
      "text/plain": [
       "                                                                                                                                                                                                                               0\n",
       "DateCrawled         Price VehicleType RegistrationYear Gearbox Power Model  Kilometer RegistrationMonth FuelType Brand         NotRepaired DateCreated         NumberOfPictures PostalCode LastSeen                             \n",
       "2016-03-08 18:42:48 1799  coupe       1999             auto    193   clk    20000     7                 petrol   mercedes_benz no          2016-03-08 00:00:00 0                89518      2016-03-09 09:46:57   [88087, 171088]\n",
       "2016-03-18 18:46:15 1999  wagon       2001             manual  131   passat 150000    7                 gasoline volkswagen    no          2016-03-18 00:00:00 0                36391      2016-03-18 18:46:15   [41529, 325651]\n",
       "2016-03-28 00:56:10 1000  small       2002             manual  83    other  150000    1                 petrol   suzuki        no          2016-03-28 00:00:00 0                66589      2016-03-28 08:46:21   [90964, 231258]\n",
       "2016-04-03 09:01:15 4699  coupe       2003             auto    218   clk    125000    6                 petrol   mercedes_benz yes         2016-04-03 00:00:00 0                75196      2016-04-07 09:44:54  [187735, 258109]"
      ]
     },
     "execution_count": 12,
     "metadata": {},
     "output_type": "execute_result"
    }
   ],
   "source": [
    "df2 = df1.groupby(df1.columns.tolist()).apply(lambda x: x.index.tolist())\n",
    "df2.to_frame()"
   ]
  },
  {
   "cell_type": "code",
   "execution_count": 13,
   "metadata": {},
   "outputs": [],
   "source": [
    "data_autos.drop_duplicates(inplace = True)"
   ]
  },
  {
   "cell_type": "markdown",
   "metadata": {},
   "source": [
    "Проверим количество пропусков по столбцам:"
   ]
  },
  {
   "cell_type": "code",
   "execution_count": 14,
   "metadata": {},
   "outputs": [
    {
     "data": {
      "text/plain": [
       "DateCrawled              0\n",
       "Price                    0\n",
       "VehicleType          37490\n",
       "RegistrationYear         0\n",
       "Gearbox              19833\n",
       "Power                    0\n",
       "Model                19705\n",
       "Kilometer                0\n",
       "RegistrationMonth        0\n",
       "FuelType             32895\n",
       "Brand                    0\n",
       "NotRepaired          71154\n",
       "DateCreated              0\n",
       "NumberOfPictures         0\n",
       "PostalCode               0\n",
       "LastSeen                 0\n",
       "dtype: int64"
      ]
     },
     "execution_count": 14,
     "metadata": {},
     "output_type": "execute_result"
    }
   ],
   "source": [
    "data_autos.isna().sum()"
   ]
  },
  {
   "cell_type": "code",
   "execution_count": 15,
   "metadata": {},
   "outputs": [],
   "source": [
    "def searching_gaps(df):\n",
    "    mis_val = df.isnull().sum()\n",
    "    mis_val_percent = 100 * df.isnull().sum() / len(df)\n",
    "    mis_val_table = pd.concat([mis_val, mis_val_percent], axis=1).rename(\n",
    "    columns = {0 : 'Num_Miss_Vallues', 1 : '% of Total Values'})\n",
    "    mis_val_table = mis_val_table[\n",
    "        mis_val_table.iloc[:,1] != 0].sort_values(\n",
    "    '% of Total Values', ascending=False).round(1)\n",
    "    print (\"В выбранном датафрейме всего \" + str(df.shape[1]) + \" столбцов.\\n\"      \n",
    "        \"Из них \" + str(mis_val_table.shape[0]) +\n",
    "            \" столбцов имеют(ет) пропуски.\")\n",
    "    return mis_val_table"
   ]
  },
  {
   "cell_type": "code",
   "execution_count": 16,
   "metadata": {},
   "outputs": [
    {
     "name": "stdout",
     "output_type": "stream",
     "text": [
      "В выбранном датафрейме всего 16 столбцов.\n",
      "Из них 5 столбцов имеют(ет) пропуски.\n"
     ]
    },
    {
     "data": {
      "text/html": [
       "<div>\n",
       "<style scoped>\n",
       "    .dataframe tbody tr th:only-of-type {\n",
       "        vertical-align: middle;\n",
       "    }\n",
       "\n",
       "    .dataframe tbody tr th {\n",
       "        vertical-align: top;\n",
       "    }\n",
       "\n",
       "    .dataframe thead th {\n",
       "        text-align: right;\n",
       "    }\n",
       "</style>\n",
       "<table border=\"1\" class=\"dataframe\">\n",
       "  <thead>\n",
       "    <tr style=\"text-align: right;\">\n",
       "      <th></th>\n",
       "      <th>Num_Miss_Vallues</th>\n",
       "      <th>% of Total Values</th>\n",
       "    </tr>\n",
       "  </thead>\n",
       "  <tbody>\n",
       "    <tr>\n",
       "      <td>NotRepaired</td>\n",
       "      <td>71154</td>\n",
       "      <td>20.1</td>\n",
       "    </tr>\n",
       "    <tr>\n",
       "      <td>VehicleType</td>\n",
       "      <td>37490</td>\n",
       "      <td>10.6</td>\n",
       "    </tr>\n",
       "    <tr>\n",
       "      <td>FuelType</td>\n",
       "      <td>32895</td>\n",
       "      <td>9.3</td>\n",
       "    </tr>\n",
       "    <tr>\n",
       "      <td>Gearbox</td>\n",
       "      <td>19833</td>\n",
       "      <td>5.6</td>\n",
       "    </tr>\n",
       "    <tr>\n",
       "      <td>Model</td>\n",
       "      <td>19705</td>\n",
       "      <td>5.6</td>\n",
       "    </tr>\n",
       "  </tbody>\n",
       "</table>\n",
       "</div>"
      ],
      "text/plain": [
       "             Num_Miss_Vallues  % of Total Values\n",
       "NotRepaired             71154               20.1\n",
       "VehicleType             37490               10.6\n",
       "FuelType                32895                9.3\n",
       "Gearbox                 19833                5.6\n",
       "Model                   19705                5.6"
      ]
     },
     "execution_count": 16,
     "metadata": {},
     "output_type": "execute_result"
    }
   ],
   "source": [
    "searching_gaps(data_autos)"
   ]
  },
  {
   "cell_type": "markdown",
   "metadata": {},
   "source": [
    "- Почти 20% процентов автомобилей имеют пропуск в графе \"ремонт\". Заменим значения на 'unknown', но предполагаю, что владельцы не заполнилнили эту строку, потому что их автомобиль не был в ремонте.\n",
    "- Тип автомобиля попробуем заполнить по марке и модели. Модель - по марке."
   ]
  },
  {
   "cell_type": "markdown",
   "metadata": {},
   "source": [
    "Проверим данные на выбросы (неадекватные значения цены, даты и т.д.)"
   ]
  },
  {
   "cell_type": "markdown",
   "metadata": {},
   "source": [
    "Выдвину предположение, что 60 лет для машины - это максимальный возраст, при котором она еще сможет завестись."
   ]
  },
  {
   "cell_type": "code",
   "execution_count": 17,
   "metadata": {},
   "outputs": [],
   "source": [
    "normal_period = data_autos.loc[(data_autos['RegistrationYear'] >= 1960) & (data_autos['RegistrationYear'] <= 2021)]"
   ]
  },
  {
   "cell_type": "code",
   "execution_count": 18,
   "metadata": {},
   "outputs": [
    {
     "name": "stdout",
     "output_type": "stream",
     "text": [
      "Процент \"ненормальных\" лет регистрации =  0.149\n"
     ]
    }
   ],
   "source": [
    "outliers = np.round(100 - (len(normal_period) * 100 / len(data_autos)), 3)\n",
    "print('Процент \"ненормальных\" лет регистрации = ', outliers)"
   ]
  },
  {
   "cell_type": "markdown",
   "metadata": {},
   "source": [
    "Как оказалось, машин с большим количеством лет 0.1%, думаю можно смело удалить."
   ]
  },
  {
   "cell_type": "markdown",
   "metadata": {},
   "source": [
    "Рассмотрим дату последней активности пользователя"
   ]
  },
  {
   "cell_type": "code",
   "execution_count": 19,
   "metadata": {},
   "outputs": [
    {
     "data": {
      "text/plain": [
       "'2016-04-07 14:58:51'"
      ]
     },
     "execution_count": 19,
     "metadata": {},
     "output_type": "execute_result"
    }
   ],
   "source": [
    "data_autos['LastSeen'].max()"
   ]
  },
  {
   "cell_type": "markdown",
   "metadata": {},
   "source": [
    "Получили 2016 год, значит автомобили не могут быть старше этого года."
   ]
  },
  {
   "cell_type": "code",
   "execution_count": 20,
   "metadata": {},
   "outputs": [],
   "source": [
    "data_autos = data_autos.loc[(data_autos['RegistrationYear'] >= 1960) & (data_autos['RegistrationYear'] <= 2016)]"
   ]
  },
  {
   "cell_type": "markdown",
   "metadata": {},
   "source": [
    "Рассмотрим как у нас распределяется цена по разным выборкам:"
   ]
  },
  {
   "cell_type": "code",
   "execution_count": 21,
   "metadata": {},
   "outputs": [
    {
     "data": {
      "image/png": "[encoded data removed]",
      "text/plain": [
       "<Figure size 864x432 with 1 Axes>"
      ]
     },
     "metadata": {
      "needs_background": "light"
     },
     "output_type": "display_data"
    }
   ],
   "source": [
    "plt.figure(figsize=(12,6))\n",
    "sns.distplot(data_autos['Price'], bins = 100, kde=True, color='green')\n",
    "plt.xlabel('Цена автомобиля, EUR', size=12)\n",
    "plt.title('Распределение цен на автомобили ', size=15);"
   ]
  },
  {
   "cell_type": "markdown",
   "metadata": {},
   "source": [
    "По графику можно определить, что большая часть автомобилей находится в диапозоне от 0 до 2500 тысяч евро."
   ]
  },
  {
   "cell_type": "code",
   "execution_count": 22,
   "metadata": {},
   "outputs": [
    {
     "data": {
      "image/png": "[encoded data removed]",
      "text/plain": [
       "<Figure size 864x432 with 1 Axes>"
      ]
     },
     "metadata": {
      "needs_background": "light"
     },
     "output_type": "display_data"
    }
   ],
   "source": [
    "plt.figure(figsize=(12,6))\n",
    "sns.lineplot(x='RegistrationYear', y='Price', data = data_autos.groupby('RegistrationYear', as_index = False)['Price'].mean(),\n",
    "             color='blue')\n",
    "plt.xlabel('Год регистрации автомобиля', size=12)\n",
    "plt.ylabel('Средняя цена, EUR', size=12)\n",
    "plt.title('Изменение средней цены на автомобиль в зависимости от года регистрации', size=15);"
   ]
  },
  {
   "cell_type": "markdown",
   "metadata": {},
   "source": [
    "Цена на автомобили в районе 1990-2000 года подозрительно маленькая, а затем сразу идет резкое повышение цен. Возможно это связано с каким-нибудь кризисом или обесцениваем валюты."
   ]
  },
  {
   "cell_type": "markdown",
   "metadata": {},
   "source": [
    "В принципе, машина может стоить и 10000 рублей (привет, шаха), поэтому заменим только те строки, у которых в цене стоит 0 на средние значения по модели."
   ]
  },
  {
   "cell_type": "code",
   "execution_count": 23,
   "metadata": {},
   "outputs": [
    {
     "data": {
      "text/plain": [
       "DateCrawled          9939\n",
       "Price                9939\n",
       "VehicleType          6996\n",
       "RegistrationYear     9939\n",
       "Gearbox              7679\n",
       "Power                9939\n",
       "Model                7995\n",
       "Kilometer            9939\n",
       "RegistrationMonth    9939\n",
       "FuelType             6907\n",
       "Brand                9939\n",
       "NotRepaired          5077\n",
       "DateCreated          9939\n",
       "NumberOfPictures     9939\n",
       "PostalCode           9939\n",
       "LastSeen             9939\n",
       "dtype: int64"
      ]
     },
     "execution_count": 23,
     "metadata": {},
     "output_type": "execute_result"
    }
   ],
   "source": [
    "data_autos[data_autos['Price'] == 0].count()"
   ]
  },
  {
   "cell_type": "markdown",
   "metadata": {},
   "source": [
    "**Перейдем к заполнению и удалению пропусков**"
   ]
  },
  {
   "cell_type": "markdown",
   "metadata": {},
   "source": [
    "1) Заменим пропуски в графе NotRepaired:"
   ]
  },
  {
   "cell_type": "code",
   "execution_count": 24,
   "metadata": {
    "scrolled": true
   },
   "outputs": [
    {
     "data": {
      "text/html": [
       "<div>\n",
       "<style scoped>\n",
       "    .dataframe tbody tr th:only-of-type {\n",
       "        vertical-align: middle;\n",
       "    }\n",
       "\n",
       "    .dataframe tbody tr th {\n",
       "        vertical-align: top;\n",
       "    }\n",
       "\n",
       "    .dataframe thead th {\n",
       "        text-align: right;\n",
       "    }\n",
       "</style>\n",
       "<table border=\"1\" class=\"dataframe\">\n",
       "  <thead>\n",
       "    <tr style=\"text-align: right;\">\n",
       "      <th></th>\n",
       "      <th>Model</th>\n",
       "      <th>Price</th>\n",
       "    </tr>\n",
       "  </thead>\n",
       "  <tbody>\n",
       "    <tr>\n",
       "      <td>0</td>\n",
       "      <td>100</td>\n",
       "      <td>1792.124088</td>\n",
       "    </tr>\n",
       "    <tr>\n",
       "      <td>1</td>\n",
       "      <td>145</td>\n",
       "      <td>826.800000</td>\n",
       "    </tr>\n",
       "    <tr>\n",
       "      <td>2</td>\n",
       "      <td>147</td>\n",
       "      <td>2288.209647</td>\n",
       "    </tr>\n",
       "    <tr>\n",
       "      <td>3</td>\n",
       "      <td>156</td>\n",
       "      <td>1524.894137</td>\n",
       "    </tr>\n",
       "    <tr>\n",
       "      <td>4</td>\n",
       "      <td>159</td>\n",
       "      <td>7039.879808</td>\n",
       "    </tr>\n",
       "    <tr>\n",
       "      <td>5</td>\n",
       "      <td>1_reihe</td>\n",
       "      <td>1618.509944</td>\n",
       "    </tr>\n",
       "    <tr>\n",
       "      <td>6</td>\n",
       "      <td>1er</td>\n",
       "      <td>9951.907548</td>\n",
       "    </tr>\n",
       "    <tr>\n",
       "      <td>7</td>\n",
       "      <td>200</td>\n",
       "      <td>3865.777778</td>\n",
       "    </tr>\n",
       "    <tr>\n",
       "      <td>8</td>\n",
       "      <td>2_reihe</td>\n",
       "      <td>3178.643252</td>\n",
       "    </tr>\n",
       "    <tr>\n",
       "      <td>9</td>\n",
       "      <td>300c</td>\n",
       "      <td>10031.489209</td>\n",
       "    </tr>\n",
       "    <tr>\n",
       "      <td>10</td>\n",
       "      <td>3_reihe</td>\n",
       "      <td>3240.224926</td>\n",
       "    </tr>\n",
       "    <tr>\n",
       "      <td>11</td>\n",
       "      <td>3er</td>\n",
       "      <td>5034.673412</td>\n",
       "    </tr>\n",
       "    <tr>\n",
       "      <td>12</td>\n",
       "      <td>4_reihe</td>\n",
       "      <td>3429.421304</td>\n",
       "    </tr>\n",
       "    <tr>\n",
       "      <td>13</td>\n",
       "      <td>500</td>\n",
       "      <td>7703.220133</td>\n",
       "    </tr>\n",
       "    <tr>\n",
       "      <td>14</td>\n",
       "      <td>5_reihe</td>\n",
       "      <td>8004.896313</td>\n",
       "    </tr>\n",
       "    <tr>\n",
       "      <td>15</td>\n",
       "      <td>5er</td>\n",
       "      <td>6401.672840</td>\n",
       "    </tr>\n",
       "    <tr>\n",
       "      <td>16</td>\n",
       "      <td>601</td>\n",
       "      <td>1618.875912</td>\n",
       "    </tr>\n",
       "    <tr>\n",
       "      <td>17</td>\n",
       "      <td>6_reihe</td>\n",
       "      <td>3419.140575</td>\n",
       "    </tr>\n",
       "    <tr>\n",
       "      <td>18</td>\n",
       "      <td>6er</td>\n",
       "      <td>12314.751634</td>\n",
       "    </tr>\n",
       "    <tr>\n",
       "      <td>19</td>\n",
       "      <td>7er</td>\n",
       "      <td>6499.412424</td>\n",
       "    </tr>\n",
       "    <tr>\n",
       "      <td>20</td>\n",
       "      <td>80</td>\n",
       "      <td>1393.578677</td>\n",
       "    </tr>\n",
       "    <tr>\n",
       "      <td>21</td>\n",
       "      <td>850</td>\n",
       "      <td>1453.490385</td>\n",
       "    </tr>\n",
       "    <tr>\n",
       "      <td>22</td>\n",
       "      <td>90</td>\n",
       "      <td>2050.072165</td>\n",
       "    </tr>\n",
       "    <tr>\n",
       "      <td>23</td>\n",
       "      <td>900</td>\n",
       "      <td>3103.577586</td>\n",
       "    </tr>\n",
       "    <tr>\n",
       "      <td>24</td>\n",
       "      <td>9000</td>\n",
       "      <td>2417.038462</td>\n",
       "    </tr>\n",
       "    <tr>\n",
       "      <td>25</td>\n",
       "      <td>911</td>\n",
       "      <td>10647.062500</td>\n",
       "    </tr>\n",
       "    <tr>\n",
       "      <td>26</td>\n",
       "      <td>a1</td>\n",
       "      <td>13845.200342</td>\n",
       "    </tr>\n",
       "    <tr>\n",
       "      <td>27</td>\n",
       "      <td>a2</td>\n",
       "      <td>3858.603352</td>\n",
       "    </tr>\n",
       "    <tr>\n",
       "      <td>28</td>\n",
       "      <td>a3</td>\n",
       "      <td>6242.176879</td>\n",
       "    </tr>\n",
       "    <tr>\n",
       "      <td>29</td>\n",
       "      <td>a4</td>\n",
       "      <td>5825.201650</td>\n",
       "    </tr>\n",
       "    <tr>\n",
       "      <td>30</td>\n",
       "      <td>a5</td>\n",
       "      <td>15517.923933</td>\n",
       "    </tr>\n",
       "    <tr>\n",
       "      <td>31</td>\n",
       "      <td>a6</td>\n",
       "      <td>6419.359263</td>\n",
       "    </tr>\n",
       "    <tr>\n",
       "      <td>32</td>\n",
       "      <td>a8</td>\n",
       "      <td>7806.549708</td>\n",
       "    </tr>\n",
       "    <tr>\n",
       "      <td>33</td>\n",
       "      <td>a_klasse</td>\n",
       "      <td>3464.608574</td>\n",
       "    </tr>\n",
       "    <tr>\n",
       "      <td>34</td>\n",
       "      <td>accord</td>\n",
       "      <td>4615.883041</td>\n",
       "    </tr>\n",
       "    <tr>\n",
       "      <td>35</td>\n",
       "      <td>agila</td>\n",
       "      <td>1941.794045</td>\n",
       "    </tr>\n",
       "    <tr>\n",
       "      <td>36</td>\n",
       "      <td>alhambra</td>\n",
       "      <td>5007.228986</td>\n",
       "    </tr>\n",
       "    <tr>\n",
       "      <td>37</td>\n",
       "      <td>almera</td>\n",
       "      <td>1446.458633</td>\n",
       "    </tr>\n",
       "    <tr>\n",
       "      <td>38</td>\n",
       "      <td>altea</td>\n",
       "      <td>6442.011429</td>\n",
       "    </tr>\n",
       "    <tr>\n",
       "      <td>39</td>\n",
       "      <td>amarok</td>\n",
       "      <td>12043.933333</td>\n",
       "    </tr>\n",
       "    <tr>\n",
       "      <td>40</td>\n",
       "      <td>antara</td>\n",
       "      <td>8720.339623</td>\n",
       "    </tr>\n",
       "    <tr>\n",
       "      <td>41</td>\n",
       "      <td>arosa</td>\n",
       "      <td>1075.365998</td>\n",
       "    </tr>\n",
       "    <tr>\n",
       "      <td>42</td>\n",
       "      <td>astra</td>\n",
       "      <td>3055.958200</td>\n",
       "    </tr>\n",
       "    <tr>\n",
       "      <td>43</td>\n",
       "      <td>auris</td>\n",
       "      <td>9122.705357</td>\n",
       "    </tr>\n",
       "    <tr>\n",
       "      <td>44</td>\n",
       "      <td>avensis</td>\n",
       "      <td>5620.389982</td>\n",
       "    </tr>\n",
       "    <tr>\n",
       "      <td>45</td>\n",
       "      <td>aveo</td>\n",
       "      <td>4772.536364</td>\n",
       "    </tr>\n",
       "    <tr>\n",
       "      <td>46</td>\n",
       "      <td>aygo</td>\n",
       "      <td>4234.128329</td>\n",
       "    </tr>\n",
       "    <tr>\n",
       "      <td>47</td>\n",
       "      <td>b_klasse</td>\n",
       "      <td>9421.867879</td>\n",
       "    </tr>\n",
       "    <tr>\n",
       "      <td>48</td>\n",
       "      <td>b_max</td>\n",
       "      <td>12325.653846</td>\n",
       "    </tr>\n",
       "    <tr>\n",
       "      <td>49</td>\n",
       "      <td>beetle</td>\n",
       "      <td>6495.332474</td>\n",
       "    </tr>\n",
       "    <tr>\n",
       "      <td>50</td>\n",
       "      <td>berlingo</td>\n",
       "      <td>3264.568831</td>\n",
       "    </tr>\n",
       "    <tr>\n",
       "      <td>51</td>\n",
       "      <td>bora</td>\n",
       "      <td>2442.961085</td>\n",
       "    </tr>\n",
       "    <tr>\n",
       "      <td>52</td>\n",
       "      <td>boxster</td>\n",
       "      <td>13004.890909</td>\n",
       "    </tr>\n",
       "    <tr>\n",
       "      <td>53</td>\n",
       "      <td>bravo</td>\n",
       "      <td>2635.147059</td>\n",
       "    </tr>\n",
       "    <tr>\n",
       "      <td>54</td>\n",
       "      <td>c1</td>\n",
       "      <td>3863.809399</td>\n",
       "    </tr>\n",
       "    <tr>\n",
       "      <td>55</td>\n",
       "      <td>c2</td>\n",
       "      <td>2660.545699</td>\n",
       "    </tr>\n",
       "    <tr>\n",
       "      <td>56</td>\n",
       "      <td>c3</td>\n",
       "      <td>3860.601227</td>\n",
       "    </tr>\n",
       "    <tr>\n",
       "      <td>57</td>\n",
       "      <td>c4</td>\n",
       "      <td>5970.713953</td>\n",
       "    </tr>\n",
       "    <tr>\n",
       "      <td>58</td>\n",
       "      <td>c5</td>\n",
       "      <td>4442.656965</td>\n",
       "    </tr>\n",
       "    <tr>\n",
       "      <td>59</td>\n",
       "      <td>c_klasse</td>\n",
       "      <td>5511.584494</td>\n",
       "    </tr>\n",
       "    <tr>\n",
       "      <td>60</td>\n",
       "      <td>c_max</td>\n",
       "      <td>6239.092879</td>\n",
       "    </tr>\n",
       "    <tr>\n",
       "      <td>61</td>\n",
       "      <td>c_reihe</td>\n",
       "      <td>8040.349206</td>\n",
       "    </tr>\n",
       "    <tr>\n",
       "      <td>62</td>\n",
       "      <td>caddy</td>\n",
       "      <td>6138.249500</td>\n",
       "    </tr>\n",
       "    <tr>\n",
       "      <td>63</td>\n",
       "      <td>calibra</td>\n",
       "      <td>2040.152709</td>\n",
       "    </tr>\n",
       "    <tr>\n",
       "      <td>64</td>\n",
       "      <td>captiva</td>\n",
       "      <td>10191.036364</td>\n",
       "    </tr>\n",
       "    <tr>\n",
       "      <td>65</td>\n",
       "      <td>carisma</td>\n",
       "      <td>964.451128</td>\n",
       "    </tr>\n",
       "    <tr>\n",
       "      <td>66</td>\n",
       "      <td>carnival</td>\n",
       "      <td>2346.083019</td>\n",
       "    </tr>\n",
       "    <tr>\n",
       "      <td>67</td>\n",
       "      <td>cayenne</td>\n",
       "      <td>13040.159292</td>\n",
       "    </tr>\n",
       "    <tr>\n",
       "      <td>68</td>\n",
       "      <td>cc</td>\n",
       "      <td>14204.333333</td>\n",
       "    </tr>\n",
       "    <tr>\n",
       "      <td>69</td>\n",
       "      <td>ceed</td>\n",
       "      <td>7872.293878</td>\n",
       "    </tr>\n",
       "    <tr>\n",
       "      <td>70</td>\n",
       "      <td>charade</td>\n",
       "      <td>1264.846154</td>\n",
       "    </tr>\n",
       "    <tr>\n",
       "      <td>71</td>\n",
       "      <td>cherokee</td>\n",
       "      <td>4551.169811</td>\n",
       "    </tr>\n",
       "    <tr>\n",
       "      <td>72</td>\n",
       "      <td>citigo</td>\n",
       "      <td>7475.255556</td>\n",
       "    </tr>\n",
       "    <tr>\n",
       "      <td>73</td>\n",
       "      <td>civic</td>\n",
       "      <td>2824.351881</td>\n",
       "    </tr>\n",
       "    <tr>\n",
       "      <td>74</td>\n",
       "      <td>cl</td>\n",
       "      <td>8193.608889</td>\n",
       "    </tr>\n",
       "    <tr>\n",
       "      <td>75</td>\n",
       "      <td>clio</td>\n",
       "      <td>2168.462065</td>\n",
       "    </tr>\n",
       "    <tr>\n",
       "      <td>76</td>\n",
       "      <td>clk</td>\n",
       "      <td>6252.825549</td>\n",
       "    </tr>\n",
       "    <tr>\n",
       "      <td>77</td>\n",
       "      <td>clubman</td>\n",
       "      <td>10686.200000</td>\n",
       "    </tr>\n",
       "    <tr>\n",
       "      <td>78</td>\n",
       "      <td>colt</td>\n",
       "      <td>2361.713598</td>\n",
       "    </tr>\n",
       "    <tr>\n",
       "      <td>79</td>\n",
       "      <td>combo</td>\n",
       "      <td>2616.822165</td>\n",
       "    </tr>\n",
       "    <tr>\n",
       "      <td>80</td>\n",
       "      <td>cooper</td>\n",
       "      <td>9887.327722</td>\n",
       "    </tr>\n",
       "    <tr>\n",
       "      <td>81</td>\n",
       "      <td>cordoba</td>\n",
       "      <td>895.111111</td>\n",
       "    </tr>\n",
       "    <tr>\n",
       "      <td>82</td>\n",
       "      <td>corolla</td>\n",
       "      <td>2726.663623</td>\n",
       "    </tr>\n",
       "    <tr>\n",
       "      <td>83</td>\n",
       "      <td>corsa</td>\n",
       "      <td>1908.797151</td>\n",
       "    </tr>\n",
       "    <tr>\n",
       "      <td>84</td>\n",
       "      <td>cr_reihe</td>\n",
       "      <td>5907.539157</td>\n",
       "    </tr>\n",
       "    <tr>\n",
       "      <td>85</td>\n",
       "      <td>croma</td>\n",
       "      <td>3976.550000</td>\n",
       "    </tr>\n",
       "    <tr>\n",
       "      <td>86</td>\n",
       "      <td>crossfire</td>\n",
       "      <td>10471.555556</td>\n",
       "    </tr>\n",
       "    <tr>\n",
       "      <td>87</td>\n",
       "      <td>cuore</td>\n",
       "      <td>1057.559229</td>\n",
       "    </tr>\n",
       "    <tr>\n",
       "      <td>88</td>\n",
       "      <td>cx_reihe</td>\n",
       "      <td>13366.584615</td>\n",
       "    </tr>\n",
       "    <tr>\n",
       "      <td>89</td>\n",
       "      <td>defender</td>\n",
       "      <td>11494.946667</td>\n",
       "    </tr>\n",
       "    <tr>\n",
       "      <td>90</td>\n",
       "      <td>delta</td>\n",
       "      <td>5121.468750</td>\n",
       "    </tr>\n",
       "    <tr>\n",
       "      <td>91</td>\n",
       "      <td>discovery</td>\n",
       "      <td>9276.265823</td>\n",
       "    </tr>\n",
       "    <tr>\n",
       "      <td>92</td>\n",
       "      <td>doblo</td>\n",
       "      <td>3589.248344</td>\n",
       "    </tr>\n",
       "    <tr>\n",
       "      <td>93</td>\n",
       "      <td>ducato</td>\n",
       "      <td>3869.685096</td>\n",
       "    </tr>\n",
       "    <tr>\n",
       "      <td>94</td>\n",
       "      <td>duster</td>\n",
       "      <td>10029.930000</td>\n",
       "    </tr>\n",
       "    <tr>\n",
       "      <td>95</td>\n",
       "      <td>e_klasse</td>\n",
       "      <td>5762.706990</td>\n",
       "    </tr>\n",
       "    <tr>\n",
       "      <td>96</td>\n",
       "      <td>elefantino</td>\n",
       "      <td>531.125000</td>\n",
       "    </tr>\n",
       "    <tr>\n",
       "      <td>97</td>\n",
       "      <td>eos</td>\n",
       "      <td>11022.211462</td>\n",
       "    </tr>\n",
       "    <tr>\n",
       "      <td>98</td>\n",
       "      <td>escort</td>\n",
       "      <td>832.879725</td>\n",
       "    </tr>\n",
       "    <tr>\n",
       "      <td>99</td>\n",
       "      <td>espace</td>\n",
       "      <td>2082.525952</td>\n",
       "    </tr>\n",
       "    <tr>\n",
       "      <td>100</td>\n",
       "      <td>exeo</td>\n",
       "      <td>11359.795918</td>\n",
       "    </tr>\n",
       "    <tr>\n",
       "      <td>101</td>\n",
       "      <td>fabia</td>\n",
       "      <td>4204.745446</td>\n",
       "    </tr>\n",
       "    <tr>\n",
       "      <td>102</td>\n",
       "      <td>fiesta</td>\n",
       "      <td>2630.932613</td>\n",
       "    </tr>\n",
       "    <tr>\n",
       "      <td>103</td>\n",
       "      <td>focus</td>\n",
       "      <td>3440.456224</td>\n",
       "    </tr>\n",
       "    <tr>\n",
       "      <td>104</td>\n",
       "      <td>forester</td>\n",
       "      <td>5126.912000</td>\n",
       "    </tr>\n",
       "    <tr>\n",
       "      <td>105</td>\n",
       "      <td>forfour</td>\n",
       "      <td>2864.871935</td>\n",
       "    </tr>\n",
       "    <tr>\n",
       "      <td>106</td>\n",
       "      <td>fortwo</td>\n",
       "      <td>3644.461924</td>\n",
       "    </tr>\n",
       "    <tr>\n",
       "      <td>107</td>\n",
       "      <td>fox</td>\n",
       "      <td>2866.673640</td>\n",
       "    </tr>\n",
       "    <tr>\n",
       "      <td>108</td>\n",
       "      <td>freelander</td>\n",
       "      <td>5892.808411</td>\n",
       "    </tr>\n",
       "    <tr>\n",
       "      <td>109</td>\n",
       "      <td>fusion</td>\n",
       "      <td>3068.235294</td>\n",
       "    </tr>\n",
       "    <tr>\n",
       "      <td>110</td>\n",
       "      <td>g_klasse</td>\n",
       "      <td>10354.893617</td>\n",
       "    </tr>\n",
       "    <tr>\n",
       "      <td>111</td>\n",
       "      <td>galant</td>\n",
       "      <td>1143.193548</td>\n",
       "    </tr>\n",
       "    <tr>\n",
       "      <td>112</td>\n",
       "      <td>galaxy</td>\n",
       "      <td>3651.914077</td>\n",
       "    </tr>\n",
       "    <tr>\n",
       "      <td>113</td>\n",
       "      <td>getz</td>\n",
       "      <td>1943.012563</td>\n",
       "    </tr>\n",
       "    <tr>\n",
       "      <td>114</td>\n",
       "      <td>gl</td>\n",
       "      <td>18378.833333</td>\n",
       "    </tr>\n",
       "    <tr>\n",
       "      <td>115</td>\n",
       "      <td>glk</td>\n",
       "      <td>16058.444444</td>\n",
       "    </tr>\n",
       "    <tr>\n",
       "      <td>116</td>\n",
       "      <td>golf</td>\n",
       "      <td>4210.795690</td>\n",
       "    </tr>\n",
       "    <tr>\n",
       "      <td>117</td>\n",
       "      <td>grand</td>\n",
       "      <td>6420.983696</td>\n",
       "    </tr>\n",
       "    <tr>\n",
       "      <td>118</td>\n",
       "      <td>i3</td>\n",
       "      <td>3129.750000</td>\n",
       "    </tr>\n",
       "    <tr>\n",
       "      <td>119</td>\n",
       "      <td>i_reihe</td>\n",
       "      <td>8291.852990</td>\n",
       "    </tr>\n",
       "    <tr>\n",
       "      <td>120</td>\n",
       "      <td>ibiza</td>\n",
       "      <td>3657.762202</td>\n",
       "    </tr>\n",
       "    <tr>\n",
       "      <td>121</td>\n",
       "      <td>impreza</td>\n",
       "      <td>4852.331797</td>\n",
       "    </tr>\n",
       "    <tr>\n",
       "      <td>122</td>\n",
       "      <td>insignia</td>\n",
       "      <td>11532.151274</td>\n",
       "    </tr>\n",
       "    <tr>\n",
       "      <td>123</td>\n",
       "      <td>jazz</td>\n",
       "      <td>4619.416382</td>\n",
       "    </tr>\n",
       "    <tr>\n",
       "      <td>124</td>\n",
       "      <td>jetta</td>\n",
       "      <td>4568.370474</td>\n",
       "    </tr>\n",
       "    <tr>\n",
       "      <td>125</td>\n",
       "      <td>jimny</td>\n",
       "      <td>6801.490291</td>\n",
       "    </tr>\n",
       "    <tr>\n",
       "      <td>126</td>\n",
       "      <td>juke</td>\n",
       "      <td>11495.030612</td>\n",
       "    </tr>\n",
       "    <tr>\n",
       "      <td>127</td>\n",
       "      <td>justy</td>\n",
       "      <td>1449.661871</td>\n",
       "    </tr>\n",
       "    <tr>\n",
       "      <td>128</td>\n",
       "      <td>ka</td>\n",
       "      <td>1411.804850</td>\n",
       "    </tr>\n",
       "    <tr>\n",
       "      <td>129</td>\n",
       "      <td>kadett</td>\n",
       "      <td>2402.230994</td>\n",
       "    </tr>\n",
       "    <tr>\n",
       "      <td>130</td>\n",
       "      <td>kaefer</td>\n",
       "      <td>6038.175772</td>\n",
       "    </tr>\n",
       "    <tr>\n",
       "      <td>131</td>\n",
       "      <td>kalina</td>\n",
       "      <td>1816.500000</td>\n",
       "    </tr>\n",
       "    <tr>\n",
       "      <td>132</td>\n",
       "      <td>kalos</td>\n",
       "      <td>1478.923913</td>\n",
       "    </tr>\n",
       "    <tr>\n",
       "      <td>133</td>\n",
       "      <td>kangoo</td>\n",
       "      <td>2477.675958</td>\n",
       "    </tr>\n",
       "    <tr>\n",
       "      <td>134</td>\n",
       "      <td>kappa</td>\n",
       "      <td>2089.933333</td>\n",
       "    </tr>\n",
       "    <tr>\n",
       "      <td>135</td>\n",
       "      <td>kuga</td>\n",
       "      <td>13941.234177</td>\n",
       "    </tr>\n",
       "    <tr>\n",
       "      <td>136</td>\n",
       "      <td>laguna</td>\n",
       "      <td>2149.074887</td>\n",
       "    </tr>\n",
       "    <tr>\n",
       "      <td>137</td>\n",
       "      <td>lancer</td>\n",
       "      <td>3723.244240</td>\n",
       "    </tr>\n",
       "    <tr>\n",
       "      <td>138</td>\n",
       "      <td>lanos</td>\n",
       "      <td>587.936709</td>\n",
       "    </tr>\n",
       "    <tr>\n",
       "      <td>139</td>\n",
       "      <td>legacy</td>\n",
       "      <td>2653.163522</td>\n",
       "    </tr>\n",
       "    <tr>\n",
       "      <td>140</td>\n",
       "      <td>leon</td>\n",
       "      <td>7190.236334</td>\n",
       "    </tr>\n",
       "    <tr>\n",
       "      <td>141</td>\n",
       "      <td>lodgy</td>\n",
       "      <td>10362.771429</td>\n",
       "    </tr>\n",
       "    <tr>\n",
       "      <td>142</td>\n",
       "      <td>logan</td>\n",
       "      <td>3622.949206</td>\n",
       "    </tr>\n",
       "    <tr>\n",
       "      <td>143</td>\n",
       "      <td>lupo</td>\n",
       "      <td>1421.305758</td>\n",
       "    </tr>\n",
       "    <tr>\n",
       "      <td>144</td>\n",
       "      <td>lybra</td>\n",
       "      <td>745.905660</td>\n",
       "    </tr>\n",
       "    <tr>\n",
       "      <td>145</td>\n",
       "      <td>m_klasse</td>\n",
       "      <td>9331.283741</td>\n",
       "    </tr>\n",
       "    <tr>\n",
       "      <td>146</td>\n",
       "      <td>m_reihe</td>\n",
       "      <td>11634.061069</td>\n",
       "    </tr>\n",
       "    <tr>\n",
       "      <td>147</td>\n",
       "      <td>materia</td>\n",
       "      <td>4882.055556</td>\n",
       "    </tr>\n",
       "    <tr>\n",
       "      <td>148</td>\n",
       "      <td>matiz</td>\n",
       "      <td>1704.298578</td>\n",
       "    </tr>\n",
       "    <tr>\n",
       "      <td>149</td>\n",
       "      <td>megane</td>\n",
       "      <td>3043.979943</td>\n",
       "    </tr>\n",
       "    <tr>\n",
       "      <td>150</td>\n",
       "      <td>meriva</td>\n",
       "      <td>4678.454000</td>\n",
       "    </tr>\n",
       "    <tr>\n",
       "      <td>151</td>\n",
       "      <td>micra</td>\n",
       "      <td>1807.985655</td>\n",
       "    </tr>\n",
       "    <tr>\n",
       "      <td>152</td>\n",
       "      <td>mii</td>\n",
       "      <td>7549.913580</td>\n",
       "    </tr>\n",
       "    <tr>\n",
       "      <td>153</td>\n",
       "      <td>modus</td>\n",
       "      <td>3202.437908</td>\n",
       "    </tr>\n",
       "    <tr>\n",
       "      <td>154</td>\n",
       "      <td>mondeo</td>\n",
       "      <td>2575.043987</td>\n",
       "    </tr>\n",
       "    <tr>\n",
       "      <td>155</td>\n",
       "      <td>move</td>\n",
       "      <td>579.508772</td>\n",
       "    </tr>\n",
       "    <tr>\n",
       "      <td>156</td>\n",
       "      <td>musa</td>\n",
       "      <td>3442.636364</td>\n",
       "    </tr>\n",
       "    <tr>\n",
       "      <td>157</td>\n",
       "      <td>mustang</td>\n",
       "      <td>11789.457143</td>\n",
       "    </tr>\n",
       "    <tr>\n",
       "      <td>158</td>\n",
       "      <td>mx_reihe</td>\n",
       "      <td>5071.726190</td>\n",
       "    </tr>\n",
       "    <tr>\n",
       "      <td>159</td>\n",
       "      <td>navara</td>\n",
       "      <td>9380.571429</td>\n",
       "    </tr>\n",
       "    <tr>\n",
       "      <td>160</td>\n",
       "      <td>niva</td>\n",
       "      <td>3673.952381</td>\n",
       "    </tr>\n",
       "    <tr>\n",
       "      <td>161</td>\n",
       "      <td>note</td>\n",
       "      <td>5229.625000</td>\n",
       "    </tr>\n",
       "    <tr>\n",
       "      <td>162</td>\n",
       "      <td>nubira</td>\n",
       "      <td>934.704918</td>\n",
       "    </tr>\n",
       "    <tr>\n",
       "      <td>163</td>\n",
       "      <td>octavia</td>\n",
       "      <td>6630.855276</td>\n",
       "    </tr>\n",
       "    <tr>\n",
       "      <td>164</td>\n",
       "      <td>omega</td>\n",
       "      <td>1068.304727</td>\n",
       "    </tr>\n",
       "    <tr>\n",
       "      <td>165</td>\n",
       "      <td>one</td>\n",
       "      <td>7297.325203</td>\n",
       "    </tr>\n",
       "    <tr>\n",
       "      <td>166</td>\n",
       "      <td>other</td>\n",
       "      <td>4419.808420</td>\n",
       "    </tr>\n",
       "    <tr>\n",
       "      <td>167</td>\n",
       "      <td>outlander</td>\n",
       "      <td>9239.635593</td>\n",
       "    </tr>\n",
       "    <tr>\n",
       "      <td>168</td>\n",
       "      <td>pajero</td>\n",
       "      <td>5751.325000</td>\n",
       "    </tr>\n",
       "    <tr>\n",
       "      <td>169</td>\n",
       "      <td>panda</td>\n",
       "      <td>3118.733542</td>\n",
       "    </tr>\n",
       "    <tr>\n",
       "      <td>170</td>\n",
       "      <td>passat</td>\n",
       "      <td>4526.621990</td>\n",
       "    </tr>\n",
       "    <tr>\n",
       "      <td>171</td>\n",
       "      <td>phaeton</td>\n",
       "      <td>9472.365385</td>\n",
       "    </tr>\n",
       "    <tr>\n",
       "      <td>172</td>\n",
       "      <td>picanto</td>\n",
       "      <td>3522.546243</td>\n",
       "    </tr>\n",
       "    <tr>\n",
       "      <td>173</td>\n",
       "      <td>polo</td>\n",
       "      <td>2553.101847</td>\n",
       "    </tr>\n",
       "    <tr>\n",
       "      <td>174</td>\n",
       "      <td>primera</td>\n",
       "      <td>1422.120000</td>\n",
       "    </tr>\n",
       "    <tr>\n",
       "      <td>175</td>\n",
       "      <td>ptcruiser</td>\n",
       "      <td>2433.924915</td>\n",
       "    </tr>\n",
       "    <tr>\n",
       "      <td>176</td>\n",
       "      <td>punto</td>\n",
       "      <td>1628.365317</td>\n",
       "    </tr>\n",
       "    <tr>\n",
       "      <td>177</td>\n",
       "      <td>q3</td>\n",
       "      <td>13444.000000</td>\n",
       "    </tr>\n",
       "    <tr>\n",
       "      <td>178</td>\n",
       "      <td>q5</td>\n",
       "      <td>15843.989691</td>\n",
       "    </tr>\n",
       "    <tr>\n",
       "      <td>179</td>\n",
       "      <td>q7</td>\n",
       "      <td>15322.199005</td>\n",
       "    </tr>\n",
       "    <tr>\n",
       "      <td>180</td>\n",
       "      <td>qashqai</td>\n",
       "      <td>12658.561303</td>\n",
       "    </tr>\n",
       "    <tr>\n",
       "      <td>181</td>\n",
       "      <td>r19</td>\n",
       "      <td>831.655172</td>\n",
       "    </tr>\n",
       "    <tr>\n",
       "      <td>182</td>\n",
       "      <td>range_rover</td>\n",
       "      <td>7401.935065</td>\n",
       "    </tr>\n",
       "    <tr>\n",
       "      <td>183</td>\n",
       "      <td>range_rover_evoque</td>\n",
       "      <td>12500.000000</td>\n",
       "    </tr>\n",
       "    <tr>\n",
       "      <td>184</td>\n",
       "      <td>range_rover_sport</td>\n",
       "      <td>15332.796296</td>\n",
       "    </tr>\n",
       "    <tr>\n",
       "      <td>185</td>\n",
       "      <td>rangerover</td>\n",
       "      <td>6816.666667</td>\n",
       "    </tr>\n",
       "    <tr>\n",
       "      <td>186</td>\n",
       "      <td>rav</td>\n",
       "      <td>7008.299419</td>\n",
       "    </tr>\n",
       "    <tr>\n",
       "      <td>187</td>\n",
       "      <td>rio</td>\n",
       "      <td>4095.752874</td>\n",
       "    </tr>\n",
       "    <tr>\n",
       "      <td>188</td>\n",
       "      <td>roadster</td>\n",
       "      <td>4952.870056</td>\n",
       "    </tr>\n",
       "    <tr>\n",
       "      <td>189</td>\n",
       "      <td>roomster</td>\n",
       "      <td>6889.869732</td>\n",
       "    </tr>\n",
       "    <tr>\n",
       "      <td>190</td>\n",
       "      <td>rx_reihe</td>\n",
       "      <td>4967.195652</td>\n",
       "    </tr>\n",
       "    <tr>\n",
       "      <td>191</td>\n",
       "      <td>s60</td>\n",
       "      <td>6045.580420</td>\n",
       "    </tr>\n",
       "    <tr>\n",
       "      <td>192</td>\n",
       "      <td>s_klasse</td>\n",
       "      <td>7525.604651</td>\n",
       "    </tr>\n",
       "    <tr>\n",
       "      <td>193</td>\n",
       "      <td>s_max</td>\n",
       "      <td>10189.791469</td>\n",
       "    </tr>\n",
       "    <tr>\n",
       "      <td>194</td>\n",
       "      <td>s_type</td>\n",
       "      <td>4624.637795</td>\n",
       "    </tr>\n",
       "    <tr>\n",
       "      <td>195</td>\n",
       "      <td>samara</td>\n",
       "      <td>680.307692</td>\n",
       "    </tr>\n",
       "    <tr>\n",
       "      <td>196</td>\n",
       "      <td>sandero</td>\n",
       "      <td>4871.273050</td>\n",
       "    </tr>\n",
       "    <tr>\n",
       "      <td>197</td>\n",
       "      <td>santa</td>\n",
       "      <td>5937.534653</td>\n",
       "    </tr>\n",
       "    <tr>\n",
       "      <td>198</td>\n",
       "      <td>scenic</td>\n",
       "      <td>2513.036377</td>\n",
       "    </tr>\n",
       "    <tr>\n",
       "      <td>199</td>\n",
       "      <td>scirocco</td>\n",
       "      <td>10586.915254</td>\n",
       "    </tr>\n",
       "    <tr>\n",
       "      <td>200</td>\n",
       "      <td>seicento</td>\n",
       "      <td>808.785827</td>\n",
       "    </tr>\n",
       "    <tr>\n",
       "      <td>201</td>\n",
       "      <td>serie_1</td>\n",
       "      <td>1900.000000</td>\n",
       "    </tr>\n",
       "    <tr>\n",
       "      <td>202</td>\n",
       "      <td>serie_2</td>\n",
       "      <td>9439.000000</td>\n",
       "    </tr>\n",
       "    <tr>\n",
       "      <td>203</td>\n",
       "      <td>serie_3</td>\n",
       "      <td>9812.500000</td>\n",
       "    </tr>\n",
       "    <tr>\n",
       "      <td>204</td>\n",
       "      <td>sharan</td>\n",
       "      <td>5124.850534</td>\n",
       "    </tr>\n",
       "    <tr>\n",
       "      <td>205</td>\n",
       "      <td>signum</td>\n",
       "      <td>3839.809322</td>\n",
       "    </tr>\n",
       "    <tr>\n",
       "      <td>206</td>\n",
       "      <td>sirion</td>\n",
       "      <td>2250.096296</td>\n",
       "    </tr>\n",
       "    <tr>\n",
       "      <td>207</td>\n",
       "      <td>sl</td>\n",
       "      <td>12862.255000</td>\n",
       "    </tr>\n",
       "    <tr>\n",
       "      <td>208</td>\n",
       "      <td>slk</td>\n",
       "      <td>8729.323140</td>\n",
       "    </tr>\n",
       "    <tr>\n",
       "      <td>209</td>\n",
       "      <td>sorento</td>\n",
       "      <td>6927.750000</td>\n",
       "    </tr>\n",
       "    <tr>\n",
       "      <td>210</td>\n",
       "      <td>spark</td>\n",
       "      <td>4951.917355</td>\n",
       "    </tr>\n",
       "    <tr>\n",
       "      <td>211</td>\n",
       "      <td>spider</td>\n",
       "      <td>6883.586387</td>\n",
       "    </tr>\n",
       "    <tr>\n",
       "      <td>212</td>\n",
       "      <td>sportage</td>\n",
       "      <td>10571.925926</td>\n",
       "    </tr>\n",
       "    <tr>\n",
       "      <td>213</td>\n",
       "      <td>sprinter</td>\n",
       "      <td>5812.630705</td>\n",
       "    </tr>\n",
       "    <tr>\n",
       "      <td>214</td>\n",
       "      <td>stilo</td>\n",
       "      <td>1606.121265</td>\n",
       "    </tr>\n",
       "    <tr>\n",
       "      <td>215</td>\n",
       "      <td>superb</td>\n",
       "      <td>10314.214485</td>\n",
       "    </tr>\n",
       "    <tr>\n",
       "      <td>216</td>\n",
       "      <td>swift</td>\n",
       "      <td>3930.964758</td>\n",
       "    </tr>\n",
       "    <tr>\n",
       "      <td>217</td>\n",
       "      <td>terios</td>\n",
       "      <td>4790.171429</td>\n",
       "    </tr>\n",
       "    <tr>\n",
       "      <td>218</td>\n",
       "      <td>tigra</td>\n",
       "      <td>2659.616294</td>\n",
       "    </tr>\n",
       "    <tr>\n",
       "      <td>219</td>\n",
       "      <td>tiguan</td>\n",
       "      <td>14191.473846</td>\n",
       "    </tr>\n",
       "    <tr>\n",
       "      <td>220</td>\n",
       "      <td>toledo</td>\n",
       "      <td>2058.695513</td>\n",
       "    </tr>\n",
       "    <tr>\n",
       "      <td>221</td>\n",
       "      <td>touareg</td>\n",
       "      <td>10480.297203</td>\n",
       "    </tr>\n",
       "    <tr>\n",
       "      <td>222</td>\n",
       "      <td>touran</td>\n",
       "      <td>7193.738117</td>\n",
       "    </tr>\n",
       "    <tr>\n",
       "      <td>223</td>\n",
       "      <td>transit</td>\n",
       "      <td>4389.572238</td>\n",
       "    </tr>\n",
       "    <tr>\n",
       "      <td>224</td>\n",
       "      <td>transporter</td>\n",
       "      <td>6755.528302</td>\n",
       "    </tr>\n",
       "    <tr>\n",
       "      <td>225</td>\n",
       "      <td>tt</td>\n",
       "      <td>9634.396371</td>\n",
       "    </tr>\n",
       "    <tr>\n",
       "      <td>226</td>\n",
       "      <td>tucson</td>\n",
       "      <td>6589.768889</td>\n",
       "    </tr>\n",
       "    <tr>\n",
       "      <td>227</td>\n",
       "      <td>twingo</td>\n",
       "      <td>1393.982777</td>\n",
       "    </tr>\n",
       "    <tr>\n",
       "      <td>228</td>\n",
       "      <td>up</td>\n",
       "      <td>7974.894428</td>\n",
       "    </tr>\n",
       "    <tr>\n",
       "      <td>229</td>\n",
       "      <td>v40</td>\n",
       "      <td>1505.864430</td>\n",
       "    </tr>\n",
       "    <tr>\n",
       "      <td>230</td>\n",
       "      <td>v50</td>\n",
       "      <td>6025.935743</td>\n",
       "    </tr>\n",
       "    <tr>\n",
       "      <td>231</td>\n",
       "      <td>v60</td>\n",
       "      <td>14786.585366</td>\n",
       "    </tr>\n",
       "    <tr>\n",
       "      <td>232</td>\n",
       "      <td>v70</td>\n",
       "      <td>3910.653355</td>\n",
       "    </tr>\n",
       "    <tr>\n",
       "      <td>233</td>\n",
       "      <td>v_klasse</td>\n",
       "      <td>3361.157534</td>\n",
       "    </tr>\n",
       "    <tr>\n",
       "      <td>234</td>\n",
       "      <td>vectra</td>\n",
       "      <td>1684.791067</td>\n",
       "    </tr>\n",
       "    <tr>\n",
       "      <td>235</td>\n",
       "      <td>verso</td>\n",
       "      <td>6984.565657</td>\n",
       "    </tr>\n",
       "    <tr>\n",
       "      <td>236</td>\n",
       "      <td>viano</td>\n",
       "      <td>11748.192157</td>\n",
       "    </tr>\n",
       "    <tr>\n",
       "      <td>237</td>\n",
       "      <td>vito</td>\n",
       "      <td>5935.812135</td>\n",
       "    </tr>\n",
       "    <tr>\n",
       "      <td>238</td>\n",
       "      <td>vivaro</td>\n",
       "      <td>6609.600639</td>\n",
       "    </tr>\n",
       "    <tr>\n",
       "      <td>239</td>\n",
       "      <td>voyager</td>\n",
       "      <td>1766.453453</td>\n",
       "    </tr>\n",
       "    <tr>\n",
       "      <td>240</td>\n",
       "      <td>wrangler</td>\n",
       "      <td>9358.702970</td>\n",
       "    </tr>\n",
       "    <tr>\n",
       "      <td>241</td>\n",
       "      <td>x_reihe</td>\n",
       "      <td>11736.510940</td>\n",
       "    </tr>\n",
       "    <tr>\n",
       "      <td>242</td>\n",
       "      <td>x_trail</td>\n",
       "      <td>6404.823529</td>\n",
       "    </tr>\n",
       "    <tr>\n",
       "      <td>243</td>\n",
       "      <td>x_type</td>\n",
       "      <td>4801.994118</td>\n",
       "    </tr>\n",
       "    <tr>\n",
       "      <td>244</td>\n",
       "      <td>xc_reihe</td>\n",
       "      <td>11656.109434</td>\n",
       "    </tr>\n",
       "    <tr>\n",
       "      <td>245</td>\n",
       "      <td>yaris</td>\n",
       "      <td>3870.441650</td>\n",
       "    </tr>\n",
       "    <tr>\n",
       "      <td>246</td>\n",
       "      <td>yeti</td>\n",
       "      <td>13524.139535</td>\n",
       "    </tr>\n",
       "    <tr>\n",
       "      <td>247</td>\n",
       "      <td>ypsilon</td>\n",
       "      <td>1379.461929</td>\n",
       "    </tr>\n",
       "    <tr>\n",
       "      <td>248</td>\n",
       "      <td>z_reihe</td>\n",
       "      <td>9970.035211</td>\n",
       "    </tr>\n",
       "    <tr>\n",
       "      <td>249</td>\n",
       "      <td>zafira</td>\n",
       "      <td>3752.725903</td>\n",
       "    </tr>\n",
       "  </tbody>\n",
       "</table>\n",
       "</div>"
      ],
      "text/plain": [
       "                  Model         Price\n",
       "0                   100   1792.124088\n",
       "1                   145    826.800000\n",
       "2                   147   2288.209647\n",
       "3                   156   1524.894137\n",
       "4                   159   7039.879808\n",
       "5               1_reihe   1618.509944\n",
       "6                   1er   9951.907548\n",
       "7                   200   3865.777778\n",
       "8               2_reihe   3178.643252\n",
       "9                  300c  10031.489209\n",
       "10              3_reihe   3240.224926\n",
       "11                  3er   5034.673412\n",
       "12              4_reihe   3429.421304\n",
       "13                  500   7703.220133\n",
       "14              5_reihe   8004.896313\n",
       "15                  5er   6401.672840\n",
       "16                  601   1618.875912\n",
       "17              6_reihe   3419.140575\n",
       "18                  6er  12314.751634\n",
       "19                  7er   6499.412424\n",
       "20                   80   1393.578677\n",
       "21                  850   1453.490385\n",
       "22                   90   2050.072165\n",
       "23                  900   3103.577586\n",
       "24                 9000   2417.038462\n",
       "25                  911  10647.062500\n",
       "26                   a1  13845.200342\n",
       "27                   a2   3858.603352\n",
       "28                   a3   6242.176879\n",
       "29                   a4   5825.201650\n",
       "30                   a5  15517.923933\n",
       "31                   a6   6419.359263\n",
       "32                   a8   7806.549708\n",
       "33             a_klasse   3464.608574\n",
       "34               accord   4615.883041\n",
       "35                agila   1941.794045\n",
       "36             alhambra   5007.228986\n",
       "37               almera   1446.458633\n",
       "38                altea   6442.011429\n",
       "39               amarok  12043.933333\n",
       "40               antara   8720.339623\n",
       "41                arosa   1075.365998\n",
       "42                astra   3055.958200\n",
       "43                auris   9122.705357\n",
       "44              avensis   5620.389982\n",
       "45                 aveo   4772.536364\n",
       "46                 aygo   4234.128329\n",
       "47             b_klasse   9421.867879\n",
       "48                b_max  12325.653846\n",
       "49               beetle   6495.332474\n",
       "50             berlingo   3264.568831\n",
       "51                 bora   2442.961085\n",
       "52              boxster  13004.890909\n",
       "53                bravo   2635.147059\n",
       "54                   c1   3863.809399\n",
       "55                   c2   2660.545699\n",
       "56                   c3   3860.601227\n",
       "57                   c4   5970.713953\n",
       "58                   c5   4442.656965\n",
       "59             c_klasse   5511.584494\n",
       "60                c_max   6239.092879\n",
       "61              c_reihe   8040.349206\n",
       "62                caddy   6138.249500\n",
       "63              calibra   2040.152709\n",
       "64              captiva  10191.036364\n",
       "65              carisma    964.451128\n",
       "66             carnival   2346.083019\n",
       "67              cayenne  13040.159292\n",
       "68                   cc  14204.333333\n",
       "69                 ceed   7872.293878\n",
       "70              charade   1264.846154\n",
       "71             cherokee   4551.169811\n",
       "72               citigo   7475.255556\n",
       "73                civic   2824.351881\n",
       "74                   cl   8193.608889\n",
       "75                 clio   2168.462065\n",
       "76                  clk   6252.825549\n",
       "77              clubman  10686.200000\n",
       "78                 colt   2361.713598\n",
       "79                combo   2616.822165\n",
       "80               cooper   9887.327722\n",
       "81              cordoba    895.111111\n",
       "82              corolla   2726.663623\n",
       "83                corsa   1908.797151\n",
       "84             cr_reihe   5907.539157\n",
       "85                croma   3976.550000\n",
       "86            crossfire  10471.555556\n",
       "87                cuore   1057.559229\n",
       "88             cx_reihe  13366.584615\n",
       "89             defender  11494.946667\n",
       "90                delta   5121.468750\n",
       "91            discovery   9276.265823\n",
       "92                doblo   3589.248344\n",
       "93               ducato   3869.685096\n",
       "94               duster  10029.930000\n",
       "95             e_klasse   5762.706990\n",
       "96           elefantino    531.125000\n",
       "97                  eos  11022.211462\n",
       "98               escort    832.879725\n",
       "99               espace   2082.525952\n",
       "100                exeo  11359.795918\n",
       "101               fabia   4204.745446\n",
       "102              fiesta   2630.932613\n",
       "103               focus   3440.456224\n",
       "104            forester   5126.912000\n",
       "105             forfour   2864.871935\n",
       "106              fortwo   3644.461924\n",
       "107                 fox   2866.673640\n",
       "108          freelander   5892.808411\n",
       "109              fusion   3068.235294\n",
       "110            g_klasse  10354.893617\n",
       "111              galant   1143.193548\n",
       "112              galaxy   3651.914077\n",
       "113                getz   1943.012563\n",
       "114                  gl  18378.833333\n",
       "115                 glk  16058.444444\n",
       "116                golf   4210.795690\n",
       "117               grand   6420.983696\n",
       "118                  i3   3129.750000\n",
       "119             i_reihe   8291.852990\n",
       "120               ibiza   3657.762202\n",
       "121             impreza   4852.331797\n",
       "122            insignia  11532.151274\n",
       "123                jazz   4619.416382\n",
       "124               jetta   4568.370474\n",
       "125               jimny   6801.490291\n",
       "126                juke  11495.030612\n",
       "127               justy   1449.661871\n",
       "128                  ka   1411.804850\n",
       "129              kadett   2402.230994\n",
       "130              kaefer   6038.175772\n",
       "131              kalina   1816.500000\n",
       "132               kalos   1478.923913\n",
       "133              kangoo   2477.675958\n",
       "134               kappa   2089.933333\n",
       "135                kuga  13941.234177\n",
       "136              laguna   2149.074887\n",
       "137              lancer   3723.244240\n",
       "138               lanos    587.936709\n",
       "139              legacy   2653.163522\n",
       "140                leon   7190.236334\n",
       "141               lodgy  10362.771429\n",
       "142               logan   3622.949206\n",
       "143                lupo   1421.305758\n",
       "144               lybra    745.905660\n",
       "145            m_klasse   9331.283741\n",
       "146             m_reihe  11634.061069\n",
       "147             materia   4882.055556\n",
       "148               matiz   1704.298578\n",
       "149              megane   3043.979943\n",
       "150              meriva   4678.454000\n",
       "151               micra   1807.985655\n",
       "152                 mii   7549.913580\n",
       "153               modus   3202.437908\n",
       "154              mondeo   2575.043987\n",
       "155                move    579.508772\n",
       "156                musa   3442.636364\n",
       "157             mustang  11789.457143\n",
       "158            mx_reihe   5071.726190\n",
       "159              navara   9380.571429\n",
       "160                niva   3673.952381\n",
       "161                note   5229.625000\n",
       "162              nubira    934.704918\n",
       "163             octavia   6630.855276\n",
       "164               omega   1068.304727\n",
       "165                 one   7297.325203\n",
       "166               other   4419.808420\n",
       "167           outlander   9239.635593\n",
       "168              pajero   5751.325000\n",
       "169               panda   3118.733542\n",
       "170              passat   4526.621990\n",
       "171             phaeton   9472.365385\n",
       "172             picanto   3522.546243\n",
       "173                polo   2553.101847\n",
       "174             primera   1422.120000\n",
       "175           ptcruiser   2433.924915\n",
       "176               punto   1628.365317\n",
       "177                  q3  13444.000000\n",
       "178                  q5  15843.989691\n",
       "179                  q7  15322.199005\n",
       "180             qashqai  12658.561303\n",
       "181                 r19    831.655172\n",
       "182         range_rover   7401.935065\n",
       "183  range_rover_evoque  12500.000000\n",
       "184   range_rover_sport  15332.796296\n",
       "185          rangerover   6816.666667\n",
       "186                 rav   7008.299419\n",
       "187                 rio   4095.752874\n",
       "188            roadster   4952.870056\n",
       "189            roomster   6889.869732\n",
       "190            rx_reihe   4967.195652\n",
       "191                 s60   6045.580420\n",
       "192            s_klasse   7525.604651\n",
       "193               s_max  10189.791469\n",
       "194              s_type   4624.637795\n",
       "195              samara    680.307692\n",
       "196             sandero   4871.273050\n",
       "197               santa   5937.534653\n",
       "198              scenic   2513.036377\n",
       "199            scirocco  10586.915254\n",
       "200            seicento    808.785827\n",
       "201             serie_1   1900.000000\n",
       "202             serie_2   9439.000000\n",
       "203             serie_3   9812.500000\n",
       "204              sharan   5124.850534\n",
       "205              signum   3839.809322\n",
       "206              sirion   2250.096296\n",
       "207                  sl  12862.255000\n",
       "208                 slk   8729.323140\n",
       "209             sorento   6927.750000\n",
       "210               spark   4951.917355\n",
       "211              spider   6883.586387\n",
       "212            sportage  10571.925926\n",
       "213            sprinter   5812.630705\n",
       "214               stilo   1606.121265\n",
       "215              superb  10314.214485\n",
       "216               swift   3930.964758\n",
       "217              terios   4790.171429\n",
       "218               tigra   2659.616294\n",
       "219              tiguan  14191.473846\n",
       "220              toledo   2058.695513\n",
       "221             touareg  10480.297203\n",
       "222              touran   7193.738117\n",
       "223             transit   4389.572238\n",
       "224         transporter   6755.528302\n",
       "225                  tt   9634.396371\n",
       "226              tucson   6589.768889\n",
       "227              twingo   1393.982777\n",
       "228                  up   7974.894428\n",
       "229                 v40   1505.864430\n",
       "230                 v50   6025.935743\n",
       "231                 v60  14786.585366\n",
       "232                 v70   3910.653355\n",
       "233            v_klasse   3361.157534\n",
       "234              vectra   1684.791067\n",
       "235               verso   6984.565657\n",
       "236               viano  11748.192157\n",
       "237                vito   5935.812135\n",
       "238              vivaro   6609.600639\n",
       "239             voyager   1766.453453\n",
       "240            wrangler   9358.702970\n",
       "241             x_reihe  11736.510940\n",
       "242             x_trail   6404.823529\n",
       "243              x_type   4801.994118\n",
       "244            xc_reihe  11656.109434\n",
       "245               yaris   3870.441650\n",
       "246                yeti  13524.139535\n",
       "247             ypsilon   1379.461929\n",
       "248             z_reihe   9970.035211\n",
       "249              zafira   3752.725903"
      ]
     },
     "execution_count": 24,
     "metadata": {},
     "output_type": "execute_result"
    }
   ],
   "source": [
    "data_autos.groupby('Model', as_index = False)['Price'].mean()"
   ]
  },
  {
   "cell_type": "code",
   "execution_count": 25,
   "metadata": {},
   "outputs": [],
   "source": [
    "data_autos['NotRepaired'] = data_autos['NotRepaired'].fillna(value='unknown')"
   ]
  },
  {
   "cell_type": "markdown",
   "metadata": {},
   "source": [
    "2) Коробка передач"
   ]
  },
  {
   "cell_type": "code",
   "execution_count": 26,
   "metadata": {},
   "outputs": [
    {
     "data": {
      "image/png": "[encoded data removed]",
      "text/plain": [
       "<Figure size 720x432 with 1 Axes>"
      ]
     },
     "metadata": {
      "needs_background": "light"
     },
     "output_type": "display_data"
    },
    {
     "data": {
      "text/plain": [
       "manual    257359\n",
       "auto       64277\n",
       "Name: Gearbox, dtype: int64"
      ]
     },
     "execution_count": 26,
     "metadata": {},
     "output_type": "execute_result"
    }
   ],
   "source": [
    "plt.figure()\n",
    "fig = data_autos['Gearbox'].value_counts().plot(kind = 'bar', grid=True, figsize=(10,6))\n",
    "plt.xticks(rotation=0)\n",
    "plt.xlabel('Виды коробок', size=12)\n",
    "plt.ylabel('Количество', size=12)\n",
    "plt.title('Распределение типов коробки передач', size=15);\n",
    "plt.show()\n",
    "data_autos['Gearbox'].value_counts()"
   ]
  },
  {
   "cell_type": "markdown",
   "metadata": {},
   "source": [
    "Механических коробок передач в 4 раза больше, чем \"автоматов\". В этом признаке 5.6% пропусков."
   ]
  },
  {
   "cell_type": "code",
   "execution_count": 27,
   "metadata": {},
   "outputs": [
    {
     "data": {
      "image/png": "[encoded data removed]",
      "text/plain": [
       "<Figure size 1008x432 with 1 Axes>"
      ]
     },
     "metadata": {
      "needs_background": "light"
     },
     "output_type": "display_data"
    }
   ],
   "source": [
    "plt.figure(figsize=(14,6))\n",
    "sns.distplot(data_autos.loc[data_autos['Gearbox']== 'manual', 'RegistrationYear'], hist=False, \n",
    "             color='green', kde_kws={\"lw\": 2, \"label\": \"Механическая коробка\"})\n",
    "\n",
    "sns.distplot(data_autos.loc[data_autos['Gearbox']== 'auto', 'RegistrationYear'], hist=False, \n",
    "             color='gray', kde_kws={\"lw\": 2, \"label\": \"Автоматическая коробка\"})\n",
    "plt.xlabel('Год регистрации', size=12)\n",
    "plt.title('Распределение автоматических и ручных коробок по годам выпуска', size=15);"
   ]
  },
  {
   "cell_type": "markdown",
   "metadata": {},
   "source": [
    "Начиная с 2000 года, автоматических коробок передач стало больше, но не настолько, чтобы все новые автомобили с пропусками заменить ею. Поэтому заменим пропуски на 'unknown'."
   ]
  },
  {
   "cell_type": "code",
   "execution_count": 28,
   "metadata": {},
   "outputs": [],
   "source": [
    "data_autos['Gearbox'] = data_autos['Gearbox'].fillna(value='unknown')"
   ]
  },
  {
   "cell_type": "markdown",
   "metadata": {},
   "source": [
    "3) Модель автомобиля"
   ]
  },
  {
   "cell_type": "code",
   "execution_count": 29,
   "metadata": {},
   "outputs": [
    {
     "data": {
      "text/html": [
       "<div>\n",
       "<style scoped>\n",
       "    .dataframe tbody tr th:only-of-type {\n",
       "        vertical-align: middle;\n",
       "    }\n",
       "\n",
       "    .dataframe tbody tr th {\n",
       "        vertical-align: top;\n",
       "    }\n",
       "\n",
       "    .dataframe thead th {\n",
       "        text-align: right;\n",
       "    }\n",
       "</style>\n",
       "<table border=\"1\" class=\"dataframe\">\n",
       "  <thead>\n",
       "    <tr style=\"text-align: right;\">\n",
       "      <th></th>\n",
       "      <th>Model</th>\n",
       "    </tr>\n",
       "    <tr>\n",
       "      <th>Brand</th>\n",
       "      <th></th>\n",
       "    </tr>\n",
       "  </thead>\n",
       "  <tbody>\n",
       "    <tr>\n",
       "      <td>sonstige_autos</td>\n",
       "      <td>0</td>\n",
       "    </tr>\n",
       "    <tr>\n",
       "      <td>lada</td>\n",
       "      <td>204</td>\n",
       "    </tr>\n",
       "    <tr>\n",
       "      <td>rover</td>\n",
       "      <td>388</td>\n",
       "    </tr>\n",
       "    <tr>\n",
       "      <td>lancia</td>\n",
       "      <td>425</td>\n",
       "    </tr>\n",
       "    <tr>\n",
       "      <td>daewoo</td>\n",
       "      <td>470</td>\n",
       "    </tr>\n",
       "    <tr>\n",
       "      <td>trabant</td>\n",
       "      <td>481</td>\n",
       "    </tr>\n",
       "    <tr>\n",
       "      <td>jaguar</td>\n",
       "      <td>486</td>\n",
       "    </tr>\n",
       "    <tr>\n",
       "      <td>saab</td>\n",
       "      <td>498</td>\n",
       "    </tr>\n",
       "    <tr>\n",
       "      <td>land_rover</td>\n",
       "      <td>526</td>\n",
       "    </tr>\n",
       "    <tr>\n",
       "      <td>jeep</td>\n",
       "      <td>618</td>\n",
       "    </tr>\n",
       "    <tr>\n",
       "      <td>porsche</td>\n",
       "      <td>701</td>\n",
       "    </tr>\n",
       "    <tr>\n",
       "      <td>subaru</td>\n",
       "      <td>703</td>\n",
       "    </tr>\n",
       "    <tr>\n",
       "      <td>daihatsu</td>\n",
       "      <td>745</td>\n",
       "    </tr>\n",
       "    <tr>\n",
       "      <td>dacia</td>\n",
       "      <td>854</td>\n",
       "    </tr>\n",
       "    <tr>\n",
       "      <td>chrysler</td>\n",
       "      <td>1311</td>\n",
       "    </tr>\n",
       "    <tr>\n",
       "      <td>chevrolet</td>\n",
       "      <td>1596</td>\n",
       "    </tr>\n",
       "    <tr>\n",
       "      <td>alfa_romeo</td>\n",
       "      <td>2110</td>\n",
       "    </tr>\n",
       "    <tr>\n",
       "      <td>suzuki</td>\n",
       "      <td>2123</td>\n",
       "    </tr>\n",
       "    <tr>\n",
       "      <td>kia</td>\n",
       "      <td>2263</td>\n",
       "    </tr>\n",
       "    <tr>\n",
       "      <td>honda</td>\n",
       "      <td>2552</td>\n",
       "    </tr>\n",
       "    <tr>\n",
       "      <td>mitsubishi</td>\n",
       "      <td>2762</td>\n",
       "    </tr>\n",
       "    <tr>\n",
       "      <td>volvo</td>\n",
       "      <td>3039</td>\n",
       "    </tr>\n",
       "    <tr>\n",
       "      <td>mini</td>\n",
       "      <td>3046</td>\n",
       "    </tr>\n",
       "    <tr>\n",
       "      <td>hyundai</td>\n",
       "      <td>3269</td>\n",
       "    </tr>\n",
       "    <tr>\n",
       "      <td>toyota</td>\n",
       "      <td>4315</td>\n",
       "    </tr>\n",
       "    <tr>\n",
       "      <td>nissan</td>\n",
       "      <td>4560</td>\n",
       "    </tr>\n",
       "    <tr>\n",
       "      <td>citroen</td>\n",
       "      <td>4690</td>\n",
       "    </tr>\n",
       "    <tr>\n",
       "      <td>smart</td>\n",
       "      <td>4800</td>\n",
       "    </tr>\n",
       "    <tr>\n",
       "      <td>mazda</td>\n",
       "      <td>5085</td>\n",
       "    </tr>\n",
       "    <tr>\n",
       "      <td>skoda</td>\n",
       "      <td>5234</td>\n",
       "    </tr>\n",
       "    <tr>\n",
       "      <td>seat</td>\n",
       "      <td>6332</td>\n",
       "    </tr>\n",
       "    <tr>\n",
       "      <td>fiat</td>\n",
       "      <td>8696</td>\n",
       "    </tr>\n",
       "    <tr>\n",
       "      <td>peugeot</td>\n",
       "      <td>9843</td>\n",
       "    </tr>\n",
       "    <tr>\n",
       "      <td>renault</td>\n",
       "      <td>16263</td>\n",
       "    </tr>\n",
       "    <tr>\n",
       "      <td>ford</td>\n",
       "      <td>23239</td>\n",
       "    </tr>\n",
       "    <tr>\n",
       "      <td>audi</td>\n",
       "      <td>27341</td>\n",
       "    </tr>\n",
       "    <tr>\n",
       "      <td>mercedes_benz</td>\n",
       "      <td>29921</td>\n",
       "    </tr>\n",
       "    <tr>\n",
       "      <td>bmw</td>\n",
       "      <td>34099</td>\n",
       "    </tr>\n",
       "    <tr>\n",
       "      <td>opel</td>\n",
       "      <td>36297</td>\n",
       "    </tr>\n",
       "    <tr>\n",
       "      <td>volkswagen</td>\n",
       "      <td>70065</td>\n",
       "    </tr>\n",
       "  </tbody>\n",
       "</table>\n",
       "</div>"
      ],
      "text/plain": [
       "                Model\n",
       "Brand                \n",
       "sonstige_autos      0\n",
       "lada              204\n",
       "rover             388\n",
       "lancia            425\n",
       "daewoo            470\n",
       "trabant           481\n",
       "jaguar            486\n",
       "saab              498\n",
       "land_rover        526\n",
       "jeep              618\n",
       "porsche           701\n",
       "subaru            703\n",
       "daihatsu          745\n",
       "dacia             854\n",
       "chrysler         1311\n",
       "chevrolet        1596\n",
       "alfa_romeo       2110\n",
       "suzuki           2123\n",
       "kia              2263\n",
       "honda            2552\n",
       "mitsubishi       2762\n",
       "volvo            3039\n",
       "mini             3046\n",
       "hyundai          3269\n",
       "toyota           4315\n",
       "nissan           4560\n",
       "citroen          4690\n",
       "smart            4800\n",
       "mazda            5085\n",
       "skoda            5234\n",
       "seat             6332\n",
       "fiat             8696\n",
       "peugeot          9843\n",
       "renault         16263\n",
       "ford            23239\n",
       "audi            27341\n",
       "mercedes_benz   29921\n",
       "bmw             34099\n",
       "opel            36297\n",
       "volkswagen      70065"
      ]
     },
     "execution_count": 29,
     "metadata": {},
     "output_type": "execute_result"
    }
   ],
   "source": [
    "data_autos.groupby(['Brand'])['Model'].count().to_frame().sort_values(by = 'Model')"
   ]
  },
  {
   "cell_type": "code",
   "execution_count": 30,
   "metadata": {
    "scrolled": true
   },
   "outputs": [
    {
     "data": {
      "text/plain": [
       "golf                  27610\n",
       "other                 23729\n",
       "3er                   19223\n",
       "polo                  12450\n",
       "corsa                 11935\n",
       "astra                 10335\n",
       "passat                 9841\n",
       "a4                     9695\n",
       "c_klasse               8113\n",
       "5er                    7721\n",
       "e_klasse               6638\n",
       "a3                     5761\n",
       "focus                  5631\n",
       "fiesta                 5550\n",
       "a6                     5425\n",
       "2_reihe                4698\n",
       "transporter            4664\n",
       "twingo                 4645\n",
       "fortwo                 4189\n",
       "vectra                 4097\n",
       "a_klasse               3919\n",
       "mondeo                 3501\n",
       "1er                    3418\n",
       "3_reihe                3370\n",
       "clio                   3361\n",
       "touran                 3261\n",
       "punto                  3137\n",
       "zafira                 2853\n",
       "megane                 2792\n",
       "ka                     2598\n",
       "ibiza                  2561\n",
       "lupo                   2466\n",
       "octavia                2066\n",
       "fabia                  2031\n",
       "cooper                 1901\n",
       "clk                    1777\n",
       "micra                  1673\n",
       "80                     1557\n",
       "x_reihe                1554\n",
       "caddy                  1499\n",
       "sharan                 1405\n",
       "omega                  1375\n",
       "scenic                 1347\n",
       "laguna                 1322\n",
       "civic                  1276\n",
       "1_reihe                1257\n",
       "6_reihe                1252\n",
       "leon                   1244\n",
       "slk                    1210\n",
       "i_reihe                1204\n",
       "galaxy                 1094\n",
       "tt                     1047\n",
       "mx_reihe               1008\n",
       "meriva                 1000\n",
       "yaris                   994\n",
       "7er                     982\n",
       "m_klasse                941\n",
       "500                     904\n",
       "escort                  873\n",
       "one                     861\n",
       "kangoo                  861\n",
       "s_klasse                860\n",
       "vito                    857\n",
       "bora                    848\n",
       "arosa                   847\n",
       "colt                    831\n",
       "b_klasse                825\n",
       "beetle                  776\n",
       "berlingo                770\n",
       "tigra                   761\n",
       "v40                     745\n",
       "sprinter                723\n",
       "fox                     717\n",
       "z_reihe                 710\n",
       "transit                 706\n",
       "swift                   681\n",
       "corolla                 657\n",
       "tiguan                  650\n",
       "c_max                   646\n",
       "panda                   638\n",
       "seicento                635\n",
       "4_reihe                 629\n",
       "insignia                628\n",
       "v70                     626\n",
       "156                     614\n",
       "primera                 600\n",
       "scirocco                590\n",
       "a1                      584\n",
       "espace                  578\n",
       "touareg                 572\n",
       "stilo                   569\n",
       "avensis                 559\n",
       "almera                  556\n",
       "grand                   552\n",
       "147                     539\n",
       "a5                      539\n",
       "qashqai                 522\n",
       "a8                      513\n",
       "eos                     506\n",
       "c3                      489\n",
       "c5                      481\n",
       "signum                  472\n",
       "5_reihe                 434\n",
       "c4                      430\n",
       "matiz                   422\n",
       "s_max                   422\n",
       "kaefer                  421\n",
       "ducato                  416\n",
       "aygo                    413\n",
       "601                     411\n",
       "100                     411\n",
       "agila                   403\n",
       "sl                      400\n",
       "carisma                 399\n",
       "getz                    398\n",
       "combo                   388\n",
       "cordoba                 387\n",
       "c1                      383\n",
       "c2                      372\n",
       "forfour                 367\n",
       "cuore                   363\n",
       "jetta                   359\n",
       "superb                  359\n",
       "a2                      358\n",
       "altea                   350\n",
       "rio                     348\n",
       "picanto                 346\n",
       "alhambra                345\n",
       "rav                     344\n",
       "accord                  342\n",
       "kadett                  342\n",
       "up                      341\n",
       "voyager                 333\n",
       "cr_reihe                332\n",
       "sorento                 328\n",
       "kuga                    316\n",
       "logan                   315\n",
       "vivaro                  313\n",
       "toledo                  312\n",
       "bravo                   306\n",
       "modus                   306\n",
       "santa                   303\n",
       "doblo                   302\n",
       "verso                   297\n",
       "ptcruiser               293\n",
       "jazz                    293\n",
       "fusion                  289\n",
       "sandero                 282\n",
       "carnival                265\n",
       "xc_reihe                265\n",
       "roomster                261\n",
       "viano                   255\n",
       "v50                     249\n",
       "galant                  248\n",
       "ceed                    245\n",
       "sportage                243\n",
       "cayenne                 226\n",
       "cl                      225\n",
       "tucson                  225\n",
       "auris                   224\n",
       "boxster                 220\n",
       "impreza                 217\n",
       "lancer                  217\n",
       "freelander              214\n",
       "phaeton                 208\n",
       "159                     208\n",
       "850                     208\n",
       "jimny                   206\n",
       "x_trail                 204\n",
       "calibra                 203\n",
       "q7                      201\n",
       "pajero                  200\n",
       "duster                  200\n",
       "ypsilon                 197\n",
       "clubman                 195\n",
       "spider                  191\n",
       "c_reihe                 189\n",
       "roadster                177\n",
       "mustang                 175\n",
       "yeti                    172\n",
       "x_type                  170\n",
       "captiva                 165\n",
       "legacy                  159\n",
       "cherokee                159\n",
       "6er                     153\n",
       "v_klasse                146\n",
       "s60                     143\n",
       "justy                   139\n",
       "300c                    139\n",
       "rx_reihe                138\n",
       "sirion                  135\n",
       "cc                      132\n",
       "m_reihe                 131\n",
       "s_type                  127\n",
       "niva                    126\n",
       "forester                125\n",
       "spark                   121\n",
       "note                    120\n",
       "outlander               118\n",
       "900                     116\n",
       "r19                     116\n",
       "aveo                    110\n",
       "antara                  106\n",
       "wrangler                101\n",
       "exeo                     98\n",
       "navara                   98\n",
       "juke                     98\n",
       "q5                       97\n",
       "90                       97\n",
       "g_klasse                 94\n",
       "kalos                    92\n",
       "citigo                   90\n",
       "mii                      81\n",
       "911                      80\n",
       "lanos                    79\n",
       "discovery                79\n",
       "range_rover              77\n",
       "defender                 75\n",
       "cx_reihe                 65\n",
       "glk                      63\n",
       "crossfire                63\n",
       "nubira                   61\n",
       "move                     57\n",
       "range_rover_sport        54\n",
       "lybra                    53\n",
       "145                      45\n",
       "v60                      41\n",
       "croma                    40\n",
       "terios                   35\n",
       "lodgy                    35\n",
       "delta                    32\n",
       "9000                     26\n",
       "b_max                    26\n",
       "charade                  26\n",
       "musa                     22\n",
       "materia                  18\n",
       "200                      18\n",
       "q3                       15\n",
       "amarok                   15\n",
       "kappa                    15\n",
       "samara                   13\n",
       "gl                       12\n",
       "i3                        8\n",
       "elefantino                8\n",
       "serie_2                   7\n",
       "kalina                    6\n",
       "serie_3                   4\n",
       "rangerover                3\n",
       "serie_1                   2\n",
       "range_rover_evoque        2\n",
       "Name: Model, dtype: int64"
      ]
     },
     "execution_count": 30,
     "metadata": {},
     "output_type": "execute_result"
    }
   ],
   "source": [
    "data_autos['Model'].value_counts()"
   ]
  },
  {
   "cell_type": "markdown",
   "metadata": {},
   "source": [
    "Получили неизвестный бренд sonstige_autos. Это бренд, которого не было в списке возможных на сайте. Очевидно, что мы не знаем какие там модели, поэтому заменим на 'other'. Этот тип модели является вторым по популярности, видимо многие модели не были доступны на сайте."
   ]
  },
  {
   "cell_type": "code",
   "execution_count": 31,
   "metadata": {},
   "outputs": [],
   "source": [
    "data_autos.loc[data_autos['Brand']=='sonstige_autos', 'Model'] = data_autos.loc[data_autos['Brand']=='sonstige_autos', 'Model'].fillna('other')"
   ]
  },
  {
   "cell_type": "markdown",
   "metadata": {},
   "source": [
    "Остальные пропуски заменим на привычный нам 'unknown'"
   ]
  },
  {
   "cell_type": "code",
   "execution_count": 32,
   "metadata": {},
   "outputs": [],
   "source": [
    "data_autos['Model'] = data_autos['Model'].fillna(value='unknown')"
   ]
  },
  {
   "cell_type": "markdown",
   "metadata": {},
   "source": [
    "4) Тип кузова"
   ]
  },
  {
   "cell_type": "markdown",
   "metadata": {},
   "source": [
    "Можно предположить, что тип кузова не будет сильно влиять на цену, поэтому можно выбрать любой способ запонения. У одинаковых моделей будет одинаковый тип кузова, поэтому cоздаlbv словарь с наиболее часто встречающими значениями типа кузова, сгруппированных по моделям автомобилей. Заполняем этими значениями пропуски."
   ]
  },
  {
   "cell_type": "code",
   "execution_count": 33,
   "metadata": {},
   "outputs": [
    {
     "data": {
      "text/plain": [
       "sedan          91342\n",
       "small          79792\n",
       "wagon          65153\n",
       "bus            28765\n",
       "convertible    20178\n",
       "coupe          16137\n",
       "suv            11961\n",
       "other           3245\n",
       "Name: VehicleType, dtype: int64"
      ]
     },
     "execution_count": 33,
     "metadata": {},
     "output_type": "execute_result"
    }
   ],
   "source": [
    "data_autos['VehicleType'].value_counts()"
   ]
  },
  {
   "cell_type": "code",
   "execution_count": 34,
   "metadata": {},
   "outputs": [],
   "source": [
    "vt_dict = dict(data_autos.groupby(['Model'])['VehicleType'].apply(lambda x: x.mode()[0]))\n",
    "\n",
    "data_autos['VehicleType'] = data_autos['VehicleType'].fillna(data_autos['Model'].map(vt_dict))"
   ]
  },
  {
   "cell_type": "markdown",
   "metadata": {},
   "source": [
    "5) Тип топлива"
   ]
  },
  {
   "cell_type": "code",
   "execution_count": 35,
   "metadata": {},
   "outputs": [
    {
     "data": {
      "text/plain": [
       "petrol      209780\n",
       "gasoline     96291\n",
       "lpg           5158\n",
       "cng            542\n",
       "hybrid         224\n",
       "other          192\n",
       "electric        89\n",
       "Name: FuelType, dtype: int64"
      ]
     },
     "execution_count": 35,
     "metadata": {},
     "output_type": "execute_result"
    }
   ],
   "source": [
    "data_autos['FuelType'].value_counts()"
   ]
  },
  {
   "cell_type": "markdown",
   "metadata": {},
   "source": [
    "В списке есть интересные типы топлива: электрические, гибридные. Но их количество ничтожно мало. Опять же заполним пропуски по моделям, предположу что раньше у модели автомобиля был только один вариант выбора топлива, а не как в нынешнее время."
   ]
  },
  {
   "cell_type": "code",
   "execution_count": 36,
   "metadata": {},
   "outputs": [],
   "source": [
    "fuel_dict = data_autos.groupby(['Model'])['FuelType'].apply(lambda x: x.mode()[0])\n",
    "data_autos['FuelType'] = data_autos['FuelType'].fillna(data_autos['Model'].map(fuel_dict))"
   ]
  },
  {
   "cell_type": "markdown",
   "metadata": {},
   "source": [
    "Изучим значения в признаке Power, предположу, что он будет сильно влиять на цену автомобиля."
   ]
  },
  {
   "cell_type": "code",
   "execution_count": 37,
   "metadata": {},
   "outputs": [
    {
     "data": {
      "image/png": "[encoded data removed]",
      "text/plain": [
       "<Figure size 576x288 with 1 Axes>"
      ]
     },
     "metadata": {
      "needs_background": "light"
     },
     "output_type": "display_data"
    },
    {
     "data": {
      "text/plain": [
       "0      36258\n",
       "75     22803\n",
       "60     15163\n",
       "150    14148\n",
       "101    12731\n",
       "140    12473\n",
       "90     12195\n",
       "116    11565\n",
       "105     9957\n",
       "170     9872\n",
       "Name: Power, dtype: int64"
      ]
     },
     "execution_count": 37,
     "metadata": {},
     "output_type": "execute_result"
    }
   ],
   "source": [
    "plt.figure(figsize=(8,4))\n",
    "sns.distplot(data_autos['Power'])\n",
    "plt.xlabel('Мощность двигателя, л.с.')\n",
    "plt.title('Распределение мощности двигателя',size=15);\n",
    "plt.show()\n",
    "data_autos['Power'].value_counts().head(10)"
   ]
  },
  {
   "cell_type": "markdown",
   "metadata": {},
   "source": [
    "Около 10% строк имеют 0 мощности, даже у лошади она 1). Заменим эти значения, а также уберем выбросы, например 20000."
   ]
  },
  {
   "cell_type": "code",
   "execution_count": 38,
   "metadata": {},
   "outputs": [
    {
     "data": {
      "image/png": "[encoded data removed]",
      "text/plain": [
       "<Figure size 432x288 with 1 Axes>"
      ]
     },
     "metadata": {
      "needs_background": "light"
     },
     "output_type": "display_data"
    }
   ],
   "source": [
    "sns.boxplot(data_autos['Power'], showfliers=False, whis=3)\n",
    "plt.title('Распределение мощности двигателя без выбросов');"
   ]
  },
  {
   "cell_type": "markdown",
   "metadata": {},
   "source": [
    "Построив график с усами с размахом в три сигмы (куда входят практически все значения), выяснили что максимальный порог примерно 360 л.с. Однако на практике имеются гоночные и спортивные автомобили, у которых двигатель имеет это 500 до 1000 л.с."
   ]
  },
  {
   "cell_type": "code",
   "execution_count": 39,
   "metadata": {
    "scrolled": true
   },
   "outputs": [
    {
     "data": {
      "text/html": [
       "<div>\n",
       "<style scoped>\n",
       "    .dataframe tbody tr th:only-of-type {\n",
       "        vertical-align: middle;\n",
       "    }\n",
       "\n",
       "    .dataframe tbody tr th {\n",
       "        vertical-align: top;\n",
       "    }\n",
       "\n",
       "    .dataframe thead th {\n",
       "        text-align: right;\n",
       "    }\n",
       "</style>\n",
       "<table border=\"1\" class=\"dataframe\">\n",
       "  <thead>\n",
       "    <tr style=\"text-align: right;\">\n",
       "      <th></th>\n",
       "      <th>DateCrawled</th>\n",
       "      <th>Price</th>\n",
       "      <th>VehicleType</th>\n",
       "      <th>RegistrationYear</th>\n",
       "      <th>Gearbox</th>\n",
       "      <th>Power</th>\n",
       "      <th>Model</th>\n",
       "      <th>Kilometer</th>\n",
       "      <th>RegistrationMonth</th>\n",
       "      <th>FuelType</th>\n",
       "      <th>Brand</th>\n",
       "      <th>NotRepaired</th>\n",
       "      <th>DateCreated</th>\n",
       "      <th>NumberOfPictures</th>\n",
       "      <th>PostalCode</th>\n",
       "      <th>LastSeen</th>\n",
       "    </tr>\n",
       "  </thead>\n",
       "  <tbody>\n",
       "    <tr>\n",
       "      <td>1816</td>\n",
       "      <td>2016-03-22 20:52:00</td>\n",
       "      <td>3200</td>\n",
       "      <td>small</td>\n",
       "      <td>2004</td>\n",
       "      <td>manual</td>\n",
       "      <td>1398</td>\n",
       "      <td>corolla</td>\n",
       "      <td>5000</td>\n",
       "      <td>6</td>\n",
       "      <td>petrol</td>\n",
       "      <td>toyota</td>\n",
       "      <td>no</td>\n",
       "      <td>2016-03-22 00:00:00</td>\n",
       "      <td>0</td>\n",
       "      <td>22043</td>\n",
       "      <td>2016-03-22 21:43:26</td>\n",
       "    </tr>\n",
       "    <tr>\n",
       "      <td>2102</td>\n",
       "      <td>2016-03-21 11:55:22</td>\n",
       "      <td>0</td>\n",
       "      <td>sedan</td>\n",
       "      <td>1999</td>\n",
       "      <td>unknown</td>\n",
       "      <td>1799</td>\n",
       "      <td>vectra</td>\n",
       "      <td>150000</td>\n",
       "      <td>1</td>\n",
       "      <td>petrol</td>\n",
       "      <td>opel</td>\n",
       "      <td>yes</td>\n",
       "      <td>2016-03-21 00:00:00</td>\n",
       "      <td>0</td>\n",
       "      <td>1723</td>\n",
       "      <td>2016-04-04 04:49:06</td>\n",
       "    </tr>\n",
       "    <tr>\n",
       "      <td>5328</td>\n",
       "      <td>2016-03-29 19:44:48</td>\n",
       "      <td>500</td>\n",
       "      <td>wagon</td>\n",
       "      <td>1999</td>\n",
       "      <td>manual</td>\n",
       "      <td>1001</td>\n",
       "      <td>astra</td>\n",
       "      <td>150000</td>\n",
       "      <td>7</td>\n",
       "      <td>petrol</td>\n",
       "      <td>opel</td>\n",
       "      <td>unknown</td>\n",
       "      <td>2016-03-29 00:00:00</td>\n",
       "      <td>0</td>\n",
       "      <td>33154</td>\n",
       "      <td>2016-04-06 05:44:36</td>\n",
       "    </tr>\n",
       "    <tr>\n",
       "      <td>7661</td>\n",
       "      <td>2016-04-02 19:25:25</td>\n",
       "      <td>1499</td>\n",
       "      <td>small</td>\n",
       "      <td>1999</td>\n",
       "      <td>manual</td>\n",
       "      <td>7515</td>\n",
       "      <td>lupo</td>\n",
       "      <td>150000</td>\n",
       "      <td>4</td>\n",
       "      <td>petrol</td>\n",
       "      <td>volkswagen</td>\n",
       "      <td>unknown</td>\n",
       "      <td>2016-04-02 00:00:00</td>\n",
       "      <td>0</td>\n",
       "      <td>65830</td>\n",
       "      <td>2016-04-06 11:46:49</td>\n",
       "    </tr>\n",
       "    <tr>\n",
       "      <td>7720</td>\n",
       "      <td>2016-04-02 11:48:54</td>\n",
       "      <td>1500</td>\n",
       "      <td>small</td>\n",
       "      <td>2000</td>\n",
       "      <td>manual</td>\n",
       "      <td>1400</td>\n",
       "      <td>unknown</td>\n",
       "      <td>150000</td>\n",
       "      <td>0</td>\n",
       "      <td>petrol</td>\n",
       "      <td>honda</td>\n",
       "      <td>unknown</td>\n",
       "      <td>2016-04-02 00:00:00</td>\n",
       "      <td>0</td>\n",
       "      <td>21509</td>\n",
       "      <td>2016-04-04 09:15:26</td>\n",
       "    </tr>\n",
       "    <tr>\n",
       "      <td>9664</td>\n",
       "      <td>2016-03-14 20:06:19</td>\n",
       "      <td>2599</td>\n",
       "      <td>bus</td>\n",
       "      <td>2016</td>\n",
       "      <td>manual</td>\n",
       "      <td>1779</td>\n",
       "      <td>zafira</td>\n",
       "      <td>150000</td>\n",
       "      <td>0</td>\n",
       "      <td>petrol</td>\n",
       "      <td>opel</td>\n",
       "      <td>no</td>\n",
       "      <td>2016-03-14 00:00:00</td>\n",
       "      <td>0</td>\n",
       "      <td>60326</td>\n",
       "      <td>2016-04-07 09:45:27</td>\n",
       "    </tr>\n",
       "    <tr>\n",
       "      <td>9875</td>\n",
       "      <td>2016-03-31 20:51:13</td>\n",
       "      <td>550</td>\n",
       "      <td>wagon</td>\n",
       "      <td>2003</td>\n",
       "      <td>manual</td>\n",
       "      <td>1753</td>\n",
       "      <td>focus</td>\n",
       "      <td>150000</td>\n",
       "      <td>1</td>\n",
       "      <td>gasoline</td>\n",
       "      <td>ford</td>\n",
       "      <td>yes</td>\n",
       "      <td>2016-03-31 00:00:00</td>\n",
       "      <td>0</td>\n",
       "      <td>21039</td>\n",
       "      <td>2016-03-31 20:51:13</td>\n",
       "    </tr>\n",
       "    <tr>\n",
       "      <td>11039</td>\n",
       "      <td>2016-03-25 19:55:32</td>\n",
       "      <td>0</td>\n",
       "      <td>sedan</td>\n",
       "      <td>1998</td>\n",
       "      <td>manual</td>\n",
       "      <td>10317</td>\n",
       "      <td>other</td>\n",
       "      <td>150000</td>\n",
       "      <td>8</td>\n",
       "      <td>petrol</td>\n",
       "      <td>fiat</td>\n",
       "      <td>no</td>\n",
       "      <td>2016-03-25 00:00:00</td>\n",
       "      <td>0</td>\n",
       "      <td>57520</td>\n",
       "      <td>2016-04-01 19:16:33</td>\n",
       "    </tr>\n",
       "    <tr>\n",
       "      <td>19078</td>\n",
       "      <td>2016-03-20 11:00:08</td>\n",
       "      <td>0</td>\n",
       "      <td>small</td>\n",
       "      <td>2016</td>\n",
       "      <td>manual</td>\n",
       "      <td>1111</td>\n",
       "      <td>ibiza</td>\n",
       "      <td>150000</td>\n",
       "      <td>0</td>\n",
       "      <td>petrol</td>\n",
       "      <td>seat</td>\n",
       "      <td>yes</td>\n",
       "      <td>2016-03-20 00:00:00</td>\n",
       "      <td>0</td>\n",
       "      <td>42277</td>\n",
       "      <td>2016-03-20 11:00:08</td>\n",
       "    </tr>\n",
       "    <tr>\n",
       "      <td>19092</td>\n",
       "      <td>2016-03-20 17:54:04</td>\n",
       "      <td>9750</td>\n",
       "      <td>wagon</td>\n",
       "      <td>2005</td>\n",
       "      <td>auto</td>\n",
       "      <td>2729</td>\n",
       "      <td>5er</td>\n",
       "      <td>150000</td>\n",
       "      <td>7</td>\n",
       "      <td>gasoline</td>\n",
       "      <td>bmw</td>\n",
       "      <td>no</td>\n",
       "      <td>2016-03-20 00:00:00</td>\n",
       "      <td>0</td>\n",
       "      <td>21376</td>\n",
       "      <td>2016-03-23 02:48:53</td>\n",
       "    </tr>\n",
       "  </tbody>\n",
       "</table>\n",
       "</div>"
      ],
      "text/plain": [
       "               DateCrawled  Price VehicleType  RegistrationYear  Gearbox  Power    Model  Kilometer  RegistrationMonth  FuelType       Brand NotRepaired          DateCreated  NumberOfPictures  PostalCode             LastSeen\n",
       "1816   2016-03-22 20:52:00   3200       small              2004   manual   1398  corolla       5000                  6    petrol      toyota          no  2016-03-22 00:00:00                 0       22043  2016-03-22 21:43:26\n",
       "2102   2016-03-21 11:55:22      0       sedan              1999  unknown   1799   vectra     150000                  1    petrol        opel         yes  2016-03-21 00:00:00                 0        1723  2016-04-04 04:49:06\n",
       "5328   2016-03-29 19:44:48    500       wagon              1999   manual   1001    astra     150000                  7    petrol        opel     unknown  2016-03-29 00:00:00                 0       33154  2016-04-06 05:44:36\n",
       "7661   2016-04-02 19:25:25   1499       small              1999   manual   7515     lupo     150000                  4    petrol  volkswagen     unknown  2016-04-02 00:00:00                 0       65830  2016-04-06 11:46:49\n",
       "7720   2016-04-02 11:48:54   1500       small              2000   manual   1400  unknown     150000                  0    petrol       honda     unknown  2016-04-02 00:00:00                 0       21509  2016-04-04 09:15:26\n",
       "9664   2016-03-14 20:06:19   2599         bus              2016   manual   1779   zafira     150000                  0    petrol        opel          no  2016-03-14 00:00:00                 0       60326  2016-04-07 09:45:27\n",
       "9875   2016-03-31 20:51:13    550       wagon              2003   manual   1753    focus     150000                  1  gasoline        ford         yes  2016-03-31 00:00:00                 0       21039  2016-03-31 20:51:13\n",
       "11039  2016-03-25 19:55:32      0       sedan              1998   manual  10317    other     150000                  8    petrol        fiat          no  2016-03-25 00:00:00                 0       57520  2016-04-01 19:16:33\n",
       "19078  2016-03-20 11:00:08      0       small              2016   manual   1111    ibiza     150000                  0    petrol        seat         yes  2016-03-20 00:00:00                 0       42277  2016-03-20 11:00:08\n",
       "19092  2016-03-20 17:54:04   9750       wagon              2005     auto   2729      5er     150000                  7  gasoline         bmw          no  2016-03-20 00:00:00                 0       21376  2016-03-23 02:48:53"
      ]
     },
     "execution_count": 39,
     "metadata": {},
     "output_type": "execute_result"
    }
   ],
   "source": [
    "data_autos[data_autos['Power'] >=1000].head(10)"
   ]
  },
  {
   "cell_type": "markdown",
   "metadata": {},
   "source": [
    "Я просмотрел мощности некоторых автомобилей, и вот что нашел:\n",
    "\n",
    "- В 1999 году появилась модификация OPC, Astra с атмосферным мотором 2.0 выдавала 160 лошадиных сил.\n",
    "- Toyota Corolla (1.3 MT, 88 л.c.) Седан: 9 поколение (E120, E130) (2000 – 2004)\n",
    "- Volkswagen Lupo (1.0 MT, 50 л.c.)\n",
    "\n",
    "Получается, что мощность дигателя увеличена в 10 или 100 раз, поэтому попробуем написать функцию по устранению этой ошибки. Строки с мощностью больше чем 10000 удалим, их не так много. Также заменим 0 на медианные значения по моделям."
   ]
  },
  {
   "cell_type": "code",
   "execution_count": 40,
   "metadata": {},
   "outputs": [
    {
     "data": {
      "text/plain": [
       "DateCrawled          43\n",
       "Price                43\n",
       "VehicleType          43\n",
       "RegistrationYear     43\n",
       "Gearbox              43\n",
       "Power                43\n",
       "Model                43\n",
       "Kilometer            43\n",
       "RegistrationMonth    43\n",
       "FuelType             43\n",
       "Brand                43\n",
       "NotRepaired          43\n",
       "DateCreated          43\n",
       "NumberOfPictures     43\n",
       "PostalCode           43\n",
       "LastSeen             43\n",
       "dtype: int64"
      ]
     },
     "execution_count": 40,
     "metadata": {},
     "output_type": "execute_result"
    }
   ],
   "source": [
    "data_autos[data_autos['Power'] >=10000].count()"
   ]
  },
  {
   "cell_type": "code",
   "execution_count": 41,
   "metadata": {},
   "outputs": [],
   "source": [
    "data_autos = data_autos.drop(data_autos.loc[data_autos['Power']>=10000].index)"
   ]
  },
  {
   "cell_type": "code",
   "execution_count": 42,
   "metadata": {},
   "outputs": [],
   "source": [
    "def pow_norm(row):\n",
    "    \n",
    "    power = row['Power']\n",
    "    \n",
    "    if 370 <= power <= 3700:\n",
    "        return power / 10\n",
    "    if 3701 <= power <= 9999:\n",
    "        return power / 100\n",
    "    if power == 0:\n",
    "        return np.nan\n",
    "    else:\n",
    "        return power"
   ]
  },
  {
   "cell_type": "code",
   "execution_count": 43,
   "metadata": {},
   "outputs": [],
   "source": [
    "data_autos['Power'] = data_autos.apply(pow_norm, axis=1)"
   ]
  },
  {
   "cell_type": "code",
   "execution_count": 44,
   "metadata": {},
   "outputs": [
    {
     "data": {
      "text/plain": [
       "DateCrawled          2016-03-08 14:38:34\n",
       "Price                                  0\n",
       "VehicleType                        small\n",
       "RegistrationYear                    1993\n",
       "Gearbox                           manual\n",
       "Power                                 45\n",
       "Model                              corsa\n",
       "Kilometer                         150000\n",
       "RegistrationMonth                      2\n",
       "FuelType                          petrol\n",
       "Brand                               opel\n",
       "NotRepaired                      unknown\n",
       "DateCreated          2016-03-08 00:00:00\n",
       "NumberOfPictures                       0\n",
       "PostalCode                         45892\n",
       "LastSeen             2016-03-14 17:19:31\n",
       "Name: 1899, dtype: object"
      ]
     },
     "execution_count": 44,
     "metadata": {},
     "output_type": "execute_result"
    }
   ],
   "source": [
    "data_autos.iloc[1814]"
   ]
  },
  {
   "cell_type": "code",
   "execution_count": 45,
   "metadata": {},
   "outputs": [
    {
     "data": {
      "text/plain": [
       "36258"
      ]
     },
     "execution_count": 45,
     "metadata": {},
     "output_type": "execute_result"
    }
   ],
   "source": [
    "data_autos['Power'].isna().sum()"
   ]
  },
  {
   "cell_type": "code",
   "execution_count": 46,
   "metadata": {},
   "outputs": [],
   "source": [
    "data_autos['Power'] = data_autos.groupby('Model')['Power'].transform(lambda x: x.fillna(value=x.median()))"
   ]
  },
  {
   "cell_type": "code",
   "execution_count": 47,
   "metadata": {},
   "outputs": [],
   "source": [
    "data_autos = data_autos.drop(data_autos[data_autos['Power'].isna()].index)\n",
    "data_autos['Power'] = data_autos['Power'].astype('int')"
   ]
  },
  {
   "cell_type": "code",
   "execution_count": 48,
   "metadata": {},
   "outputs": [
    {
     "data": {
      "image/png": "[encoded data removed]",
      "text/plain": [
       "<Figure size 576x288 with 1 Axes>"
      ]
     },
     "metadata": {
      "needs_background": "light"
     },
     "output_type": "display_data"
    }
   ],
   "source": [
    "plt.figure(figsize=(8,4))\n",
    "sns.distplot(data_autos['Power'])\n",
    "plt.xlabel('Мощность двигателя, л.с.')\n",
    "plt.title('Новое Распределение мощности двигателя',size=15);"
   ]
  },
  {
   "cell_type": "markdown",
   "metadata": {},
   "source": [
    "Конечно замена идеальной не получилась, но хотя бы мощность двигателя адекватная."
   ]
  },
  {
   "cell_type": "code",
   "execution_count": 49,
   "metadata": {},
   "outputs": [
    {
     "data": {
      "text/plain": [
       "DateCrawled          12346\n",
       "Price                12346\n",
       "VehicleType          12346\n",
       "RegistrationYear     12346\n",
       "Gearbox              12346\n",
       "Power                12346\n",
       "Model                12346\n",
       "Kilometer            12346\n",
       "RegistrationMonth    12346\n",
       "FuelType             12346\n",
       "Brand                12346\n",
       "NotRepaired          12346\n",
       "DateCreated          12346\n",
       "NumberOfPictures     12346\n",
       "PostalCode           12346\n",
       "LastSeen             12346\n",
       "dtype: int64"
      ]
     },
     "execution_count": 49,
     "metadata": {},
     "output_type": "execute_result"
    }
   ],
   "source": [
    "data_autos.loc[data_autos['Price']<100].count()"
   ]
  },
  {
   "cell_type": "markdown",
   "metadata": {},
   "source": [
    "Также я только что решил удалить строки, где цена ниже 100 евро."
   ]
  },
  {
   "cell_type": "code",
   "execution_count": 50,
   "metadata": {},
   "outputs": [],
   "source": [
    "def price_norm(row):\n",
    "    price = row['Price']\n",
    "    if price < 100:\n",
    "        return np.nan\n",
    "    else:\n",
    "        return price"
   ]
  },
  {
   "cell_type": "code",
   "execution_count": 51,
   "metadata": {},
   "outputs": [],
   "source": [
    "data_autos['Price'] = data_autos.apply(price_norm, axis=1)"
   ]
  },
  {
   "cell_type": "code",
   "execution_count": 52,
   "metadata": {},
   "outputs": [],
   "source": [
    "data_autos = data_autos.dropna(axis='index', how='any', subset=['Price'])"
   ]
  },
  {
   "cell_type": "code",
   "execution_count": 53,
   "metadata": {
    "scrolled": false
   },
   "outputs": [
    {
     "data": {
      "text/plain": [
       "DateCrawled          0\n",
       "Price                0\n",
       "VehicleType          0\n",
       "RegistrationYear     0\n",
       "Gearbox              0\n",
       "Power                0\n",
       "Model                0\n",
       "Kilometer            0\n",
       "RegistrationMonth    0\n",
       "FuelType             0\n",
       "Brand                0\n",
       "NotRepaired          0\n",
       "DateCreated          0\n",
       "NumberOfPictures     0\n",
       "PostalCode           0\n",
       "LastSeen             0\n",
       "dtype: int64"
      ]
     },
     "execution_count": 53,
     "metadata": {},
     "output_type": "execute_result"
    }
   ],
   "source": [
    "data_autos[data_autos['Price'] < 100].count()"
   ]
  },
  {
   "cell_type": "code",
   "execution_count": 54,
   "metadata": {},
   "outputs": [
    {
     "data": {
      "image/png": "[encoded data removed]",
      "text/plain": [
       "<Figure size 864x432 with 1 Axes>"
      ]
     },
     "metadata": {
      "needs_background": "light"
     },
     "output_type": "display_data"
    }
   ],
   "source": [
    "plt.figure(figsize=(12,6))\n",
    "sns.distplot(data_autos['Price'], bins = 100, kde=True, color='green')\n",
    "plt.xlabel('Цена автомобиля, EUR', size=12)\n",
    "plt.title('Новое Распределение цен на автомобили ', size=15);"
   ]
  },
  {
   "cell_type": "code",
   "execution_count": 55,
   "metadata": {
    "scrolled": true
   },
   "outputs": [
    {
     "data": {
      "text/plain": [
       "DateCrawled          0\n",
       "Price                0\n",
       "VehicleType          0\n",
       "RegistrationYear     0\n",
       "Gearbox              0\n",
       "Power                0\n",
       "Model                0\n",
       "Kilometer            0\n",
       "RegistrationMonth    0\n",
       "FuelType             0\n",
       "Brand                0\n",
       "NotRepaired          0\n",
       "DateCreated          0\n",
       "NumberOfPictures     0\n",
       "PostalCode           0\n",
       "LastSeen             0\n",
       "dtype: int64"
      ]
     },
     "execution_count": 55,
     "metadata": {},
     "output_type": "execute_result"
    }
   ],
   "source": [
    "data_autos.isna().sum()"
   ]
  },
  {
   "cell_type": "markdown",
   "metadata": {},
   "source": [
    "Чуть не забыл проверить признаки на корреляцию:"
   ]
  },
  {
   "cell_type": "code",
   "execution_count": 56,
   "metadata": {},
   "outputs": [
    {
     "data": {
      "image/png": "[encoded data removed]",
      "text/plain": [
       "<Figure size 864x432 with 2 Axes>"
      ]
     },
     "metadata": {
      "needs_background": "light"
     },
     "output_type": "display_data"
    }
   ],
   "source": [
    "plt.figure(figsize=(12,6))\n",
    "sns.heatmap(data_autos.drop('NumberOfPictures', axis = 1).corr(), annot=True, cmap=\"Blues\", fmt='.2f', annot_kws={'size':16})\n",
    "plt.title('Матрица корреляции', size=15);"
   ]
  },
  {
   "cell_type": "markdown",
   "metadata": {},
   "source": [
    "Сильной зависиомти нет, самая большая у мощности двигателя и цены, но она не критична, чтобы ее удалять, и в добавок это один из самых важных признаков."
   ]
  },
  {
   "cell_type": "markdown",
   "metadata": {},
   "source": [
    "### Вывод"
   ]
  },
  {
   "cell_type": "markdown",
   "metadata": {},
   "source": [
    "На данном этапе проета был проведен большой анализ данных с последующей обработкой. Большинство пропущенных значений было заменено средним или медианным значением по модели. Основной сегмент автомобилей находится в диапозоне от 0 до 2000 евро, что означает что машины не самого высокого качества. В датасете присутствуют лишние столбцы, на следующем шаге они будут удалены. Переходим к обучению моделей."
   ]
  },
  {
   "cell_type": "markdown",
   "metadata": {},
   "source": [
    "## Обучение моделей"
   ]
  },
  {
   "cell_type": "markdown",
   "metadata": {},
   "source": [
    "Как много раз говорилось ранее, оставим только нужные нам признаки."
   ]
  },
  {
   "cell_type": "code",
   "execution_count": 57,
   "metadata": {},
   "outputs": [],
   "source": [
    "useless_cols_1 = ['DateCrawled', 'RegistrationMonth', 'DateCreated', 'NumberOfPictures', 'PostalCode', 'LastSeen']"
   ]
  },
  {
   "cell_type": "code",
   "execution_count": 58,
   "metadata": {},
   "outputs": [],
   "source": [
    "data_autos = data_autos.drop(useless_cols_1, axis=1)"
   ]
  },
  {
   "cell_type": "code",
   "execution_count": 59,
   "metadata": {},
   "outputs": [
    {
     "data": {
      "text/html": [
       "<div>\n",
       "<style scoped>\n",
       "    .dataframe tbody tr th:only-of-type {\n",
       "        vertical-align: middle;\n",
       "    }\n",
       "\n",
       "    .dataframe tbody tr th {\n",
       "        vertical-align: top;\n",
       "    }\n",
       "\n",
       "    .dataframe thead th {\n",
       "        text-align: right;\n",
       "    }\n",
       "</style>\n",
       "<table border=\"1\" class=\"dataframe\">\n",
       "  <thead>\n",
       "    <tr style=\"text-align: right;\">\n",
       "      <th></th>\n",
       "      <th>Price</th>\n",
       "      <th>VehicleType</th>\n",
       "      <th>RegistrationYear</th>\n",
       "      <th>Gearbox</th>\n",
       "      <th>Power</th>\n",
       "      <th>Model</th>\n",
       "      <th>Kilometer</th>\n",
       "      <th>FuelType</th>\n",
       "      <th>Brand</th>\n",
       "      <th>NotRepaired</th>\n",
       "    </tr>\n",
       "  </thead>\n",
       "  <tbody>\n",
       "    <tr>\n",
       "      <td>0</td>\n",
       "      <td>480.0</td>\n",
       "      <td>sedan</td>\n",
       "      <td>1993</td>\n",
       "      <td>manual</td>\n",
       "      <td>101</td>\n",
       "      <td>golf</td>\n",
       "      <td>150000</td>\n",
       "      <td>petrol</td>\n",
       "      <td>volkswagen</td>\n",
       "      <td>unknown</td>\n",
       "    </tr>\n",
       "    <tr>\n",
       "      <td>1</td>\n",
       "      <td>18300.0</td>\n",
       "      <td>coupe</td>\n",
       "      <td>2011</td>\n",
       "      <td>manual</td>\n",
       "      <td>190</td>\n",
       "      <td>unknown</td>\n",
       "      <td>125000</td>\n",
       "      <td>gasoline</td>\n",
       "      <td>audi</td>\n",
       "      <td>yes</td>\n",
       "    </tr>\n",
       "    <tr>\n",
       "      <td>2</td>\n",
       "      <td>9800.0</td>\n",
       "      <td>suv</td>\n",
       "      <td>2004</td>\n",
       "      <td>auto</td>\n",
       "      <td>163</td>\n",
       "      <td>grand</td>\n",
       "      <td>125000</td>\n",
       "      <td>gasoline</td>\n",
       "      <td>jeep</td>\n",
       "      <td>unknown</td>\n",
       "    </tr>\n",
       "    <tr>\n",
       "      <td>3</td>\n",
       "      <td>1500.0</td>\n",
       "      <td>small</td>\n",
       "      <td>2001</td>\n",
       "      <td>manual</td>\n",
       "      <td>75</td>\n",
       "      <td>golf</td>\n",
       "      <td>150000</td>\n",
       "      <td>petrol</td>\n",
       "      <td>volkswagen</td>\n",
       "      <td>no</td>\n",
       "    </tr>\n",
       "    <tr>\n",
       "      <td>4</td>\n",
       "      <td>3600.0</td>\n",
       "      <td>small</td>\n",
       "      <td>2008</td>\n",
       "      <td>manual</td>\n",
       "      <td>69</td>\n",
       "      <td>fabia</td>\n",
       "      <td>90000</td>\n",
       "      <td>gasoline</td>\n",
       "      <td>skoda</td>\n",
       "      <td>no</td>\n",
       "    </tr>\n",
       "  </tbody>\n",
       "</table>\n",
       "</div>"
      ],
      "text/plain": [
       "     Price VehicleType  RegistrationYear Gearbox  Power    Model  Kilometer  FuelType       Brand NotRepaired\n",
       "0    480.0       sedan              1993  manual    101     golf     150000    petrol  volkswagen     unknown\n",
       "1  18300.0       coupe              2011  manual    190  unknown     125000  gasoline        audi         yes\n",
       "2   9800.0         suv              2004    auto    163    grand     125000  gasoline        jeep     unknown\n",
       "3   1500.0       small              2001  manual     75     golf     150000    petrol  volkswagen          no\n",
       "4   3600.0       small              2008  manual     69    fabia      90000  gasoline       skoda          no"
      ]
     },
     "execution_count": 59,
     "metadata": {},
     "output_type": "execute_result"
    }
   ],
   "source": [
    "data_autos.head()"
   ]
  },
  {
   "cell_type": "code",
   "execution_count": 60,
   "metadata": {},
   "outputs": [],
   "source": [
    "data_ohe = pd.get_dummies(data_autos, drop_first=True)"
   ]
  },
  {
   "cell_type": "code",
   "execution_count": 61,
   "metadata": {},
   "outputs": [],
   "source": [
    "RND_ST = 12345"
   ]
  },
  {
   "cell_type": "code",
   "execution_count": 62,
   "metadata": {},
   "outputs": [],
   "source": [
    "features = data_ohe.drop('Price', axis=1)\n",
    "target = data_ohe['Price']"
   ]
  },
  {
   "cell_type": "code",
   "execution_count": 63,
   "metadata": {},
   "outputs": [
    {
     "data": {
      "text/html": [
       "<div>\n",
       "<style scoped>\n",
       "    .dataframe tbody tr th:only-of-type {\n",
       "        vertical-align: middle;\n",
       "    }\n",
       "\n",
       "    .dataframe tbody tr th {\n",
       "        vertical-align: top;\n",
       "    }\n",
       "\n",
       "    .dataframe thead th {\n",
       "        text-align: right;\n",
       "    }\n",
       "</style>\n",
       "<table border=\"1\" class=\"dataframe\">\n",
       "  <thead>\n",
       "    <tr style=\"text-align: right;\">\n",
       "      <th></th>\n",
       "      <th>RegistrationYear</th>\n",
       "      <th>Power</th>\n",
       "      <th>Kilometer</th>\n",
       "      <th>VehicleType_convertible</th>\n",
       "      <th>VehicleType_coupe</th>\n",
       "      <th>VehicleType_other</th>\n",
       "      <th>VehicleType_sedan</th>\n",
       "      <th>VehicleType_small</th>\n",
       "      <th>VehicleType_suv</th>\n",
       "      <th>VehicleType_wagon</th>\n",
       "      <th>Gearbox_manual</th>\n",
       "      <th>Gearbox_unknown</th>\n",
       "      <th>Model_145</th>\n",
       "      <th>Model_147</th>\n",
       "      <th>Model_156</th>\n",
       "      <th>Model_159</th>\n",
       "      <th>Model_1_reihe</th>\n",
       "      <th>Model_1er</th>\n",
       "      <th>Model_200</th>\n",
       "      <th>Model_2_reihe</th>\n",
       "      <th>Model_300c</th>\n",
       "      <th>Model_3_reihe</th>\n",
       "      <th>Model_3er</th>\n",
       "      <th>Model_4_reihe</th>\n",
       "      <th>Model_500</th>\n",
       "      <th>Model_5_reihe</th>\n",
       "      <th>Model_5er</th>\n",
       "      <th>Model_601</th>\n",
       "      <th>Model_6_reihe</th>\n",
       "      <th>Model_6er</th>\n",
       "      <th>Model_7er</th>\n",
       "      <th>Model_80</th>\n",
       "      <th>Model_850</th>\n",
       "      <th>Model_90</th>\n",
       "      <th>Model_900</th>\n",
       "      <th>Model_9000</th>\n",
       "      <th>Model_911</th>\n",
       "      <th>Model_a1</th>\n",
       "      <th>Model_a2</th>\n",
       "      <th>Model_a3</th>\n",
       "      <th>Model_a4</th>\n",
       "      <th>Model_a5</th>\n",
       "      <th>Model_a6</th>\n",
       "      <th>Model_a8</th>\n",
       "      <th>Model_a_klasse</th>\n",
       "      <th>Model_accord</th>\n",
       "      <th>Model_agila</th>\n",
       "      <th>Model_alhambra</th>\n",
       "      <th>Model_almera</th>\n",
       "      <th>Model_altea</th>\n",
       "      <th>Model_amarok</th>\n",
       "      <th>Model_antara</th>\n",
       "      <th>Model_arosa</th>\n",
       "      <th>Model_astra</th>\n",
       "      <th>Model_auris</th>\n",
       "      <th>Model_avensis</th>\n",
       "      <th>Model_aveo</th>\n",
       "      <th>Model_aygo</th>\n",
       "      <th>Model_b_klasse</th>\n",
       "      <th>Model_b_max</th>\n",
       "      <th>Model_beetle</th>\n",
       "      <th>Model_berlingo</th>\n",
       "      <th>Model_bora</th>\n",
       "      <th>Model_boxster</th>\n",
       "      <th>Model_bravo</th>\n",
       "      <th>Model_c1</th>\n",
       "      <th>Model_c2</th>\n",
       "      <th>Model_c3</th>\n",
       "      <th>Model_c4</th>\n",
       "      <th>Model_c5</th>\n",
       "      <th>Model_c_klasse</th>\n",
       "      <th>Model_c_max</th>\n",
       "      <th>Model_c_reihe</th>\n",
       "      <th>Model_caddy</th>\n",
       "      <th>Model_calibra</th>\n",
       "      <th>Model_captiva</th>\n",
       "      <th>Model_carisma</th>\n",
       "      <th>Model_carnival</th>\n",
       "      <th>Model_cayenne</th>\n",
       "      <th>Model_cc</th>\n",
       "      <th>Model_ceed</th>\n",
       "      <th>Model_charade</th>\n",
       "      <th>Model_cherokee</th>\n",
       "      <th>Model_citigo</th>\n",
       "      <th>Model_civic</th>\n",
       "      <th>Model_cl</th>\n",
       "      <th>Model_clio</th>\n",
       "      <th>Model_clk</th>\n",
       "      <th>Model_clubman</th>\n",
       "      <th>Model_colt</th>\n",
       "      <th>Model_combo</th>\n",
       "      <th>Model_cooper</th>\n",
       "      <th>Model_cordoba</th>\n",
       "      <th>Model_corolla</th>\n",
       "      <th>Model_corsa</th>\n",
       "      <th>Model_cr_reihe</th>\n",
       "      <th>Model_croma</th>\n",
       "      <th>Model_crossfire</th>\n",
       "      <th>Model_cuore</th>\n",
       "      <th>Model_cx_reihe</th>\n",
       "      <th>Model_defender</th>\n",
       "      <th>Model_delta</th>\n",
       "      <th>Model_discovery</th>\n",
       "      <th>Model_doblo</th>\n",
       "      <th>Model_ducato</th>\n",
       "      <th>Model_duster</th>\n",
       "      <th>Model_e_klasse</th>\n",
       "      <th>Model_elefantino</th>\n",
       "      <th>Model_eos</th>\n",
       "      <th>Model_escort</th>\n",
       "      <th>Model_espace</th>\n",
       "      <th>Model_exeo</th>\n",
       "      <th>Model_fabia</th>\n",
       "      <th>Model_fiesta</th>\n",
       "      <th>Model_focus</th>\n",
       "      <th>Model_forester</th>\n",
       "      <th>Model_forfour</th>\n",
       "      <th>Model_fortwo</th>\n",
       "      <th>Model_fox</th>\n",
       "      <th>Model_freelander</th>\n",
       "      <th>Model_fusion</th>\n",
       "      <th>Model_g_klasse</th>\n",
       "      <th>Model_galant</th>\n",
       "      <th>Model_galaxy</th>\n",
       "      <th>Model_getz</th>\n",
       "      <th>Model_gl</th>\n",
       "      <th>Model_glk</th>\n",
       "      <th>Model_golf</th>\n",
       "      <th>Model_grand</th>\n",
       "      <th>Model_i3</th>\n",
       "      <th>Model_i_reihe</th>\n",
       "      <th>Model_ibiza</th>\n",
       "      <th>Model_impreza</th>\n",
       "      <th>Model_insignia</th>\n",
       "      <th>Model_jazz</th>\n",
       "      <th>Model_jetta</th>\n",
       "      <th>Model_jimny</th>\n",
       "      <th>Model_juke</th>\n",
       "      <th>Model_justy</th>\n",
       "      <th>Model_ka</th>\n",
       "      <th>Model_kadett</th>\n",
       "      <th>Model_kaefer</th>\n",
       "      <th>Model_kalina</th>\n",
       "      <th>Model_kalos</th>\n",
       "      <th>Model_kangoo</th>\n",
       "      <th>Model_kappa</th>\n",
       "      <th>Model_kuga</th>\n",
       "      <th>Model_laguna</th>\n",
       "      <th>Model_lancer</th>\n",
       "      <th>Model_lanos</th>\n",
       "      <th>Model_legacy</th>\n",
       "      <th>Model_leon</th>\n",
       "      <th>Model_lodgy</th>\n",
       "      <th>Model_logan</th>\n",
       "      <th>Model_lupo</th>\n",
       "      <th>Model_lybra</th>\n",
       "      <th>Model_m_klasse</th>\n",
       "      <th>Model_m_reihe</th>\n",
       "      <th>Model_materia</th>\n",
       "      <th>Model_matiz</th>\n",
       "      <th>Model_megane</th>\n",
       "      <th>Model_meriva</th>\n",
       "      <th>Model_micra</th>\n",
       "      <th>Model_mii</th>\n",
       "      <th>Model_modus</th>\n",
       "      <th>Model_mondeo</th>\n",
       "      <th>Model_move</th>\n",
       "      <th>Model_musa</th>\n",
       "      <th>Model_mustang</th>\n",
       "      <th>Model_mx_reihe</th>\n",
       "      <th>Model_navara</th>\n",
       "      <th>Model_niva</th>\n",
       "      <th>Model_note</th>\n",
       "      <th>Model_nubira</th>\n",
       "      <th>Model_octavia</th>\n",
       "      <th>Model_omega</th>\n",
       "      <th>Model_one</th>\n",
       "      <th>Model_other</th>\n",
       "      <th>Model_outlander</th>\n",
       "      <th>Model_pajero</th>\n",
       "      <th>Model_panda</th>\n",
       "      <th>Model_passat</th>\n",
       "      <th>Model_phaeton</th>\n",
       "      <th>Model_picanto</th>\n",
       "      <th>Model_polo</th>\n",
       "      <th>Model_primera</th>\n",
       "      <th>Model_ptcruiser</th>\n",
       "      <th>Model_punto</th>\n",
       "      <th>Model_q3</th>\n",
       "      <th>Model_q5</th>\n",
       "      <th>Model_q7</th>\n",
       "      <th>Model_qashqai</th>\n",
       "      <th>Model_r19</th>\n",
       "      <th>Model_range_rover</th>\n",
       "      <th>Model_range_rover_evoque</th>\n",
       "      <th>Model_range_rover_sport</th>\n",
       "      <th>Model_rangerover</th>\n",
       "      <th>Model_rav</th>\n",
       "      <th>Model_rio</th>\n",
       "      <th>Model_roadster</th>\n",
       "      <th>Model_roomster</th>\n",
       "      <th>Model_rx_reihe</th>\n",
       "      <th>Model_s60</th>\n",
       "      <th>Model_s_klasse</th>\n",
       "      <th>Model_s_max</th>\n",
       "      <th>Model_s_type</th>\n",
       "      <th>Model_samara</th>\n",
       "      <th>Model_sandero</th>\n",
       "      <th>Model_santa</th>\n",
       "      <th>Model_scenic</th>\n",
       "      <th>Model_scirocco</th>\n",
       "      <th>Model_seicento</th>\n",
       "      <th>Model_serie_2</th>\n",
       "      <th>Model_serie_3</th>\n",
       "      <th>Model_sharan</th>\n",
       "      <th>Model_signum</th>\n",
       "      <th>Model_sirion</th>\n",
       "      <th>Model_sl</th>\n",
       "      <th>Model_slk</th>\n",
       "      <th>Model_sorento</th>\n",
       "      <th>Model_spark</th>\n",
       "      <th>Model_spider</th>\n",
       "      <th>Model_sportage</th>\n",
       "      <th>Model_sprinter</th>\n",
       "      <th>Model_stilo</th>\n",
       "      <th>Model_superb</th>\n",
       "      <th>Model_swift</th>\n",
       "      <th>Model_terios</th>\n",
       "      <th>Model_tigra</th>\n",
       "      <th>Model_tiguan</th>\n",
       "      <th>Model_toledo</th>\n",
       "      <th>Model_touareg</th>\n",
       "      <th>Model_touran</th>\n",
       "      <th>Model_transit</th>\n",
       "      <th>Model_transporter</th>\n",
       "      <th>Model_tt</th>\n",
       "      <th>Model_tucson</th>\n",
       "      <th>Model_twingo</th>\n",
       "      <th>Model_unknown</th>\n",
       "      <th>Model_up</th>\n",
       "      <th>Model_v40</th>\n",
       "      <th>Model_v50</th>\n",
       "      <th>Model_v60</th>\n",
       "      <th>Model_v70</th>\n",
       "      <th>Model_v_klasse</th>\n",
       "      <th>Model_vectra</th>\n",
       "      <th>Model_verso</th>\n",
       "      <th>Model_viano</th>\n",
       "      <th>Model_vito</th>\n",
       "      <th>Model_vivaro</th>\n",
       "      <th>Model_voyager</th>\n",
       "      <th>Model_wrangler</th>\n",
       "      <th>Model_x_reihe</th>\n",
       "      <th>Model_x_trail</th>\n",
       "      <th>Model_x_type</th>\n",
       "      <th>Model_xc_reihe</th>\n",
       "      <th>Model_yaris</th>\n",
       "      <th>Model_yeti</th>\n",
       "      <th>Model_ypsilon</th>\n",
       "      <th>Model_z_reihe</th>\n",
       "      <th>Model_zafira</th>\n",
       "      <th>FuelType_electric</th>\n",
       "      <th>FuelType_gasoline</th>\n",
       "      <th>FuelType_hybrid</th>\n",
       "      <th>FuelType_lpg</th>\n",
       "      <th>FuelType_other</th>\n",
       "      <th>FuelType_petrol</th>\n",
       "      <th>Brand_audi</th>\n",
       "      <th>Brand_bmw</th>\n",
       "      <th>Brand_chevrolet</th>\n",
       "      <th>Brand_chrysler</th>\n",
       "      <th>Brand_citroen</th>\n",
       "      <th>Brand_dacia</th>\n",
       "      <th>Brand_daewoo</th>\n",
       "      <th>Brand_daihatsu</th>\n",
       "      <th>Brand_fiat</th>\n",
       "      <th>Brand_ford</th>\n",
       "      <th>Brand_honda</th>\n",
       "      <th>Brand_hyundai</th>\n",
       "      <th>Brand_jaguar</th>\n",
       "      <th>Brand_jeep</th>\n",
       "      <th>Brand_kia</th>\n",
       "      <th>Brand_lada</th>\n",
       "      <th>Brand_lancia</th>\n",
       "      <th>Brand_land_rover</th>\n",
       "      <th>Brand_mazda</th>\n",
       "      <th>Brand_mercedes_benz</th>\n",
       "      <th>Brand_mini</th>\n",
       "      <th>Brand_mitsubishi</th>\n",
       "      <th>Brand_nissan</th>\n",
       "      <th>Brand_opel</th>\n",
       "      <th>Brand_peugeot</th>\n",
       "      <th>Brand_porsche</th>\n",
       "      <th>Brand_renault</th>\n",
       "      <th>Brand_rover</th>\n",
       "      <th>Brand_saab</th>\n",
       "      <th>Brand_seat</th>\n",
       "      <th>Brand_skoda</th>\n",
       "      <th>Brand_smart</th>\n",
       "      <th>Brand_sonstige_autos</th>\n",
       "      <th>Brand_subaru</th>\n",
       "      <th>Brand_suzuki</th>\n",
       "      <th>Brand_toyota</th>\n",
       "      <th>Brand_trabant</th>\n",
       "      <th>Brand_volkswagen</th>\n",
       "      <th>Brand_volvo</th>\n",
       "      <th>NotRepaired_unknown</th>\n",
       "      <th>NotRepaired_yes</th>\n",
       "    </tr>\n",
       "  </thead>\n",
       "  <tbody>\n",
       "    <tr>\n",
       "      <td>0</td>\n",
       "      <td>1993</td>\n",
       "      <td>101</td>\n",
       "      <td>150000</td>\n",
       "      <td>0</td>\n",
       "      <td>0</td>\n",
       "      <td>0</td>\n",
       "      <td>1</td>\n",
       "      <td>0</td>\n",
       "      <td>0</td>\n",
       "      <td>0</td>\n",
       "      <td>1</td>\n",
       "      <td>0</td>\n",
       "      <td>0</td>\n",
       "      <td>0</td>\n",
       "      <td>0</td>\n",
       "      <td>0</td>\n",
       "      <td>0</td>\n",
       "      <td>0</td>\n",
       "      <td>0</td>\n",
       "      <td>0</td>\n",
       "      <td>0</td>\n",
       "      <td>0</td>\n",
       "      <td>0</td>\n",
       "      <td>0</td>\n",
       "      <td>0</td>\n",
       "      <td>0</td>\n",
       "      <td>0</td>\n",
       "      <td>0</td>\n",
       "      <td>0</td>\n",
       "      <td>0</td>\n",
       "      <td>0</td>\n",
       "      <td>0</td>\n",
       "      <td>0</td>\n",
       "      <td>0</td>\n",
       "      <td>0</td>\n",
       "      <td>0</td>\n",
       "      <td>0</td>\n",
       "      <td>0</td>\n",
       "      <td>0</td>\n",
       "      <td>0</td>\n",
       "      <td>0</td>\n",
       "      <td>0</td>\n",
       "      <td>0</td>\n",
       "      <td>0</td>\n",
       "      <td>0</td>\n",
       "      <td>0</td>\n",
       "      <td>0</td>\n",
       "      <td>0</td>\n",
       "      <td>0</td>\n",
       "      <td>0</td>\n",
       "      <td>0</td>\n",
       "      <td>0</td>\n",
       "      <td>0</td>\n",
       "      <td>0</td>\n",
       "      <td>0</td>\n",
       "      <td>0</td>\n",
       "      <td>0</td>\n",
       "      <td>0</td>\n",
       "      <td>0</td>\n",
       "      <td>0</td>\n",
       "      <td>0</td>\n",
       "      <td>0</td>\n",
       "      <td>0</td>\n",
       "      <td>0</td>\n",
       "      <td>0</td>\n",
       "      <td>0</td>\n",
       "      <td>0</td>\n",
       "      <td>0</td>\n",
       "      <td>0</td>\n",
       "      <td>0</td>\n",
       "      <td>0</td>\n",
       "      <td>0</td>\n",
       "      <td>0</td>\n",
       "      <td>0</td>\n",
       "      <td>0</td>\n",
       "      <td>0</td>\n",
       "      <td>0</td>\n",
       "      <td>0</td>\n",
       "      <td>0</td>\n",
       "      <td>0</td>\n",
       "      <td>0</td>\n",
       "      <td>0</td>\n",
       "      <td>0</td>\n",
       "      <td>0</td>\n",
       "      <td>0</td>\n",
       "      <td>0</td>\n",
       "      <td>0</td>\n",
       "      <td>0</td>\n",
       "      <td>0</td>\n",
       "      <td>0</td>\n",
       "      <td>0</td>\n",
       "      <td>0</td>\n",
       "      <td>0</td>\n",
       "      <td>0</td>\n",
       "      <td>0</td>\n",
       "      <td>0</td>\n",
       "      <td>0</td>\n",
       "      <td>0</td>\n",
       "      <td>0</td>\n",
       "      <td>0</td>\n",
       "      <td>0</td>\n",
       "      <td>0</td>\n",
       "      <td>0</td>\n",
       "      <td>0</td>\n",
       "      <td>0</td>\n",
       "      <td>0</td>\n",
       "      <td>0</td>\n",
       "      <td>0</td>\n",
       "      <td>0</td>\n",
       "      <td>0</td>\n",
       "      <td>0</td>\n",
       "      <td>0</td>\n",
       "      <td>0</td>\n",
       "      <td>0</td>\n",
       "      <td>0</td>\n",
       "      <td>0</td>\n",
       "      <td>0</td>\n",
       "      <td>0</td>\n",
       "      <td>0</td>\n",
       "      <td>0</td>\n",
       "      <td>0</td>\n",
       "      <td>0</td>\n",
       "      <td>0</td>\n",
       "      <td>0</td>\n",
       "      <td>0</td>\n",
       "      <td>0</td>\n",
       "      <td>0</td>\n",
       "      <td>1</td>\n",
       "      <td>0</td>\n",
       "      <td>0</td>\n",
       "      <td>0</td>\n",
       "      <td>0</td>\n",
       "      <td>0</td>\n",
       "      <td>0</td>\n",
       "      <td>0</td>\n",
       "      <td>0</td>\n",
       "      <td>0</td>\n",
       "      <td>0</td>\n",
       "      <td>0</td>\n",
       "      <td>0</td>\n",
       "      <td>0</td>\n",
       "      <td>0</td>\n",
       "      <td>0</td>\n",
       "      <td>0</td>\n",
       "      <td>0</td>\n",
       "      <td>0</td>\n",
       "      <td>0</td>\n",
       "      <td>0</td>\n",
       "      <td>0</td>\n",
       "      <td>0</td>\n",
       "      <td>0</td>\n",
       "      <td>0</td>\n",
       "      <td>0</td>\n",
       "      <td>0</td>\n",
       "      <td>0</td>\n",
       "      <td>0</td>\n",
       "      <td>0</td>\n",
       "      <td>0</td>\n",
       "      <td>0</td>\n",
       "      <td>0</td>\n",
       "      <td>0</td>\n",
       "      <td>0</td>\n",
       "      <td>0</td>\n",
       "      <td>0</td>\n",
       "      <td>0</td>\n",
       "      <td>0</td>\n",
       "      <td>0</td>\n",
       "      <td>0</td>\n",
       "      <td>0</td>\n",
       "      <td>0</td>\n",
       "      <td>0</td>\n",
       "      <td>0</td>\n",
       "      <td>0</td>\n",
       "      <td>0</td>\n",
       "      <td>0</td>\n",
       "      <td>0</td>\n",
       "      <td>0</td>\n",
       "      <td>0</td>\n",
       "      <td>0</td>\n",
       "      <td>0</td>\n",
       "      <td>0</td>\n",
       "      <td>0</td>\n",
       "      <td>0</td>\n",
       "      <td>0</td>\n",
       "      <td>0</td>\n",
       "      <td>0</td>\n",
       "      <td>0</td>\n",
       "      <td>0</td>\n",
       "      <td>0</td>\n",
       "      <td>0</td>\n",
       "      <td>0</td>\n",
       "      <td>0</td>\n",
       "      <td>0</td>\n",
       "      <td>0</td>\n",
       "      <td>0</td>\n",
       "      <td>0</td>\n",
       "      <td>0</td>\n",
       "      <td>0</td>\n",
       "      <td>0</td>\n",
       "      <td>0</td>\n",
       "      <td>0</td>\n",
       "      <td>0</td>\n",
       "      <td>0</td>\n",
       "      <td>0</td>\n",
       "      <td>0</td>\n",
       "      <td>0</td>\n",
       "      <td>0</td>\n",
       "      <td>0</td>\n",
       "      <td>0</td>\n",
       "      <td>0</td>\n",
       "      <td>0</td>\n",
       "      <td>0</td>\n",
       "      <td>0</td>\n",
       "      <td>0</td>\n",
       "      <td>0</td>\n",
       "      <td>0</td>\n",
       "      <td>0</td>\n",
       "      <td>0</td>\n",
       "      <td>0</td>\n",
       "      <td>0</td>\n",
       "      <td>0</td>\n",
       "      <td>0</td>\n",
       "      <td>0</td>\n",
       "      <td>0</td>\n",
       "      <td>0</td>\n",
       "      <td>0</td>\n",
       "      <td>0</td>\n",
       "      <td>0</td>\n",
       "      <td>0</td>\n",
       "      <td>0</td>\n",
       "      <td>0</td>\n",
       "      <td>0</td>\n",
       "      <td>0</td>\n",
       "      <td>0</td>\n",
       "      <td>0</td>\n",
       "      <td>0</td>\n",
       "      <td>0</td>\n",
       "      <td>0</td>\n",
       "      <td>0</td>\n",
       "      <td>0</td>\n",
       "      <td>0</td>\n",
       "      <td>0</td>\n",
       "      <td>0</td>\n",
       "      <td>0</td>\n",
       "      <td>0</td>\n",
       "      <td>0</td>\n",
       "      <td>0</td>\n",
       "      <td>0</td>\n",
       "      <td>0</td>\n",
       "      <td>0</td>\n",
       "      <td>0</td>\n",
       "      <td>0</td>\n",
       "      <td>0</td>\n",
       "      <td>0</td>\n",
       "      <td>0</td>\n",
       "      <td>0</td>\n",
       "      <td>0</td>\n",
       "      <td>0</td>\n",
       "      <td>0</td>\n",
       "      <td>0</td>\n",
       "      <td>0</td>\n",
       "      <td>0</td>\n",
       "      <td>0</td>\n",
       "      <td>0</td>\n",
       "      <td>0</td>\n",
       "      <td>0</td>\n",
       "      <td>1</td>\n",
       "      <td>0</td>\n",
       "      <td>0</td>\n",
       "      <td>0</td>\n",
       "      <td>0</td>\n",
       "      <td>0</td>\n",
       "      <td>0</td>\n",
       "      <td>0</td>\n",
       "      <td>0</td>\n",
       "      <td>0</td>\n",
       "      <td>0</td>\n",
       "      <td>0</td>\n",
       "      <td>0</td>\n",
       "      <td>0</td>\n",
       "      <td>0</td>\n",
       "      <td>0</td>\n",
       "      <td>0</td>\n",
       "      <td>0</td>\n",
       "      <td>0</td>\n",
       "      <td>0</td>\n",
       "      <td>0</td>\n",
       "      <td>0</td>\n",
       "      <td>0</td>\n",
       "      <td>0</td>\n",
       "      <td>0</td>\n",
       "      <td>0</td>\n",
       "      <td>0</td>\n",
       "      <td>0</td>\n",
       "      <td>0</td>\n",
       "      <td>0</td>\n",
       "      <td>0</td>\n",
       "      <td>0</td>\n",
       "      <td>0</td>\n",
       "      <td>0</td>\n",
       "      <td>0</td>\n",
       "      <td>0</td>\n",
       "      <td>0</td>\n",
       "      <td>0</td>\n",
       "      <td>1</td>\n",
       "      <td>0</td>\n",
       "      <td>1</td>\n",
       "      <td>0</td>\n",
       "    </tr>\n",
       "    <tr>\n",
       "      <td>1</td>\n",
       "      <td>2011</td>\n",
       "      <td>190</td>\n",
       "      <td>125000</td>\n",
       "      <td>0</td>\n",
       "      <td>1</td>\n",
       "      <td>0</td>\n",
       "      <td>0</td>\n",
       "      <td>0</td>\n",
       "      <td>0</td>\n",
       "      <td>0</td>\n",
       "      <td>1</td>\n",
       "      <td>0</td>\n",
       "      <td>0</td>\n",
       "      <td>0</td>\n",
       "      <td>0</td>\n",
       "      <td>0</td>\n",
       "      <td>0</td>\n",
       "      <td>0</td>\n",
       "      <td>0</td>\n",
       "      <td>0</td>\n",
       "      <td>0</td>\n",
       "      <td>0</td>\n",
       "      <td>0</td>\n",
       "      <td>0</td>\n",
       "      <td>0</td>\n",
       "      <td>0</td>\n",
       "      <td>0</td>\n",
       "      <td>0</td>\n",
       "      <td>0</td>\n",
       "      <td>0</td>\n",
       "      <td>0</td>\n",
       "      <td>0</td>\n",
       "      <td>0</td>\n",
       "      <td>0</td>\n",
       "      <td>0</td>\n",
       "      <td>0</td>\n",
       "      <td>0</td>\n",
       "      <td>0</td>\n",
       "      <td>0</td>\n",
       "      <td>0</td>\n",
       "      <td>0</td>\n",
       "      <td>0</td>\n",
       "      <td>0</td>\n",
       "      <td>0</td>\n",
       "      <td>0</td>\n",
       "      <td>0</td>\n",
       "      <td>0</td>\n",
       "      <td>0</td>\n",
       "      <td>0</td>\n",
       "      <td>0</td>\n",
       "      <td>0</td>\n",
       "      <td>0</td>\n",
       "      <td>0</td>\n",
       "      <td>0</td>\n",
       "      <td>0</td>\n",
       "      <td>0</td>\n",
       "      <td>0</td>\n",
       "      <td>0</td>\n",
       "      <td>0</td>\n",
       "      <td>0</td>\n",
       "      <td>0</td>\n",
       "      <td>0</td>\n",
       "      <td>0</td>\n",
       "      <td>0</td>\n",
       "      <td>0</td>\n",
       "      <td>0</td>\n",
       "      <td>0</td>\n",
       "      <td>0</td>\n",
       "      <td>0</td>\n",
       "      <td>0</td>\n",
       "      <td>0</td>\n",
       "      <td>0</td>\n",
       "      <td>0</td>\n",
       "      <td>0</td>\n",
       "      <td>0</td>\n",
       "      <td>0</td>\n",
       "      <td>0</td>\n",
       "      <td>0</td>\n",
       "      <td>0</td>\n",
       "      <td>0</td>\n",
       "      <td>0</td>\n",
       "      <td>0</td>\n",
       "      <td>0</td>\n",
       "      <td>0</td>\n",
       "      <td>0</td>\n",
       "      <td>0</td>\n",
       "      <td>0</td>\n",
       "      <td>0</td>\n",
       "      <td>0</td>\n",
       "      <td>0</td>\n",
       "      <td>0</td>\n",
       "      <td>0</td>\n",
       "      <td>0</td>\n",
       "      <td>0</td>\n",
       "      <td>0</td>\n",
       "      <td>0</td>\n",
       "      <td>0</td>\n",
       "      <td>0</td>\n",
       "      <td>0</td>\n",
       "      <td>0</td>\n",
       "      <td>0</td>\n",
       "      <td>0</td>\n",
       "      <td>0</td>\n",
       "      <td>0</td>\n",
       "      <td>0</td>\n",
       "      <td>0</td>\n",
       "      <td>0</td>\n",
       "      <td>0</td>\n",
       "      <td>0</td>\n",
       "      <td>0</td>\n",
       "      <td>0</td>\n",
       "      <td>0</td>\n",
       "      <td>0</td>\n",
       "      <td>0</td>\n",
       "      <td>0</td>\n",
       "      <td>0</td>\n",
       "      <td>0</td>\n",
       "      <td>0</td>\n",
       "      <td>0</td>\n",
       "      <td>0</td>\n",
       "      <td>0</td>\n",
       "      <td>0</td>\n",
       "      <td>0</td>\n",
       "      <td>0</td>\n",
       "      <td>0</td>\n",
       "      <td>0</td>\n",
       "      <td>0</td>\n",
       "      <td>0</td>\n",
       "      <td>0</td>\n",
       "      <td>0</td>\n",
       "      <td>0</td>\n",
       "      <td>0</td>\n",
       "      <td>0</td>\n",
       "      <td>0</td>\n",
       "      <td>0</td>\n",
       "      <td>0</td>\n",
       "      <td>0</td>\n",
       "      <td>0</td>\n",
       "      <td>0</td>\n",
       "      <td>0</td>\n",
       "      <td>0</td>\n",
       "      <td>0</td>\n",
       "      <td>0</td>\n",
       "      <td>0</td>\n",
       "      <td>0</td>\n",
       "      <td>0</td>\n",
       "      <td>0</td>\n",
       "      <td>0</td>\n",
       "      <td>0</td>\n",
       "      <td>0</td>\n",
       "      <td>0</td>\n",
       "      <td>0</td>\n",
       "      <td>0</td>\n",
       "      <td>0</td>\n",
       "      <td>0</td>\n",
       "      <td>0</td>\n",
       "      <td>0</td>\n",
       "      <td>0</td>\n",
       "      <td>0</td>\n",
       "      <td>0</td>\n",
       "      <td>0</td>\n",
       "      <td>0</td>\n",
       "      <td>0</td>\n",
       "      <td>0</td>\n",
       "      <td>0</td>\n",
       "      <td>0</td>\n",
       "      <td>0</td>\n",
       "      <td>0</td>\n",
       "      <td>0</td>\n",
       "      <td>0</td>\n",
       "      <td>0</td>\n",
       "      <td>0</td>\n",
       "      <td>0</td>\n",
       "      <td>0</td>\n",
       "      <td>0</td>\n",
       "      <td>0</td>\n",
       "      <td>0</td>\n",
       "      <td>0</td>\n",
       "      <td>0</td>\n",
       "      <td>0</td>\n",
       "      <td>0</td>\n",
       "      <td>0</td>\n",
       "      <td>0</td>\n",
       "      <td>0</td>\n",
       "      <td>0</td>\n",
       "      <td>0</td>\n",
       "      <td>0</td>\n",
       "      <td>0</td>\n",
       "      <td>0</td>\n",
       "      <td>0</td>\n",
       "      <td>0</td>\n",
       "      <td>0</td>\n",
       "      <td>0</td>\n",
       "      <td>0</td>\n",
       "      <td>0</td>\n",
       "      <td>0</td>\n",
       "      <td>0</td>\n",
       "      <td>0</td>\n",
       "      <td>0</td>\n",
       "      <td>0</td>\n",
       "      <td>0</td>\n",
       "      <td>0</td>\n",
       "      <td>0</td>\n",
       "      <td>0</td>\n",
       "      <td>0</td>\n",
       "      <td>0</td>\n",
       "      <td>0</td>\n",
       "      <td>0</td>\n",
       "      <td>0</td>\n",
       "      <td>0</td>\n",
       "      <td>0</td>\n",
       "      <td>0</td>\n",
       "      <td>0</td>\n",
       "      <td>0</td>\n",
       "      <td>0</td>\n",
       "      <td>0</td>\n",
       "      <td>0</td>\n",
       "      <td>0</td>\n",
       "      <td>0</td>\n",
       "      <td>0</td>\n",
       "      <td>0</td>\n",
       "      <td>0</td>\n",
       "      <td>0</td>\n",
       "      <td>0</td>\n",
       "      <td>0</td>\n",
       "      <td>0</td>\n",
       "      <td>0</td>\n",
       "      <td>0</td>\n",
       "      <td>0</td>\n",
       "      <td>0</td>\n",
       "      <td>0</td>\n",
       "      <td>0</td>\n",
       "      <td>0</td>\n",
       "      <td>0</td>\n",
       "      <td>0</td>\n",
       "      <td>0</td>\n",
       "      <td>0</td>\n",
       "      <td>0</td>\n",
       "      <td>1</td>\n",
       "      <td>0</td>\n",
       "      <td>0</td>\n",
       "      <td>0</td>\n",
       "      <td>0</td>\n",
       "      <td>0</td>\n",
       "      <td>0</td>\n",
       "      <td>0</td>\n",
       "      <td>0</td>\n",
       "      <td>0</td>\n",
       "      <td>0</td>\n",
       "      <td>0</td>\n",
       "      <td>0</td>\n",
       "      <td>0</td>\n",
       "      <td>0</td>\n",
       "      <td>0</td>\n",
       "      <td>0</td>\n",
       "      <td>0</td>\n",
       "      <td>0</td>\n",
       "      <td>0</td>\n",
       "      <td>0</td>\n",
       "      <td>0</td>\n",
       "      <td>0</td>\n",
       "      <td>0</td>\n",
       "      <td>1</td>\n",
       "      <td>0</td>\n",
       "      <td>0</td>\n",
       "      <td>0</td>\n",
       "      <td>0</td>\n",
       "      <td>1</td>\n",
       "      <td>0</td>\n",
       "      <td>0</td>\n",
       "      <td>0</td>\n",
       "      <td>0</td>\n",
       "      <td>0</td>\n",
       "      <td>0</td>\n",
       "      <td>0</td>\n",
       "      <td>0</td>\n",
       "      <td>0</td>\n",
       "      <td>0</td>\n",
       "      <td>0</td>\n",
       "      <td>0</td>\n",
       "      <td>0</td>\n",
       "      <td>0</td>\n",
       "      <td>0</td>\n",
       "      <td>0</td>\n",
       "      <td>0</td>\n",
       "      <td>0</td>\n",
       "      <td>0</td>\n",
       "      <td>0</td>\n",
       "      <td>0</td>\n",
       "      <td>0</td>\n",
       "      <td>0</td>\n",
       "      <td>0</td>\n",
       "      <td>0</td>\n",
       "      <td>0</td>\n",
       "      <td>0</td>\n",
       "      <td>0</td>\n",
       "      <td>0</td>\n",
       "      <td>0</td>\n",
       "      <td>0</td>\n",
       "      <td>0</td>\n",
       "      <td>0</td>\n",
       "      <td>0</td>\n",
       "      <td>0</td>\n",
       "      <td>0</td>\n",
       "      <td>0</td>\n",
       "      <td>0</td>\n",
       "      <td>0</td>\n",
       "      <td>1</td>\n",
       "    </tr>\n",
       "    <tr>\n",
       "      <td>2</td>\n",
       "      <td>2004</td>\n",
       "      <td>163</td>\n",
       "      <td>125000</td>\n",
       "      <td>0</td>\n",
       "      <td>0</td>\n",
       "      <td>0</td>\n",
       "      <td>0</td>\n",
       "      <td>0</td>\n",
       "      <td>1</td>\n",
       "      <td>0</td>\n",
       "      <td>0</td>\n",
       "      <td>0</td>\n",
       "      <td>0</td>\n",
       "      <td>0</td>\n",
       "      <td>0</td>\n",
       "      <td>0</td>\n",
       "      <td>0</td>\n",
       "      <td>0</td>\n",
       "      <td>0</td>\n",
       "      <td>0</td>\n",
       "      <td>0</td>\n",
       "      <td>0</td>\n",
       "      <td>0</td>\n",
       "      <td>0</td>\n",
       "      <td>0</td>\n",
       "      <td>0</td>\n",
       "      <td>0</td>\n",
       "      <td>0</td>\n",
       "      <td>0</td>\n",
       "      <td>0</td>\n",
       "      <td>0</td>\n",
       "      <td>0</td>\n",
       "      <td>0</td>\n",
       "      <td>0</td>\n",
       "      <td>0</td>\n",
       "      <td>0</td>\n",
       "      <td>0</td>\n",
       "      <td>0</td>\n",
       "      <td>0</td>\n",
       "      <td>0</td>\n",
       "      <td>0</td>\n",
       "      <td>0</td>\n",
       "      <td>0</td>\n",
       "      <td>0</td>\n",
       "      <td>0</td>\n",
       "      <td>0</td>\n",
       "      <td>0</td>\n",
       "      <td>0</td>\n",
       "      <td>0</td>\n",
       "      <td>0</td>\n",
       "      <td>0</td>\n",
       "      <td>0</td>\n",
       "      <td>0</td>\n",
       "      <td>0</td>\n",
       "      <td>0</td>\n",
       "      <td>0</td>\n",
       "      <td>0</td>\n",
       "      <td>0</td>\n",
       "      <td>0</td>\n",
       "      <td>0</td>\n",
       "      <td>0</td>\n",
       "      <td>0</td>\n",
       "      <td>0</td>\n",
       "      <td>0</td>\n",
       "      <td>0</td>\n",
       "      <td>0</td>\n",
       "      <td>0</td>\n",
       "      <td>0</td>\n",
       "      <td>0</td>\n",
       "      <td>0</td>\n",
       "      <td>0</td>\n",
       "      <td>0</td>\n",
       "      <td>0</td>\n",
       "      <td>0</td>\n",
       "      <td>0</td>\n",
       "      <td>0</td>\n",
       "      <td>0</td>\n",
       "      <td>0</td>\n",
       "      <td>0</td>\n",
       "      <td>0</td>\n",
       "      <td>0</td>\n",
       "      <td>0</td>\n",
       "      <td>0</td>\n",
       "      <td>0</td>\n",
       "      <td>0</td>\n",
       "      <td>0</td>\n",
       "      <td>0</td>\n",
       "      <td>0</td>\n",
       "      <td>0</td>\n",
       "      <td>0</td>\n",
       "      <td>0</td>\n",
       "      <td>0</td>\n",
       "      <td>0</td>\n",
       "      <td>0</td>\n",
       "      <td>0</td>\n",
       "      <td>0</td>\n",
       "      <td>0</td>\n",
       "      <td>0</td>\n",
       "      <td>0</td>\n",
       "      <td>0</td>\n",
       "      <td>0</td>\n",
       "      <td>0</td>\n",
       "      <td>0</td>\n",
       "      <td>0</td>\n",
       "      <td>0</td>\n",
       "      <td>0</td>\n",
       "      <td>0</td>\n",
       "      <td>0</td>\n",
       "      <td>0</td>\n",
       "      <td>0</td>\n",
       "      <td>0</td>\n",
       "      <td>0</td>\n",
       "      <td>0</td>\n",
       "      <td>0</td>\n",
       "      <td>0</td>\n",
       "      <td>0</td>\n",
       "      <td>0</td>\n",
       "      <td>0</td>\n",
       "      <td>0</td>\n",
       "      <td>0</td>\n",
       "      <td>0</td>\n",
       "      <td>0</td>\n",
       "      <td>0</td>\n",
       "      <td>0</td>\n",
       "      <td>0</td>\n",
       "      <td>0</td>\n",
       "      <td>0</td>\n",
       "      <td>0</td>\n",
       "      <td>1</td>\n",
       "      <td>0</td>\n",
       "      <td>0</td>\n",
       "      <td>0</td>\n",
       "      <td>0</td>\n",
       "      <td>0</td>\n",
       "      <td>0</td>\n",
       "      <td>0</td>\n",
       "      <td>0</td>\n",
       "      <td>0</td>\n",
       "      <td>0</td>\n",
       "      <td>0</td>\n",
       "      <td>0</td>\n",
       "      <td>0</td>\n",
       "      <td>0</td>\n",
       "      <td>0</td>\n",
       "      <td>0</td>\n",
       "      <td>0</td>\n",
       "      <td>0</td>\n",
       "      <td>0</td>\n",
       "      <td>0</td>\n",
       "      <td>0</td>\n",
       "      <td>0</td>\n",
       "      <td>0</td>\n",
       "      <td>0</td>\n",
       "      <td>0</td>\n",
       "      <td>0</td>\n",
       "      <td>0</td>\n",
       "      <td>0</td>\n",
       "      <td>0</td>\n",
       "      <td>0</td>\n",
       "      <td>0</td>\n",
       "      <td>0</td>\n",
       "      <td>0</td>\n",
       "      <td>0</td>\n",
       "      <td>0</td>\n",
       "      <td>0</td>\n",
       "      <td>0</td>\n",
       "      <td>0</td>\n",
       "      <td>0</td>\n",
       "      <td>0</td>\n",
       "      <td>0</td>\n",
       "      <td>0</td>\n",
       "      <td>0</td>\n",
       "      <td>0</td>\n",
       "      <td>0</td>\n",
       "      <td>0</td>\n",
       "      <td>0</td>\n",
       "      <td>0</td>\n",
       "      <td>0</td>\n",
       "      <td>0</td>\n",
       "      <td>0</td>\n",
       "      <td>0</td>\n",
       "      <td>0</td>\n",
       "      <td>0</td>\n",
       "      <td>0</td>\n",
       "      <td>0</td>\n",
       "      <td>0</td>\n",
       "      <td>0</td>\n",
       "      <td>0</td>\n",
       "      <td>0</td>\n",
       "      <td>0</td>\n",
       "      <td>0</td>\n",
       "      <td>0</td>\n",
       "      <td>0</td>\n",
       "      <td>0</td>\n",
       "      <td>0</td>\n",
       "      <td>0</td>\n",
       "      <td>0</td>\n",
       "      <td>0</td>\n",
       "      <td>0</td>\n",
       "      <td>0</td>\n",
       "      <td>0</td>\n",
       "      <td>0</td>\n",
       "      <td>0</td>\n",
       "      <td>0</td>\n",
       "      <td>0</td>\n",
       "      <td>0</td>\n",
       "      <td>0</td>\n",
       "      <td>0</td>\n",
       "      <td>0</td>\n",
       "      <td>0</td>\n",
       "      <td>0</td>\n",
       "      <td>0</td>\n",
       "      <td>0</td>\n",
       "      <td>0</td>\n",
       "      <td>0</td>\n",
       "      <td>0</td>\n",
       "      <td>0</td>\n",
       "      <td>0</td>\n",
       "      <td>0</td>\n",
       "      <td>0</td>\n",
       "      <td>0</td>\n",
       "      <td>0</td>\n",
       "      <td>0</td>\n",
       "      <td>0</td>\n",
       "      <td>0</td>\n",
       "      <td>0</td>\n",
       "      <td>0</td>\n",
       "      <td>0</td>\n",
       "      <td>0</td>\n",
       "      <td>0</td>\n",
       "      <td>0</td>\n",
       "      <td>0</td>\n",
       "      <td>0</td>\n",
       "      <td>0</td>\n",
       "      <td>0</td>\n",
       "      <td>0</td>\n",
       "      <td>0</td>\n",
       "      <td>0</td>\n",
       "      <td>0</td>\n",
       "      <td>0</td>\n",
       "      <td>0</td>\n",
       "      <td>0</td>\n",
       "      <td>0</td>\n",
       "      <td>0</td>\n",
       "      <td>0</td>\n",
       "      <td>0</td>\n",
       "      <td>0</td>\n",
       "      <td>0</td>\n",
       "      <td>0</td>\n",
       "      <td>0</td>\n",
       "      <td>0</td>\n",
       "      <td>0</td>\n",
       "      <td>0</td>\n",
       "      <td>0</td>\n",
       "      <td>0</td>\n",
       "      <td>0</td>\n",
       "      <td>0</td>\n",
       "      <td>0</td>\n",
       "      <td>0</td>\n",
       "      <td>0</td>\n",
       "      <td>0</td>\n",
       "      <td>0</td>\n",
       "      <td>1</td>\n",
       "      <td>0</td>\n",
       "      <td>0</td>\n",
       "      <td>0</td>\n",
       "      <td>0</td>\n",
       "      <td>0</td>\n",
       "      <td>0</td>\n",
       "      <td>0</td>\n",
       "      <td>0</td>\n",
       "      <td>0</td>\n",
       "      <td>0</td>\n",
       "      <td>0</td>\n",
       "      <td>0</td>\n",
       "      <td>0</td>\n",
       "      <td>0</td>\n",
       "      <td>0</td>\n",
       "      <td>0</td>\n",
       "      <td>0</td>\n",
       "      <td>1</td>\n",
       "      <td>0</td>\n",
       "      <td>0</td>\n",
       "      <td>0</td>\n",
       "      <td>0</td>\n",
       "      <td>0</td>\n",
       "      <td>0</td>\n",
       "      <td>0</td>\n",
       "      <td>0</td>\n",
       "      <td>0</td>\n",
       "      <td>0</td>\n",
       "      <td>0</td>\n",
       "      <td>0</td>\n",
       "      <td>0</td>\n",
       "      <td>0</td>\n",
       "      <td>0</td>\n",
       "      <td>0</td>\n",
       "      <td>0</td>\n",
       "      <td>0</td>\n",
       "      <td>0</td>\n",
       "      <td>0</td>\n",
       "      <td>0</td>\n",
       "      <td>0</td>\n",
       "      <td>0</td>\n",
       "      <td>0</td>\n",
       "      <td>0</td>\n",
       "      <td>1</td>\n",
       "      <td>0</td>\n",
       "    </tr>\n",
       "    <tr>\n",
       "      <td>3</td>\n",
       "      <td>2001</td>\n",
       "      <td>75</td>\n",
       "      <td>150000</td>\n",
       "      <td>0</td>\n",
       "      <td>0</td>\n",
       "      <td>0</td>\n",
       "      <td>0</td>\n",
       "      <td>1</td>\n",
       "      <td>0</td>\n",
       "      <td>0</td>\n",
       "      <td>1</td>\n",
       "      <td>0</td>\n",
       "      <td>0</td>\n",
       "      <td>0</td>\n",
       "      <td>0</td>\n",
       "      <td>0</td>\n",
       "      <td>0</td>\n",
       "      <td>0</td>\n",
       "      <td>0</td>\n",
       "      <td>0</td>\n",
       "      <td>0</td>\n",
       "      <td>0</td>\n",
       "      <td>0</td>\n",
       "      <td>0</td>\n",
       "      <td>0</td>\n",
       "      <td>0</td>\n",
       "      <td>0</td>\n",
       "      <td>0</td>\n",
       "      <td>0</td>\n",
       "      <td>0</td>\n",
       "      <td>0</td>\n",
       "      <td>0</td>\n",
       "      <td>0</td>\n",
       "      <td>0</td>\n",
       "      <td>0</td>\n",
       "      <td>0</td>\n",
       "      <td>0</td>\n",
       "      <td>0</td>\n",
       "      <td>0</td>\n",
       "      <td>0</td>\n",
       "      <td>0</td>\n",
       "      <td>0</td>\n",
       "      <td>0</td>\n",
       "      <td>0</td>\n",
       "      <td>0</td>\n",
       "      <td>0</td>\n",
       "      <td>0</td>\n",
       "      <td>0</td>\n",
       "      <td>0</td>\n",
       "      <td>0</td>\n",
       "      <td>0</td>\n",
       "      <td>0</td>\n",
       "      <td>0</td>\n",
       "      <td>0</td>\n",
       "      <td>0</td>\n",
       "      <td>0</td>\n",
       "      <td>0</td>\n",
       "      <td>0</td>\n",
       "      <td>0</td>\n",
       "      <td>0</td>\n",
       "      <td>0</td>\n",
       "      <td>0</td>\n",
       "      <td>0</td>\n",
       "      <td>0</td>\n",
       "      <td>0</td>\n",
       "      <td>0</td>\n",
       "      <td>0</td>\n",
       "      <td>0</td>\n",
       "      <td>0</td>\n",
       "      <td>0</td>\n",
       "      <td>0</td>\n",
       "      <td>0</td>\n",
       "      <td>0</td>\n",
       "      <td>0</td>\n",
       "      <td>0</td>\n",
       "      <td>0</td>\n",
       "      <td>0</td>\n",
       "      <td>0</td>\n",
       "      <td>0</td>\n",
       "      <td>0</td>\n",
       "      <td>0</td>\n",
       "      <td>0</td>\n",
       "      <td>0</td>\n",
       "      <td>0</td>\n",
       "      <td>0</td>\n",
       "      <td>0</td>\n",
       "      <td>0</td>\n",
       "      <td>0</td>\n",
       "      <td>0</td>\n",
       "      <td>0</td>\n",
       "      <td>0</td>\n",
       "      <td>0</td>\n",
       "      <td>0</td>\n",
       "      <td>0</td>\n",
       "      <td>0</td>\n",
       "      <td>0</td>\n",
       "      <td>0</td>\n",
       "      <td>0</td>\n",
       "      <td>0</td>\n",
       "      <td>0</td>\n",
       "      <td>0</td>\n",
       "      <td>0</td>\n",
       "      <td>0</td>\n",
       "      <td>0</td>\n",
       "      <td>0</td>\n",
       "      <td>0</td>\n",
       "      <td>0</td>\n",
       "      <td>0</td>\n",
       "      <td>0</td>\n",
       "      <td>0</td>\n",
       "      <td>0</td>\n",
       "      <td>0</td>\n",
       "      <td>0</td>\n",
       "      <td>0</td>\n",
       "      <td>0</td>\n",
       "      <td>0</td>\n",
       "      <td>0</td>\n",
       "      <td>0</td>\n",
       "      <td>0</td>\n",
       "      <td>0</td>\n",
       "      <td>0</td>\n",
       "      <td>0</td>\n",
       "      <td>0</td>\n",
       "      <td>0</td>\n",
       "      <td>0</td>\n",
       "      <td>0</td>\n",
       "      <td>0</td>\n",
       "      <td>1</td>\n",
       "      <td>0</td>\n",
       "      <td>0</td>\n",
       "      <td>0</td>\n",
       "      <td>0</td>\n",
       "      <td>0</td>\n",
       "      <td>0</td>\n",
       "      <td>0</td>\n",
       "      <td>0</td>\n",
       "      <td>0</td>\n",
       "      <td>0</td>\n",
       "      <td>0</td>\n",
       "      <td>0</td>\n",
       "      <td>0</td>\n",
       "      <td>0</td>\n",
       "      <td>0</td>\n",
       "      <td>0</td>\n",
       "      <td>0</td>\n",
       "      <td>0</td>\n",
       "      <td>0</td>\n",
       "      <td>0</td>\n",
       "      <td>0</td>\n",
       "      <td>0</td>\n",
       "      <td>0</td>\n",
       "      <td>0</td>\n",
       "      <td>0</td>\n",
       "      <td>0</td>\n",
       "      <td>0</td>\n",
       "      <td>0</td>\n",
       "      <td>0</td>\n",
       "      <td>0</td>\n",
       "      <td>0</td>\n",
       "      <td>0</td>\n",
       "      <td>0</td>\n",
       "      <td>0</td>\n",
       "      <td>0</td>\n",
       "      <td>0</td>\n",
       "      <td>0</td>\n",
       "      <td>0</td>\n",
       "      <td>0</td>\n",
       "      <td>0</td>\n",
       "      <td>0</td>\n",
       "      <td>0</td>\n",
       "      <td>0</td>\n",
       "      <td>0</td>\n",
       "      <td>0</td>\n",
       "      <td>0</td>\n",
       "      <td>0</td>\n",
       "      <td>0</td>\n",
       "      <td>0</td>\n",
       "      <td>0</td>\n",
       "      <td>0</td>\n",
       "      <td>0</td>\n",
       "      <td>0</td>\n",
       "      <td>0</td>\n",
       "      <td>0</td>\n",
       "      <td>0</td>\n",
       "      <td>0</td>\n",
       "      <td>0</td>\n",
       "      <td>0</td>\n",
       "      <td>0</td>\n",
       "      <td>0</td>\n",
       "      <td>0</td>\n",
       "      <td>0</td>\n",
       "      <td>0</td>\n",
       "      <td>0</td>\n",
       "      <td>0</td>\n",
       "      <td>0</td>\n",
       "      <td>0</td>\n",
       "      <td>0</td>\n",
       "      <td>0</td>\n",
       "      <td>0</td>\n",
       "      <td>0</td>\n",
       "      <td>0</td>\n",
       "      <td>0</td>\n",
       "      <td>0</td>\n",
       "      <td>0</td>\n",
       "      <td>0</td>\n",
       "      <td>0</td>\n",
       "      <td>0</td>\n",
       "      <td>0</td>\n",
       "      <td>0</td>\n",
       "      <td>0</td>\n",
       "      <td>0</td>\n",
       "      <td>0</td>\n",
       "      <td>0</td>\n",
       "      <td>0</td>\n",
       "      <td>0</td>\n",
       "      <td>0</td>\n",
       "      <td>0</td>\n",
       "      <td>0</td>\n",
       "      <td>0</td>\n",
       "      <td>0</td>\n",
       "      <td>0</td>\n",
       "      <td>0</td>\n",
       "      <td>0</td>\n",
       "      <td>0</td>\n",
       "      <td>0</td>\n",
       "      <td>0</td>\n",
       "      <td>0</td>\n",
       "      <td>0</td>\n",
       "      <td>0</td>\n",
       "      <td>0</td>\n",
       "      <td>0</td>\n",
       "      <td>0</td>\n",
       "      <td>0</td>\n",
       "      <td>0</td>\n",
       "      <td>0</td>\n",
       "      <td>0</td>\n",
       "      <td>0</td>\n",
       "      <td>0</td>\n",
       "      <td>0</td>\n",
       "      <td>0</td>\n",
       "      <td>0</td>\n",
       "      <td>0</td>\n",
       "      <td>0</td>\n",
       "      <td>0</td>\n",
       "      <td>0</td>\n",
       "      <td>0</td>\n",
       "      <td>0</td>\n",
       "      <td>0</td>\n",
       "      <td>0</td>\n",
       "      <td>0</td>\n",
       "      <td>0</td>\n",
       "      <td>0</td>\n",
       "      <td>0</td>\n",
       "      <td>0</td>\n",
       "      <td>0</td>\n",
       "      <td>0</td>\n",
       "      <td>0</td>\n",
       "      <td>0</td>\n",
       "      <td>0</td>\n",
       "      <td>0</td>\n",
       "      <td>0</td>\n",
       "      <td>0</td>\n",
       "      <td>0</td>\n",
       "      <td>0</td>\n",
       "      <td>0</td>\n",
       "      <td>0</td>\n",
       "      <td>1</td>\n",
       "      <td>0</td>\n",
       "      <td>0</td>\n",
       "      <td>0</td>\n",
       "      <td>0</td>\n",
       "      <td>0</td>\n",
       "      <td>0</td>\n",
       "      <td>0</td>\n",
       "      <td>0</td>\n",
       "      <td>0</td>\n",
       "      <td>0</td>\n",
       "      <td>0</td>\n",
       "      <td>0</td>\n",
       "      <td>0</td>\n",
       "      <td>0</td>\n",
       "      <td>0</td>\n",
       "      <td>0</td>\n",
       "      <td>0</td>\n",
       "      <td>0</td>\n",
       "      <td>0</td>\n",
       "      <td>0</td>\n",
       "      <td>0</td>\n",
       "      <td>0</td>\n",
       "      <td>0</td>\n",
       "      <td>0</td>\n",
       "      <td>0</td>\n",
       "      <td>0</td>\n",
       "      <td>0</td>\n",
       "      <td>0</td>\n",
       "      <td>0</td>\n",
       "      <td>0</td>\n",
       "      <td>0</td>\n",
       "      <td>0</td>\n",
       "      <td>0</td>\n",
       "      <td>0</td>\n",
       "      <td>0</td>\n",
       "      <td>0</td>\n",
       "      <td>0</td>\n",
       "      <td>1</td>\n",
       "      <td>0</td>\n",
       "      <td>0</td>\n",
       "      <td>0</td>\n",
       "    </tr>\n",
       "    <tr>\n",
       "      <td>4</td>\n",
       "      <td>2008</td>\n",
       "      <td>69</td>\n",
       "      <td>90000</td>\n",
       "      <td>0</td>\n",
       "      <td>0</td>\n",
       "      <td>0</td>\n",
       "      <td>0</td>\n",
       "      <td>1</td>\n",
       "      <td>0</td>\n",
       "      <td>0</td>\n",
       "      <td>1</td>\n",
       "      <td>0</td>\n",
       "      <td>0</td>\n",
       "      <td>0</td>\n",
       "      <td>0</td>\n",
       "      <td>0</td>\n",
       "      <td>0</td>\n",
       "      <td>0</td>\n",
       "      <td>0</td>\n",
       "      <td>0</td>\n",
       "      <td>0</td>\n",
       "      <td>0</td>\n",
       "      <td>0</td>\n",
       "      <td>0</td>\n",
       "      <td>0</td>\n",
       "      <td>0</td>\n",
       "      <td>0</td>\n",
       "      <td>0</td>\n",
       "      <td>0</td>\n",
       "      <td>0</td>\n",
       "      <td>0</td>\n",
       "      <td>0</td>\n",
       "      <td>0</td>\n",
       "      <td>0</td>\n",
       "      <td>0</td>\n",
       "      <td>0</td>\n",
       "      <td>0</td>\n",
       "      <td>0</td>\n",
       "      <td>0</td>\n",
       "      <td>0</td>\n",
       "      <td>0</td>\n",
       "      <td>0</td>\n",
       "      <td>0</td>\n",
       "      <td>0</td>\n",
       "      <td>0</td>\n",
       "      <td>0</td>\n",
       "      <td>0</td>\n",
       "      <td>0</td>\n",
       "      <td>0</td>\n",
       "      <td>0</td>\n",
       "      <td>0</td>\n",
       "      <td>0</td>\n",
       "      <td>0</td>\n",
       "      <td>0</td>\n",
       "      <td>0</td>\n",
       "      <td>0</td>\n",
       "      <td>0</td>\n",
       "      <td>0</td>\n",
       "      <td>0</td>\n",
       "      <td>0</td>\n",
       "      <td>0</td>\n",
       "      <td>0</td>\n",
       "      <td>0</td>\n",
       "      <td>0</td>\n",
       "      <td>0</td>\n",
       "      <td>0</td>\n",
       "      <td>0</td>\n",
       "      <td>0</td>\n",
       "      <td>0</td>\n",
       "      <td>0</td>\n",
       "      <td>0</td>\n",
       "      <td>0</td>\n",
       "      <td>0</td>\n",
       "      <td>0</td>\n",
       "      <td>0</td>\n",
       "      <td>0</td>\n",
       "      <td>0</td>\n",
       "      <td>0</td>\n",
       "      <td>0</td>\n",
       "      <td>0</td>\n",
       "      <td>0</td>\n",
       "      <td>0</td>\n",
       "      <td>0</td>\n",
       "      <td>0</td>\n",
       "      <td>0</td>\n",
       "      <td>0</td>\n",
       "      <td>0</td>\n",
       "      <td>0</td>\n",
       "      <td>0</td>\n",
       "      <td>0</td>\n",
       "      <td>0</td>\n",
       "      <td>0</td>\n",
       "      <td>0</td>\n",
       "      <td>0</td>\n",
       "      <td>0</td>\n",
       "      <td>0</td>\n",
       "      <td>0</td>\n",
       "      <td>0</td>\n",
       "      <td>0</td>\n",
       "      <td>0</td>\n",
       "      <td>0</td>\n",
       "      <td>0</td>\n",
       "      <td>0</td>\n",
       "      <td>0</td>\n",
       "      <td>0</td>\n",
       "      <td>0</td>\n",
       "      <td>0</td>\n",
       "      <td>0</td>\n",
       "      <td>0</td>\n",
       "      <td>0</td>\n",
       "      <td>0</td>\n",
       "      <td>0</td>\n",
       "      <td>1</td>\n",
       "      <td>0</td>\n",
       "      <td>0</td>\n",
       "      <td>0</td>\n",
       "      <td>0</td>\n",
       "      <td>0</td>\n",
       "      <td>0</td>\n",
       "      <td>0</td>\n",
       "      <td>0</td>\n",
       "      <td>0</td>\n",
       "      <td>0</td>\n",
       "      <td>0</td>\n",
       "      <td>0</td>\n",
       "      <td>0</td>\n",
       "      <td>0</td>\n",
       "      <td>0</td>\n",
       "      <td>0</td>\n",
       "      <td>0</td>\n",
       "      <td>0</td>\n",
       "      <td>0</td>\n",
       "      <td>0</td>\n",
       "      <td>0</td>\n",
       "      <td>0</td>\n",
       "      <td>0</td>\n",
       "      <td>0</td>\n",
       "      <td>0</td>\n",
       "      <td>0</td>\n",
       "      <td>0</td>\n",
       "      <td>0</td>\n",
       "      <td>0</td>\n",
       "      <td>0</td>\n",
       "      <td>0</td>\n",
       "      <td>0</td>\n",
       "      <td>0</td>\n",
       "      <td>0</td>\n",
       "      <td>0</td>\n",
       "      <td>0</td>\n",
       "      <td>0</td>\n",
       "      <td>0</td>\n",
       "      <td>0</td>\n",
       "      <td>0</td>\n",
       "      <td>0</td>\n",
       "      <td>0</td>\n",
       "      <td>0</td>\n",
       "      <td>0</td>\n",
       "      <td>0</td>\n",
       "      <td>0</td>\n",
       "      <td>0</td>\n",
       "      <td>0</td>\n",
       "      <td>0</td>\n",
       "      <td>0</td>\n",
       "      <td>0</td>\n",
       "      <td>0</td>\n",
       "      <td>0</td>\n",
       "      <td>0</td>\n",
       "      <td>0</td>\n",
       "      <td>0</td>\n",
       "      <td>0</td>\n",
       "      <td>0</td>\n",
       "      <td>0</td>\n",
       "      <td>0</td>\n",
       "      <td>0</td>\n",
       "      <td>0</td>\n",
       "      <td>0</td>\n",
       "      <td>0</td>\n",
       "      <td>0</td>\n",
       "      <td>0</td>\n",
       "      <td>0</td>\n",
       "      <td>0</td>\n",
       "      <td>0</td>\n",
       "      <td>0</td>\n",
       "      <td>0</td>\n",
       "      <td>0</td>\n",
       "      <td>0</td>\n",
       "      <td>0</td>\n",
       "      <td>0</td>\n",
       "      <td>0</td>\n",
       "      <td>0</td>\n",
       "      <td>0</td>\n",
       "      <td>0</td>\n",
       "      <td>0</td>\n",
       "      <td>0</td>\n",
       "      <td>0</td>\n",
       "      <td>0</td>\n",
       "      <td>0</td>\n",
       "      <td>0</td>\n",
       "      <td>0</td>\n",
       "      <td>0</td>\n",
       "      <td>0</td>\n",
       "      <td>0</td>\n",
       "      <td>0</td>\n",
       "      <td>0</td>\n",
       "      <td>0</td>\n",
       "      <td>0</td>\n",
       "      <td>0</td>\n",
       "      <td>0</td>\n",
       "      <td>0</td>\n",
       "      <td>0</td>\n",
       "      <td>0</td>\n",
       "      <td>0</td>\n",
       "      <td>0</td>\n",
       "      <td>0</td>\n",
       "      <td>0</td>\n",
       "      <td>0</td>\n",
       "      <td>0</td>\n",
       "      <td>0</td>\n",
       "      <td>0</td>\n",
       "      <td>0</td>\n",
       "      <td>0</td>\n",
       "      <td>0</td>\n",
       "      <td>0</td>\n",
       "      <td>0</td>\n",
       "      <td>0</td>\n",
       "      <td>0</td>\n",
       "      <td>0</td>\n",
       "      <td>0</td>\n",
       "      <td>0</td>\n",
       "      <td>0</td>\n",
       "      <td>0</td>\n",
       "      <td>0</td>\n",
       "      <td>0</td>\n",
       "      <td>0</td>\n",
       "      <td>0</td>\n",
       "      <td>0</td>\n",
       "      <td>0</td>\n",
       "      <td>0</td>\n",
       "      <td>0</td>\n",
       "      <td>0</td>\n",
       "      <td>0</td>\n",
       "      <td>0</td>\n",
       "      <td>0</td>\n",
       "      <td>0</td>\n",
       "      <td>0</td>\n",
       "      <td>0</td>\n",
       "      <td>0</td>\n",
       "      <td>0</td>\n",
       "      <td>0</td>\n",
       "      <td>0</td>\n",
       "      <td>0</td>\n",
       "      <td>0</td>\n",
       "      <td>0</td>\n",
       "      <td>0</td>\n",
       "      <td>0</td>\n",
       "      <td>0</td>\n",
       "      <td>0</td>\n",
       "      <td>0</td>\n",
       "      <td>0</td>\n",
       "      <td>0</td>\n",
       "      <td>0</td>\n",
       "      <td>0</td>\n",
       "      <td>1</td>\n",
       "      <td>0</td>\n",
       "      <td>0</td>\n",
       "      <td>0</td>\n",
       "      <td>0</td>\n",
       "      <td>0</td>\n",
       "      <td>0</td>\n",
       "      <td>0</td>\n",
       "      <td>0</td>\n",
       "      <td>0</td>\n",
       "      <td>0</td>\n",
       "      <td>0</td>\n",
       "      <td>0</td>\n",
       "      <td>0</td>\n",
       "      <td>0</td>\n",
       "      <td>0</td>\n",
       "      <td>0</td>\n",
       "      <td>0</td>\n",
       "      <td>0</td>\n",
       "      <td>0</td>\n",
       "      <td>0</td>\n",
       "      <td>0</td>\n",
       "      <td>0</td>\n",
       "      <td>0</td>\n",
       "      <td>0</td>\n",
       "      <td>0</td>\n",
       "      <td>0</td>\n",
       "      <td>0</td>\n",
       "      <td>0</td>\n",
       "      <td>0</td>\n",
       "      <td>0</td>\n",
       "      <td>0</td>\n",
       "      <td>0</td>\n",
       "      <td>0</td>\n",
       "      <td>0</td>\n",
       "      <td>1</td>\n",
       "      <td>0</td>\n",
       "      <td>0</td>\n",
       "      <td>0</td>\n",
       "      <td>0</td>\n",
       "      <td>0</td>\n",
       "      <td>0</td>\n",
       "      <td>0</td>\n",
       "      <td>0</td>\n",
       "      <td>0</td>\n",
       "      <td>0</td>\n",
       "    </tr>\n",
       "  </tbody>\n",
       "</table>\n",
       "</div>"
      ],
      "text/plain": [
       "   RegistrationYear  Power  Kilometer  VehicleType_convertible  VehicleType_coupe  VehicleType_other  VehicleType_sedan  VehicleType_small  VehicleType_suv  VehicleType_wagon  Gearbox_manual  Gearbox_unknown  Model_145  Model_147  Model_156  Model_159  Model_1_reihe  Model_1er  Model_200  Model_2_reihe  Model_300c  Model_3_reihe  Model_3er  Model_4_reihe  Model_500  Model_5_reihe  Model_5er  Model_601  Model_6_reihe  Model_6er  Model_7er  Model_80  Model_850  Model_90  Model_900  Model_9000  Model_911  Model_a1  Model_a2  Model_a3  Model_a4  Model_a5  Model_a6  Model_a8  Model_a_klasse  Model_accord  Model_agila  Model_alhambra  Model_almera  Model_altea  Model_amarok  Model_antara  Model_arosa  Model_astra  Model_auris  Model_avensis  Model_aveo  Model_aygo  Model_b_klasse  Model_b_max  Model_beetle  Model_berlingo  Model_bora  Model_boxster  Model_bravo  Model_c1  Model_c2  Model_c3  Model_c4  Model_c5  Model_c_klasse  Model_c_max  Model_c_reihe  Model_caddy  Model_calibra  \\\n",
       "0              1993    101     150000                        0                  0                  0                  1                  0                0                  0               1                0          0          0          0          0              0          0          0              0           0              0          0              0          0              0          0          0              0          0          0         0          0         0          0           0          0         0         0         0         0         0         0         0               0             0            0               0             0            0             0             0            0            0            0              0           0           0               0            0             0               0           0              0            0         0         0         0         0         0               0            0              0            0              0   \n",
       "1              2011    190     125000                        0                  1                  0                  0                  0                0                  0               1                0          0          0          0          0              0          0          0              0           0              0          0              0          0              0          0          0              0          0          0         0          0         0          0           0          0         0         0         0         0         0         0         0               0             0            0               0             0            0             0             0            0            0            0              0           0           0               0            0             0               0           0              0            0         0         0         0         0         0               0            0              0            0              0   \n",
       "2              2004    163     125000                        0                  0                  0                  0                  0                1                  0               0                0          0          0          0          0              0          0          0              0           0              0          0              0          0              0          0          0              0          0          0         0          0         0          0           0          0         0         0         0         0         0         0         0               0             0            0               0             0            0             0             0            0            0            0              0           0           0               0            0             0               0           0              0            0         0         0         0         0         0               0            0              0            0              0   \n",
       "3              2001     75     150000                        0                  0                  0                  0                  1                0                  0               1                0          0          0          0          0              0          0          0              0           0              0          0              0          0              0          0          0              0          0          0         0          0         0          0           0          0         0         0         0         0         0         0         0               0             0            0               0             0            0             0             0            0            0            0              0           0           0               0            0             0               0           0              0            0         0         0         0         0         0               0            0              0            0              0   \n",
       "4              2008     69      90000                        0                  0                  0                  0                  1                0                  0               1                0          0          0          0          0              0          0          0              0           0              0          0              0          0              0          0          0              0          0          0         0          0         0          0           0          0         0         0         0         0         0         0         0               0             0            0               0             0            0             0             0            0            0            0              0           0           0               0            0             0               0           0              0            0         0         0         0         0         0               0            0              0            0              0   \n",
       "\n",
       "   Model_captiva  Model_carisma  Model_carnival  Model_cayenne  Model_cc  Model_ceed  Model_charade  Model_cherokee  Model_citigo  Model_civic  Model_cl  Model_clio  Model_clk  Model_clubman  Model_colt  Model_combo  Model_cooper  Model_cordoba  Model_corolla  Model_corsa  Model_cr_reihe  Model_croma  Model_crossfire  Model_cuore  Model_cx_reihe  Model_defender  Model_delta  Model_discovery  Model_doblo  Model_ducato  Model_duster  Model_e_klasse  Model_elefantino  Model_eos  Model_escort  Model_espace  Model_exeo  Model_fabia  Model_fiesta  Model_focus  Model_forester  Model_forfour  Model_fortwo  Model_fox  Model_freelander  Model_fusion  Model_g_klasse  Model_galant  Model_galaxy  Model_getz  Model_gl  Model_glk  Model_golf  Model_grand  Model_i3  Model_i_reihe  Model_ibiza  Model_impreza  Model_insignia  Model_jazz  Model_jetta  Model_jimny  Model_juke  Model_justy  Model_ka  Model_kadett  Model_kaefer  Model_kalina  Model_kalos  Model_kangoo  Model_kappa  Model_kuga  \\\n",
       "0              0              0               0              0         0           0              0               0             0            0         0           0          0              0           0            0             0              0              0            0               0            0                0            0               0               0            0                0            0             0             0               0                 0          0             0             0           0            0             0            0               0              0             0          0                 0             0               0             0             0           0         0          0           1            0         0              0            0              0               0           0            0            0           0            0         0             0             0             0            0             0            0           0   \n",
       "1              0              0               0              0         0           0              0               0             0            0         0           0          0              0           0            0             0              0              0            0               0            0                0            0               0               0            0                0            0             0             0               0                 0          0             0             0           0            0             0            0               0              0             0          0                 0             0               0             0             0           0         0          0           0            0         0              0            0              0               0           0            0            0           0            0         0             0             0             0            0             0            0           0   \n",
       "2              0              0               0              0         0           0              0               0             0            0         0           0          0              0           0            0             0              0              0            0               0            0                0            0               0               0            0                0            0             0             0               0                 0          0             0             0           0            0             0            0               0              0             0          0                 0             0               0             0             0           0         0          0           0            1         0              0            0              0               0           0            0            0           0            0         0             0             0             0            0             0            0           0   \n",
       "3              0              0               0              0         0           0              0               0             0            0         0           0          0              0           0            0             0              0              0            0               0            0                0            0               0               0            0                0            0             0             0               0                 0          0             0             0           0            0             0            0               0              0             0          0                 0             0               0             0             0           0         0          0           1            0         0              0            0              0               0           0            0            0           0            0         0             0             0             0            0             0            0           0   \n",
       "4              0              0               0              0         0           0              0               0             0            0         0           0          0              0           0            0             0              0              0            0               0            0                0            0               0               0            0                0            0             0             0               0                 0          0             0             0           0            1             0            0               0              0             0          0                 0             0               0             0             0           0         0          0           0            0         0              0            0              0               0           0            0            0           0            0         0             0             0             0            0             0            0           0   \n",
       "\n",
       "   Model_laguna  Model_lancer  Model_lanos  Model_legacy  Model_leon  Model_lodgy  Model_logan  Model_lupo  Model_lybra  Model_m_klasse  Model_m_reihe  Model_materia  Model_matiz  Model_megane  Model_meriva  Model_micra  Model_mii  Model_modus  Model_mondeo  Model_move  Model_musa  Model_mustang  Model_mx_reihe  Model_navara  Model_niva  Model_note  Model_nubira  Model_octavia  Model_omega  Model_one  Model_other  Model_outlander  Model_pajero  Model_panda  Model_passat  Model_phaeton  Model_picanto  Model_polo  Model_primera  Model_ptcruiser  Model_punto  Model_q3  Model_q5  Model_q7  Model_qashqai  Model_r19  Model_range_rover  Model_range_rover_evoque  Model_range_rover_sport  Model_rangerover  Model_rav  Model_rio  Model_roadster  Model_roomster  Model_rx_reihe  Model_s60  Model_s_klasse  Model_s_max  Model_s_type  Model_samara  Model_sandero  Model_santa  Model_scenic  Model_scirocco  Model_seicento  Model_serie_2  Model_serie_3  Model_sharan  Model_signum  Model_sirion  \\\n",
       "0             0             0            0             0           0            0            0           0            0               0              0              0            0             0             0            0          0            0             0           0           0              0               0             0           0           0             0              0            0          0            0                0             0            0             0              0              0           0              0                0            0         0         0         0              0          0                  0                         0                        0                 0          0          0               0               0               0          0               0            0             0             0              0            0             0               0               0              0              0             0             0             0   \n",
       "1             0             0            0             0           0            0            0           0            0               0              0              0            0             0             0            0          0            0             0           0           0              0               0             0           0           0             0              0            0          0            0                0             0            0             0              0              0           0              0                0            0         0         0         0              0          0                  0                         0                        0                 0          0          0               0               0               0          0               0            0             0             0              0            0             0               0               0              0              0             0             0             0   \n",
       "2             0             0            0             0           0            0            0           0            0               0              0              0            0             0             0            0          0            0             0           0           0              0               0             0           0           0             0              0            0          0            0                0             0            0             0              0              0           0              0                0            0         0         0         0              0          0                  0                         0                        0                 0          0          0               0               0               0          0               0            0             0             0              0            0             0               0               0              0              0             0             0             0   \n",
       "3             0             0            0             0           0            0            0           0            0               0              0              0            0             0             0            0          0            0             0           0           0              0               0             0           0           0             0              0            0          0            0                0             0            0             0              0              0           0              0                0            0         0         0         0              0          0                  0                         0                        0                 0          0          0               0               0               0          0               0            0             0             0              0            0             0               0               0              0              0             0             0             0   \n",
       "4             0             0            0             0           0            0            0           0            0               0              0              0            0             0             0            0          0            0             0           0           0              0               0             0           0           0             0              0            0          0            0                0             0            0             0              0              0           0              0                0            0         0         0         0              0          0                  0                         0                        0                 0          0          0               0               0               0          0               0            0             0             0              0            0             0               0               0              0              0             0             0             0   \n",
       "\n",
       "   Model_sl  Model_slk  Model_sorento  Model_spark  Model_spider  Model_sportage  Model_sprinter  Model_stilo  Model_superb  Model_swift  Model_terios  Model_tigra  Model_tiguan  Model_toledo  Model_touareg  Model_touran  Model_transit  Model_transporter  Model_tt  Model_tucson  Model_twingo  Model_unknown  Model_up  Model_v40  Model_v50  Model_v60  Model_v70  Model_v_klasse  Model_vectra  Model_verso  Model_viano  Model_vito  Model_vivaro  Model_voyager  Model_wrangler  Model_x_reihe  Model_x_trail  Model_x_type  Model_xc_reihe  Model_yaris  Model_yeti  Model_ypsilon  Model_z_reihe  Model_zafira  FuelType_electric  FuelType_gasoline  FuelType_hybrid  FuelType_lpg  FuelType_other  FuelType_petrol  Brand_audi  Brand_bmw  Brand_chevrolet  Brand_chrysler  Brand_citroen  Brand_dacia  Brand_daewoo  Brand_daihatsu  Brand_fiat  Brand_ford  Brand_honda  Brand_hyundai  Brand_jaguar  Brand_jeep  Brand_kia  Brand_lada  Brand_lancia  Brand_land_rover  Brand_mazda  Brand_mercedes_benz  \\\n",
       "0         0          0              0            0             0               0               0            0             0            0             0            0             0             0              0             0              0                  0         0             0             0              0         0          0          0          0          0               0             0            0            0           0             0              0               0              0              0             0               0            0           0              0              0             0                  0                  0                0             0               0                1           0          0                0               0              0            0             0               0           0           0            0              0             0           0          0           0             0                 0            0                    0   \n",
       "1         0          0              0            0             0               0               0            0             0            0             0            0             0             0              0             0              0                  0         0             0             0              1         0          0          0          0          0               0             0            0            0           0             0              0               0              0              0             0               0            0           0              0              0             0                  0                  1                0             0               0                0           1          0                0               0              0            0             0               0           0           0            0              0             0           0          0           0             0                 0            0                    0   \n",
       "2         0          0              0            0             0               0               0            0             0            0             0            0             0             0              0             0              0                  0         0             0             0              0         0          0          0          0          0               0             0            0            0           0             0              0               0              0              0             0               0            0           0              0              0             0                  0                  1                0             0               0                0           0          0                0               0              0            0             0               0           0           0            0              0             0           1          0           0             0                 0            0                    0   \n",
       "3         0          0              0            0             0               0               0            0             0            0             0            0             0             0              0             0              0                  0         0             0             0              0         0          0          0          0          0               0             0            0            0           0             0              0               0              0              0             0               0            0           0              0              0             0                  0                  0                0             0               0                1           0          0                0               0              0            0             0               0           0           0            0              0             0           0          0           0             0                 0            0                    0   \n",
       "4         0          0              0            0             0               0               0            0             0            0             0            0             0             0              0             0              0                  0         0             0             0              0         0          0          0          0          0               0             0            0            0           0             0              0               0              0              0             0               0            0           0              0              0             0                  0                  1                0             0               0                0           0          0                0               0              0            0             0               0           0           0            0              0             0           0          0           0             0                 0            0                    0   \n",
       "\n",
       "   Brand_mini  Brand_mitsubishi  Brand_nissan  Brand_opel  Brand_peugeot  Brand_porsche  Brand_renault  Brand_rover  Brand_saab  Brand_seat  Brand_skoda  Brand_smart  Brand_sonstige_autos  Brand_subaru  Brand_suzuki  Brand_toyota  Brand_trabant  Brand_volkswagen  Brand_volvo  NotRepaired_unknown  NotRepaired_yes  \n",
       "0           0                 0             0           0              0              0              0            0           0           0            0            0                     0             0             0             0              0                 1            0                    1                0  \n",
       "1           0                 0             0           0              0              0              0            0           0           0            0            0                     0             0             0             0              0                 0            0                    0                1  \n",
       "2           0                 0             0           0              0              0              0            0           0           0            0            0                     0             0             0             0              0                 0            0                    1                0  \n",
       "3           0                 0             0           0              0              0              0            0           0           0            0            0                     0             0             0             0              0                 1            0                    0                0  \n",
       "4           0                 0             0           0              0              0              0            0           0           0            1            0                     0             0             0             0              0                 0            0                    0                0  "
      ]
     },
     "execution_count": 63,
     "metadata": {},
     "output_type": "execute_result"
    }
   ],
   "source": [
    "features.head()"
   ]
  },
  {
   "cell_type": "code",
   "execution_count": 64,
   "metadata": {},
   "outputs": [
    {
     "data": {
      "text/plain": [
       "0      480.0\n",
       "1    18300.0\n",
       "2     9800.0\n",
       "3     1500.0\n",
       "4     3600.0\n",
       "Name: Price, dtype: float64"
      ]
     },
     "execution_count": 64,
     "metadata": {},
     "output_type": "execute_result"
    }
   ],
   "source": [
    "target.head()"
   ]
  },
  {
   "cell_type": "markdown",
   "metadata": {},
   "source": [
    "Разделим датасет на Обучающую, валидационную, тестовую выборки. А также соединим обучающую и валидационную для итогового анализа."
   ]
  },
  {
   "cell_type": "code",
   "execution_count": 65,
   "metadata": {},
   "outputs": [],
   "source": [
    "X_train, temp_x, y_train, temp_y = train_test_split(features, target, test_size=0.4, random_state=RND_ST)"
   ]
  },
  {
   "cell_type": "code",
   "execution_count": 66,
   "metadata": {},
   "outputs": [],
   "source": [
    "X_valid, X_test, y_valid, y_test = train_test_split(temp_x, temp_y, test_size=0.5, random_state=RND_ST)"
   ]
  },
  {
   "cell_type": "code",
   "execution_count": 67,
   "metadata": {},
   "outputs": [],
   "source": [
    "X_temp = pd.concat([X_train, X_valid], ignore_index=True)\n",
    "Y_temp = pd.concat([y_train, y_valid], ignore_index=True)"
   ]
  },
  {
   "cell_type": "code",
   "execution_count": 68,
   "metadata": {},
   "outputs": [
    {
     "name": "stdout",
     "output_type": "stream",
     "text": [
      "196213 65404 65405 261617\n"
     ]
    }
   ],
   "source": [
    "print(X_train.shape[0], \n",
    "      X_valid.shape[0],\n",
    "      X_test.shape[0], \n",
    "      X_temp.shape[0])"
   ]
  },
  {
   "cell_type": "markdown",
   "metadata": {},
   "source": [
    "Отмасштабируем данные:"
   ]
  },
  {
   "cell_type": "code",
   "execution_count": 69,
   "metadata": {},
   "outputs": [],
   "source": [
    "numeric = ['RegistrationYear', 'Power', 'Kilometer']\n",
    "scaler = StandardScaler()\n",
    "scaler.fit(X_train[numeric])\n",
    "X_train[numeric] = scaler.transform(X_train[numeric])\n",
    "X_valid[numeric] = scaler.transform(X_valid[numeric])\n",
    "X_test[numeric] = scaler.transform(X_test[numeric])\n",
    "X_temp[numeric] = scaler.transform(X_temp[numeric])"
   ]
  },
  {
   "cell_type": "markdown",
   "metadata": {},
   "source": [
    "Создадим модель-балванку, чтобы проверять модели на адекватность."
   ]
  },
  {
   "cell_type": "code",
   "execution_count": 70,
   "metadata": {},
   "outputs": [
    {
     "name": "stdout",
     "output_type": "stream",
     "text": [
      "RMSE дамми регрессора со средним прогнозом цен на валидационной выборке = 4538.215\n",
      "\n",
      "CPU times: user 424 µs, sys: 3.66 ms, total: 4.08 ms\n",
      "Wall time: 6.38 ms\n"
     ]
    }
   ],
   "source": [
    "%%time\n",
    "\n",
    "dummy = DummyRegressor(strategy='mean')\n",
    "\n",
    "dummy.fit(X_train, y_train)\n",
    "y_pred = dummy.predict(X_valid)\n",
    "rmse_dummy = np.around(np.sqrt(mean_squared_error(y_valid, y_pred)),3)\n",
    "print('RMSE дамми регрессора со средним прогнозом цен на валидационной выборке = {}'.format(rmse_dummy))\n",
    "print()"
   ]
  },
  {
   "cell_type": "markdown",
   "metadata": {},
   "source": [
    "Модель очень сильно ошибается, на целых 4500 евро, при условии что у нас многие автомобили стоят до 2000 евро, это очень много. Единственный плюс - работает крайне быстро."
   ]
  },
  {
   "cell_type": "code",
   "execution_count": 71,
   "metadata": {},
   "outputs": [],
   "source": [
    "# разбиение на подвыборки для кросс-валидации\n",
    "kf = KFold(n_splits = 6, shuffle = True, random_state = RND_ST)\n"
   ]
  },
  {
   "cell_type": "markdown",
   "metadata": {},
   "source": [
    "Обучим следующие модели: линейная регрессия, решающее дерево, случайный лес, CatBoost, LightGBM."
   ]
  },
  {
   "cell_type": "markdown",
   "metadata": {},
   "source": [
    "### 2.1 Линейная регрессия"
   ]
  },
  {
   "cell_type": "code",
   "execution_count": 72,
   "metadata": {
    "scrolled": false
   },
   "outputs": [
    {
     "name": "stdout",
     "output_type": "stream",
     "text": [
      "RMSE Линейной регрессии на обучающей выборке: 2678.625212853981\n",
      "RMSE Линейной регрессии на валидационной выборке: 2679.9410121275087\n",
      "CPU times: user 19 s, sys: 7.72 s, total: 26.7 s\n",
      "Wall time: 26.7 s\n"
     ]
    }
   ],
   "source": [
    "%%time\n",
    "\n",
    "line_reg_model = LinearRegression().fit(X_train, y_train)\n",
    "predictions = line_reg_model.predict(X_train)\n",
    "mse = mean_squared_error(y_train, predictions)\n",
    "rmse_train = mse ** 0.5\n",
    "print(\"RMSE Линейной регрессии на обучающей выборке:\", rmse_train)\n",
    "\n",
    "predictions_valid = line_reg_model.predict(X_valid)\n",
    "mse_valid = mean_squared_error(y_valid, predictions_valid)\n",
    "rmse_valid = mse_valid ** 0.5\n",
    "print(\"RMSE Линейной регрессии на валидационной выборке:\", rmse_valid)"
   ]
  },
  {
   "cell_type": "markdown",
   "metadata": {},
   "source": [
    "### 2.2 Случайный лес"
   ]
  },
  {
   "cell_type": "code",
   "execution_count": 74,
   "metadata": {},
   "outputs": [],
   "source": [
    "'''forest = RandomForestRegressor(random_state = RND_ST)\n",
    "    \n",
    "forest_params = {'n_estimators': range(50, 81, 10),\n",
    "                 'max_depth': range(7,12)}\n",
    "\n",
    "forest_grid = GridSearchCV(forest, forest_params, cv=3)\n",
    "\n",
    "forest_grid.fit(X_train, y_train)\n",
    "\n",
    "print(\"RMSE для случайного леса составляет \", forest_grid.best_score_)\n",
    "\n",
    "\n",
    "print('Наилучшие подобранные параметры для случайного леса')\n",
    "print(forest_grid.best_params_)''';"
   ]
  },
  {
   "cell_type": "code",
   "execution_count": 75,
   "metadata": {},
   "outputs": [
    {
     "name": "stdout",
     "output_type": "stream",
     "text": [
      "RMSE случайного леса на обучающей  выборке 1522.4893975803416\n",
      "RMSE случайного леса на валидационной выборке 1710.6389874271044\n",
      "\n",
      "CPU times: user 2min 51s, sys: 188 ms, total: 2min 51s\n",
      "Wall time: 2min 52s\n"
     ]
    }
   ],
   "source": [
    "%%time\n",
    "\n",
    "rf_regr = RandomForestRegressor(max_depth = 14, n_estimators = 45, random_state = RND_ST).fit(X_train, y_train)\n",
    "       \n",
    "predictions = rf_regr.predict(X_train)\n",
    "mse = mean_squared_error(y_train, predictions)\n",
    "rmse_train = mse ** 0.5\n",
    "    \n",
    "predictions_valid = rf_regr.predict(X_valid)\n",
    "mse_valid = mean_squared_error(y_valid, predictions_valid)\n",
    "rmse_valid = mse_valid ** 0.5\n",
    "    \n",
    "print(\"RMSE случайного леса на обучающей  выборке\", rmse_train)\n",
    "print(\"RMSE случайного леса на валидационной выборке\", rmse_valid)\n",
    "print()"
   ]
  },
  {
   "cell_type": "markdown",
   "metadata": {},
   "source": [
    "### 2.3 Дерево решений"
   ]
  },
  {
   "cell_type": "code",
   "execution_count": 76,
   "metadata": {},
   "outputs": [
    {
     "data": {
      "text/plain": [
       "'%%time\\nfor depth in range(10, 20):\\n    regr = DecisionTreeRegressor(max_depth=depth, random_state = RND_ST).fit(X_train, y_train)\\n       \\n    predictions = regr.predict(X_train)\\n    mse = mean_squared_error(y_train, predictions)\\n    rmse = mse ** 0.5\\n    \\n    predictions_valid = regr.predict(X_valid)\\n    mse_valid = mean_squared_error(y_valid, predictions_valid)\\n    rmse_valid = mse_valid ** 0.5\\n    \\n    print(\"max_depth =\", depth, \":\")\\n    print(\"RMSE Дерева решений на обучающей  выборке\", rmse)\\n    print(\"RMSE Дерева решений на валидационной выборке\", rmse_valid)\\n    print()'"
      ]
     },
     "execution_count": 76,
     "metadata": {},
     "output_type": "execute_result"
    }
   ],
   "source": [
    "'''%%time\n",
    "for depth in range(10, 20):\n",
    "    regr = DecisionTreeRegressor(max_depth=depth, random_state = RND_ST).fit(X_train, y_train)\n",
    "       \n",
    "    predictions = regr.predict(X_train)\n",
    "    mse = mean_squared_error(y_train, predictions)\n",
    "    rmse = mse ** 0.5\n",
    "    \n",
    "    predictions_valid = regr.predict(X_valid)\n",
    "    mse_valid = mean_squared_error(y_valid, predictions_valid)\n",
    "    rmse_valid = mse_valid ** 0.5\n",
    "    \n",
    "    print(\"max_depth =\", depth, \":\")\n",
    "    print(\"RMSE Дерева решений на обучающей  выборке\", rmse)\n",
    "    print(\"RMSE Дерева решений на валидационной выборке\", rmse_valid)\n",
    "    print()'''"
   ]
  },
  {
   "cell_type": "markdown",
   "metadata": {},
   "source": [
    "Лучшим параметром будет 16 деревьев, будем использовать его на тесте."
   ]
  },
  {
   "cell_type": "code",
   "execution_count": 77,
   "metadata": {},
   "outputs": [
    {
     "name": "stdout",
     "output_type": "stream",
     "text": [
      "RMSE Дерева решений на обучающей  выборке 1454.2944072585572\n",
      "RMSE Дерева решений на валидационной выборке 1849.9991307938196\n",
      "\n",
      "CPU times: user 5.94 s, sys: 455 ms, total: 6.4 s\n",
      "Wall time: 6.43 s\n"
     ]
    }
   ],
   "source": [
    "%%time\n",
    "regr = (DecisionTreeRegressor(max_depth=16, random_state=RND_ST)\n",
    "        .fit(X_train, y_train)\n",
    "       )\n",
    "predictions = regr.predict(X_train)\n",
    "mse = mean_squared_error(y_train, predictions)\n",
    "rmse_train = mse ** 0.5\n",
    "    \n",
    "predictions_valid = regr.predict(X_valid)\n",
    "mse_valid = mean_squared_error(y_valid, predictions_valid)\n",
    "rmse_valid = mse_valid ** 0.5\n",
    "    \n",
    "print(\"RMSE Дерева решений на обучающей  выборке\", rmse_train)\n",
    "print(\"RMSE Дерева решений на валидационной выборке\", rmse_valid)\n",
    "print()"
   ]
  },
  {
   "cell_type": "markdown",
   "metadata": {},
   "source": [
    "### 2.4. LightGBMRegressor"
   ]
  },
  {
   "cell_type": "code",
   "execution_count": 78,
   "metadata": {},
   "outputs": [
    {
     "data": {
      "text/plain": [
       "\"%%time\\nparameters = {'max_depth': np.arange(13, 15),\\n              'n_estimators': np.arange(37, 45)\\n             }\\n\\ngs_lgbm = GridSearchCV(LGBMRegressor(random_state = RND_ST), \\n                  parameters,\\n                  cv=kf,\\n                  scoring = 'neg_mean_squared_error')\\n\\n# обучение\\ngs_lgbm.fit(X_train, y_train)\\n# просмотр лучших параметров\\ngs_lgbm.best_params_\""
      ]
     },
     "execution_count": 78,
     "metadata": {},
     "output_type": "execute_result"
    }
   ],
   "source": [
    "'''%%time\n",
    "parameters = {'max_depth': np.arange(13, 15),\n",
    "              'n_estimators': np.arange(37, 45)\n",
    "             }\n",
    "\n",
    "gs_lgbm = GridSearchCV(LGBMRegressor(random_state = RND_ST), \n",
    "                  parameters,\n",
    "                  cv=kf,\n",
    "                  scoring = 'neg_mean_squared_error')\n",
    "\n",
    "# обучение\n",
    "gs_lgbm.fit(X_train, y_train)\n",
    "# просмотр лучших параметров\n",
    "gs_lgbm.best_params_'''"
   ]
  },
  {
   "cell_type": "code",
   "execution_count": 79,
   "metadata": {},
   "outputs": [],
   "source": [
    "#gs_lgbm.best_score_"
   ]
  },
  {
   "cell_type": "code",
   "execution_count": 81,
   "metadata": {},
   "outputs": [
    {
     "name": "stdout",
     "output_type": "stream",
     "text": [
      "RMSE LightGBM на обучающей  выборке 1810.6800216442216\n",
      "RMSE LightGBM на валидационной выборке 1792.2655670701204\n",
      "CPU times: user 3min 16s, sys: 2.41 s, total: 3min 18s\n",
      "Wall time: 3min 20s\n"
     ]
    }
   ],
   "source": [
    "%%time\n",
    "model_lgb = LGBMRegressor(max_depth=13, n_estimators=44,random_state=RND_ST).fit(X_train, y_train)\n",
    "            \n",
    "\n",
    "predictions = model_lgb.predict(X_train)\n",
    "mse = mean_squared_error(y_train, predictions)\n",
    "rmse_train = mse ** 0.5\n",
    "    \n",
    "predictions_valid = model_lgb.predict(X_valid)\n",
    "mse_valid = mean_squared_error(y_valid, predictions_valid)\n",
    "rmse_valid = mse_valid ** 0.5\n",
    "print(\"RMSE LightGBM на обучающей  выборке\", rmse_train)\n",
    "print(\"RMSE LightGBM на валидационной выборке\", rmse_valid)"
   ]
  },
  {
   "cell_type": "markdown",
   "metadata": {},
   "source": [
    "### 2.5 CatBoost"
   ]
  },
  {
   "cell_type": "markdown",
   "metadata": {},
   "source": [
    "Для этой модели не обязательно кодировать категориальные признаки"
   ]
  },
  {
   "cell_type": "code",
   "execution_count": 82,
   "metadata": {},
   "outputs": [],
   "source": [
    "features = data_autos.drop('Price', axis=1)\n",
    "target = data_autos['Price']"
   ]
  },
  {
   "cell_type": "code",
   "execution_count": 83,
   "metadata": {},
   "outputs": [
    {
     "name": "stdout",
     "output_type": "stream",
     "text": [
      "196212 65405 65405 261617\n"
     ]
    }
   ],
   "source": [
    "X_train_val_c, X_test_c, y_train_val_c, y_test_c = train_test_split(\n",
    "    features, target, test_size=0.2, random_state=RND_ST)\n",
    "\n",
    " \n",
    "X_train_c, X_valid_c, y_train_c, y_valid_c = train_test_split(\n",
    "    X_train_val_c, y_train_val_c, test_size=0.25, random_state=RND_ST)\n",
    "\n",
    "X_temp_c = pd.concat([X_train_c, X_valid_c], ignore_index=True)\n",
    "Y_temp_c = pd.concat([y_train_c, y_valid_c], ignore_index=True)\n",
    "print(X_train_c.shape[0], X_valid_c.shape[0], X_test_c.shape[0], X_temp_c.shape[0])"
   ]
  },
  {
   "cell_type": "code",
   "execution_count": 84,
   "metadata": {},
   "outputs": [
    {
     "data": {
      "text/plain": [
       "Index(['VehicleType', 'RegistrationYear', 'Gearbox', 'Power', 'Model', 'Kilometer', 'FuelType', 'Brand', 'NotRepaired'], dtype='object')"
      ]
     },
     "execution_count": 84,
     "metadata": {},
     "output_type": "execute_result"
    }
   ],
   "source": [
    "X_train_c.columns"
   ]
  },
  {
   "cell_type": "code",
   "execution_count": 85,
   "metadata": {},
   "outputs": [
    {
     "data": {
      "text/html": [
       "<div>\n",
       "<style scoped>\n",
       "    .dataframe tbody tr th:only-of-type {\n",
       "        vertical-align: middle;\n",
       "    }\n",
       "\n",
       "    .dataframe tbody tr th {\n",
       "        vertical-align: top;\n",
       "    }\n",
       "\n",
       "    .dataframe thead th {\n",
       "        text-align: right;\n",
       "    }\n",
       "</style>\n",
       "<table border=\"1\" class=\"dataframe\">\n",
       "  <thead>\n",
       "    <tr style=\"text-align: right;\">\n",
       "      <th></th>\n",
       "      <th>VehicleType</th>\n",
       "      <th>RegistrationYear</th>\n",
       "      <th>Gearbox</th>\n",
       "      <th>Power</th>\n",
       "      <th>Model</th>\n",
       "      <th>Kilometer</th>\n",
       "      <th>FuelType</th>\n",
       "      <th>Brand</th>\n",
       "      <th>NotRepaired</th>\n",
       "    </tr>\n",
       "  </thead>\n",
       "  <tbody>\n",
       "    <tr>\n",
       "      <td>339291</td>\n",
       "      <td>sedan</td>\n",
       "      <td>1989</td>\n",
       "      <td>manual</td>\n",
       "      <td>26</td>\n",
       "      <td>601</td>\n",
       "      <td>40000</td>\n",
       "      <td>petrol</td>\n",
       "      <td>trabant</td>\n",
       "      <td>no</td>\n",
       "    </tr>\n",
       "    <tr>\n",
       "      <td>247217</td>\n",
       "      <td>small</td>\n",
       "      <td>1995</td>\n",
       "      <td>manual</td>\n",
       "      <td>75</td>\n",
       "      <td>2_reihe</td>\n",
       "      <td>90000</td>\n",
       "      <td>petrol</td>\n",
       "      <td>peugeot</td>\n",
       "      <td>no</td>\n",
       "    </tr>\n",
       "    <tr>\n",
       "      <td>62296</td>\n",
       "      <td>wagon</td>\n",
       "      <td>2001</td>\n",
       "      <td>manual</td>\n",
       "      <td>100</td>\n",
       "      <td>golf</td>\n",
       "      <td>150000</td>\n",
       "      <td>gasoline</td>\n",
       "      <td>volkswagen</td>\n",
       "      <td>no</td>\n",
       "    </tr>\n",
       "    <tr>\n",
       "      <td>153221</td>\n",
       "      <td>sedan</td>\n",
       "      <td>1999</td>\n",
       "      <td>manual</td>\n",
       "      <td>170</td>\n",
       "      <td>e_klasse</td>\n",
       "      <td>150000</td>\n",
       "      <td>gasoline</td>\n",
       "      <td>mercedes_benz</td>\n",
       "      <td>no</td>\n",
       "    </tr>\n",
       "    <tr>\n",
       "      <td>306494</td>\n",
       "      <td>coupe</td>\n",
       "      <td>2008</td>\n",
       "      <td>manual</td>\n",
       "      <td>177</td>\n",
       "      <td>1er</td>\n",
       "      <td>125000</td>\n",
       "      <td>gasoline</td>\n",
       "      <td>bmw</td>\n",
       "      <td>no</td>\n",
       "    </tr>\n",
       "  </tbody>\n",
       "</table>\n",
       "</div>"
      ],
      "text/plain": [
       "       VehicleType  RegistrationYear Gearbox  Power     Model  Kilometer  FuelType          Brand NotRepaired\n",
       "339291       sedan              1989  manual     26       601      40000    petrol        trabant          no\n",
       "247217       small              1995  manual     75   2_reihe      90000    petrol        peugeot          no\n",
       "62296        wagon              2001  manual    100      golf     150000  gasoline     volkswagen          no\n",
       "153221       sedan              1999  manual    170  e_klasse     150000  gasoline  mercedes_benz          no\n",
       "306494       coupe              2008  manual    177       1er     125000  gasoline            bmw          no"
      ]
     },
     "execution_count": 85,
     "metadata": {},
     "output_type": "execute_result"
    }
   ],
   "source": [
    "X_train_c.head()"
   ]
  },
  {
   "cell_type": "code",
   "execution_count": 86,
   "metadata": {},
   "outputs": [],
   "source": [
    "cat_feat = ['VehicleType', 'Gearbox', 'Model', 'FuelType', 'Brand', 'NotRepaired']\n"
   ]
  },
  {
   "cell_type": "code",
   "execution_count": 87,
   "metadata": {},
   "outputs": [],
   "source": [
    "train_pool = Pool(X_train_c, \n",
    "                  y_train_c, \n",
    "                  cat_features=cat_feat)\n",
    "\n",
    "valid_pool = Pool(X_valid_c, \n",
    "                  y_valid_c, \n",
    "                  cat_features=cat_feat)\n",
    "\n",
    "temp_pool = Pool(X_temp_c, \n",
    "                  Y_temp_c, \n",
    "                  cat_features=cat_feat)\n",
    "\n",
    "test_pool = Pool(X_test_c, \n",
    "                 cat_features=cat_feat)"
   ]
  },
  {
   "cell_type": "code",
   "execution_count": 88,
   "metadata": {},
   "outputs": [],
   "source": [
    "cbr = CatBoostRegressor(depth=6, \n",
    "                        learning_rate=1, \n",
    "                        loss_function='RMSE', \n",
    "                        verbose=50, \n",
    "                        random_state=RND_ST, \n",
    "                        iterations=500)"
   ]
  },
  {
   "cell_type": "code",
   "execution_count": 89,
   "metadata": {},
   "outputs": [
    {
     "name": "stdout",
     "output_type": "stream",
     "text": [
      "0:\tlearn: 2702.4859039\ttotal: 835ms\tremaining: 6m 56s\n",
      "50:\tlearn: 1708.7275484\ttotal: 34.8s\tremaining: 5m 6s\n",
      "100:\tlearn: 1628.6322092\ttotal: 1m 8s\tremaining: 4m 30s\n",
      "150:\tlearn: 1589.6107293\ttotal: 1m 42s\tremaining: 3m 56s\n",
      "200:\tlearn: 1560.8626183\ttotal: 2m 17s\tremaining: 3m 24s\n",
      "250:\tlearn: 1538.6323550\ttotal: 2m 50s\tremaining: 2m 49s\n",
      "300:\tlearn: 1517.7016687\ttotal: 3m 25s\tremaining: 2m 15s\n",
      "350:\tlearn: 1499.9243407\ttotal: 4m\tremaining: 1m 42s\n",
      "400:\tlearn: 1483.1114689\ttotal: 4m 36s\tremaining: 1m 8s\n",
      "450:\tlearn: 1468.8379138\ttotal: 5m 10s\tremaining: 33.7s\n",
      "499:\tlearn: 1456.0820702\ttotal: 5m 44s\tremaining: 0us\n",
      "RMSE CatBoost на обучающей  выборке 1491.9616844901736\n",
      "RMSE CatBoost на валидационной выборке 1668.683847867894\n",
      "CPU times: user 5min 20s, sys: 28.1 s, total: 5min 48s\n",
      "Wall time: 5min 51s\n"
     ]
    }
   ],
   "source": [
    "%%time\n",
    "cbr.fit(train_pool)\n",
    "predictions = cbr.predict(X_train_c)\n",
    "mse = mean_squared_error(y_train_c, predictions)\n",
    "rmse_train = mse ** 0.5\n",
    "    \n",
    "predictions_valid = cbr.predict(X_valid_c)\n",
    "mse_valid = mean_squared_error(y_valid_c, predictions_valid)\n",
    "rmse_valid = mse_valid ** 0.5\n",
    "print(\"RMSE CatBoost на обучающей  выборке\", rmse_train)\n",
    "print(\"RMSE CatBoost на валидационной выборке\", rmse_valid)"
   ]
  },
  {
   "cell_type": "markdown",
   "metadata": {},
   "source": [
    "Создадим таблицу с результатами для наглядности результатов"
   ]
  },
  {
   "cell_type": "code",
   "execution_count": 90,
   "metadata": {},
   "outputs": [],
   "source": [
    "res = {\n",
    "    'model_name':pd.Series(['Линейная регрессия','Случайный лес', 'Дерево решений', 'LightGBM','CatBoost']),\n",
    "    'time_spent':pd.Series([21.8,166,6.7,7.66,249]),\n",
    "    'rmse_train':pd.Series([2678,1522.5,1454.3,1810.3,1492]), \n",
    "    'rmse_valid':pd.Series([2680,1710.6,1850,1792.3,1668.7]),\n",
    "    'time on fit':pd.Series([0,0,0,0,0]),\n",
    "    'time on ':pd.Series([0,0,0,0,0]),\n",
    "    'rmse_test':pd.Series([0,0,0,0,0])}"
   ]
  },
  {
   "cell_type": "code",
   "execution_count": 91,
   "metadata": {},
   "outputs": [
    {
     "data": {
      "text/html": [
       "<div>\n",
       "<style scoped>\n",
       "    .dataframe tbody tr th:only-of-type {\n",
       "        vertical-align: middle;\n",
       "    }\n",
       "\n",
       "    .dataframe tbody tr th {\n",
       "        vertical-align: top;\n",
       "    }\n",
       "\n",
       "    .dataframe thead th {\n",
       "        text-align: right;\n",
       "    }\n",
       "</style>\n",
       "<table border=\"1\" class=\"dataframe\">\n",
       "  <thead>\n",
       "    <tr style=\"text-align: right;\">\n",
       "      <th></th>\n",
       "      <th>model_name</th>\n",
       "      <th>time_spent</th>\n",
       "      <th>rmse_train</th>\n",
       "      <th>rmse_valid</th>\n",
       "      <th>time on fit</th>\n",
       "      <th>time on</th>\n",
       "      <th>rmse_test</th>\n",
       "    </tr>\n",
       "  </thead>\n",
       "  <tbody>\n",
       "    <tr>\n",
       "      <td>0</td>\n",
       "      <td>Линейная регрессия</td>\n",
       "      <td>21.80</td>\n",
       "      <td>2678.0</td>\n",
       "      <td>2680.0</td>\n",
       "      <td>0</td>\n",
       "      <td>0</td>\n",
       "      <td>0</td>\n",
       "    </tr>\n",
       "    <tr>\n",
       "      <td>1</td>\n",
       "      <td>Случайный лес</td>\n",
       "      <td>166.00</td>\n",
       "      <td>1522.5</td>\n",
       "      <td>1710.6</td>\n",
       "      <td>0</td>\n",
       "      <td>0</td>\n",
       "      <td>0</td>\n",
       "    </tr>\n",
       "    <tr>\n",
       "      <td>2</td>\n",
       "      <td>Дерево решений</td>\n",
       "      <td>6.70</td>\n",
       "      <td>1454.3</td>\n",
       "      <td>1850.0</td>\n",
       "      <td>0</td>\n",
       "      <td>0</td>\n",
       "      <td>0</td>\n",
       "    </tr>\n",
       "    <tr>\n",
       "      <td>3</td>\n",
       "      <td>LightGBM</td>\n",
       "      <td>7.66</td>\n",
       "      <td>1810.3</td>\n",
       "      <td>1792.3</td>\n",
       "      <td>0</td>\n",
       "      <td>0</td>\n",
       "      <td>0</td>\n",
       "    </tr>\n",
       "    <tr>\n",
       "      <td>4</td>\n",
       "      <td>CatBoost</td>\n",
       "      <td>249.00</td>\n",
       "      <td>1492.0</td>\n",
       "      <td>1668.7</td>\n",
       "      <td>0</td>\n",
       "      <td>0</td>\n",
       "      <td>0</td>\n",
       "    </tr>\n",
       "  </tbody>\n",
       "</table>\n",
       "</div>"
      ],
      "text/plain": [
       "           model_name  time_spent  rmse_train  rmse_valid  time on fit  time on   rmse_test\n",
       "0  Линейная регрессия       21.80      2678.0      2680.0            0         0          0\n",
       "1       Случайный лес      166.00      1522.5      1710.6            0         0          0\n",
       "2      Дерево решений        6.70      1454.3      1850.0            0         0          0\n",
       "3            LightGBM        7.66      1810.3      1792.3            0         0          0\n",
       "4            CatBoost      249.00      1492.0      1668.7            0         0          0"
      ]
     },
     "execution_count": 91,
     "metadata": {},
     "output_type": "execute_result"
    }
   ],
   "source": [
    "results = pd.DataFrame(res)\n",
    "results"
   ]
  },
  {
   "cell_type": "markdown",
   "metadata": {},
   "source": [
    "## Анализ моделей"
   ]
  },
  {
   "cell_type": "markdown",
   "metadata": {},
   "source": [
    "Обучим заново наши модели на объединенной выборке из train+valid, и проверим предикты на тестовой выборке:"
   ]
  },
  {
   "cell_type": "code",
   "execution_count": 92,
   "metadata": {},
   "outputs": [
    {
     "name": "stdout",
     "output_type": "stream",
     "text": [
      "CPU times: user 23.4 s, sys: 9.85 s, total: 33.2 s\n",
      "Wall time: 33.8 s\n"
     ]
    }
   ],
   "source": [
    "%%time \n",
    "\n",
    "line_reg_model = LinearRegression().fit(X_temp, Y_temp)"
   ]
  },
  {
   "cell_type": "code",
   "execution_count": 93,
   "metadata": {},
   "outputs": [
    {
     "name": "stdout",
     "output_type": "stream",
     "text": [
      "CPU times: user 106 ms, sys: 73.2 ms, total: 179 ms\n",
      "Wall time: 189 ms\n"
     ]
    }
   ],
   "source": [
    "%%time \n",
    "\n",
    "predictions = line_reg_model.predict(X_test)"
   ]
  },
  {
   "cell_type": "code",
   "execution_count": 94,
   "metadata": {},
   "outputs": [
    {
     "name": "stdout",
     "output_type": "stream",
     "text": [
      "RMSE Линейной регрессии на тестовой выборке: 2675.306330879027\n"
     ]
    }
   ],
   "source": [
    "mse = mean_squared_error(y_test, predictions)\n",
    "rmse = mse ** 0.5\n",
    "print(\"RMSE Линейной регрессии на тестовой выборке:\", rmse)"
   ]
  },
  {
   "cell_type": "code",
   "execution_count": 95,
   "metadata": {},
   "outputs": [
    {
     "name": "stdout",
     "output_type": "stream",
     "text": [
      "CPU times: user 8.06 s, sys: 243 ms, total: 8.3 s\n",
      "Wall time: 8.34 s\n"
     ]
    }
   ],
   "source": [
    "%%time\n",
    "regr = DecisionTreeRegressor(max_depth=16, random_state=RND_ST).fit(X_temp, Y_temp)"
   ]
  },
  {
   "cell_type": "code",
   "execution_count": 96,
   "metadata": {},
   "outputs": [
    {
     "name": "stdout",
     "output_type": "stream",
     "text": [
      "CPU times: user 123 ms, sys: 46.8 ms, total: 169 ms\n",
      "Wall time: 179 ms\n"
     ]
    }
   ],
   "source": [
    "%%time\n",
    "predictions = regr.predict(X_test)"
   ]
  },
  {
   "cell_type": "code",
   "execution_count": 97,
   "metadata": {},
   "outputs": [
    {
     "name": "stdout",
     "output_type": "stream",
     "text": [
      "RMSE Дерева решений на тестовой выборке: 1811.7952046354555\n"
     ]
    }
   ],
   "source": [
    "mse = mean_squared_error(y_test, predictions)\n",
    "rmse = mse ** 0.5\n",
    "print(\"RMSE Дерева решений на тестовой выборке:\", rmse)"
   ]
  },
  {
   "cell_type": "code",
   "execution_count": 98,
   "metadata": {},
   "outputs": [
    {
     "name": "stdout",
     "output_type": "stream",
     "text": [
      "CPU times: user 3min 46s, sys: 0 ns, total: 3min 46s\n",
      "Wall time: 3min 48s\n"
     ]
    }
   ],
   "source": [
    "%%time\n",
    "rf_regr = RandomForestRegressor(max_depth = 14, n_estimators = 45, random_state = RND_ST).fit(X_temp, Y_temp) "
   ]
  },
  {
   "cell_type": "code",
   "execution_count": 99,
   "metadata": {},
   "outputs": [
    {
     "name": "stdout",
     "output_type": "stream",
     "text": [
      "CPU times: user 827 ms, sys: 0 ns, total: 827 ms\n",
      "Wall time: 842 ms\n"
     ]
    }
   ],
   "source": [
    "%%time\n",
    "predictions = rf_regr.predict(X_test)"
   ]
  },
  {
   "cell_type": "code",
   "execution_count": 100,
   "metadata": {},
   "outputs": [
    {
     "name": "stdout",
     "output_type": "stream",
     "text": [
      "RMSE Случайного леса на тестовой выборке: 1718.3929876692278\n"
     ]
    }
   ],
   "source": [
    "mse = mean_squared_error(y_test, predictions)\n",
    "rmse = mse ** 0.5\n",
    "print(\"RMSE Случайного леса на тестовой выборке:\", rmse)"
   ]
  },
  {
   "cell_type": "code",
   "execution_count": 101,
   "metadata": {},
   "outputs": [
    {
     "name": "stdout",
     "output_type": "stream",
     "text": [
      "CPU times: user 2min 58s, sys: 1.31 s, total: 3min\n",
      "Wall time: 3min 1s\n"
     ]
    }
   ],
   "source": [
    "%%time\n",
    "model_lgb = LGBMRegressor(max_depth=13, n_estimators=44,random_state=RND_ST).fit(X_temp, Y_temp)"
   ]
  },
  {
   "cell_type": "code",
   "execution_count": 102,
   "metadata": {},
   "outputs": [
    {
     "name": "stdout",
     "output_type": "stream",
     "text": [
      "CPU times: user 622 ms, sys: 94.9 ms, total: 717 ms\n",
      "Wall time: 709 ms\n"
     ]
    }
   ],
   "source": [
    "%%time\n",
    "predictions = model_lgb.predict(X_test)"
   ]
  },
  {
   "cell_type": "code",
   "execution_count": 103,
   "metadata": {},
   "outputs": [
    {
     "name": "stdout",
     "output_type": "stream",
     "text": [
      "RMSE LightGBM на тестовой выборке: 1802.4681867368818\n"
     ]
    }
   ],
   "source": [
    "mse = mean_squared_error(y_test, predictions)\n",
    "rmse = mse ** 0.5\n",
    "print(\"RMSE LightGBM на тестовой выборке:\", rmse)"
   ]
  },
  {
   "cell_type": "code",
   "execution_count": 104,
   "metadata": {},
   "outputs": [
    {
     "name": "stdout",
     "output_type": "stream",
     "text": [
      "0:\tlearn: 2735.1348756\ttotal: 998ms\tremaining: 8m 18s\n",
      "50:\tlearn: 1699.3800740\ttotal: 44.7s\tremaining: 6m 33s\n",
      "100:\tlearn: 1636.7789419\ttotal: 1m 27s\tremaining: 5m 47s\n",
      "150:\tlearn: 1595.0048151\ttotal: 2m 10s\tremaining: 5m\n",
      "200:\tlearn: 1568.6468696\ttotal: 2m 55s\tremaining: 4m 21s\n",
      "250:\tlearn: 1545.6295986\ttotal: 3m 39s\tremaining: 3m 37s\n",
      "300:\tlearn: 1524.9082593\ttotal: 4m 23s\tremaining: 2m 54s\n",
      "350:\tlearn: 1509.0490240\ttotal: 5m 6s\tremaining: 2m 10s\n",
      "400:\tlearn: 1494.3313831\ttotal: 5m 51s\tremaining: 1m 26s\n",
      "450:\tlearn: 1483.5973438\ttotal: 6m 35s\tremaining: 43s\n",
      "499:\tlearn: 1471.5595375\ttotal: 7m 20s\tremaining: 0us\n",
      "CPU times: user 6min 48s, sys: 33.9 s, total: 7min 22s\n",
      "Wall time: 7min 26s\n"
     ]
    }
   ],
   "source": [
    "%%time\n",
    "cbr = CatBoostRegressor(depth=6, learning_rate=1, loss_function = 'RMSE', verbose=50, random_state=RND_ST, iterations=500).fit(temp_pool)"
   ]
  },
  {
   "cell_type": "code",
   "execution_count": 105,
   "metadata": {},
   "outputs": [
    {
     "name": "stdout",
     "output_type": "stream",
     "text": [
      "CPU times: user 860 ms, sys: 49.6 ms, total: 910 ms\n",
      "Wall time: 1.09 s\n"
     ]
    }
   ],
   "source": [
    "%%time\n",
    "predictions = cbr.predict(X_test_c)"
   ]
  },
  {
   "cell_type": "code",
   "execution_count": 106,
   "metadata": {},
   "outputs": [
    {
     "name": "stdout",
     "output_type": "stream",
     "text": [
      "RMSE CatBoost на тестовой выборке: 1624.3747653808084\n"
     ]
    }
   ],
   "source": [
    "mse = mean_squared_error(y_test_c, predictions)\n",
    "rmse = mse ** 0.5\n",
    "print(\"RMSE CatBoost на тестовой выборке:\", rmse)"
   ]
  },
  {
   "cell_type": "code",
   "execution_count": 107,
   "metadata": {},
   "outputs": [],
   "source": [
    "res = {\n",
    "    'model_name':pd.Series(['Линейная регрессия','Случайный лес', 'Дерево решений', 'LightGBM','CatBoost']),\n",
    "    'time_spent':pd.Series([21.3,188,7.4,6.98,249]),\n",
    "    'rmse_train':pd.Series([2742.6,1573.8,1499.1,1297.4,1499.1]), \n",
    "    'rmse_valid':pd.Series([2764.5,1828.4,1970.6,1902.2,1732]),\n",
    "    'time on fit':pd.Series([28.1,223,8.35,7.3,420]),\n",
    "    'time on predict, ms':pd.Series([185,754,162,697,769]),\n",
    "    'rmse_test':pd.Series([2675,1718,1812,1802,1624])}"
   ]
  },
  {
   "cell_type": "code",
   "execution_count": 108,
   "metadata": {},
   "outputs": [
    {
     "data": {
      "text/html": [
       "<div>\n",
       "<style scoped>\n",
       "    .dataframe tbody tr th:only-of-type {\n",
       "        vertical-align: middle;\n",
       "    }\n",
       "\n",
       "    .dataframe tbody tr th {\n",
       "        vertical-align: top;\n",
       "    }\n",
       "\n",
       "    .dataframe thead th {\n",
       "        text-align: right;\n",
       "    }\n",
       "</style>\n",
       "<table border=\"1\" class=\"dataframe\">\n",
       "  <thead>\n",
       "    <tr style=\"text-align: right;\">\n",
       "      <th></th>\n",
       "      <th>model_name</th>\n",
       "      <th>time_spent</th>\n",
       "      <th>rmse_train</th>\n",
       "      <th>rmse_valid</th>\n",
       "      <th>time on fit</th>\n",
       "      <th>time on predict, ms</th>\n",
       "      <th>rmse_test</th>\n",
       "    </tr>\n",
       "  </thead>\n",
       "  <tbody>\n",
       "    <tr>\n",
       "      <td>0</td>\n",
       "      <td>Линейная регрессия</td>\n",
       "      <td>21.30</td>\n",
       "      <td>2742.6</td>\n",
       "      <td>2764.5</td>\n",
       "      <td>28.10</td>\n",
       "      <td>185</td>\n",
       "      <td>2675</td>\n",
       "    </tr>\n",
       "    <tr>\n",
       "      <td>1</td>\n",
       "      <td>Случайный лес</td>\n",
       "      <td>188.00</td>\n",
       "      <td>1573.8</td>\n",
       "      <td>1828.4</td>\n",
       "      <td>223.00</td>\n",
       "      <td>754</td>\n",
       "      <td>1718</td>\n",
       "    </tr>\n",
       "    <tr>\n",
       "      <td>2</td>\n",
       "      <td>Дерево решений</td>\n",
       "      <td>7.40</td>\n",
       "      <td>1499.1</td>\n",
       "      <td>1970.6</td>\n",
       "      <td>8.35</td>\n",
       "      <td>162</td>\n",
       "      <td>1812</td>\n",
       "    </tr>\n",
       "    <tr>\n",
       "      <td>3</td>\n",
       "      <td>LightGBM</td>\n",
       "      <td>6.98</td>\n",
       "      <td>1297.4</td>\n",
       "      <td>1902.2</td>\n",
       "      <td>7.30</td>\n",
       "      <td>697</td>\n",
       "      <td>1802</td>\n",
       "    </tr>\n",
       "    <tr>\n",
       "      <td>4</td>\n",
       "      <td>CatBoost</td>\n",
       "      <td>249.00</td>\n",
       "      <td>1499.1</td>\n",
       "      <td>1732.0</td>\n",
       "      <td>420.00</td>\n",
       "      <td>769</td>\n",
       "      <td>1624</td>\n",
       "    </tr>\n",
       "  </tbody>\n",
       "</table>\n",
       "</div>"
      ],
      "text/plain": [
       "           model_name  time_spent  rmse_train  rmse_valid  time on fit  time on predict, ms  rmse_test\n",
       "0  Линейная регрессия       21.30      2742.6      2764.5        28.10                  185       2675\n",
       "1       Случайный лес      188.00      1573.8      1828.4       223.00                  754       1718\n",
       "2      Дерево решений        7.40      1499.1      1970.6         8.35                  162       1812\n",
       "3            LightGBM        6.98      1297.4      1902.2         7.30                  697       1802\n",
       "4            CatBoost      249.00      1499.1      1732.0       420.00                  769       1624"
      ]
     },
     "execution_count": 108,
     "metadata": {},
     "output_type": "execute_result"
    }
   ],
   "source": [
    "results = pd.DataFrame(res)\n",
    "results"
   ]
  },
  {
   "cell_type": "code",
   "execution_count": 109,
   "metadata": {},
   "outputs": [
    {
     "data": {
      "text/html": [
       "<div>\n",
       "<style scoped>\n",
       "    .dataframe tbody tr th:only-of-type {\n",
       "        vertical-align: middle;\n",
       "    }\n",
       "\n",
       "    .dataframe tbody tr th {\n",
       "        vertical-align: top;\n",
       "    }\n",
       "\n",
       "    .dataframe thead th {\n",
       "        text-align: right;\n",
       "    }\n",
       "</style>\n",
       "<table border=\"1\" class=\"dataframe\">\n",
       "  <thead>\n",
       "    <tr style=\"text-align: right;\">\n",
       "      <th></th>\n",
       "      <th>model_name</th>\n",
       "      <th>time_spent</th>\n",
       "      <th>rmse_train</th>\n",
       "      <th>rmse_valid</th>\n",
       "      <th>time on fit</th>\n",
       "      <th>time on predict, ms</th>\n",
       "      <th>rmse_test</th>\n",
       "    </tr>\n",
       "  </thead>\n",
       "  <tbody>\n",
       "    <tr>\n",
       "      <td>4</td>\n",
       "      <td>CatBoost</td>\n",
       "      <td>249.00</td>\n",
       "      <td>1499.1</td>\n",
       "      <td>1732.0</td>\n",
       "      <td>420.00</td>\n",
       "      <td>769</td>\n",
       "      <td>1624</td>\n",
       "    </tr>\n",
       "    <tr>\n",
       "      <td>1</td>\n",
       "      <td>Случайный лес</td>\n",
       "      <td>188.00</td>\n",
       "      <td>1573.8</td>\n",
       "      <td>1828.4</td>\n",
       "      <td>223.00</td>\n",
       "      <td>754</td>\n",
       "      <td>1718</td>\n",
       "    </tr>\n",
       "    <tr>\n",
       "      <td>3</td>\n",
       "      <td>LightGBM</td>\n",
       "      <td>6.98</td>\n",
       "      <td>1297.4</td>\n",
       "      <td>1902.2</td>\n",
       "      <td>7.30</td>\n",
       "      <td>697</td>\n",
       "      <td>1802</td>\n",
       "    </tr>\n",
       "    <tr>\n",
       "      <td>2</td>\n",
       "      <td>Дерево решений</td>\n",
       "      <td>7.40</td>\n",
       "      <td>1499.1</td>\n",
       "      <td>1970.6</td>\n",
       "      <td>8.35</td>\n",
       "      <td>162</td>\n",
       "      <td>1812</td>\n",
       "    </tr>\n",
       "    <tr>\n",
       "      <td>0</td>\n",
       "      <td>Линейная регрессия</td>\n",
       "      <td>21.30</td>\n",
       "      <td>2742.6</td>\n",
       "      <td>2764.5</td>\n",
       "      <td>28.10</td>\n",
       "      <td>185</td>\n",
       "      <td>2675</td>\n",
       "    </tr>\n",
       "  </tbody>\n",
       "</table>\n",
       "</div>"
      ],
      "text/plain": [
       "           model_name  time_spent  rmse_train  rmse_valid  time on fit  time on predict, ms  rmse_test\n",
       "4            CatBoost      249.00      1499.1      1732.0       420.00                  769       1624\n",
       "1       Случайный лес      188.00      1573.8      1828.4       223.00                  754       1718\n",
       "3            LightGBM        6.98      1297.4      1902.2         7.30                  697       1802\n",
       "2      Дерево решений        7.40      1499.1      1970.6         8.35                  162       1812\n",
       "0  Линейная регрессия       21.30      2742.6      2764.5        28.10                  185       2675"
      ]
     },
     "execution_count": 109,
     "metadata": {},
     "output_type": "execute_result"
    }
   ],
   "source": [
    "temp = results.copy().sort_values(by=['rmse_test'])\n",
    "temp"
   ]
  },
  {
   "cell_type": "code",
   "execution_count": 110,
   "metadata": {},
   "outputs": [
    {
     "data": {
      "image/png": "[encoded data removed]",
      "text/plain": [
       "<Figure size 1008x432 with 1 Axes>"
      ]
     },
     "metadata": {
      "needs_background": "light"
     },
     "output_type": "display_data"
    }
   ],
   "source": [
    "plt.figure(figsize=(14,6))\n",
    "sns.barplot(y=temp['model_name'], x=temp['rmse_test'], orient='h')\n",
    "plt.title('Cравнение моделей по метрике RMSE', size=15);"
   ]
  },
  {
   "cell_type": "code",
   "execution_count": 111,
   "metadata": {},
   "outputs": [],
   "source": [
    "temp = results.copy().sort_values(by=['time on fit'])"
   ]
  },
  {
   "cell_type": "code",
   "execution_count": 112,
   "metadata": {},
   "outputs": [
    {
     "data": {
      "image/png": "[encoded data removed]",
      "text/plain": [
       "<Figure size 1008x432 with 1 Axes>"
      ]
     },
     "metadata": {
      "needs_background": "light"
     },
     "output_type": "display_data"
    }
   ],
   "source": [
    "plt.figure(figsize=(14,6))\n",
    "sns.barplot(y=temp['model_name'], x=temp['time on fit'], orient='h')\n",
    "plt.title('Время обучения моделей', size=15);"
   ]
  },
  {
   "cell_type": "code",
   "execution_count": 113,
   "metadata": {},
   "outputs": [],
   "source": [
    "temp = results.copy().sort_values(by=['time on predict, ms'])"
   ]
  },
  {
   "cell_type": "code",
   "execution_count": 114,
   "metadata": {},
   "outputs": [
    {
     "data": {
      "image/png": "[encoded data removed]",
      "text/plain": [
       "<Figure size 1008x432 with 1 Axes>"
      ]
     },
     "metadata": {
      "needs_background": "light"
     },
     "output_type": "display_data"
    }
   ],
   "source": [
    "plt.figure(figsize=(14,6))\n",
    "sns.barplot(y=temp['model_name'], x=temp['time on predict, ms'], orient='h')\n",
    "plt.title('Время предсказания моделей', size=15);"
   ]
  },
  {
   "cell_type": "markdown",
   "metadata": {},
   "source": [
    "Посмотрим влияние признаков на результаты моделей на примере CatBoost, LightGBM и RandomForest."
   ]
  },
  {
   "cell_type": "code",
   "execution_count": 115,
   "metadata": {},
   "outputs": [
    {
     "data": {
      "image/png": "[encoded data removed]",
      "text/plain": [
       "<Figure size 432x288 with 1 Axes>"
      ]
     },
     "metadata": {
      "needs_background": "light"
     },
     "output_type": "display_data"
    }
   ],
   "source": [
    "feature_importance = cbr.feature_importances_\n",
    "feature_list = list(X_temp_c.columns)\n",
    "feature_imp = pd.DataFrame(sorted(zip(feature_importance, feature_list)), columns=['Value','Feature'])\n",
    "sns.barplot(x=\"Value\", y=\"Feature\", data=feature_imp.sort_values(by=\"Value\", ascending=False))\n",
    "plt.title('Feature importance')\n",
    "plt.tight_layout()\n",
    "plt.show();"
   ]
  },
  {
   "cell_type": "code",
   "execution_count": 116,
   "metadata": {},
   "outputs": [
    {
     "data": {
      "image/png": "[encoded data removed]",
      "text/plain": [
       "<Figure size 432x288 with 1 Axes>"
      ]
     },
     "metadata": {
      "needs_background": "light"
     },
     "output_type": "display_data"
    }
   ],
   "source": [
    "feature_importance = model_lgb.feature_importances_\n",
    "feature_list = list(X_temp.columns)\n",
    "feature_imp = pd.DataFrame(sorted(zip(feature_importance, feature_list)), columns=['Value','Feature'])\n",
    "sns.barplot(x=\"Value\", y=\"Feature\", data=feature_imp.sort_values(by=\"Value\", ascending=False).head(10))\n",
    "plt.title('Feature importance')\n",
    "plt.tight_layout()\n",
    "plt.show();"
   ]
  },
  {
   "cell_type": "code",
   "execution_count": 117,
   "metadata": {},
   "outputs": [
    {
     "data": {
      "image/png": "[encoded data removed]",
      "text/plain": [
       "<Figure size 432x288 with 1 Axes>"
      ]
     },
     "metadata": {
      "needs_background": "light"
     },
     "output_type": "display_data"
    }
   ],
   "source": [
    "feature_importance = rf_regr.feature_importances_\n",
    "feature_list = list(X_temp.columns)\n",
    "feature_imp = pd.DataFrame(sorted(zip(feature_importance, feature_list)), columns=['Value','Feature'])\n",
    "sns.barplot(x=\"Value\", y=\"Feature\", data=feature_imp.sort_values(by=\"Value\", ascending=False).head(10))\n",
    "plt.title('Feature importance')\n",
    "plt.tight_layout()\n",
    "plt.show();"
   ]
  },
  {
   "cell_type": "markdown",
   "metadata": {},
   "source": [
    "# Вывод"
   ]
  },
  {
   "cell_type": "markdown",
   "metadata": {},
   "source": [
    "В данном проекте была поставлена задача построение модели, которая будет предсказывать цену автомобиля. Думаю можно с уверенностью сказать, что задача выполнена. Однако, данные, которые были предоставлены, имеют посредственный характер: имеется очень большое количество пропусков, пристуствуют дубликаты. Очень многие значения не соответствуют логике. Думаю отделу по сбору данных нужно работать получше. \n",
    "\n",
    "В работе были протестированы 5 моделей, все их них показали средние результаты. Наилучший показатель RMSE имеет модель CatBoost с результатом 1743. Однако эта модель обучается долго. Самой быстрой по времени обучения оказалась модель LightGM - её время обучения и предсказания заняло 7.3 секунды. По трретьему критерию - времени предсказания модели лидирует модель Случайного дерева. Она выдает прогнозы за 162 мс. Линейная регрессия полностью провалилась на тесте, показав плохие результаты по rmse. Не стоит забывать, про случайный лес, который чем-то похож на CatBoost - чуть меньше обучается, но и чуть хуже результаты. В целом заказчику нужно выбрать самый важный для него параметр и, исходя из этого, выбрать модель. \n",
    "\n",
    "Также были рассмотрены самые важные признаки для моделей. Единолично победи признак \"Год регистарции\", за ним идут \"Мощность двигателя\" и Пробег\". Брэнд и марка не сильно влияют на цену, видимо из-за того, что БУшные автомобили стоят примерно одинаково, независимо от марки. Так в признаке \"год регистрации\" пропусков не было, то стоит уделить влияние на мощность двигателя, там было очень многь пропусков и нелогичных \"нулей\" и \"10000 л.с.\". Поэтому к сбору мощности надо отнестись серьезно."
   ]
  }
 ],
 "metadata": {
  "ExecuteTimeLog": [
   {
    "duration": 603,
    "start_time": "2021-10-06T16:39:30.038Z"
   },
   {
    "duration": 723,
    "start_time": "2021-10-06T16:40:13.525Z"
   },
   {
    "duration": 19,
    "start_time": "2021-10-06T16:40:24.536Z"
   },
   {
    "duration": 115,
    "start_time": "2021-10-06T16:41:04.864Z"
   },
   {
    "duration": 98,
    "start_time": "2021-10-06T16:41:24.484Z"
   },
   {
    "duration": 309,
    "start_time": "2021-10-06T16:44:52.193Z"
   },
   {
    "duration": 1883,
    "start_time": "2021-10-06T16:44:50.621Z"
   },
   {
    "duration": 12,
    "start_time": "2021-10-06T16:44:53.026Z"
   },
   {
    "duration": 239,
    "start_time": "2021-10-06T16:45:09.819Z"
   },
   {
    "duration": 3,
    "start_time": "2021-10-06T16:45:18.504Z"
   },
   {
    "duration": 760,
    "start_time": "2021-10-06T16:45:19.235Z"
   },
   {
    "duration": 14,
    "start_time": "2021-10-06T16:45:19.997Z"
   },
   {
    "duration": 118,
    "start_time": "2021-10-06T16:45:26.756Z"
   },
   {
    "duration": 88,
    "start_time": "2021-10-06T16:45:27.726Z"
   },
   {
    "duration": 78,
    "start_time": "2021-10-06T16:46:24.029Z"
   },
   {
    "duration": 238,
    "start_time": "2021-10-06T16:46:36.176Z"
   },
   {
    "duration": 2,
    "start_time": "2021-10-06T16:47:11.896Z"
   },
   {
    "duration": 3,
    "start_time": "2021-10-06T16:47:19.498Z"
   },
   {
    "duration": 614,
    "start_time": "2021-10-06T16:47:19.503Z"
   },
   {
    "duration": 784,
    "start_time": "2021-10-06T16:47:20.119Z"
   },
   {
    "duration": 19,
    "start_time": "2021-10-06T16:47:20.905Z"
   },
   {
    "duration": 141,
    "start_time": "2021-10-06T16:47:20.925Z"
   },
   {
    "duration": 105,
    "start_time": "2021-10-06T16:47:21.068Z"
   },
   {
    "duration": 373,
    "start_time": "2021-10-06T17:03:22.852Z"
   },
   {
    "duration": 3724,
    "start_time": "2021-10-06T17:03:30.729Z"
   },
   {
    "duration": 294,
    "start_time": "2021-10-06T17:05:58.151Z"
   },
   {
    "duration": 378,
    "start_time": "2021-10-06T17:08:05.118Z"
   },
   {
    "duration": 12,
    "start_time": "2021-10-06T17:08:48.478Z"
   },
   {
    "duration": 1185,
    "start_time": "2021-10-06T17:08:51.282Z"
   },
   {
    "duration": 244,
    "start_time": "2021-10-06T17:09:04.644Z"
   },
   {
    "duration": 384,
    "start_time": "2021-10-06T17:10:28.213Z"
   },
   {
    "duration": 10,
    "start_time": "2021-10-06T17:10:56.820Z"
   },
   {
    "duration": 234,
    "start_time": "2021-10-06T17:11:12.141Z"
   },
   {
    "duration": 220,
    "start_time": "2021-10-06T17:11:15.622Z"
   },
   {
    "duration": 1899,
    "start_time": "2021-10-06T17:11:13.944Z"
   },
   {
    "duration": 382,
    "start_time": "2021-10-06T17:11:25.641Z"
   },
   {
    "duration": 11,
    "start_time": "2021-10-06T17:11:26.085Z"
   },
   {
    "duration": 227,
    "start_time": "2021-10-06T17:11:26.600Z"
   },
   {
    "duration": 3,
    "start_time": "2021-10-06T17:11:53.922Z"
   },
   {
    "duration": 587,
    "start_time": "2021-10-06T17:11:53.928Z"
   },
   {
    "duration": 788,
    "start_time": "2021-10-06T17:11:54.517Z"
   },
   {
    "duration": 19,
    "start_time": "2021-10-06T17:11:55.310Z"
   },
   {
    "duration": 117,
    "start_time": "2021-10-06T17:11:55.344Z"
   },
   {
    "duration": 100,
    "start_time": "2021-10-06T17:11:55.462Z"
   },
   {
    "duration": 390,
    "start_time": "2021-10-06T17:11:55.563Z"
   },
   {
    "duration": 385,
    "start_time": "2021-10-06T17:11:55.955Z"
   },
   {
    "duration": 11,
    "start_time": "2021-10-06T17:11:56.344Z"
   },
   {
    "duration": 285,
    "start_time": "2021-10-06T17:11:56.356Z"
   },
   {
    "duration": 227,
    "start_time": "2021-10-06T17:12:34.721Z"
   },
   {
    "duration": 219,
    "start_time": "2021-10-06T17:12:37.796Z"
   },
   {
    "duration": 228,
    "start_time": "2021-10-06T17:12:39.430Z"
   },
   {
    "duration": 377,
    "start_time": "2021-10-06T17:15:06.933Z"
   },
   {
    "duration": 12,
    "start_time": "2021-10-06T17:15:07.409Z"
   },
   {
    "duration": 238,
    "start_time": "2021-10-06T17:15:09.184Z"
   },
   {
    "duration": 3,
    "start_time": "2021-10-06T17:15:39.141Z"
   },
   {
    "duration": 587,
    "start_time": "2021-10-06T17:15:39.146Z"
   },
   {
    "duration": 723,
    "start_time": "2021-10-06T17:15:39.735Z"
   },
   {
    "duration": 19,
    "start_time": "2021-10-06T17:15:40.463Z"
   },
   {
    "duration": 134,
    "start_time": "2021-10-06T17:15:40.484Z"
   },
   {
    "duration": 95,
    "start_time": "2021-10-06T17:15:40.620Z"
   },
   {
    "duration": 419,
    "start_time": "2021-10-06T17:15:40.717Z"
   },
   {
    "duration": 409,
    "start_time": "2021-10-06T17:15:41.139Z"
   },
   {
    "duration": 2,
    "start_time": "2021-10-06T17:15:41.550Z"
   },
   {
    "duration": 30,
    "start_time": "2021-10-06T17:15:41.554Z"
   },
   {
    "duration": 15,
    "start_time": "2021-10-06T17:16:09.179Z"
   },
   {
    "duration": 20,
    "start_time": "2021-10-06T17:16:35.779Z"
   },
   {
    "duration": 440,
    "start_time": "2021-10-06T17:17:10.882Z"
   },
   {
    "duration": 116,
    "start_time": "2021-10-06T17:17:45.735Z"
   },
   {
    "duration": 272,
    "start_time": "2021-10-06T17:21:12.728Z"
   },
   {
    "duration": 112,
    "start_time": "2021-10-06T17:21:18.794Z"
   },
   {
    "duration": 113,
    "start_time": "2021-10-06T17:21:28.896Z"
   },
   {
    "duration": 4,
    "start_time": "2021-10-06T17:22:30.912Z"
   },
   {
    "duration": 247,
    "start_time": "2021-10-06T17:22:40.841Z"
   },
   {
    "duration": 424,
    "start_time": "2021-10-06T19:39:08.286Z"
   },
   {
    "duration": 4,
    "start_time": "2021-10-06T19:39:13.411Z"
   },
   {
    "duration": 769,
    "start_time": "2021-10-06T19:39:13.418Z"
   },
   {
    "duration": 1073,
    "start_time": "2021-10-06T19:39:14.191Z"
   },
   {
    "duration": 40,
    "start_time": "2021-10-06T19:39:15.268Z"
   },
   {
    "duration": 244,
    "start_time": "2021-10-06T19:39:15.311Z"
   },
   {
    "duration": 126,
    "start_time": "2021-10-06T19:39:15.558Z"
   },
   {
    "duration": 604,
    "start_time": "2021-10-06T19:39:15.687Z"
   },
   {
    "duration": 627,
    "start_time": "2021-10-06T19:39:16.293Z"
   },
   {
    "duration": 3,
    "start_time": "2021-10-06T19:39:16.926Z"
   },
   {
    "duration": 53,
    "start_time": "2021-10-06T19:39:16.932Z"
   },
   {
    "duration": 645,
    "start_time": "2021-10-06T19:39:16.989Z"
   },
   {
    "duration": 159,
    "start_time": "2021-10-06T19:39:17.636Z"
   },
   {
    "duration": 162,
    "start_time": "2021-10-06T19:39:17.797Z"
   },
   {
    "duration": 6,
    "start_time": "2021-10-06T19:39:17.961Z"
   },
   {
    "duration": 328,
    "start_time": "2021-10-06T19:39:17.969Z"
   },
   {
    "duration": 153,
    "start_time": "2021-10-06T19:39:18.300Z"
   },
   {
    "duration": 155,
    "start_time": "2021-10-06T19:39:42.653Z"
   },
   {
    "duration": 296,
    "start_time": "2021-10-06T19:40:52.666Z"
   },
   {
    "duration": 7,
    "start_time": "2021-10-06T19:44:35.485Z"
   },
   {
    "duration": 304,
    "start_time": "2021-10-06T19:44:36.360Z"
   },
   {
    "duration": 6,
    "start_time": "2021-10-06T19:45:56.711Z"
   },
   {
    "duration": 303,
    "start_time": "2021-10-06T19:45:57.197Z"
   },
   {
    "duration": 6,
    "start_time": "2021-10-06T19:47:26.031Z"
   },
   {
    "duration": 304,
    "start_time": "2021-10-06T19:47:26.276Z"
   },
   {
    "duration": 298,
    "start_time": "2021-10-06T19:48:08.246Z"
   },
   {
    "duration": 301,
    "start_time": "2021-10-06T19:48:21.819Z"
   },
   {
    "duration": 11,
    "start_time": "2021-10-06T19:48:25.627Z"
   },
   {
    "duration": 8,
    "start_time": "2021-10-06T19:48:37.890Z"
   },
   {
    "duration": 6,
    "start_time": "2021-10-06T19:49:23.989Z"
   },
   {
    "duration": 310,
    "start_time": "2021-10-06T19:49:24.582Z"
   },
   {
    "duration": 6,
    "start_time": "2021-10-06T19:49:39.352Z"
   },
   {
    "duration": 299,
    "start_time": "2021-10-06T19:49:39.831Z"
   },
   {
    "duration": 489,
    "start_time": "2021-10-06T19:50:53.867Z"
   },
   {
    "duration": 11,
    "start_time": "2021-10-06T19:51:13.606Z"
   },
   {
    "duration": 7,
    "start_time": "2021-10-06T19:51:41.948Z"
   },
   {
    "duration": 8,
    "start_time": "2021-10-06T19:52:08.107Z"
   },
   {
    "duration": 8,
    "start_time": "2021-10-06T19:52:26.455Z"
   },
   {
    "duration": 330,
    "start_time": "2021-10-06T19:52:44.691Z"
   },
   {
    "duration": 109,
    "start_time": "2021-10-06T19:52:49.655Z"
   },
   {
    "duration": 312,
    "start_time": "2021-10-06T19:52:53.561Z"
   },
   {
    "duration": 332,
    "start_time": "2021-10-06T19:53:19.924Z"
   },
   {
    "duration": 340,
    "start_time": "2021-10-06T19:53:43.755Z"
   },
   {
    "duration": 9,
    "start_time": "2021-10-06T19:53:49.291Z"
   },
   {
    "duration": 348,
    "start_time": "2021-10-06T19:53:53.788Z"
   },
   {
    "duration": 13,
    "start_time": "2021-10-06T19:53:58.440Z"
   },
   {
    "duration": 327,
    "start_time": "2021-10-06T19:54:09.619Z"
   },
   {
    "duration": 290,
    "start_time": "2021-10-06T19:54:43.905Z"
   },
   {
    "duration": 10,
    "start_time": "2021-10-06T19:54:44.355Z"
   },
   {
    "duration": 10,
    "start_time": "2021-10-06T19:54:45.378Z"
   },
   {
    "duration": 1431,
    "start_time": "2021-10-06T19:54:46.080Z"
   },
   {
    "duration": 14,
    "start_time": "2021-10-06T19:54:54.279Z"
   },
   {
    "duration": 131,
    "start_time": "2021-10-06T19:55:02.201Z"
   },
   {
    "duration": 109,
    "start_time": "2021-10-06T19:55:07.182Z"
   },
   {
    "duration": 12,
    "start_time": "2021-10-06T19:55:11.110Z"
   },
   {
    "duration": 4,
    "start_time": "2021-10-06T19:57:28.772Z"
   },
   {
    "duration": 725,
    "start_time": "2021-10-06T19:57:28.779Z"
   },
   {
    "duration": 1187,
    "start_time": "2021-10-06T19:57:29.508Z"
   },
   {
    "duration": 30,
    "start_time": "2021-10-06T19:57:30.699Z"
   },
   {
    "duration": 178,
    "start_time": "2021-10-06T19:57:30.731Z"
   },
   {
    "duration": 138,
    "start_time": "2021-10-06T19:57:30.912Z"
   },
   {
    "duration": 634,
    "start_time": "2021-10-06T19:57:31.057Z"
   },
   {
    "duration": 606,
    "start_time": "2021-10-06T19:57:31.694Z"
   },
   {
    "duration": 4,
    "start_time": "2021-10-06T19:57:32.305Z"
   },
   {
    "duration": 55,
    "start_time": "2021-10-06T19:57:32.312Z"
   },
   {
    "duration": 639,
    "start_time": "2021-10-06T19:57:32.370Z"
   },
   {
    "duration": 591,
    "start_time": "2021-10-06T19:57:33.012Z"
   },
   {
    "duration": 154,
    "start_time": "2021-10-06T19:57:33.606Z"
   },
   {
    "duration": 163,
    "start_time": "2021-10-06T19:57:33.763Z"
   },
   {
    "duration": 7,
    "start_time": "2021-10-06T19:57:33.929Z"
   },
   {
    "duration": 331,
    "start_time": "2021-10-06T19:57:33.939Z"
   },
   {
    "duration": 335,
    "start_time": "2021-10-07T18:51:23.678Z"
   },
   {
    "duration": 4,
    "start_time": "2021-10-07T18:51:28.600Z"
   },
   {
    "duration": 751,
    "start_time": "2021-10-07T18:51:28.607Z"
   },
   {
    "duration": 7718,
    "start_time": "2021-10-07T18:51:29.361Z"
   },
   {
    "duration": 29,
    "start_time": "2021-10-07T18:51:37.082Z"
   },
   {
    "duration": 180,
    "start_time": "2021-10-07T18:51:37.114Z"
   },
   {
    "duration": 131,
    "start_time": "2021-10-07T18:51:37.297Z"
   },
   {
    "duration": 632,
    "start_time": "2021-10-07T18:51:37.430Z"
   },
   {
    "duration": 672,
    "start_time": "2021-10-07T18:51:38.069Z"
   },
   {
    "duration": 3,
    "start_time": "2021-10-07T18:51:38.743Z"
   },
   {
    "duration": 48,
    "start_time": "2021-10-07T18:51:38.748Z"
   },
   {
    "duration": 657,
    "start_time": "2021-10-07T18:51:38.799Z"
   },
   {
    "duration": 162,
    "start_time": "2021-10-07T18:51:39.459Z"
   },
   {
    "duration": 166,
    "start_time": "2021-10-07T18:51:39.623Z"
   },
   {
    "duration": 6,
    "start_time": "2021-10-07T18:51:39.791Z"
   },
   {
    "duration": 433,
    "start_time": "2021-10-07T18:51:39.800Z"
   },
   {
    "duration": 3793,
    "start_time": "2021-10-07T18:51:40.236Z"
   },
   {
    "duration": 13,
    "start_time": "2021-10-07T18:52:06.237Z"
   },
   {
    "duration": 5,
    "start_time": "2021-10-09T12:29:58.754Z"
   },
   {
    "duration": 3,
    "start_time": "2021-10-09T12:30:03.047Z"
   },
   {
    "duration": 597,
    "start_time": "2021-10-09T12:30:03.052Z"
   },
   {
    "duration": 750,
    "start_time": "2021-10-09T12:30:03.651Z"
   },
   {
    "duration": 20,
    "start_time": "2021-10-09T12:30:04.403Z"
   },
   {
    "duration": 233,
    "start_time": "2021-10-09T12:30:04.425Z"
   },
   {
    "duration": 135,
    "start_time": "2021-10-09T12:30:04.660Z"
   },
   {
    "duration": 592,
    "start_time": "2021-10-09T12:30:04.797Z"
   },
   {
    "duration": 611,
    "start_time": "2021-10-09T12:30:05.391Z"
   },
   {
    "duration": 2,
    "start_time": "2021-10-09T12:30:06.005Z"
   },
   {
    "duration": 43,
    "start_time": "2021-10-09T12:30:06.009Z"
   },
   {
    "duration": 629,
    "start_time": "2021-10-09T12:30:06.054Z"
   },
   {
    "duration": 216,
    "start_time": "2021-10-09T12:30:06.685Z"
   },
   {
    "duration": 6,
    "start_time": "2021-10-09T12:30:06.903Z"
   },
   {
    "duration": 275,
    "start_time": "2021-10-09T12:30:06.910Z"
   },
   {
    "duration": 5,
    "start_time": "2021-10-09T12:30:14.682Z"
   },
   {
    "duration": 227,
    "start_time": "2021-10-09T12:30:15.104Z"
   },
   {
    "duration": 5,
    "start_time": "2021-10-09T12:30:19.253Z"
   },
   {
    "duration": 231,
    "start_time": "2021-10-09T12:30:19.515Z"
   },
   {
    "duration": 5,
    "start_time": "2021-10-09T12:30:45.944Z"
   },
   {
    "duration": 222,
    "start_time": "2021-10-09T12:30:46.212Z"
   },
   {
    "duration": 5,
    "start_time": "2021-10-09T12:34:23.374Z"
   },
   {
    "duration": 10,
    "start_time": "2021-10-09T12:34:27.722Z"
   },
   {
    "duration": 910,
    "start_time": "2021-10-09T12:38:09.656Z"
   },
   {
    "duration": 298,
    "start_time": "2021-10-09T12:40:29.070Z"
   },
   {
    "duration": 225,
    "start_time": "2021-10-09T12:40:34.373Z"
   },
   {
    "duration": 33,
    "start_time": "2021-10-09T12:41:00.560Z"
   },
   {
    "duration": 229,
    "start_time": "2021-10-09T12:42:48.465Z"
   },
   {
    "duration": 78,
    "start_time": "2021-10-09T12:42:53.992Z"
   },
   {
    "duration": 2228,
    "start_time": "2021-10-09T12:55:07.728Z"
   },
   {
    "duration": 10,
    "start_time": "2021-10-09T12:55:30.515Z"
   },
   {
    "duration": 99,
    "start_time": "2021-10-09T12:56:15.874Z"
   },
   {
    "duration": 258,
    "start_time": "2021-10-09T12:57:17.796Z"
   },
   {
    "duration": 422,
    "start_time": "2021-10-09T12:57:39.762Z"
   },
   {
    "duration": 246,
    "start_time": "2021-10-09T12:59:40.496Z"
   },
   {
    "duration": 43,
    "start_time": "2021-10-09T13:00:44.893Z"
   },
   {
    "duration": 274,
    "start_time": "2021-10-09T13:00:59.331Z"
   },
   {
    "duration": 54,
    "start_time": "2021-10-09T13:01:26.941Z"
   },
   {
    "duration": 86,
    "start_time": "2021-10-09T13:01:45.889Z"
   },
   {
    "duration": 73,
    "start_time": "2021-10-09T13:01:48.859Z"
   },
   {
    "duration": 237,
    "start_time": "2021-10-09T13:01:53.221Z"
   },
   {
    "duration": 1043,
    "start_time": "2021-10-09T13:02:30.066Z"
   },
   {
    "duration": 64,
    "start_time": "2021-10-09T13:03:00.922Z"
   },
   {
    "duration": 41,
    "start_time": "2021-10-09T13:03:12.288Z"
   },
   {
    "duration": 4,
    "start_time": "2021-10-09T13:03:40.215Z"
   },
   {
    "duration": 4,
    "start_time": "2021-10-09T13:03:52.441Z"
   },
   {
    "duration": 49,
    "start_time": "2021-10-09T13:04:02.928Z"
   },
   {
    "duration": 3,
    "start_time": "2021-10-09T13:04:03.248Z"
   },
   {
    "duration": 10,
    "start_time": "2021-10-09T13:04:43.128Z"
   },
   {
    "duration": 52,
    "start_time": "2021-10-09T13:04:52.719Z"
   },
   {
    "duration": 4,
    "start_time": "2021-10-09T13:04:53.068Z"
   },
   {
    "duration": 52,
    "start_time": "2021-10-09T13:05:01.270Z"
   },
   {
    "duration": 4,
    "start_time": "2021-10-09T13:05:01.844Z"
   },
   {
    "duration": 65,
    "start_time": "2021-10-09T13:05:49.741Z"
   },
   {
    "duration": 4,
    "start_time": "2021-10-09T13:05:49.995Z"
   },
   {
    "duration": 46,
    "start_time": "2021-10-09T13:07:40.908Z"
   },
   {
    "duration": 13,
    "start_time": "2021-10-09T13:07:51.500Z"
   },
   {
    "duration": 303,
    "start_time": "2021-10-09T13:14:42.682Z"
   },
   {
    "duration": 506,
    "start_time": "2021-10-09T13:15:28.573Z"
   },
   {
    "duration": 335,
    "start_time": "2021-10-09T13:15:32.635Z"
   },
   {
    "duration": 351,
    "start_time": "2021-10-09T13:15:39.723Z"
   },
   {
    "duration": 441,
    "start_time": "2021-10-09T13:16:19.277Z"
   },
   {
    "duration": 440,
    "start_time": "2021-10-09T13:18:42.236Z"
   },
   {
    "duration": 513,
    "start_time": "2021-10-09T13:19:00.779Z"
   },
   {
    "duration": 457,
    "start_time": "2021-10-09T13:20:04.638Z"
   },
   {
    "duration": 458,
    "start_time": "2021-10-09T13:20:08.984Z"
   },
   {
    "duration": 439,
    "start_time": "2021-10-09T13:20:13.460Z"
   },
   {
    "duration": 437,
    "start_time": "2021-10-09T13:20:18.373Z"
   },
   {
    "duration": 675,
    "start_time": "2021-10-09T13:20:24.515Z"
   },
   {
    "duration": 504,
    "start_time": "2021-10-09T13:21:04.524Z"
   },
   {
    "duration": 429,
    "start_time": "2021-10-09T13:21:57.924Z"
   },
   {
    "duration": 547,
    "start_time": "2021-10-09T13:22:03.355Z"
   },
   {
    "duration": 442,
    "start_time": "2021-10-09T13:22:20.785Z"
   },
   {
    "duration": 462,
    "start_time": "2021-10-09T13:22:27.209Z"
   },
   {
    "duration": 13,
    "start_time": "2021-10-09T13:26:55.100Z"
   },
   {
    "duration": 4,
    "start_time": "2021-10-09T13:27:07.001Z"
   },
   {
    "duration": 4,
    "start_time": "2021-10-09T13:27:12.946Z"
   },
   {
    "duration": 4,
    "start_time": "2021-10-09T13:27:30.961Z"
   },
   {
    "duration": 3,
    "start_time": "2021-10-09T13:27:40.926Z"
   },
   {
    "duration": 5,
    "start_time": "2021-10-09T13:27:45.830Z"
   },
   {
    "duration": 223,
    "start_time": "2021-10-09T13:28:23.073Z"
   },
   {
    "duration": 13,
    "start_time": "2021-10-09T13:28:27.768Z"
   },
   {
    "duration": 18,
    "start_time": "2021-10-09T13:28:33.568Z"
   },
   {
    "duration": 17,
    "start_time": "2021-10-09T13:29:21.772Z"
   },
   {
    "duration": 12,
    "start_time": "2021-10-09T13:29:44.469Z"
   },
   {
    "duration": 16,
    "start_time": "2021-10-09T13:29:56.389Z"
   },
   {
    "duration": 479,
    "start_time": "2021-10-09T13:30:10.147Z"
   },
   {
    "duration": 498,
    "start_time": "2021-10-09T13:30:26.728Z"
   },
   {
    "duration": 387,
    "start_time": "2021-10-09T13:31:41.191Z"
   },
   {
    "duration": 239,
    "start_time": "2021-10-09T13:32:18.555Z"
   },
   {
    "duration": 260,
    "start_time": "2021-10-09T13:32:22.789Z"
   },
   {
    "duration": 321,
    "start_time": "2021-10-09T13:32:27.752Z"
   },
   {
    "duration": 224,
    "start_time": "2021-10-09T13:43:37.025Z"
   },
   {
    "duration": 21,
    "start_time": "2021-10-09T13:43:44.727Z"
   },
   {
    "duration": 19,
    "start_time": "2021-10-09T13:44:37.983Z"
   },
   {
    "duration": 241,
    "start_time": "2021-10-09T13:45:57.469Z"
   },
   {
    "duration": 496,
    "start_time": "2021-10-09T13:47:13.957Z"
   },
   {
    "duration": 475,
    "start_time": "2021-10-09T13:47:45.402Z"
   },
   {
    "duration": 350,
    "start_time": "2021-10-09T13:47:55.441Z"
   },
   {
    "duration": 221,
    "start_time": "2021-10-09T13:48:11.691Z"
   },
   {
    "duration": 230,
    "start_time": "2021-10-09T13:48:28.573Z"
   },
   {
    "duration": 200,
    "start_time": "2021-10-09T13:48:32.695Z"
   },
   {
    "duration": 247,
    "start_time": "2021-10-09T13:48:46.718Z"
   },
   {
    "duration": 193,
    "start_time": "2021-10-09T13:48:54.700Z"
   },
   {
    "duration": 193,
    "start_time": "2021-10-09T13:49:19.697Z"
   },
   {
    "duration": 218,
    "start_time": "2021-10-09T13:50:06.091Z"
   },
   {
    "duration": 206,
    "start_time": "2021-10-09T13:50:20.894Z"
   },
   {
    "duration": 249,
    "start_time": "2021-10-09T13:51:10.958Z"
   },
   {
    "duration": 33,
    "start_time": "2021-10-09T14:05:05.196Z"
   },
   {
    "duration": 275,
    "start_time": "2021-10-09T14:05:29.945Z"
   },
   {
    "duration": 446,
    "start_time": "2021-10-09T14:05:47.189Z"
   },
   {
    "duration": 423,
    "start_time": "2021-10-09T14:06:02.791Z"
   },
   {
    "duration": 409,
    "start_time": "2021-10-09T14:06:37.410Z"
   },
   {
    "duration": 430,
    "start_time": "2021-10-09T14:06:44.385Z"
   },
   {
    "duration": 20,
    "start_time": "2021-10-09T14:09:08.578Z"
   },
   {
    "duration": 32,
    "start_time": "2021-10-09T14:09:20.111Z"
   },
   {
    "duration": 36,
    "start_time": "2021-10-09T14:16:34.273Z"
   },
   {
    "duration": 244,
    "start_time": "2021-10-09T14:16:59.691Z"
   },
   {
    "duration": 257,
    "start_time": "2021-10-09T14:17:09.093Z"
   },
   {
    "duration": 262,
    "start_time": "2021-10-09T14:17:30.439Z"
   },
   {
    "duration": 36,
    "start_time": "2021-10-09T14:17:35.872Z"
   },
   {
    "duration": 36,
    "start_time": "2021-10-09T14:17:49.139Z"
   },
   {
    "duration": 23,
    "start_time": "2021-10-09T14:20:01.492Z"
   },
   {
    "duration": 30,
    "start_time": "2021-10-09T14:22:19.771Z"
   },
   {
    "duration": 39,
    "start_time": "2021-10-09T14:22:40.242Z"
   },
   {
    "duration": 71,
    "start_time": "2021-10-09T14:23:47.404Z"
   },
   {
    "duration": 3932,
    "start_time": "2021-10-09T14:24:12.012Z"
   },
   {
    "duration": 15,
    "start_time": "2021-10-09T14:25:39.190Z"
   },
   {
    "duration": 18,
    "start_time": "2021-10-09T14:26:11.467Z"
   },
   {
    "duration": 35,
    "start_time": "2021-10-09T14:29:15.061Z"
   },
   {
    "duration": 261,
    "start_time": "2021-10-09T14:31:17.464Z"
   },
   {
    "duration": 42,
    "start_time": "2021-10-09T14:31:50.842Z"
   },
   {
    "duration": 198,
    "start_time": "2021-10-09T14:35:25.476Z"
   },
   {
    "duration": 735,
    "start_time": "2021-10-09T14:38:26.860Z"
   },
   {
    "duration": 512,
    "start_time": "2021-10-09T14:38:52.463Z"
   },
   {
    "duration": 39,
    "start_time": "2021-10-09T14:39:52.774Z"
   },
   {
    "duration": 29,
    "start_time": "2021-10-09T14:40:15.011Z"
   },
   {
    "duration": 410,
    "start_time": "2021-10-09T14:58:33.943Z"
   },
   {
    "duration": 399,
    "start_time": "2021-10-09T14:59:03.196Z"
   },
   {
    "duration": 422,
    "start_time": "2021-10-09T14:59:24.398Z"
   },
   {
    "duration": 229,
    "start_time": "2021-10-09T15:01:22.515Z"
   },
   {
    "duration": 300,
    "start_time": "2021-10-09T15:01:27.346Z"
   },
   {
    "duration": 226,
    "start_time": "2021-10-09T15:01:32.896Z"
   },
   {
    "duration": 230,
    "start_time": "2021-10-09T15:01:44.039Z"
   },
   {
    "duration": 223,
    "start_time": "2021-10-09T15:02:02.704Z"
   },
   {
    "duration": 332,
    "start_time": "2021-10-10T09:21:18.694Z"
   },
   {
    "duration": 4,
    "start_time": "2021-10-10T09:21:24.046Z"
   },
   {
    "duration": 1188,
    "start_time": "2021-10-10T09:21:24.053Z"
   },
   {
    "duration": 827,
    "start_time": "2021-10-10T09:21:25.243Z"
   },
   {
    "duration": 22,
    "start_time": "2021-10-10T09:21:26.076Z"
   },
   {
    "duration": 145,
    "start_time": "2021-10-10T09:21:26.101Z"
   },
   {
    "duration": 115,
    "start_time": "2021-10-10T09:21:26.249Z"
   },
   {
    "duration": 43,
    "start_time": "2021-10-10T09:21:26.367Z"
   },
   {
    "duration": 1044,
    "start_time": "2021-10-10T09:21:26.412Z"
   },
   {
    "duration": 98,
    "start_time": "2021-10-10T09:21:27.458Z"
   },
   {
    "duration": 458,
    "start_time": "2021-10-10T09:21:27.559Z"
   },
   {
    "duration": 462,
    "start_time": "2021-10-10T09:21:28.019Z"
   },
   {
    "duration": 3,
    "start_time": "2021-10-10T09:21:28.483Z"
   },
   {
    "duration": 29,
    "start_time": "2021-10-10T09:21:28.489Z"
   },
   {
    "duration": 483,
    "start_time": "2021-10-10T09:21:28.520Z"
   },
   {
    "duration": 160,
    "start_time": "2021-10-10T09:21:29.005Z"
   },
   {
    "duration": 9,
    "start_time": "2021-10-10T09:21:29.167Z"
   },
   {
    "duration": 261,
    "start_time": "2021-10-10T09:21:29.179Z"
   },
   {
    "duration": 53,
    "start_time": "2021-10-10T09:21:29.443Z"
   },
   {
    "duration": 4,
    "start_time": "2021-10-10T09:21:29.498Z"
   },
   {
    "duration": 58,
    "start_time": "2021-10-10T09:21:29.504Z"
   },
   {
    "duration": 462,
    "start_time": "2021-10-10T09:21:29.564Z"
   },
   {
    "duration": 280,
    "start_time": "2021-10-10T09:21:30.028Z"
   },
   {
    "duration": 20,
    "start_time": "2021-10-10T09:21:30.310Z"
   },
   {
    "duration": 272,
    "start_time": "2021-10-10T09:21:30.332Z"
   },
   {
    "duration": 374,
    "start_time": "2021-10-10T09:21:30.606Z"
   },
   {
    "duration": 29,
    "start_time": "2021-10-10T09:21:30.983Z"
   },
   {
    "duration": 40,
    "start_time": "2021-10-10T09:21:31.014Z"
   },
   {
    "duration": 69,
    "start_time": "2021-10-10T09:21:31.055Z"
   },
   {
    "duration": 2765,
    "start_time": "2021-10-10T09:21:31.126Z"
   },
   {
    "duration": 19,
    "start_time": "2021-10-10T09:21:33.894Z"
   },
   {
    "duration": 34,
    "start_time": "2021-10-10T09:21:33.914Z"
   },
   {
    "duration": 193,
    "start_time": "2021-10-10T09:21:33.950Z"
   },
   {
    "duration": 48,
    "start_time": "2021-10-10T09:21:34.145Z"
   },
   {
    "duration": 183,
    "start_time": "2021-10-10T09:21:34.194Z"
   },
   {
    "duration": 351,
    "start_time": "2021-10-10T09:21:34.379Z"
   },
   {
    "duration": 223,
    "start_time": "2021-10-10T09:21:34.732Z"
   },
   {
    "duration": 13,
    "start_time": "2021-10-10T09:21:34.956Z"
   },
   {
    "duration": 15,
    "start_time": "2021-10-10T09:22:14.903Z"
   },
   {
    "duration": 16,
    "start_time": "2021-10-10T09:24:44.668Z"
   },
   {
    "duration": 19,
    "start_time": "2021-10-10T09:28:40.707Z"
   },
   {
    "duration": 42,
    "start_time": "2021-10-10T09:30:23.691Z"
   },
   {
    "duration": 7,
    "start_time": "2021-10-10T09:35:06.400Z"
   },
   {
    "duration": 7,
    "start_time": "2021-10-10T09:36:04.619Z"
   },
   {
    "duration": 8,
    "start_time": "2021-10-10T09:37:05.736Z"
   },
   {
    "duration": 3,
    "start_time": "2021-10-10T09:38:27.505Z"
   },
   {
    "duration": 3572,
    "start_time": "2021-10-10T09:38:42.043Z"
   },
   {
    "duration": 5,
    "start_time": "2021-10-10T09:39:31.618Z"
   },
   {
    "duration": 6,
    "start_time": "2021-10-10T09:39:42.437Z"
   },
   {
    "duration": 5,
    "start_time": "2021-10-10T09:39:48.365Z"
   },
   {
    "duration": 7,
    "start_time": "2021-10-10T09:41:07.510Z"
   },
   {
    "duration": 48,
    "start_time": "2021-10-10T09:41:08.055Z"
   },
   {
    "duration": 3,
    "start_time": "2021-10-10T09:41:08.754Z"
   },
   {
    "duration": 3655,
    "start_time": "2021-10-10T09:41:09.244Z"
   },
   {
    "duration": 4,
    "start_time": "2021-10-10T09:41:12.901Z"
   },
   {
    "duration": 3702,
    "start_time": "2021-10-10T09:41:26.164Z"
   },
   {
    "duration": 10,
    "start_time": "2021-10-10T09:41:29.868Z"
   },
   {
    "duration": 3,
    "start_time": "2021-10-10T09:41:41.560Z"
   },
   {
    "duration": 1226,
    "start_time": "2021-10-10T09:41:41.565Z"
   },
   {
    "duration": 803,
    "start_time": "2021-10-10T09:41:42.794Z"
   },
   {
    "duration": 18,
    "start_time": "2021-10-10T09:41:43.601Z"
   },
   {
    "duration": 135,
    "start_time": "2021-10-10T09:41:43.621Z"
   },
   {
    "duration": 110,
    "start_time": "2021-10-10T09:41:43.758Z"
   },
   {
    "duration": 32,
    "start_time": "2021-10-10T09:41:43.878Z"
   },
   {
    "duration": 1014,
    "start_time": "2021-10-10T09:41:43.912Z"
   },
   {
    "duration": 90,
    "start_time": "2021-10-10T09:41:44.928Z"
   },
   {
    "duration": 419,
    "start_time": "2021-10-10T09:41:45.020Z"
   },
   {
    "duration": 448,
    "start_time": "2021-10-10T09:41:45.440Z"
   },
   {
    "duration": 2,
    "start_time": "2021-10-10T09:41:45.890Z"
   },
   {
    "duration": 27,
    "start_time": "2021-10-10T09:41:45.894Z"
   },
   {
    "duration": 554,
    "start_time": "2021-10-10T09:41:45.922Z"
   },
   {
    "duration": 120,
    "start_time": "2021-10-10T09:41:46.478Z"
   },
   {
    "duration": 4,
    "start_time": "2021-10-10T09:41:46.600Z"
   },
   {
    "duration": 245,
    "start_time": "2021-10-10T09:41:46.606Z"
   },
   {
    "duration": 49,
    "start_time": "2021-10-10T09:41:46.853Z"
   },
   {
    "duration": 3,
    "start_time": "2021-10-10T09:41:46.904Z"
   },
   {
    "duration": 69,
    "start_time": "2021-10-10T09:41:46.909Z"
   },
   {
    "duration": 443,
    "start_time": "2021-10-10T09:41:46.980Z"
   },
   {
    "duration": 271,
    "start_time": "2021-10-10T09:41:47.427Z"
   },
   {
    "duration": 20,
    "start_time": "2021-10-10T09:41:47.700Z"
   },
   {
    "duration": 244,
    "start_time": "2021-10-10T09:41:47.722Z"
   },
   {
    "duration": 347,
    "start_time": "2021-10-10T09:41:47.968Z"
   },
   {
    "duration": 19,
    "start_time": "2021-10-10T09:41:48.316Z"
   },
   {
    "duration": 54,
    "start_time": "2021-10-10T09:41:48.337Z"
   },
   {
    "duration": 36,
    "start_time": "2021-10-10T09:41:48.392Z"
   },
   {
    "duration": 2551,
    "start_time": "2021-10-10T09:41:48.430Z"
   },
   {
    "duration": 20,
    "start_time": "2021-10-10T09:41:50.982Z"
   },
   {
    "duration": 37,
    "start_time": "2021-10-10T09:41:51.004Z"
   },
   {
    "duration": 186,
    "start_time": "2021-10-10T09:41:51.043Z"
   },
   {
    "duration": 33,
    "start_time": "2021-10-10T09:41:51.230Z"
   },
   {
    "duration": 181,
    "start_time": "2021-10-10T09:41:51.265Z"
   },
   {
    "duration": 346,
    "start_time": "2021-10-10T09:41:51.448Z"
   },
   {
    "duration": 218,
    "start_time": "2021-10-10T09:41:51.795Z"
   },
   {
    "duration": 17,
    "start_time": "2021-10-10T09:41:52.015Z"
   },
   {
    "duration": 7,
    "start_time": "2021-10-10T09:41:52.033Z"
   },
   {
    "duration": 87,
    "start_time": "2021-10-10T09:41:52.042Z"
   },
   {
    "duration": 4,
    "start_time": "2021-10-10T09:41:52.130Z"
   },
   {
    "duration": 3805,
    "start_time": "2021-10-10T09:41:52.135Z"
   },
   {
    "duration": 6,
    "start_time": "2021-10-10T09:41:55.941Z"
   },
   {
    "duration": 6,
    "start_time": "2021-10-10T09:42:15.434Z"
   },
   {
    "duration": 413,
    "start_time": "2021-10-10T09:42:36.286Z"
   },
   {
    "duration": 231,
    "start_time": "2021-10-10T09:42:42.159Z"
   },
   {
    "duration": 7605,
    "start_time": "2021-10-10T09:43:21.671Z"
   },
   {
    "duration": 6,
    "start_time": "2021-10-10T09:43:38.163Z"
   },
   {
    "duration": 48,
    "start_time": "2021-10-10T09:44:23.661Z"
   },
   {
    "duration": 334,
    "start_time": "2021-10-10T09:45:15.513Z"
   },
   {
    "duration": 3,
    "start_time": "2021-10-10T09:47:25.409Z"
   },
   {
    "duration": 2251,
    "start_time": "2021-10-10T09:47:40.993Z"
   },
   {
    "duration": 3,
    "start_time": "2021-10-10T09:47:53.359Z"
   },
   {
    "duration": 3583,
    "start_time": "2021-10-10T09:47:53.530Z"
   },
   {
    "duration": 212,
    "start_time": "2021-10-10T09:48:21.421Z"
   },
   {
    "duration": 413,
    "start_time": "2021-10-10T09:48:46.008Z"
   },
   {
    "duration": 7,
    "start_time": "2021-10-10T09:49:18.087Z"
   },
   {
    "duration": 114,
    "start_time": "2021-10-10T09:49:59.263Z"
   },
   {
    "duration": 539,
    "start_time": "2021-10-10T09:56:28.303Z"
   },
   {
    "duration": 551,
    "start_time": "2021-10-10T09:57:35.288Z"
   },
   {
    "duration": 2,
    "start_time": "2021-10-10T10:05:46.981Z"
   },
   {
    "duration": 3,
    "start_time": "2021-10-10T10:06:01.219Z"
   },
   {
    "duration": 295,
    "start_time": "2021-10-10T10:06:14.630Z"
   },
   {
    "duration": 17,
    "start_time": "2021-10-10T10:06:20.248Z"
   },
   {
    "duration": 10,
    "start_time": "2021-10-10T10:06:27.042Z"
   },
   {
    "duration": 3,
    "start_time": "2021-10-10T10:07:51.394Z"
   },
   {
    "duration": 299,
    "start_time": "2021-10-10T10:14:05.369Z"
   },
   {
    "duration": 31,
    "start_time": "2021-10-10T10:14:25.065Z"
   },
   {
    "duration": 75,
    "start_time": "2021-10-10T10:14:29.255Z"
   },
   {
    "duration": 35,
    "start_time": "2021-10-10T10:16:22.527Z"
   },
   {
    "duration": 91,
    "start_time": "2021-10-10T10:16:57.083Z"
   },
   {
    "duration": 8,
    "start_time": "2021-10-10T10:16:57.300Z"
   },
   {
    "duration": 3,
    "start_time": "2021-10-10T10:17:09.011Z"
   },
   {
    "duration": 1145,
    "start_time": "2021-10-10T10:17:09.016Z"
   },
   {
    "duration": 920,
    "start_time": "2021-10-10T10:17:10.164Z"
   },
   {
    "duration": 15,
    "start_time": "2021-10-10T10:17:11.086Z"
   },
   {
    "duration": 126,
    "start_time": "2021-10-10T10:17:11.103Z"
   },
   {
    "duration": 105,
    "start_time": "2021-10-10T10:17:11.231Z"
   },
   {
    "duration": 39,
    "start_time": "2021-10-10T10:17:11.338Z"
   },
   {
    "duration": 924,
    "start_time": "2021-10-10T10:17:11.378Z"
   },
   {
    "duration": 89,
    "start_time": "2021-10-10T10:17:12.305Z"
   },
   {
    "duration": 397,
    "start_time": "2021-10-10T10:17:12.396Z"
   },
   {
    "duration": 407,
    "start_time": "2021-10-10T10:17:12.795Z"
   },
   {
    "duration": 2,
    "start_time": "2021-10-10T10:17:13.203Z"
   },
   {
    "duration": 24,
    "start_time": "2021-10-10T10:17:13.206Z"
   },
   {
    "duration": 444,
    "start_time": "2021-10-10T10:17:13.232Z"
   },
   {
    "duration": 116,
    "start_time": "2021-10-10T10:17:13.678Z"
   },
   {
    "duration": 5,
    "start_time": "2021-10-10T10:17:13.796Z"
   },
   {
    "duration": 277,
    "start_time": "2021-10-10T10:17:13.802Z"
   },
   {
    "duration": 45,
    "start_time": "2021-10-10T10:17:14.081Z"
   },
   {
    "duration": 4,
    "start_time": "2021-10-10T10:17:14.128Z"
   },
   {
    "duration": 76,
    "start_time": "2021-10-10T10:17:14.134Z"
   },
   {
    "duration": 409,
    "start_time": "2021-10-10T10:17:14.212Z"
   },
   {
    "duration": 248,
    "start_time": "2021-10-10T10:17:14.623Z"
   },
   {
    "duration": 19,
    "start_time": "2021-10-10T10:17:14.876Z"
   },
   {
    "duration": 46,
    "start_time": "2021-10-10T10:17:14.896Z"
   },
   {
    "duration": 37,
    "start_time": "2021-10-10T10:17:14.944Z"
   },
   {
    "duration": 237,
    "start_time": "2021-10-10T10:17:14.983Z"
   },
   {
    "duration": 332,
    "start_time": "2021-10-10T10:17:15.224Z"
   },
   {
    "duration": 23,
    "start_time": "2021-10-10T10:17:15.559Z"
   },
   {
    "duration": 36,
    "start_time": "2021-10-10T10:17:15.583Z"
   },
   {
    "duration": 34,
    "start_time": "2021-10-10T10:17:15.621Z"
   },
   {
    "duration": 2400,
    "start_time": "2021-10-10T10:17:15.677Z"
   },
   {
    "duration": 17,
    "start_time": "2021-10-10T10:17:18.079Z"
   },
   {
    "duration": 36,
    "start_time": "2021-10-10T10:17:18.098Z"
   },
   {
    "duration": 181,
    "start_time": "2021-10-10T10:17:18.136Z"
   },
   {
    "duration": 32,
    "start_time": "2021-10-10T10:17:18.319Z"
   },
   {
    "duration": 173,
    "start_time": "2021-10-10T10:17:18.353Z"
   },
   {
    "duration": 332,
    "start_time": "2021-10-10T10:17:18.527Z"
   },
   {
    "duration": 217,
    "start_time": "2021-10-10T10:17:18.861Z"
   },
   {
    "duration": 16,
    "start_time": "2021-10-10T10:17:19.079Z"
   },
   {
    "duration": 3624,
    "start_time": "2021-10-10T10:17:19.097Z"
   },
   {
    "duration": 7,
    "start_time": "2021-10-10T10:17:22.723Z"
   },
   {
    "duration": 146,
    "start_time": "2021-10-10T10:17:22.731Z"
   },
   {
    "duration": 3,
    "start_time": "2021-10-10T10:17:22.879Z"
   },
   {
    "duration": 3812,
    "start_time": "2021-10-10T10:17:22.884Z"
   },
   {
    "duration": 5,
    "start_time": "2021-10-10T10:17:26.697Z"
   },
   {
    "duration": 16,
    "start_time": "2021-10-10T10:17:26.704Z"
   },
   {
    "duration": 219,
    "start_time": "2021-10-10T10:17:26.722Z"
   },
   {
    "duration": 65,
    "start_time": "2021-10-10T10:17:26.943Z"
   },
   {
    "duration": 325,
    "start_time": "2021-10-10T10:17:27.010Z"
   },
   {
    "duration": 3,
    "start_time": "2021-10-10T10:17:27.336Z"
   },
   {
    "duration": 3612,
    "start_time": "2021-10-10T10:17:27.341Z"
   },
   {
    "duration": 230,
    "start_time": "2021-10-10T10:17:30.954Z"
   },
   {
    "duration": 6,
    "start_time": "2021-10-10T10:17:31.186Z"
   },
   {
    "duration": 418,
    "start_time": "2021-10-10T10:17:31.194Z"
   },
   {
    "duration": 123,
    "start_time": "2021-10-10T10:17:31.614Z"
   },
   {
    "duration": 476,
    "start_time": "2021-10-10T10:17:31.738Z"
   },
   {
    "duration": 2,
    "start_time": "2021-10-10T10:17:32.216Z"
   },
   {
    "duration": 23,
    "start_time": "2021-10-10T10:17:32.220Z"
   },
   {
    "duration": 10,
    "start_time": "2021-10-10T10:17:32.244Z"
   },
   {
    "duration": 110,
    "start_time": "2021-10-10T10:17:32.255Z"
   },
   {
    "duration": 48,
    "start_time": "2021-10-10T10:17:32.367Z"
   },
   {
    "duration": 31,
    "start_time": "2021-10-10T10:18:11.016Z"
   },
   {
    "duration": 401,
    "start_time": "2021-10-10T10:19:56.442Z"
   },
   {
    "duration": 3,
    "start_time": "2021-10-10T10:20:32.744Z"
   },
   {
    "duration": 70,
    "start_time": "2021-10-10T10:31:13.318Z"
   },
   {
    "duration": 7,
    "start_time": "2021-10-10T10:31:41.862Z"
   },
   {
    "duration": 5,
    "start_time": "2021-10-10T10:32:34.567Z"
   },
   {
    "duration": 3,
    "start_time": "2021-10-13T15:07:59.690Z"
   },
   {
    "duration": 1363,
    "start_time": "2021-10-13T15:07:59.697Z"
   },
   {
    "duration": 912,
    "start_time": "2021-10-13T15:08:01.063Z"
   },
   {
    "duration": 18,
    "start_time": "2021-10-13T15:08:01.978Z"
   },
   {
    "duration": 142,
    "start_time": "2021-10-13T15:08:01.998Z"
   },
   {
    "duration": 128,
    "start_time": "2021-10-13T15:08:02.142Z"
   },
   {
    "duration": 35,
    "start_time": "2021-10-13T15:08:02.271Z"
   },
   {
    "duration": 1253,
    "start_time": "2021-10-13T15:08:02.308Z"
   },
   {
    "duration": 96,
    "start_time": "2021-10-13T15:08:03.563Z"
   },
   {
    "duration": 489,
    "start_time": "2021-10-13T15:08:03.663Z"
   },
   {
    "duration": 507,
    "start_time": "2021-10-13T15:08:04.155Z"
   },
   {
    "duration": 2,
    "start_time": "2021-10-13T15:08:04.664Z"
   },
   {
    "duration": 53,
    "start_time": "2021-10-13T15:08:04.668Z"
   },
   {
    "duration": 531,
    "start_time": "2021-10-13T15:08:04.723Z"
   },
   {
    "duration": 132,
    "start_time": "2021-10-13T15:08:05.256Z"
   },
   {
    "duration": 4,
    "start_time": "2021-10-13T15:08:05.390Z"
   },
   {
    "duration": 291,
    "start_time": "2021-10-13T15:08:05.396Z"
   },
   {
    "duration": 60,
    "start_time": "2021-10-13T15:08:05.689Z"
   },
   {
    "duration": 4,
    "start_time": "2021-10-13T15:08:05.751Z"
   },
   {
    "duration": 85,
    "start_time": "2021-10-13T15:08:05.756Z"
   },
   {
    "duration": 442,
    "start_time": "2021-10-13T15:08:05.843Z"
   },
   {
    "duration": 279,
    "start_time": "2021-10-13T15:08:06.287Z"
   },
   {
    "duration": 25,
    "start_time": "2021-10-13T15:08:06.568Z"
   },
   {
    "duration": 70,
    "start_time": "2021-10-13T15:08:06.595Z"
   },
   {
    "duration": 22,
    "start_time": "2021-10-13T15:08:06.667Z"
   },
   {
    "duration": 267,
    "start_time": "2021-10-13T15:08:06.691Z"
   },
   {
    "duration": 440,
    "start_time": "2021-10-13T15:08:06.960Z"
   },
   {
    "duration": 20,
    "start_time": "2021-10-13T15:08:07.404Z"
   },
   {
    "duration": 58,
    "start_time": "2021-10-13T15:08:07.426Z"
   },
   {
    "duration": 37,
    "start_time": "2021-10-13T15:08:07.486Z"
   },
   {
    "duration": 2691,
    "start_time": "2021-10-13T15:08:07.525Z"
   },
   {
    "duration": 19,
    "start_time": "2021-10-13T15:08:10.218Z"
   },
   {
    "duration": 71,
    "start_time": "2021-10-13T15:08:10.239Z"
   },
   {
    "duration": 209,
    "start_time": "2021-10-13T15:08:10.312Z"
   },
   {
    "duration": 36,
    "start_time": "2021-10-13T15:08:10.523Z"
   },
   {
    "duration": 223,
    "start_time": "2021-10-13T15:08:10.561Z"
   },
   {
    "duration": 356,
    "start_time": "2021-10-13T15:08:10.786Z"
   },
   {
    "duration": 160,
    "start_time": "2021-10-13T15:08:11.149Z"
   },
   {
    "duration": 18,
    "start_time": "2021-10-13T15:08:11.312Z"
   },
   {
    "duration": 3553,
    "start_time": "2021-10-13T15:08:11.332Z"
   },
   {
    "duration": 10,
    "start_time": "2021-10-13T15:08:14.888Z"
   },
   {
    "duration": 160,
    "start_time": "2021-10-13T15:08:14.900Z"
   },
   {
    "duration": 3,
    "start_time": "2021-10-13T15:08:15.062Z"
   },
   {
    "duration": 4072,
    "start_time": "2021-10-13T15:08:15.067Z"
   },
   {
    "duration": 11,
    "start_time": "2021-10-13T15:08:19.141Z"
   },
   {
    "duration": 8,
    "start_time": "2021-10-13T15:08:19.154Z"
   },
   {
    "duration": 263,
    "start_time": "2021-10-13T15:08:19.164Z"
   },
   {
    "duration": 87,
    "start_time": "2021-10-13T15:08:19.429Z"
   },
   {
    "duration": 367,
    "start_time": "2021-10-13T15:08:19.517Z"
   },
   {
    "duration": 4,
    "start_time": "2021-10-13T15:08:19.887Z"
   },
   {
    "duration": 3865,
    "start_time": "2021-10-13T15:08:19.893Z"
   },
   {
    "duration": 243,
    "start_time": "2021-10-13T15:08:23.760Z"
   },
   {
    "duration": 9,
    "start_time": "2021-10-13T15:08:24.005Z"
   },
   {
    "duration": 444,
    "start_time": "2021-10-13T15:08:24.016Z"
   },
   {
    "duration": 127,
    "start_time": "2021-10-13T15:08:24.462Z"
   },
   {
    "duration": 520,
    "start_time": "2021-10-13T15:08:24.590Z"
   },
   {
    "duration": 3,
    "start_time": "2021-10-13T15:08:25.111Z"
   },
   {
    "duration": 33,
    "start_time": "2021-10-13T15:08:25.116Z"
   },
   {
    "duration": 12,
    "start_time": "2021-10-13T15:08:25.151Z"
   },
   {
    "duration": 109,
    "start_time": "2021-10-13T15:08:25.165Z"
   },
   {
    "duration": 37,
    "start_time": "2021-10-13T15:08:25.276Z"
   },
   {
    "duration": 64,
    "start_time": "2021-10-13T15:08:25.315Z"
   },
   {
    "duration": 4,
    "start_time": "2021-10-13T15:08:25.381Z"
   },
   {
    "duration": 9,
    "start_time": "2021-10-13T15:08:25.387Z"
   },
   {
    "duration": 351,
    "start_time": "2021-10-13T15:08:25.397Z"
   },
   {
    "duration": 41,
    "start_time": "2021-10-13T15:08:25.709Z"
   },
   {
    "duration": 219,
    "start_time": "2021-10-13T15:09:09.695Z"
   },
   {
    "duration": 168,
    "start_time": "2021-10-13T15:09:17.342Z"
   },
   {
    "duration": 8,
    "start_time": "2021-10-13T15:09:22.988Z"
   },
   {
    "duration": 8,
    "start_time": "2021-10-13T15:11:20.866Z"
   },
   {
    "duration": 162,
    "start_time": "2021-10-13T15:11:40.756Z"
   },
   {
    "duration": 3,
    "start_time": "2021-10-13T15:11:51.253Z"
   },
   {
    "duration": 1404,
    "start_time": "2021-10-13T15:11:51.258Z"
   },
   {
    "duration": 845,
    "start_time": "2021-10-13T15:11:52.665Z"
   },
   {
    "duration": 18,
    "start_time": "2021-10-13T15:11:53.511Z"
   },
   {
    "duration": 127,
    "start_time": "2021-10-13T15:11:53.531Z"
   },
   {
    "duration": 119,
    "start_time": "2021-10-13T15:11:53.660Z"
   },
   {
    "duration": 32,
    "start_time": "2021-10-13T15:11:53.781Z"
   },
   {
    "duration": 1183,
    "start_time": "2021-10-13T15:11:53.815Z"
   },
   {
    "duration": 89,
    "start_time": "2021-10-13T15:11:55.001Z"
   },
   {
    "duration": 578,
    "start_time": "2021-10-13T15:11:55.092Z"
   },
   {
    "duration": 583,
    "start_time": "2021-10-13T15:11:55.672Z"
   },
   {
    "duration": 2,
    "start_time": "2021-10-13T15:11:56.257Z"
   },
   {
    "duration": 25,
    "start_time": "2021-10-13T15:11:56.260Z"
   },
   {
    "duration": 533,
    "start_time": "2021-10-13T15:11:56.286Z"
   },
   {
    "duration": 120,
    "start_time": "2021-10-13T15:11:56.821Z"
   },
   {
    "duration": 9,
    "start_time": "2021-10-13T15:11:56.943Z"
   },
   {
    "duration": 256,
    "start_time": "2021-10-13T15:11:56.953Z"
   },
   {
    "duration": 57,
    "start_time": "2021-10-13T15:11:57.211Z"
   },
   {
    "duration": 3,
    "start_time": "2021-10-13T15:11:57.270Z"
   },
   {
    "duration": 84,
    "start_time": "2021-10-13T15:11:57.275Z"
   },
   {
    "duration": 433,
    "start_time": "2021-10-13T15:11:57.361Z"
   },
   {
    "duration": 264,
    "start_time": "2021-10-13T15:11:57.795Z"
   },
   {
    "duration": 28,
    "start_time": "2021-10-13T15:11:58.061Z"
   },
   {
    "duration": 74,
    "start_time": "2021-10-13T15:11:58.091Z"
   },
   {
    "duration": 22,
    "start_time": "2021-10-13T15:11:58.167Z"
   },
   {
    "duration": 259,
    "start_time": "2021-10-13T15:11:58.191Z"
   },
   {
    "duration": 431,
    "start_time": "2021-10-13T15:11:58.454Z"
   },
   {
    "duration": 21,
    "start_time": "2021-10-13T15:11:58.887Z"
   },
   {
    "duration": 57,
    "start_time": "2021-10-13T15:11:58.910Z"
   },
   {
    "duration": 37,
    "start_time": "2021-10-13T15:11:58.969Z"
   },
   {
    "duration": 2565,
    "start_time": "2021-10-13T15:11:59.007Z"
   },
   {
    "duration": 21,
    "start_time": "2021-10-13T15:12:01.574Z"
   },
   {
    "duration": 45,
    "start_time": "2021-10-13T15:12:01.597Z"
   },
   {
    "duration": 189,
    "start_time": "2021-10-13T15:12:01.648Z"
   },
   {
    "duration": 46,
    "start_time": "2021-10-13T15:12:01.840Z"
   },
   {
    "duration": 194,
    "start_time": "2021-10-13T15:12:01.888Z"
   },
   {
    "duration": 369,
    "start_time": "2021-10-13T15:12:02.083Z"
   },
   {
    "duration": 162,
    "start_time": "2021-10-13T15:12:02.453Z"
   },
   {
    "duration": 16,
    "start_time": "2021-10-13T15:12:02.616Z"
   },
   {
    "duration": 3354,
    "start_time": "2021-10-13T15:12:02.634Z"
   },
   {
    "duration": 8,
    "start_time": "2021-10-13T15:12:05.991Z"
   },
   {
    "duration": 164,
    "start_time": "2021-10-13T15:12:06.000Z"
   },
   {
    "duration": 4,
    "start_time": "2021-10-13T15:12:06.165Z"
   },
   {
    "duration": 3835,
    "start_time": "2021-10-13T15:12:06.170Z"
   },
   {
    "duration": 6,
    "start_time": "2021-10-13T15:12:10.007Z"
   },
   {
    "duration": 8,
    "start_time": "2021-10-13T15:12:10.014Z"
   },
   {
    "duration": 246,
    "start_time": "2021-10-13T15:12:10.024Z"
   },
   {
    "duration": 82,
    "start_time": "2021-10-13T15:12:10.272Z"
   },
   {
    "duration": 364,
    "start_time": "2021-10-13T15:12:10.356Z"
   },
   {
    "duration": 3,
    "start_time": "2021-10-13T15:12:10.722Z"
   },
   {
    "duration": 3822,
    "start_time": "2021-10-13T15:12:10.727Z"
   },
   {
    "duration": 234,
    "start_time": "2021-10-13T15:12:14.551Z"
   },
   {
    "duration": 7,
    "start_time": "2021-10-13T15:12:14.787Z"
   },
   {
    "duration": 432,
    "start_time": "2021-10-13T15:12:14.796Z"
   },
   {
    "duration": 124,
    "start_time": "2021-10-13T15:12:15.230Z"
   },
   {
    "duration": 561,
    "start_time": "2021-10-13T15:12:15.356Z"
   },
   {
    "duration": 2,
    "start_time": "2021-10-13T15:12:15.919Z"
   },
   {
    "duration": 30,
    "start_time": "2021-10-13T15:12:15.923Z"
   },
   {
    "duration": 10,
    "start_time": "2021-10-13T15:12:15.954Z"
   },
   {
    "duration": 107,
    "start_time": "2021-10-13T15:12:15.966Z"
   },
   {
    "duration": 40,
    "start_time": "2021-10-13T15:12:16.075Z"
   },
   {
    "duration": 66,
    "start_time": "2021-10-13T15:12:16.117Z"
   },
   {
    "duration": 3,
    "start_time": "2021-10-13T15:12:16.185Z"
   },
   {
    "duration": 29,
    "start_time": "2021-10-13T15:12:16.190Z"
   },
   {
    "duration": 4,
    "start_time": "2021-10-13T15:59:29.390Z"
   },
   {
    "duration": 74,
    "start_time": "2021-10-13T16:01:54.437Z"
   },
   {
    "duration": 355,
    "start_time": "2021-10-13T16:02:02.578Z"
   },
   {
    "duration": 6,
    "start_time": "2021-10-13T16:02:34.199Z"
   },
   {
    "duration": 291,
    "start_time": "2021-10-13T16:02:39.839Z"
   },
   {
    "duration": 1369,
    "start_time": "2021-10-13T16:04:01.306Z"
   },
   {
    "duration": 4,
    "start_time": "2021-10-13T16:06:06.900Z"
   },
   {
    "duration": 219,
    "start_time": "2021-10-13T16:06:30.873Z"
   },
   {
    "duration": 250,
    "start_time": "2021-10-13T16:06:45.211Z"
   },
   {
    "duration": 7,
    "start_time": "2021-10-13T16:07:48.522Z"
   },
   {
    "duration": 20,
    "start_time": "2021-10-13T16:07:58.630Z"
   },
   {
    "duration": 7,
    "start_time": "2021-10-13T16:08:58.113Z"
   },
   {
    "duration": 7,
    "start_time": "2021-10-13T16:09:06.543Z"
   },
   {
    "duration": 10,
    "start_time": "2021-10-13T16:09:39.466Z"
   },
   {
    "duration": 220,
    "start_time": "2021-10-13T16:12:07.954Z"
   },
   {
    "duration": 24,
    "start_time": "2021-10-13T16:12:27.703Z"
   },
   {
    "duration": 247,
    "start_time": "2021-10-13T16:12:36.913Z"
   },
   {
    "duration": 407,
    "start_time": "2021-10-13T16:13:21.424Z"
   },
   {
    "duration": 1330,
    "start_time": "2021-10-13T16:14:19.392Z"
   },
   {
    "duration": 1240,
    "start_time": "2021-10-13T16:14:36.885Z"
   },
   {
    "duration": 3,
    "start_time": "2021-10-13T16:15:17.816Z"
   },
   {
    "duration": 1285,
    "start_time": "2021-10-13T16:15:17.822Z"
   },
   {
    "duration": 796,
    "start_time": "2021-10-13T16:15:19.109Z"
   },
   {
    "duration": 17,
    "start_time": "2021-10-13T16:15:19.907Z"
   },
   {
    "duration": 136,
    "start_time": "2021-10-13T16:15:19.926Z"
   },
   {
    "duration": 107,
    "start_time": "2021-10-13T16:15:20.064Z"
   },
   {
    "duration": 33,
    "start_time": "2021-10-13T16:15:20.173Z"
   },
   {
    "duration": 1169,
    "start_time": "2021-10-13T16:15:20.208Z"
   },
   {
    "duration": 92,
    "start_time": "2021-10-13T16:15:21.380Z"
   },
   {
    "duration": 479,
    "start_time": "2021-10-13T16:15:21.475Z"
   },
   {
    "duration": 478,
    "start_time": "2021-10-13T16:15:21.956Z"
   },
   {
    "duration": 2,
    "start_time": "2021-10-13T16:15:22.436Z"
   },
   {
    "duration": 29,
    "start_time": "2021-10-13T16:15:22.440Z"
   },
   {
    "duration": 511,
    "start_time": "2021-10-13T16:15:22.470Z"
   },
   {
    "duration": 126,
    "start_time": "2021-10-13T16:15:22.982Z"
   },
   {
    "duration": 4,
    "start_time": "2021-10-13T16:15:23.110Z"
   },
   {
    "duration": 356,
    "start_time": "2021-10-13T16:15:23.115Z"
   },
   {
    "duration": 52,
    "start_time": "2021-10-13T16:15:23.473Z"
   },
   {
    "duration": 3,
    "start_time": "2021-10-13T16:15:23.527Z"
   },
   {
    "duration": 83,
    "start_time": "2021-10-13T16:15:23.532Z"
   },
   {
    "duration": 434,
    "start_time": "2021-10-13T16:15:23.617Z"
   },
   {
    "duration": 262,
    "start_time": "2021-10-13T16:15:24.054Z"
   },
   {
    "duration": 33,
    "start_time": "2021-10-13T16:15:24.317Z"
   },
   {
    "duration": 51,
    "start_time": "2021-10-13T16:15:24.352Z"
   },
   {
    "duration": 22,
    "start_time": "2021-10-13T16:15:24.405Z"
   },
   {
    "duration": 275,
    "start_time": "2021-10-13T16:15:24.429Z"
   },
   {
    "duration": 428,
    "start_time": "2021-10-13T16:15:24.708Z"
   },
   {
    "duration": 27,
    "start_time": "2021-10-13T16:15:25.139Z"
   },
   {
    "duration": 39,
    "start_time": "2021-10-13T16:15:25.168Z"
   },
   {
    "duration": 52,
    "start_time": "2021-10-13T16:15:25.208Z"
   },
   {
    "duration": 2599,
    "start_time": "2021-10-13T16:15:25.263Z"
   },
   {
    "duration": 20,
    "start_time": "2021-10-13T16:15:27.865Z"
   },
   {
    "duration": 35,
    "start_time": "2021-10-13T16:15:27.886Z"
   },
   {
    "duration": 202,
    "start_time": "2021-10-13T16:15:27.923Z"
   },
   {
    "duration": 42,
    "start_time": "2021-10-13T16:15:28.127Z"
   },
   {
    "duration": 192,
    "start_time": "2021-10-13T16:15:28.171Z"
   },
   {
    "duration": 352,
    "start_time": "2021-10-13T16:15:28.365Z"
   },
   {
    "duration": 166,
    "start_time": "2021-10-13T16:15:28.719Z"
   },
   {
    "duration": 16,
    "start_time": "2021-10-13T16:15:28.887Z"
   },
   {
    "duration": 3337,
    "start_time": "2021-10-13T16:15:28.905Z"
   },
   {
    "duration": 10,
    "start_time": "2021-10-13T16:15:32.245Z"
   },
   {
    "duration": 133,
    "start_time": "2021-10-13T16:15:32.257Z"
   },
   {
    "duration": 3,
    "start_time": "2021-10-13T16:15:32.392Z"
   },
   {
    "duration": 4052,
    "start_time": "2021-10-13T16:15:32.397Z"
   },
   {
    "duration": 5,
    "start_time": "2021-10-13T16:15:36.451Z"
   },
   {
    "duration": 8,
    "start_time": "2021-10-13T16:15:36.458Z"
   },
   {
    "duration": 249,
    "start_time": "2021-10-13T16:15:36.468Z"
   },
   {
    "duration": 77,
    "start_time": "2021-10-13T16:15:36.718Z"
   },
   {
    "duration": 354,
    "start_time": "2021-10-13T16:15:36.797Z"
   },
   {
    "duration": 3,
    "start_time": "2021-10-13T16:15:37.153Z"
   },
   {
    "duration": 3745,
    "start_time": "2021-10-13T16:15:37.157Z"
   },
   {
    "duration": 230,
    "start_time": "2021-10-13T16:15:40.904Z"
   },
   {
    "duration": 7,
    "start_time": "2021-10-13T16:15:41.135Z"
   },
   {
    "duration": 424,
    "start_time": "2021-10-13T16:15:41.149Z"
   },
   {
    "duration": 120,
    "start_time": "2021-10-13T16:15:41.575Z"
   },
   {
    "duration": 501,
    "start_time": "2021-10-13T16:15:41.697Z"
   },
   {
    "duration": 3,
    "start_time": "2021-10-13T16:15:42.199Z"
   },
   {
    "duration": 1373,
    "start_time": "2021-10-13T16:15:42.204Z"
   },
   {
    "duration": 31,
    "start_time": "2021-10-13T16:15:43.548Z"
   },
   {
    "duration": 30,
    "start_time": "2021-10-13T16:15:43.551Z"
   },
   {
    "duration": 28,
    "start_time": "2021-10-13T16:15:43.554Z"
   },
   {
    "duration": 25,
    "start_time": "2021-10-13T16:15:43.558Z"
   },
   {
    "duration": 18,
    "start_time": "2021-10-13T16:15:43.566Z"
   },
   {
    "duration": 17,
    "start_time": "2021-10-13T16:15:43.568Z"
   },
   {
    "duration": 16,
    "start_time": "2021-10-13T16:15:43.570Z"
   },
   {
    "duration": 15,
    "start_time": "2021-10-13T16:15:43.572Z"
   },
   {
    "duration": 13,
    "start_time": "2021-10-13T16:15:43.575Z"
   },
   {
    "duration": 5,
    "start_time": "2021-10-13T16:15:43.584Z"
   },
   {
    "duration": 4,
    "start_time": "2021-10-13T16:15:43.586Z"
   },
   {
    "duration": 227,
    "start_time": "2021-10-13T16:17:30.842Z"
   },
   {
    "duration": 410,
    "start_time": "2021-10-13T16:18:25.095Z"
   },
   {
    "duration": 3,
    "start_time": "2021-10-13T16:18:40.216Z"
   },
   {
    "duration": 20,
    "start_time": "2021-10-13T16:18:40.420Z"
   },
   {
    "duration": 12,
    "start_time": "2021-10-13T16:18:40.652Z"
   },
   {
    "duration": 87,
    "start_time": "2021-10-13T16:18:40.883Z"
   },
   {
    "duration": 41,
    "start_time": "2021-10-13T16:18:41.022Z"
   },
   {
    "duration": 79,
    "start_time": "2021-10-13T16:18:41.168Z"
   },
   {
    "duration": 5,
    "start_time": "2021-10-13T16:18:41.307Z"
   },
   {
    "duration": 149,
    "start_time": "2021-10-13T16:18:41.600Z"
   },
   {
    "duration": 7,
    "start_time": "2021-10-13T16:18:41.890Z"
   },
   {
    "duration": 4,
    "start_time": "2021-10-13T16:18:42.176Z"
   },
   {
    "duration": 254,
    "start_time": "2021-10-13T16:18:44.118Z"
   },
   {
    "duration": 1255,
    "start_time": "2021-10-13T16:19:45.632Z"
   },
   {
    "duration": 1276,
    "start_time": "2021-10-13T16:21:50.282Z"
   },
   {
    "duration": 116,
    "start_time": "2021-10-13T16:28:18.298Z"
   },
   {
    "duration": 3,
    "start_time": "2021-10-13T16:29:51.826Z"
   },
   {
    "duration": 21,
    "start_time": "2021-10-13T16:30:05.267Z"
   },
   {
    "duration": 215,
    "start_time": "2021-10-13T16:30:14.661Z"
   },
   {
    "duration": 3,
    "start_time": "2021-10-13T16:30:22.308Z"
   },
   {
    "duration": 1307,
    "start_time": "2021-10-13T16:30:22.312Z"
   },
   {
    "duration": 821,
    "start_time": "2021-10-13T16:30:23.621Z"
   },
   {
    "duration": 19,
    "start_time": "2021-10-13T16:30:24.444Z"
   },
   {
    "duration": 147,
    "start_time": "2021-10-13T16:30:24.465Z"
   },
   {
    "duration": 111,
    "start_time": "2021-10-13T16:30:24.614Z"
   },
   {
    "duration": 35,
    "start_time": "2021-10-13T16:30:24.726Z"
   },
   {
    "duration": 1048,
    "start_time": "2021-10-13T16:30:24.763Z"
   },
   {
    "duration": 86,
    "start_time": "2021-10-13T16:30:25.813Z"
   },
   {
    "duration": 448,
    "start_time": "2021-10-13T16:30:25.902Z"
   },
   {
    "duration": 466,
    "start_time": "2021-10-13T16:30:26.351Z"
   },
   {
    "duration": 2,
    "start_time": "2021-10-13T16:30:26.819Z"
   },
   {
    "duration": 35,
    "start_time": "2021-10-13T16:30:26.822Z"
   },
   {
    "duration": 491,
    "start_time": "2021-10-13T16:30:26.858Z"
   },
   {
    "duration": 118,
    "start_time": "2021-10-13T16:30:27.351Z"
   },
   {
    "duration": 5,
    "start_time": "2021-10-13T16:30:27.470Z"
   },
   {
    "duration": 258,
    "start_time": "2021-10-13T16:30:27.476Z"
   },
   {
    "duration": 56,
    "start_time": "2021-10-13T16:30:27.736Z"
   },
   {
    "duration": 3,
    "start_time": "2021-10-13T16:30:27.794Z"
   },
   {
    "duration": 75,
    "start_time": "2021-10-13T16:30:27.799Z"
   },
   {
    "duration": 433,
    "start_time": "2021-10-13T16:30:27.876Z"
   },
   {
    "duration": 261,
    "start_time": "2021-10-13T16:30:28.310Z"
   },
   {
    "duration": 24,
    "start_time": "2021-10-13T16:30:28.573Z"
   },
   {
    "duration": 69,
    "start_time": "2021-10-13T16:30:28.599Z"
   },
   {
    "duration": 21,
    "start_time": "2021-10-13T16:30:28.669Z"
   },
   {
    "duration": 257,
    "start_time": "2021-10-13T16:30:28.692Z"
   },
   {
    "duration": 424,
    "start_time": "2021-10-13T16:30:28.953Z"
   },
   {
    "duration": 20,
    "start_time": "2021-10-13T16:30:29.380Z"
   },
   {
    "duration": 55,
    "start_time": "2021-10-13T16:30:29.402Z"
   },
   {
    "duration": 35,
    "start_time": "2021-10-13T16:30:29.459Z"
   },
   {
    "duration": 2850,
    "start_time": "2021-10-13T16:30:29.496Z"
   },
   {
    "duration": 19,
    "start_time": "2021-10-13T16:30:32.347Z"
   },
   {
    "duration": 33,
    "start_time": "2021-10-13T16:30:32.368Z"
   },
   {
    "duration": 191,
    "start_time": "2021-10-13T16:30:32.403Z"
   },
   {
    "duration": 52,
    "start_time": "2021-10-13T16:30:32.596Z"
   },
   {
    "duration": 177,
    "start_time": "2021-10-13T16:30:32.650Z"
   },
   {
    "duration": 399,
    "start_time": "2021-10-13T16:30:32.829Z"
   },
   {
    "duration": 163,
    "start_time": "2021-10-13T16:30:33.230Z"
   },
   {
    "duration": 17,
    "start_time": "2021-10-13T16:30:33.395Z"
   },
   {
    "duration": 3418,
    "start_time": "2021-10-13T16:30:33.413Z"
   },
   {
    "duration": 8,
    "start_time": "2021-10-13T16:30:36.849Z"
   },
   {
    "duration": 198,
    "start_time": "2021-10-13T16:30:36.858Z"
   },
   {
    "duration": 4,
    "start_time": "2021-10-13T16:30:37.058Z"
   },
   {
    "duration": 3819,
    "start_time": "2021-10-13T16:30:37.064Z"
   },
   {
    "duration": 5,
    "start_time": "2021-10-13T16:30:40.885Z"
   },
   {
    "duration": 23,
    "start_time": "2021-10-13T16:30:40.892Z"
   },
   {
    "duration": 268,
    "start_time": "2021-10-13T16:30:40.916Z"
   },
   {
    "duration": 84,
    "start_time": "2021-10-13T16:30:41.186Z"
   },
   {
    "duration": 456,
    "start_time": "2021-10-13T16:30:41.273Z"
   },
   {
    "duration": 3,
    "start_time": "2021-10-13T16:30:41.731Z"
   },
   {
    "duration": 3756,
    "start_time": "2021-10-13T16:30:41.736Z"
   },
   {
    "duration": 237,
    "start_time": "2021-10-13T16:30:45.494Z"
   },
   {
    "duration": 7,
    "start_time": "2021-10-13T16:30:45.733Z"
   },
   {
    "duration": 445,
    "start_time": "2021-10-13T16:30:45.741Z"
   },
   {
    "duration": 129,
    "start_time": "2021-10-13T16:30:46.188Z"
   },
   {
    "duration": 569,
    "start_time": "2021-10-13T16:30:46.319Z"
   },
   {
    "duration": 130,
    "start_time": "2021-10-13T16:30:46.891Z"
   },
   {
    "duration": 3,
    "start_time": "2021-10-13T16:30:47.023Z"
   },
   {
    "duration": 45,
    "start_time": "2021-10-13T16:30:47.029Z"
   },
   {
    "duration": 3,
    "start_time": "2021-10-13T16:30:47.076Z"
   },
   {
    "duration": 329,
    "start_time": "2021-10-13T16:30:47.081Z"
   },
   {
    "duration": 29,
    "start_time": "2021-10-13T16:30:47.383Z"
   },
   {
    "duration": 26,
    "start_time": "2021-10-13T16:30:47.387Z"
   },
   {
    "duration": 25,
    "start_time": "2021-10-13T16:30:47.389Z"
   },
   {
    "duration": 24,
    "start_time": "2021-10-13T16:30:47.392Z"
   },
   {
    "duration": 22,
    "start_time": "2021-10-13T16:30:47.395Z"
   },
   {
    "duration": 20,
    "start_time": "2021-10-13T16:30:47.398Z"
   },
   {
    "duration": 19,
    "start_time": "2021-10-13T16:30:47.400Z"
   },
   {
    "duration": 18,
    "start_time": "2021-10-13T16:30:47.402Z"
   },
   {
    "duration": 17,
    "start_time": "2021-10-13T16:30:47.404Z"
   },
   {
    "duration": 15,
    "start_time": "2021-10-13T16:30:47.407Z"
   },
   {
    "duration": 998,
    "start_time": "2021-10-13T16:31:21.260Z"
   },
   {
    "duration": 202,
    "start_time": "2021-10-13T16:31:53.116Z"
   },
   {
    "duration": 100,
    "start_time": "2021-10-13T16:32:32.849Z"
   },
   {
    "duration": 5046,
    "start_time": "2021-10-13T16:32:50.346Z"
   },
   {
    "duration": 6868,
    "start_time": "2021-10-13T16:33:30.999Z"
   },
   {
    "duration": 6483,
    "start_time": "2021-10-13T16:33:42.059Z"
   },
   {
    "duration": 20,
    "start_time": "2021-10-13T16:34:09.173Z"
   },
   {
    "duration": 87,
    "start_time": "2021-10-13T16:34:28.346Z"
   },
   {
    "duration": 88,
    "start_time": "2021-10-13T16:34:41.054Z"
   },
   {
    "duration": 5,
    "start_time": "2021-10-13T16:34:52.358Z"
   },
   {
    "duration": 6,
    "start_time": "2021-10-13T16:36:34.136Z"
   },
   {
    "duration": 761,
    "start_time": "2021-10-13T16:36:34.794Z"
   },
   {
    "duration": 277,
    "start_time": "2021-10-13T16:36:36.421Z"
   },
   {
    "duration": 41,
    "start_time": "2021-10-13T16:36:36.763Z"
   },
   {
    "duration": 3,
    "start_time": "2021-10-13T16:36:38.726Z"
   },
   {
    "duration": 148,
    "start_time": "2021-10-13T16:36:38.731Z"
   },
   {
    "duration": 8,
    "start_time": "2021-10-13T16:36:38.958Z"
   },
   {
    "duration": 3,
    "start_time": "2021-10-13T16:36:43.267Z"
   },
   {
    "duration": 20946,
    "start_time": "2021-10-13T16:36:50.812Z"
   },
   {
    "duration": 21322,
    "start_time": "2021-10-13T16:39:08.332Z"
   },
   {
    "duration": 22510,
    "start_time": "2021-10-13T16:39:44.947Z"
   },
   {
    "duration": 3,
    "start_time": "2021-10-13T16:44:36.192Z"
   },
   {
    "duration": 21326,
    "start_time": "2021-10-13T16:46:10.424Z"
   },
   {
    "duration": 4,
    "start_time": "2021-10-13T16:48:12.778Z"
   },
   {
    "duration": 219,
    "start_time": "2021-10-13T16:48:13.341Z"
   },
   {
    "duration": 3,
    "start_time": "2021-10-13T16:48:23.802Z"
   },
   {
    "duration": 3,
    "start_time": "2021-10-13T16:54:23.531Z"
   },
   {
    "duration": 1283,
    "start_time": "2021-10-13T16:54:23.536Z"
   },
   {
    "duration": 810,
    "start_time": "2021-10-13T16:54:24.821Z"
   },
   {
    "duration": 20,
    "start_time": "2021-10-13T16:54:25.633Z"
   },
   {
    "duration": 128,
    "start_time": "2021-10-13T16:54:25.655Z"
   },
   {
    "duration": 109,
    "start_time": "2021-10-13T16:54:25.784Z"
   },
   {
    "duration": 31,
    "start_time": "2021-10-13T16:54:25.894Z"
   },
   {
    "duration": 1088,
    "start_time": "2021-10-13T16:54:25.927Z"
   },
   {
    "duration": 85,
    "start_time": "2021-10-13T16:54:27.018Z"
   },
   {
    "duration": 453,
    "start_time": "2021-10-13T16:54:27.105Z"
   },
   {
    "duration": 477,
    "start_time": "2021-10-13T16:54:27.560Z"
   },
   {
    "duration": 11,
    "start_time": "2021-10-13T16:54:28.039Z"
   },
   {
    "duration": 28,
    "start_time": "2021-10-13T16:54:28.052Z"
   },
   {
    "duration": 533,
    "start_time": "2021-10-13T16:54:28.082Z"
   },
   {
    "duration": 121,
    "start_time": "2021-10-13T16:54:28.617Z"
   },
   {
    "duration": 4,
    "start_time": "2021-10-13T16:54:28.740Z"
   },
   {
    "duration": 246,
    "start_time": "2021-10-13T16:54:28.749Z"
   },
   {
    "duration": 61,
    "start_time": "2021-10-13T16:54:28.997Z"
   },
   {
    "duration": 4,
    "start_time": "2021-10-13T16:54:29.059Z"
   },
   {
    "duration": 72,
    "start_time": "2021-10-13T16:54:29.065Z"
   },
   {
    "duration": 418,
    "start_time": "2021-10-13T16:54:29.150Z"
   },
   {
    "duration": 257,
    "start_time": "2021-10-13T16:54:29.571Z"
   },
   {
    "duration": 37,
    "start_time": "2021-10-13T16:54:29.830Z"
   },
   {
    "duration": 49,
    "start_time": "2021-10-13T16:54:29.869Z"
   },
   {
    "duration": 43,
    "start_time": "2021-10-13T16:54:29.920Z"
   },
   {
    "duration": 242,
    "start_time": "2021-10-13T16:54:29.965Z"
   },
   {
    "duration": 417,
    "start_time": "2021-10-13T16:54:30.210Z"
   },
   {
    "duration": 27,
    "start_time": "2021-10-13T16:54:30.629Z"
   },
   {
    "duration": 61,
    "start_time": "2021-10-13T16:54:30.658Z"
   },
   {
    "duration": 35,
    "start_time": "2021-10-13T16:54:30.721Z"
   },
   {
    "duration": 2491,
    "start_time": "2021-10-13T16:54:30.758Z"
   },
   {
    "duration": 19,
    "start_time": "2021-10-13T16:54:33.250Z"
   },
   {
    "duration": 33,
    "start_time": "2021-10-13T16:54:33.271Z"
   },
   {
    "duration": 201,
    "start_time": "2021-10-13T16:54:33.306Z"
   },
   {
    "duration": 40,
    "start_time": "2021-10-13T16:54:33.509Z"
   },
   {
    "duration": 175,
    "start_time": "2021-10-13T16:54:33.551Z"
   },
   {
    "duration": 349,
    "start_time": "2021-10-13T16:54:33.728Z"
   },
   {
    "duration": 153,
    "start_time": "2021-10-13T16:54:34.079Z"
   },
   {
    "duration": 26,
    "start_time": "2021-10-13T16:54:34.233Z"
   },
   {
    "duration": 3380,
    "start_time": "2021-10-13T16:54:34.261Z"
   },
   {
    "duration": 9,
    "start_time": "2021-10-13T16:54:37.648Z"
   },
   {
    "duration": 213,
    "start_time": "2021-10-13T16:54:37.659Z"
   },
   {
    "duration": 4,
    "start_time": "2021-10-13T16:54:37.874Z"
   },
   {
    "duration": 4155,
    "start_time": "2021-10-13T16:54:37.880Z"
   },
   {
    "duration": 5,
    "start_time": "2021-10-13T16:54:42.037Z"
   },
   {
    "duration": 5,
    "start_time": "2021-10-13T16:54:42.049Z"
   },
   {
    "duration": 240,
    "start_time": "2021-10-13T16:54:42.055Z"
   },
   {
    "duration": 85,
    "start_time": "2021-10-13T16:54:42.297Z"
   },
   {
    "duration": 336,
    "start_time": "2021-10-13T16:54:42.383Z"
   },
   {
    "duration": 3,
    "start_time": "2021-10-13T16:54:42.720Z"
   },
   {
    "duration": 3616,
    "start_time": "2021-10-13T16:54:42.725Z"
   },
   {
    "duration": 234,
    "start_time": "2021-10-13T16:54:46.342Z"
   },
   {
    "duration": 6,
    "start_time": "2021-10-13T16:54:46.578Z"
   },
   {
    "duration": 434,
    "start_time": "2021-10-13T16:54:46.586Z"
   },
   {
    "duration": 130,
    "start_time": "2021-10-13T16:54:47.022Z"
   },
   {
    "duration": 554,
    "start_time": "2021-10-13T16:54:47.154Z"
   },
   {
    "duration": 13,
    "start_time": "2021-10-13T16:54:47.710Z"
   },
   {
    "duration": 7,
    "start_time": "2021-10-13T16:54:47.724Z"
   },
   {
    "duration": 31,
    "start_time": "2021-10-13T16:54:47.733Z"
   },
   {
    "duration": 1016,
    "start_time": "2021-10-13T16:54:47.766Z"
   },
   {
    "duration": 2,
    "start_time": "2021-10-13T16:54:48.784Z"
   },
   {
    "duration": 214,
    "start_time": "2021-10-13T16:54:48.788Z"
   },
   {
    "duration": 98,
    "start_time": "2021-10-13T16:54:49.003Z"
   },
   {
    "duration": 5,
    "start_time": "2021-10-13T16:54:49.102Z"
   },
   {
    "duration": 786,
    "start_time": "2021-10-13T16:54:49.109Z"
   },
   {
    "duration": 274,
    "start_time": "2021-10-13T16:54:49.897Z"
   },
   {
    "duration": 44,
    "start_time": "2021-10-13T16:54:50.173Z"
   },
   {
    "duration": 4,
    "start_time": "2021-10-13T16:54:50.219Z"
   },
   {
    "duration": 178,
    "start_time": "2021-10-13T16:54:50.225Z"
   },
   {
    "duration": 6,
    "start_time": "2021-10-13T16:54:50.405Z"
   },
   {
    "duration": 3,
    "start_time": "2021-10-13T16:54:50.413Z"
   },
   {
    "duration": 21034,
    "start_time": "2021-10-13T16:54:50.418Z"
   },
   {
    "duration": 93,
    "start_time": "2021-10-13T16:55:11.455Z"
   },
   {
    "duration": 4,
    "start_time": "2021-10-13T16:55:11.551Z"
   },
   {
    "duration": 3,
    "start_time": "2021-10-13T16:55:33.856Z"
   },
   {
    "duration": 1257,
    "start_time": "2021-10-13T16:55:33.861Z"
   },
   {
    "duration": 843,
    "start_time": "2021-10-13T16:55:35.121Z"
   },
   {
    "duration": 17,
    "start_time": "2021-10-13T16:55:35.966Z"
   },
   {
    "duration": 132,
    "start_time": "2021-10-13T16:55:35.985Z"
   },
   {
    "duration": 112,
    "start_time": "2021-10-13T16:55:36.119Z"
   },
   {
    "duration": 32,
    "start_time": "2021-10-13T16:55:36.232Z"
   },
   {
    "duration": 1078,
    "start_time": "2021-10-13T16:55:36.266Z"
   },
   {
    "duration": 81,
    "start_time": "2021-10-13T16:55:37.346Z"
   },
   {
    "duration": 466,
    "start_time": "2021-10-13T16:55:37.428Z"
   },
   {
    "duration": 501,
    "start_time": "2021-10-13T16:55:37.896Z"
   },
   {
    "duration": 2,
    "start_time": "2021-10-13T16:55:38.398Z"
   },
   {
    "duration": 22,
    "start_time": "2021-10-13T16:55:38.402Z"
   },
   {
    "duration": 514,
    "start_time": "2021-10-13T16:55:38.426Z"
   },
   {
    "duration": 124,
    "start_time": "2021-10-13T16:55:38.942Z"
   },
   {
    "duration": 4,
    "start_time": "2021-10-13T16:55:39.069Z"
   },
   {
    "duration": 261,
    "start_time": "2021-10-13T16:55:39.075Z"
   },
   {
    "duration": 53,
    "start_time": "2021-10-13T16:55:39.338Z"
   },
   {
    "duration": 3,
    "start_time": "2021-10-13T16:55:39.393Z"
   },
   {
    "duration": 82,
    "start_time": "2021-10-13T16:55:39.398Z"
   },
   {
    "duration": 424,
    "start_time": "2021-10-13T16:55:39.482Z"
   },
   {
    "duration": 264,
    "start_time": "2021-10-13T16:55:39.908Z"
   },
   {
    "duration": 26,
    "start_time": "2021-10-13T16:55:40.176Z"
   },
   {
    "duration": 67,
    "start_time": "2021-10-13T16:55:40.205Z"
   },
   {
    "duration": 21,
    "start_time": "2021-10-13T16:55:40.274Z"
   },
   {
    "duration": 254,
    "start_time": "2021-10-13T16:55:40.297Z"
   },
   {
    "duration": 440,
    "start_time": "2021-10-13T16:55:40.553Z"
   },
   {
    "duration": 22,
    "start_time": "2021-10-13T16:55:40.995Z"
   },
   {
    "duration": 58,
    "start_time": "2021-10-13T16:55:41.019Z"
   },
   {
    "duration": 37,
    "start_time": "2021-10-13T16:55:41.079Z"
   },
   {
    "duration": 2706,
    "start_time": "2021-10-13T16:55:41.117Z"
   },
   {
    "duration": 24,
    "start_time": "2021-10-13T16:55:43.825Z"
   },
   {
    "duration": 34,
    "start_time": "2021-10-13T16:55:43.851Z"
   },
   {
    "duration": 200,
    "start_time": "2021-10-13T16:55:43.887Z"
   },
   {
    "duration": 34,
    "start_time": "2021-10-13T16:55:44.089Z"
   },
   {
    "duration": 185,
    "start_time": "2021-10-13T16:55:44.125Z"
   },
   {
    "duration": 338,
    "start_time": "2021-10-13T16:55:44.312Z"
   },
   {
    "duration": 155,
    "start_time": "2021-10-13T16:55:44.651Z"
   },
   {
    "duration": 16,
    "start_time": "2021-10-13T16:55:44.807Z"
   },
   {
    "duration": 3211,
    "start_time": "2021-10-13T16:55:44.824Z"
   },
   {
    "duration": 7,
    "start_time": "2021-10-13T16:55:48.049Z"
   },
   {
    "duration": 135,
    "start_time": "2021-10-13T16:55:48.057Z"
   },
   {
    "duration": 55,
    "start_time": "2021-10-13T16:55:48.194Z"
   },
   {
    "duration": 3962,
    "start_time": "2021-10-13T16:55:48.251Z"
   },
   {
    "duration": 5,
    "start_time": "2021-10-13T16:55:52.215Z"
   },
   {
    "duration": 14,
    "start_time": "2021-10-13T16:55:52.222Z"
   },
   {
    "duration": 231,
    "start_time": "2021-10-13T16:55:52.238Z"
   },
   {
    "duration": 78,
    "start_time": "2021-10-13T16:55:52.471Z"
   },
   {
    "duration": 332,
    "start_time": "2021-10-13T16:55:52.550Z"
   },
   {
    "duration": 3,
    "start_time": "2021-10-13T16:55:52.883Z"
   },
   {
    "duration": 3695,
    "start_time": "2021-10-13T16:55:52.888Z"
   },
   {
    "duration": 223,
    "start_time": "2021-10-13T16:55:56.585Z"
   },
   {
    "duration": 6,
    "start_time": "2021-10-13T16:55:56.810Z"
   },
   {
    "duration": 424,
    "start_time": "2021-10-13T16:55:56.818Z"
   },
   {
    "duration": 121,
    "start_time": "2021-10-13T16:55:57.248Z"
   },
   {
    "duration": 533,
    "start_time": "2021-10-13T16:55:57.371Z"
   },
   {
    "duration": 15,
    "start_time": "2021-10-13T16:55:57.906Z"
   },
   {
    "duration": 12,
    "start_time": "2021-10-13T16:55:57.922Z"
   },
   {
    "duration": 40,
    "start_time": "2021-10-13T16:55:57.936Z"
   },
   {
    "duration": 1007,
    "start_time": "2021-10-13T16:55:57.978Z"
   },
   {
    "duration": 2,
    "start_time": "2021-10-13T16:55:58.987Z"
   },
   {
    "duration": 211,
    "start_time": "2021-10-13T16:55:58.991Z"
   },
   {
    "duration": 95,
    "start_time": "2021-10-13T16:55:59.204Z"
   },
   {
    "duration": 6,
    "start_time": "2021-10-13T16:55:59.300Z"
   },
   {
    "duration": 787,
    "start_time": "2021-10-13T16:55:59.307Z"
   },
   {
    "duration": 370,
    "start_time": "2021-10-13T16:56:00.095Z"
   },
   {
    "duration": 42,
    "start_time": "2021-10-13T16:56:00.467Z"
   },
   {
    "duration": 4,
    "start_time": "2021-10-13T16:56:00.514Z"
   },
   {
    "duration": 196,
    "start_time": "2021-10-13T16:56:00.519Z"
   },
   {
    "duration": 7,
    "start_time": "2021-10-13T16:56:00.716Z"
   },
   {
    "duration": 50,
    "start_time": "2021-10-13T16:56:00.724Z"
   },
   {
    "duration": 21078,
    "start_time": "2021-10-13T16:56:00.776Z"
   },
   {
    "duration": 3,
    "start_time": "2021-10-13T16:56:21.856Z"
   },
   {
    "duration": 10,
    "start_time": "2021-10-13T16:56:21.861Z"
   },
   {
    "duration": 315,
    "start_time": "2021-10-13T16:59:19.375Z"
   },
   {
    "duration": 425,
    "start_time": "2021-10-13T16:59:46.344Z"
   },
   {
    "duration": 3,
    "start_time": "2021-10-13T17:33:13.236Z"
   },
   {
    "duration": 1294,
    "start_time": "2021-10-13T17:33:13.241Z"
   },
   {
    "duration": 917,
    "start_time": "2021-10-13T17:33:14.537Z"
   },
   {
    "duration": 18,
    "start_time": "2021-10-13T17:33:15.456Z"
   },
   {
    "duration": 140,
    "start_time": "2021-10-13T17:33:15.475Z"
   },
   {
    "duration": 123,
    "start_time": "2021-10-13T17:33:15.617Z"
   },
   {
    "duration": 38,
    "start_time": "2021-10-13T17:33:15.742Z"
   },
   {
    "duration": 1118,
    "start_time": "2021-10-13T17:33:15.783Z"
   },
   {
    "duration": 93,
    "start_time": "2021-10-13T17:33:16.903Z"
   },
   {
    "duration": 493,
    "start_time": "2021-10-13T17:33:16.998Z"
   },
   {
    "duration": 504,
    "start_time": "2021-10-13T17:33:17.493Z"
   },
   {
    "duration": 2,
    "start_time": "2021-10-13T17:33:17.999Z"
   },
   {
    "duration": 34,
    "start_time": "2021-10-13T17:33:18.003Z"
   },
   {
    "duration": 541,
    "start_time": "2021-10-13T17:33:18.039Z"
   },
   {
    "duration": 132,
    "start_time": "2021-10-13T17:33:18.582Z"
   },
   {
    "duration": 6,
    "start_time": "2021-10-13T17:33:18.716Z"
   },
   {
    "duration": 256,
    "start_time": "2021-10-13T17:33:18.724Z"
   },
   {
    "duration": 67,
    "start_time": "2021-10-13T17:33:18.982Z"
   },
   {
    "duration": 5,
    "start_time": "2021-10-13T17:33:19.051Z"
   },
   {
    "duration": 70,
    "start_time": "2021-10-13T17:33:19.058Z"
   },
   {
    "duration": 464,
    "start_time": "2021-10-13T17:33:19.130Z"
   },
   {
    "duration": 271,
    "start_time": "2021-10-13T17:33:19.597Z"
   },
   {
    "duration": 26,
    "start_time": "2021-10-13T17:33:19.874Z"
   },
   {
    "duration": 67,
    "start_time": "2021-10-13T17:33:19.904Z"
   },
   {
    "duration": 24,
    "start_time": "2021-10-13T17:33:19.973Z"
   },
   {
    "duration": 275,
    "start_time": "2021-10-13T17:33:19.999Z"
   },
   {
    "duration": 435,
    "start_time": "2021-10-13T17:33:20.276Z"
   },
   {
    "duration": 36,
    "start_time": "2021-10-13T17:33:20.713Z"
   },
   {
    "duration": 44,
    "start_time": "2021-10-13T17:33:20.751Z"
   },
   {
    "duration": 54,
    "start_time": "2021-10-13T17:33:20.797Z"
   },
   {
    "duration": 2856,
    "start_time": "2021-10-13T17:33:20.854Z"
   },
   {
    "duration": 20,
    "start_time": "2021-10-13T17:33:23.712Z"
   },
   {
    "duration": 51,
    "start_time": "2021-10-13T17:33:23.733Z"
   },
   {
    "duration": 201,
    "start_time": "2021-10-13T17:33:23.785Z"
   },
   {
    "duration": 35,
    "start_time": "2021-10-13T17:33:23.988Z"
   },
   {
    "duration": 205,
    "start_time": "2021-10-13T17:33:24.024Z"
   },
   {
    "duration": 368,
    "start_time": "2021-10-13T17:33:24.232Z"
   },
   {
    "duration": 164,
    "start_time": "2021-10-13T17:33:24.602Z"
   },
   {
    "duration": 17,
    "start_time": "2021-10-13T17:33:24.768Z"
   },
   {
    "duration": 3575,
    "start_time": "2021-10-13T17:33:24.787Z"
   },
   {
    "duration": 9,
    "start_time": "2021-10-13T17:33:28.365Z"
   },
   {
    "duration": 90,
    "start_time": "2021-10-13T17:33:28.376Z"
   },
   {
    "duration": 4,
    "start_time": "2021-10-13T17:33:28.468Z"
   },
   {
    "duration": 4081,
    "start_time": "2021-10-13T17:33:28.474Z"
   },
   {
    "duration": 5,
    "start_time": "2021-10-13T17:33:32.557Z"
   },
   {
    "duration": 9,
    "start_time": "2021-10-13T17:33:32.564Z"
   },
   {
    "duration": 247,
    "start_time": "2021-10-13T17:33:32.575Z"
   },
   {
    "duration": 85,
    "start_time": "2021-10-13T17:33:32.824Z"
   },
   {
    "duration": 352,
    "start_time": "2021-10-13T17:33:32.911Z"
   },
   {
    "duration": 3,
    "start_time": "2021-10-13T17:33:33.265Z"
   },
   {
    "duration": 3948,
    "start_time": "2021-10-13T17:33:33.270Z"
   },
   {
    "duration": 249,
    "start_time": "2021-10-13T17:33:37.220Z"
   },
   {
    "duration": 7,
    "start_time": "2021-10-13T17:33:37.471Z"
   },
   {
    "duration": 463,
    "start_time": "2021-10-13T17:33:37.480Z"
   },
   {
    "duration": 126,
    "start_time": "2021-10-13T17:33:37.945Z"
   },
   {
    "duration": 522,
    "start_time": "2021-10-13T17:33:38.073Z"
   },
   {
    "duration": 15,
    "start_time": "2021-10-13T17:33:38.597Z"
   },
   {
    "duration": 5,
    "start_time": "2021-10-13T17:33:38.614Z"
   },
   {
    "duration": 42,
    "start_time": "2021-10-13T17:33:38.620Z"
   },
   {
    "duration": 11,
    "start_time": "2021-10-13T17:33:38.663Z"
   },
   {
    "duration": 1228,
    "start_time": "2021-10-13T17:33:38.676Z"
   },
   {
    "duration": 2,
    "start_time": "2021-10-13T17:33:39.906Z"
   },
   {
    "duration": 216,
    "start_time": "2021-10-13T17:33:39.910Z"
   },
   {
    "duration": 107,
    "start_time": "2021-10-13T17:33:40.127Z"
   },
   {
    "duration": 17,
    "start_time": "2021-10-13T17:33:40.237Z"
   },
   {
    "duration": 824,
    "start_time": "2021-10-13T17:33:40.255Z"
   },
   {
    "duration": 299,
    "start_time": "2021-10-13T17:33:41.081Z"
   },
   {
    "duration": 44,
    "start_time": "2021-10-13T17:33:41.385Z"
   },
   {
    "duration": 4,
    "start_time": "2021-10-13T17:33:41.431Z"
   },
   {
    "duration": 182,
    "start_time": "2021-10-13T17:33:41.449Z"
   },
   {
    "duration": 7,
    "start_time": "2021-10-13T17:33:41.633Z"
   },
   {
    "duration": 13,
    "start_time": "2021-10-13T17:33:41.641Z"
   },
   {
    "duration": 21800,
    "start_time": "2021-10-13T17:33:41.656Z"
   },
   {
    "duration": 96,
    "start_time": "2021-10-13T17:34:03.458Z"
   },
   {
    "duration": 5532,
    "start_time": "2021-10-13T17:35:12.244Z"
   },
   {
    "duration": 5897,
    "start_time": "2021-10-13T17:36:53.870Z"
   },
   {
    "duration": 5444,
    "start_time": "2021-10-13T17:38:52.798Z"
   },
   {
    "duration": 5,
    "start_time": "2021-10-13T17:39:17.410Z"
   },
   {
    "duration": 96,
    "start_time": "2021-10-13T17:39:39.126Z"
   },
   {
    "duration": 3,
    "start_time": "2021-10-13T17:40:55.900Z"
   },
   {
    "duration": 1411,
    "start_time": "2021-10-13T17:40:55.905Z"
   },
   {
    "duration": 916,
    "start_time": "2021-10-13T17:40:57.318Z"
   },
   {
    "duration": 22,
    "start_time": "2021-10-13T17:40:58.236Z"
   },
   {
    "duration": 134,
    "start_time": "2021-10-13T17:40:58.260Z"
   },
   {
    "duration": 121,
    "start_time": "2021-10-13T17:40:58.396Z"
   },
   {
    "duration": 38,
    "start_time": "2021-10-13T17:40:58.519Z"
   },
   {
    "duration": 1129,
    "start_time": "2021-10-13T17:40:58.560Z"
   },
   {
    "duration": 91,
    "start_time": "2021-10-13T17:40:59.692Z"
   },
   {
    "duration": 496,
    "start_time": "2021-10-13T17:40:59.785Z"
   },
   {
    "duration": 553,
    "start_time": "2021-10-13T17:41:00.282Z"
   },
   {
    "duration": 3,
    "start_time": "2021-10-13T17:41:00.836Z"
   },
   {
    "duration": 35,
    "start_time": "2021-10-13T17:41:00.840Z"
   },
   {
    "duration": 547,
    "start_time": "2021-10-13T17:41:00.877Z"
   },
   {
    "duration": 119,
    "start_time": "2021-10-13T17:41:01.426Z"
   },
   {
    "duration": 6,
    "start_time": "2021-10-13T17:41:01.549Z"
   },
   {
    "duration": 255,
    "start_time": "2021-10-13T17:41:01.556Z"
   },
   {
    "duration": 59,
    "start_time": "2021-10-13T17:41:01.813Z"
   },
   {
    "duration": 4,
    "start_time": "2021-10-13T17:41:01.873Z"
   },
   {
    "duration": 76,
    "start_time": "2021-10-13T17:41:01.878Z"
   },
   {
    "duration": 431,
    "start_time": "2021-10-13T17:41:01.956Z"
   },
   {
    "duration": 261,
    "start_time": "2021-10-13T17:41:02.388Z"
   },
   {
    "duration": 24,
    "start_time": "2021-10-13T17:41:02.653Z"
   },
   {
    "duration": 48,
    "start_time": "2021-10-13T17:41:02.680Z"
   },
   {
    "duration": 37,
    "start_time": "2021-10-13T17:41:02.729Z"
   },
   {
    "duration": 253,
    "start_time": "2021-10-13T17:41:02.768Z"
   },
   {
    "duration": 429,
    "start_time": "2021-10-13T17:41:03.023Z"
   },
   {
    "duration": 20,
    "start_time": "2021-10-13T17:41:03.454Z"
   },
   {
    "duration": 38,
    "start_time": "2021-10-13T17:41:03.476Z"
   },
   {
    "duration": 58,
    "start_time": "2021-10-13T17:41:03.516Z"
   },
   {
    "duration": 2543,
    "start_time": "2021-10-13T17:41:03.576Z"
   },
   {
    "duration": 28,
    "start_time": "2021-10-13T17:41:06.121Z"
   },
   {
    "duration": 34,
    "start_time": "2021-10-13T17:41:06.152Z"
   },
   {
    "duration": 193,
    "start_time": "2021-10-13T17:41:06.188Z"
   },
   {
    "duration": 36,
    "start_time": "2021-10-13T17:41:06.383Z"
   },
   {
    "duration": 195,
    "start_time": "2021-10-13T17:41:06.421Z"
   },
   {
    "duration": 355,
    "start_time": "2021-10-13T17:41:06.617Z"
   },
   {
    "duration": 161,
    "start_time": "2021-10-13T17:41:06.974Z"
   },
   {
    "duration": 26,
    "start_time": "2021-10-13T17:41:07.137Z"
   },
   {
    "duration": 3284,
    "start_time": "2021-10-13T17:41:07.165Z"
   },
   {
    "duration": 10,
    "start_time": "2021-10-13T17:41:10.451Z"
   },
   {
    "duration": 211,
    "start_time": "2021-10-13T17:41:10.463Z"
   },
   {
    "duration": 4,
    "start_time": "2021-10-13T17:41:10.676Z"
   },
   {
    "duration": 4050,
    "start_time": "2021-10-13T17:41:10.682Z"
   },
   {
    "duration": 5,
    "start_time": "2021-10-13T17:41:14.733Z"
   },
   {
    "duration": 6,
    "start_time": "2021-10-13T17:41:14.748Z"
   },
   {
    "duration": 245,
    "start_time": "2021-10-13T17:41:14.755Z"
   },
   {
    "duration": 81,
    "start_time": "2021-10-13T17:41:15.002Z"
   },
   {
    "duration": 341,
    "start_time": "2021-10-13T17:41:15.085Z"
   },
   {
    "duration": 3,
    "start_time": "2021-10-13T17:41:15.428Z"
   },
   {
    "duration": 3681,
    "start_time": "2021-10-13T17:41:15.432Z"
   },
   {
    "duration": 240,
    "start_time": "2021-10-13T17:41:19.115Z"
   },
   {
    "duration": 7,
    "start_time": "2021-10-13T17:41:19.357Z"
   },
   {
    "duration": 421,
    "start_time": "2021-10-13T17:41:19.365Z"
   },
   {
    "duration": 124,
    "start_time": "2021-10-13T17:41:19.788Z"
   },
   {
    "duration": 623,
    "start_time": "2021-10-13T17:41:19.914Z"
   },
   {
    "duration": 14,
    "start_time": "2021-10-13T17:41:20.538Z"
   },
   {
    "duration": 15,
    "start_time": "2021-10-13T17:41:20.553Z"
   },
   {
    "duration": 24,
    "start_time": "2021-10-13T17:41:20.570Z"
   },
   {
    "duration": 12,
    "start_time": "2021-10-13T17:41:20.596Z"
   },
   {
    "duration": 5409,
    "start_time": "2021-10-13T17:41:20.610Z"
   },
   {
    "duration": 56,
    "start_time": "2021-10-13T17:41:25.965Z"
   },
   {
    "duration": 54,
    "start_time": "2021-10-13T17:41:25.968Z"
   },
   {
    "duration": 53,
    "start_time": "2021-10-13T17:41:25.970Z"
   },
   {
    "duration": 52,
    "start_time": "2021-10-13T17:41:25.972Z"
   },
   {
    "duration": 49,
    "start_time": "2021-10-13T17:41:25.976Z"
   },
   {
    "duration": 47,
    "start_time": "2021-10-13T17:41:25.979Z"
   },
   {
    "duration": 46,
    "start_time": "2021-10-13T17:41:25.981Z"
   },
   {
    "duration": 45,
    "start_time": "2021-10-13T17:41:25.983Z"
   },
   {
    "duration": 44,
    "start_time": "2021-10-13T17:41:25.985Z"
   },
   {
    "duration": 43,
    "start_time": "2021-10-13T17:41:25.987Z"
   },
   {
    "duration": 42,
    "start_time": "2021-10-13T17:41:25.989Z"
   },
   {
    "duration": 41,
    "start_time": "2021-10-13T17:41:25.991Z"
   },
   {
    "duration": 40,
    "start_time": "2021-10-13T17:41:25.993Z"
   },
   {
    "duration": 1237,
    "start_time": "2021-10-13T17:44:14.481Z"
   },
   {
    "duration": 3,
    "start_time": "2021-10-13T17:44:17.201Z"
   },
   {
    "duration": 201,
    "start_time": "2021-10-13T17:44:17.673Z"
   },
   {
    "duration": 91,
    "start_time": "2021-10-13T17:44:18.293Z"
   },
   {
    "duration": 6,
    "start_time": "2021-10-13T17:44:18.817Z"
   },
   {
    "duration": 797,
    "start_time": "2021-10-13T17:44:24.053Z"
   },
   {
    "duration": 282,
    "start_time": "2021-10-13T17:44:24.853Z"
   },
   {
    "duration": 47,
    "start_time": "2021-10-13T17:44:25.137Z"
   },
   {
    "duration": 4,
    "start_time": "2021-10-13T17:44:25.420Z"
   },
   {
    "duration": 152,
    "start_time": "2021-10-13T17:44:26.129Z"
   },
   {
    "duration": 7,
    "start_time": "2021-10-13T17:44:26.696Z"
   },
   {
    "duration": 3,
    "start_time": "2021-10-13T17:44:27.381Z"
   },
   {
    "duration": 23210,
    "start_time": "2021-10-13T17:44:28.347Z"
   },
   {
    "duration": 3,
    "start_time": "2021-10-13T17:57:26.017Z"
   },
   {
    "duration": 1533,
    "start_time": "2021-10-13T17:57:26.023Z"
   },
   {
    "duration": 899,
    "start_time": "2021-10-13T17:57:27.558Z"
   },
   {
    "duration": 20,
    "start_time": "2021-10-13T17:57:28.458Z"
   },
   {
    "duration": 135,
    "start_time": "2021-10-13T17:57:28.480Z"
   },
   {
    "duration": 112,
    "start_time": "2021-10-13T17:57:28.617Z"
   },
   {
    "duration": 37,
    "start_time": "2021-10-13T17:57:28.730Z"
   },
   {
    "duration": 1107,
    "start_time": "2021-10-13T17:57:28.768Z"
   },
   {
    "duration": 90,
    "start_time": "2021-10-13T17:57:29.878Z"
   },
   {
    "duration": 497,
    "start_time": "2021-10-13T17:57:29.970Z"
   },
   {
    "duration": 530,
    "start_time": "2021-10-13T17:57:30.469Z"
   },
   {
    "duration": 3,
    "start_time": "2021-10-13T17:57:31.000Z"
   },
   {
    "duration": 29,
    "start_time": "2021-10-13T17:57:31.004Z"
   },
   {
    "duration": 550,
    "start_time": "2021-10-13T17:57:31.035Z"
   },
   {
    "duration": 127,
    "start_time": "2021-10-13T17:57:31.587Z"
   },
   {
    "duration": 5,
    "start_time": "2021-10-13T17:57:31.715Z"
   },
   {
    "duration": 253,
    "start_time": "2021-10-13T17:57:31.721Z"
   },
   {
    "duration": 58,
    "start_time": "2021-10-13T17:57:31.977Z"
   },
   {
    "duration": 14,
    "start_time": "2021-10-13T17:57:32.036Z"
   },
   {
    "duration": 94,
    "start_time": "2021-10-13T17:57:32.052Z"
   },
   {
    "duration": 454,
    "start_time": "2021-10-13T17:57:32.147Z"
   },
   {
    "duration": 267,
    "start_time": "2021-10-13T17:57:32.603Z"
   },
   {
    "duration": 27,
    "start_time": "2021-10-13T17:57:32.872Z"
   },
   {
    "duration": 66,
    "start_time": "2021-10-13T17:57:32.901Z"
   },
   {
    "duration": 21,
    "start_time": "2021-10-13T17:57:32.968Z"
   },
   {
    "duration": 247,
    "start_time": "2021-10-13T17:57:32.991Z"
   },
   {
    "duration": 418,
    "start_time": "2021-10-13T17:57:33.242Z"
   },
   {
    "duration": 22,
    "start_time": "2021-10-13T17:57:33.663Z"
   },
   {
    "duration": 48,
    "start_time": "2021-10-13T17:57:33.686Z"
   },
   {
    "duration": 44,
    "start_time": "2021-10-13T17:57:33.736Z"
   },
   {
    "duration": 2584,
    "start_time": "2021-10-13T17:57:33.781Z"
   },
   {
    "duration": 21,
    "start_time": "2021-10-13T17:57:36.367Z"
   },
   {
    "duration": 40,
    "start_time": "2021-10-13T17:57:36.390Z"
   },
   {
    "duration": 193,
    "start_time": "2021-10-13T17:57:36.431Z"
   },
   {
    "duration": 39,
    "start_time": "2021-10-13T17:57:36.626Z"
   },
   {
    "duration": 196,
    "start_time": "2021-10-13T17:57:36.666Z"
   },
   {
    "duration": 347,
    "start_time": "2021-10-13T17:57:36.864Z"
   },
   {
    "duration": 158,
    "start_time": "2021-10-13T17:57:37.213Z"
   },
   {
    "duration": 17,
    "start_time": "2021-10-13T17:57:37.373Z"
   },
   {
    "duration": 7,
    "start_time": "2021-10-13T17:57:37.392Z"
   },
   {
    "duration": 101,
    "start_time": "2021-10-13T17:57:37.401Z"
   },
   {
    "duration": 4,
    "start_time": "2021-10-13T17:57:37.504Z"
   },
   {
    "duration": 3724,
    "start_time": "2021-10-13T17:57:37.510Z"
   },
   {
    "duration": 13,
    "start_time": "2021-10-13T17:57:41.236Z"
   },
   {
    "duration": 5,
    "start_time": "2021-10-13T17:57:41.251Z"
   },
   {
    "duration": 265,
    "start_time": "2021-10-13T17:57:41.258Z"
   },
   {
    "duration": 85,
    "start_time": "2021-10-13T17:57:41.525Z"
   },
   {
    "duration": 341,
    "start_time": "2021-10-13T17:57:41.612Z"
   },
   {
    "duration": 3,
    "start_time": "2021-10-13T17:57:41.955Z"
   },
   {
    "duration": 3699,
    "start_time": "2021-10-13T17:57:41.959Z"
   },
   {
    "duration": 239,
    "start_time": "2021-10-13T17:57:45.660Z"
   },
   {
    "duration": 7,
    "start_time": "2021-10-13T17:57:45.901Z"
   },
   {
    "duration": 430,
    "start_time": "2021-10-13T17:57:45.909Z"
   },
   {
    "duration": 121,
    "start_time": "2021-10-13T17:57:46.341Z"
   },
   {
    "duration": 531,
    "start_time": "2021-10-13T17:57:46.464Z"
   },
   {
    "duration": 14,
    "start_time": "2021-10-13T17:57:46.997Z"
   },
   {
    "duration": 6,
    "start_time": "2021-10-13T17:57:47.013Z"
   },
   {
    "duration": 40,
    "start_time": "2021-10-13T17:57:47.021Z"
   },
   {
    "duration": 11,
    "start_time": "2021-10-13T17:57:47.062Z"
   },
   {
    "duration": 1135,
    "start_time": "2021-10-13T17:57:47.075Z"
   },
   {
    "duration": 2,
    "start_time": "2021-10-13T17:57:48.212Z"
   },
   {
    "duration": 213,
    "start_time": "2021-10-13T17:57:48.216Z"
   },
   {
    "duration": 95,
    "start_time": "2021-10-13T17:57:48.431Z"
   },
   {
    "duration": 5,
    "start_time": "2021-10-13T17:57:48.527Z"
   },
   {
    "duration": 792,
    "start_time": "2021-10-13T17:57:48.550Z"
   },
   {
    "duration": 272,
    "start_time": "2021-10-13T17:57:49.344Z"
   },
   {
    "duration": 51,
    "start_time": "2021-10-13T17:57:49.618Z"
   },
   {
    "duration": 4,
    "start_time": "2021-10-13T17:57:49.670Z"
   },
   {
    "duration": 169,
    "start_time": "2021-10-13T17:57:49.676Z"
   },
   {
    "duration": 7,
    "start_time": "2021-10-13T17:57:49.848Z"
   },
   {
    "duration": 7,
    "start_time": "2021-10-13T17:57:49.856Z"
   },
   {
    "duration": 22884,
    "start_time": "2021-10-13T17:57:49.865Z"
   },
   {
    "duration": 3,
    "start_time": "2021-10-13T17:58:12.752Z"
   },
   {
    "duration": 97,
    "start_time": "2021-10-13T17:58:12.757Z"
   },
   {
    "duration": 4,
    "start_time": "2021-10-13T17:58:12.856Z"
   },
   {
    "duration": 2,
    "start_time": "2021-10-13T17:58:22.780Z"
   },
   {
    "duration": 219771,
    "start_time": "2021-10-13T18:01:14.410Z"
   },
   {
    "duration": 220755,
    "start_time": "2021-10-13T18:06:37.237Z"
   },
   {
    "duration": 68086,
    "start_time": "2021-10-13T18:11:36.230Z"
   },
   {
    "duration": 184783,
    "start_time": "2021-10-13T18:15:41.631Z"
   },
   {
    "duration": 6,
    "start_time": "2021-10-13T18:22:14.704Z"
   },
   {
    "duration": 497454,
    "start_time": "2021-10-13T18:23:02.503Z"
   },
   {
    "duration": 4,
    "start_time": "2021-10-13T18:31:37.999Z"
   },
   {
    "duration": 3,
    "start_time": "2021-10-13T18:35:41.849Z"
   },
   {
    "duration": 7104,
    "start_time": "2021-10-13T18:37:21.654Z"
   },
   {
    "duration": 3,
    "start_time": "2021-10-13T18:47:54.841Z"
   },
   {
    "duration": 1353,
    "start_time": "2021-10-13T18:47:54.856Z"
   },
   {
    "duration": 852,
    "start_time": "2021-10-13T18:47:56.211Z"
   },
   {
    "duration": 16,
    "start_time": "2021-10-13T18:47:57.065Z"
   },
   {
    "duration": 134,
    "start_time": "2021-10-13T18:47:57.083Z"
   },
   {
    "duration": 115,
    "start_time": "2021-10-13T18:47:57.220Z"
   },
   {
    "duration": 37,
    "start_time": "2021-10-13T18:47:57.337Z"
   },
   {
    "duration": 1136,
    "start_time": "2021-10-13T18:47:57.376Z"
   },
   {
    "duration": 90,
    "start_time": "2021-10-13T18:47:58.515Z"
   },
   {
    "duration": 574,
    "start_time": "2021-10-13T18:47:58.607Z"
   },
   {
    "duration": 550,
    "start_time": "2021-10-13T18:47:59.183Z"
   },
   {
    "duration": 3,
    "start_time": "2021-10-13T18:47:59.735Z"
   },
   {
    "duration": 21,
    "start_time": "2021-10-13T18:47:59.749Z"
   },
   {
    "duration": 532,
    "start_time": "2021-10-13T18:47:59.772Z"
   },
   {
    "duration": 121,
    "start_time": "2021-10-13T18:48:00.306Z"
   },
   {
    "duration": 5,
    "start_time": "2021-10-13T18:48:00.429Z"
   },
   {
    "duration": 314,
    "start_time": "2021-10-13T18:48:00.435Z"
   },
   {
    "duration": 57,
    "start_time": "2021-10-13T18:48:00.751Z"
   },
   {
    "duration": 4,
    "start_time": "2021-10-13T18:48:00.809Z"
   },
   {
    "duration": 90,
    "start_time": "2021-10-13T18:48:00.814Z"
   },
   {
    "duration": 430,
    "start_time": "2021-10-13T18:48:00.905Z"
   },
   {
    "duration": 262,
    "start_time": "2021-10-13T18:48:01.337Z"
   },
   {
    "duration": 25,
    "start_time": "2021-10-13T18:48:01.601Z"
   },
   {
    "duration": 61,
    "start_time": "2021-10-13T18:48:01.631Z"
   },
   {
    "duration": 21,
    "start_time": "2021-10-13T18:48:01.695Z"
   },
   {
    "duration": 265,
    "start_time": "2021-10-13T18:48:01.718Z"
   },
   {
    "duration": 348,
    "start_time": "2021-10-13T18:48:01.985Z"
   },
   {
    "duration": 25,
    "start_time": "2021-10-13T18:48:02.334Z"
   },
   {
    "duration": 64,
    "start_time": "2021-10-13T18:48:02.360Z"
   },
   {
    "duration": 36,
    "start_time": "2021-10-13T18:48:02.426Z"
   },
   {
    "duration": 2436,
    "start_time": "2021-10-13T18:48:02.464Z"
   },
   {
    "duration": 20,
    "start_time": "2021-10-13T18:48:04.902Z"
   },
   {
    "duration": 46,
    "start_time": "2021-10-13T18:48:04.924Z"
   },
   {
    "duration": 377,
    "start_time": "2021-10-13T18:48:04.972Z"
   },
   {
    "duration": 35,
    "start_time": "2021-10-13T18:48:05.351Z"
   },
   {
    "duration": 183,
    "start_time": "2021-10-13T18:48:05.388Z"
   },
   {
    "duration": 361,
    "start_time": "2021-10-13T18:48:05.573Z"
   },
   {
    "duration": 169,
    "start_time": "2021-10-13T18:48:05.937Z"
   },
   {
    "duration": 17,
    "start_time": "2021-10-13T18:48:06.109Z"
   },
   {
    "duration": 25,
    "start_time": "2021-10-13T18:48:06.128Z"
   },
   {
    "duration": 95,
    "start_time": "2021-10-13T18:48:06.155Z"
   },
   {
    "duration": 4,
    "start_time": "2021-10-13T18:48:06.252Z"
   },
   {
    "duration": 3745,
    "start_time": "2021-10-13T18:48:06.258Z"
   },
   {
    "duration": 6,
    "start_time": "2021-10-13T18:48:10.005Z"
   },
   {
    "duration": 11,
    "start_time": "2021-10-13T18:48:10.012Z"
   },
   {
    "duration": 249,
    "start_time": "2021-10-13T18:48:10.025Z"
   },
   {
    "duration": 93,
    "start_time": "2021-10-13T18:48:10.276Z"
   },
   {
    "duration": 348,
    "start_time": "2021-10-13T18:48:10.371Z"
   },
   {
    "duration": 3,
    "start_time": "2021-10-13T18:48:10.720Z"
   },
   {
    "duration": 3776,
    "start_time": "2021-10-13T18:48:10.725Z"
   },
   {
    "duration": 253,
    "start_time": "2021-10-13T18:48:14.503Z"
   },
   {
    "duration": 8,
    "start_time": "2021-10-13T18:48:14.759Z"
   },
   {
    "duration": 458,
    "start_time": "2021-10-13T18:48:14.769Z"
   },
   {
    "duration": 130,
    "start_time": "2021-10-13T18:48:15.229Z"
   },
   {
    "duration": 541,
    "start_time": "2021-10-13T18:48:15.361Z"
   },
   {
    "duration": 4,
    "start_time": "2021-10-13T18:48:15.904Z"
   },
   {
    "duration": 51,
    "start_time": "2021-10-13T18:48:15.910Z"
   },
   {
    "duration": 13,
    "start_time": "2021-10-13T18:48:15.963Z"
   },
   {
    "duration": 1206,
    "start_time": "2021-10-13T18:48:15.978Z"
   },
   {
    "duration": 3,
    "start_time": "2021-10-13T18:48:17.186Z"
   },
   {
    "duration": 234,
    "start_time": "2021-10-13T18:48:17.191Z"
   },
   {
    "duration": 92,
    "start_time": "2021-10-13T18:48:17.427Z"
   },
   {
    "duration": 5,
    "start_time": "2021-10-13T18:48:17.520Z"
   },
   {
    "duration": 789,
    "start_time": "2021-10-13T18:48:17.526Z"
   },
   {
    "duration": 274,
    "start_time": "2021-10-13T18:48:18.317Z"
   },
   {
    "duration": 42,
    "start_time": "2021-10-13T18:48:18.593Z"
   },
   {
    "duration": 12,
    "start_time": "2021-10-13T18:48:18.637Z"
   },
   {
    "duration": 170,
    "start_time": "2021-10-13T18:48:18.651Z"
   },
   {
    "duration": 6,
    "start_time": "2021-10-13T18:48:18.826Z"
   },
   {
    "duration": 14,
    "start_time": "2021-10-13T18:48:18.835Z"
   },
   {
    "duration": 21307,
    "start_time": "2021-10-13T18:48:18.851Z"
   },
   {
    "duration": 2,
    "start_time": "2021-10-13T18:48:40.160Z"
   },
   {
    "duration": 15,
    "start_time": "2021-10-13T18:48:40.251Z"
   },
   {
    "duration": 188225,
    "start_time": "2021-10-13T18:48:40.268Z"
   },
   {
    "duration": 70156,
    "start_time": "2021-10-13T18:51:48.495Z"
   },
   {
    "duration": 580901,
    "start_time": "2021-10-13T18:52:58.654Z"
   },
   {
    "duration": 3,
    "start_time": "2021-10-13T19:02:39.557Z"
   },
   {
    "duration": 6,
    "start_time": "2021-10-13T19:02:39.561Z"
   },
   {
    "duration": 6983,
    "start_time": "2021-10-13T19:02:39.568Z"
   },
   {
    "duration": 19,
    "start_time": "2021-10-13T19:02:46.553Z"
   },
   {
    "duration": 188,
    "start_time": "2021-10-13T19:02:46.574Z"
   },
   {
    "duration": 4,
    "start_time": "2021-10-13T19:04:32.816Z"
   },
   {
    "duration": 268,
    "start_time": "2021-10-13T19:08:02.813Z"
   },
   {
    "duration": 7003,
    "start_time": "2021-10-13T19:09:17.192Z"
   },
   {
    "duration": 238,
    "start_time": "2021-10-13T19:10:16.430Z"
   },
   {
    "duration": 9343,
    "start_time": "2021-10-13T19:10:39.892Z"
   },
   {
    "duration": 11,
    "start_time": "2021-10-13T19:11:08.539Z"
   },
   {
    "duration": 9931,
    "start_time": "2021-10-13T19:11:28.987Z"
   },
   {
    "duration": 5,
    "start_time": "2021-10-13T19:14:55.042Z"
   },
   {
    "duration": 240,
    "start_time": "2021-10-13T19:16:16.134Z"
   },
   {
    "duration": 3,
    "start_time": "2021-10-13T19:16:24.898Z"
   },
   {
    "duration": 547,
    "start_time": "2021-10-13T19:16:25.003Z"
   },
   {
    "duration": 3,
    "start_time": "2021-10-13T19:16:41.907Z"
   },
   {
    "duration": 253772,
    "start_time": "2021-10-13T19:16:52.981Z"
   },
   {
    "duration": 2343,
    "start_time": "2021-10-13T19:21:13.155Z"
   },
   {
    "duration": 2954,
    "start_time": "2021-10-13T19:23:34.620Z"
   },
   {
    "duration": 2732,
    "start_time": "2021-10-13T19:23:49.133Z"
   },
   {
    "duration": 6,
    "start_time": "2021-10-13T19:27:42.880Z"
   },
   {
    "duration": 14,
    "start_time": "2021-10-13T19:27:43.314Z"
   },
   {
    "duration": 5,
    "start_time": "2021-10-13T19:29:12.584Z"
   },
   {
    "duration": 10,
    "start_time": "2021-10-13T19:29:12.979Z"
   },
   {
    "duration": 5,
    "start_time": "2021-10-13T19:29:47.996Z"
   },
   {
    "duration": 11,
    "start_time": "2021-10-13T19:29:49.094Z"
   },
   {
    "duration": 167,
    "start_time": "2021-10-13T19:32:44.128Z"
   },
   {
    "duration": 7403,
    "start_time": "2021-10-13T19:32:59.315Z"
   },
   {
    "duration": 5,
    "start_time": "2021-10-13T19:33:58.275Z"
   },
   {
    "duration": 10,
    "start_time": "2021-10-13T19:33:58.652Z"
   },
   {
    "duration": 5,
    "start_time": "2021-10-13T19:34:33.228Z"
   },
   {
    "duration": 10,
    "start_time": "2021-10-13T19:34:35.385Z"
   },
   {
    "duration": 249291,
    "start_time": "2021-10-13T19:35:04.566Z"
   },
   {
    "duration": 5,
    "start_time": "2021-10-13T19:39:48.581Z"
   },
   {
    "duration": 11,
    "start_time": "2021-10-13T19:39:48.859Z"
   },
   {
    "duration": 275,
    "start_time": "2021-10-13T19:41:39.878Z"
   },
   {
    "duration": 27697,
    "start_time": "2021-10-13T19:42:19.053Z"
   },
   {
    "duration": 5,
    "start_time": "2021-10-13T19:43:17.753Z"
   },
   {
    "duration": 11,
    "start_time": "2021-10-13T19:43:18.306Z"
   },
   {
    "duration": 3,
    "start_time": "2021-10-13T19:43:30.484Z"
   },
   {
    "duration": 29365,
    "start_time": "2021-10-13T19:43:34.485Z"
   },
   {
    "duration": 9374,
    "start_time": "2021-10-13T19:45:18.034Z"
   },
   {
    "duration": 265,
    "start_time": "2021-10-13T19:46:41.459Z"
   },
   {
    "duration": 27960,
    "start_time": "2021-10-13T19:46:46.990Z"
   },
   {
    "duration": 10309,
    "start_time": "2021-10-13T19:47:14.953Z"
   },
   {
    "duration": 7127,
    "start_time": "2021-10-13T19:49:47.701Z"
   },
   {
    "duration": 4,
    "start_time": "2021-10-13T19:51:47.191Z"
   },
   {
    "duration": 5,
    "start_time": "2021-10-13T19:51:55.654Z"
   },
   {
    "duration": 40,
    "start_time": "2021-10-13T19:53:36.981Z"
   },
   {
    "duration": 4,
    "start_time": "2021-10-13T19:53:37.654Z"
   },
   {
    "duration": 274,
    "start_time": "2021-10-13T19:53:38.233Z"
   },
   {
    "duration": 28111,
    "start_time": "2021-10-13T19:53:43.445Z"
   },
   {
    "duration": 249,
    "start_time": "2021-10-13T19:54:11.559Z"
   },
   {
    "duration": 10243,
    "start_time": "2021-10-13T19:54:41.355Z"
   },
   {
    "duration": 258007,
    "start_time": "2021-10-13T19:56:36.111Z"
   },
   {
    "duration": 207,
    "start_time": "2021-10-13T20:01:13.014Z"
   },
   {
    "duration": 6660,
    "start_time": "2021-10-13T20:01:21.698Z"
   },
   {
    "duration": 6517,
    "start_time": "2021-10-13T20:02:26.153Z"
   },
   {
    "duration": 3,
    "start_time": "2021-10-13T20:04:35.386Z"
   },
   {
    "duration": 1206,
    "start_time": "2021-10-13T20:05:23.244Z"
   },
   {
    "duration": 334185,
    "start_time": "2021-10-13T20:05:55.181Z"
   },
   {
    "duration": 5,
    "start_time": "2021-10-13T20:12:12.715Z"
   },
   {
    "duration": 11,
    "start_time": "2021-10-13T20:12:13.033Z"
   },
   {
    "duration": 11,
    "start_time": "2021-10-13T20:12:34.195Z"
   },
   {
    "duration": 216,
    "start_time": "2021-10-13T20:16:43.646Z"
   },
   {
    "duration": 214,
    "start_time": "2021-10-13T20:17:14.599Z"
   },
   {
    "duration": 209,
    "start_time": "2021-10-13T20:17:32.342Z"
   },
   {
    "duration": 321,
    "start_time": "2021-10-13T20:18:05.231Z"
   },
   {
    "duration": 216,
    "start_time": "2021-10-13T20:18:40.576Z"
   },
   {
    "duration": 238,
    "start_time": "2021-10-13T20:19:26.517Z"
   },
   {
    "duration": 210,
    "start_time": "2021-10-13T20:19:38.043Z"
   },
   {
    "duration": 244,
    "start_time": "2021-10-13T20:20:17.906Z"
   },
   {
    "duration": 237,
    "start_time": "2021-10-13T20:21:54.374Z"
   },
   {
    "duration": 11,
    "start_time": "2021-10-13T20:23:28.611Z"
   },
   {
    "duration": 312,
    "start_time": "2021-10-13T20:23:32.160Z"
   },
   {
    "duration": 10,
    "start_time": "2021-10-13T20:24:27.423Z"
   },
   {
    "duration": 287,
    "start_time": "2021-10-13T20:25:01.233Z"
   },
   {
    "duration": 321,
    "start_time": "2021-10-13T20:25:29.553Z"
   },
   {
    "duration": 319,
    "start_time": "2021-10-13T20:25:39.633Z"
   },
   {
    "duration": 407,
    "start_time": "2021-10-13T20:26:26.632Z"
   },
   {
    "duration": 5656,
    "start_time": "2021-10-13T20:26:55.778Z"
   },
   {
    "duration": 295,
    "start_time": "2021-10-13T20:27:16.868Z"
   },
   {
    "duration": 367,
    "start_time": "2021-10-13T20:27:21.067Z"
   },
   {
    "duration": 497,
    "start_time": "2021-10-13T20:28:12.790Z"
   },
   {
    "duration": 3,
    "start_time": "2021-10-13T20:41:08.466Z"
   },
   {
    "duration": 1229,
    "start_time": "2021-10-13T20:41:08.471Z"
   },
   {
    "duration": 856,
    "start_time": "2021-10-13T20:41:09.702Z"
   },
   {
    "duration": 16,
    "start_time": "2021-10-13T20:41:10.560Z"
   },
   {
    "duration": 137,
    "start_time": "2021-10-13T20:41:10.578Z"
   },
   {
    "duration": 112,
    "start_time": "2021-10-13T20:41:10.717Z"
   },
   {
    "duration": 35,
    "start_time": "2021-10-13T20:41:10.831Z"
   },
   {
    "duration": 1091,
    "start_time": "2021-10-13T20:41:10.868Z"
   },
   {
    "duration": 95,
    "start_time": "2021-10-13T20:41:11.961Z"
   },
   {
    "duration": 473,
    "start_time": "2021-10-13T20:41:12.059Z"
   },
   {
    "duration": 486,
    "start_time": "2021-10-13T20:41:12.534Z"
   },
   {
    "duration": 2,
    "start_time": "2021-10-13T20:41:13.022Z"
   },
   {
    "duration": 33,
    "start_time": "2021-10-13T20:41:13.025Z"
   },
   {
    "duration": 535,
    "start_time": "2021-10-13T20:41:13.060Z"
   },
   {
    "duration": 124,
    "start_time": "2021-10-13T20:41:13.597Z"
   },
   {
    "duration": 4,
    "start_time": "2021-10-13T20:41:13.723Z"
   },
   {
    "duration": 247,
    "start_time": "2021-10-13T20:41:13.729Z"
   },
   {
    "duration": 55,
    "start_time": "2021-10-13T20:41:13.978Z"
   },
   {
    "duration": 17,
    "start_time": "2021-10-13T20:41:14.035Z"
   },
   {
    "duration": 72,
    "start_time": "2021-10-13T20:41:14.053Z"
   },
   {
    "duration": 428,
    "start_time": "2021-10-13T20:41:14.126Z"
   },
   {
    "duration": 263,
    "start_time": "2021-10-13T20:41:14.556Z"
   },
   {
    "duration": 33,
    "start_time": "2021-10-13T20:41:14.821Z"
   },
   {
    "duration": 47,
    "start_time": "2021-10-13T20:41:14.858Z"
   },
   {
    "duration": 41,
    "start_time": "2021-10-13T20:41:14.908Z"
   },
   {
    "duration": 235,
    "start_time": "2021-10-13T20:41:14.951Z"
   },
   {
    "duration": 343,
    "start_time": "2021-10-13T20:41:15.188Z"
   },
   {
    "duration": 28,
    "start_time": "2021-10-13T20:41:15.533Z"
   },
   {
    "duration": 40,
    "start_time": "2021-10-13T20:41:15.563Z"
   },
   {
    "duration": 53,
    "start_time": "2021-10-13T20:41:15.604Z"
   },
   {
    "duration": 2460,
    "start_time": "2021-10-13T20:41:15.659Z"
   },
   {
    "duration": 28,
    "start_time": "2021-10-13T20:41:18.121Z"
   },
   {
    "duration": 33,
    "start_time": "2021-10-13T20:41:18.151Z"
   },
   {
    "duration": 281,
    "start_time": "2021-10-13T20:41:18.186Z"
   },
   {
    "duration": 33,
    "start_time": "2021-10-13T20:41:18.468Z"
   },
   {
    "duration": 194,
    "start_time": "2021-10-13T20:41:18.503Z"
   },
   {
    "duration": 350,
    "start_time": "2021-10-13T20:41:18.699Z"
   },
   {
    "duration": 152,
    "start_time": "2021-10-13T20:41:19.051Z"
   },
   {
    "duration": 16,
    "start_time": "2021-10-13T20:41:19.205Z"
   },
   {
    "duration": 7,
    "start_time": "2021-10-13T20:41:19.223Z"
   },
   {
    "duration": 93,
    "start_time": "2021-10-13T20:41:19.232Z"
   },
   {
    "duration": 3,
    "start_time": "2021-10-13T20:41:19.327Z"
   },
   {
    "duration": 3818,
    "start_time": "2021-10-13T20:41:19.331Z"
   },
   {
    "duration": 5,
    "start_time": "2021-10-13T20:41:23.151Z"
   },
   {
    "duration": 8,
    "start_time": "2021-10-13T20:41:23.158Z"
   },
   {
    "duration": 246,
    "start_time": "2021-10-13T20:41:23.167Z"
   },
   {
    "duration": 85,
    "start_time": "2021-10-13T20:41:23.415Z"
   },
   {
    "duration": 345,
    "start_time": "2021-10-13T20:41:23.502Z"
   },
   {
    "duration": 4,
    "start_time": "2021-10-13T20:41:23.849Z"
   },
   {
    "duration": 3699,
    "start_time": "2021-10-13T20:41:23.855Z"
   },
   {
    "duration": 245,
    "start_time": "2021-10-13T20:41:27.556Z"
   },
   {
    "duration": 6,
    "start_time": "2021-10-13T20:41:27.803Z"
   },
   {
    "duration": 438,
    "start_time": "2021-10-13T20:41:27.811Z"
   },
   {
    "duration": 122,
    "start_time": "2021-10-13T20:41:28.250Z"
   },
   {
    "duration": 534,
    "start_time": "2021-10-13T20:41:28.373Z"
   },
   {
    "duration": 3,
    "start_time": "2021-10-13T20:41:28.909Z"
   },
   {
    "duration": 46,
    "start_time": "2021-10-13T20:41:28.914Z"
   },
   {
    "duration": 13,
    "start_time": "2021-10-13T20:41:28.962Z"
   },
   {
    "duration": 1073,
    "start_time": "2021-10-13T20:41:28.976Z"
   },
   {
    "duration": 3,
    "start_time": "2021-10-13T20:41:30.051Z"
   },
   {
    "duration": 213,
    "start_time": "2021-10-13T20:41:30.056Z"
   },
   {
    "duration": 96,
    "start_time": "2021-10-13T20:41:30.271Z"
   },
   {
    "duration": 5,
    "start_time": "2021-10-13T20:41:30.369Z"
   },
   {
    "duration": 827,
    "start_time": "2021-10-13T20:41:30.376Z"
   },
   {
    "duration": 282,
    "start_time": "2021-10-13T20:41:31.205Z"
   },
   {
    "duration": 39,
    "start_time": "2021-10-13T20:41:31.489Z"
   },
   {
    "duration": 4,
    "start_time": "2021-10-13T20:41:31.530Z"
   },
   {
    "duration": 304,
    "start_time": "2021-10-13T20:41:31.548Z"
   },
   {
    "duration": 7,
    "start_time": "2021-10-13T20:41:31.858Z"
   },
   {
    "duration": 17,
    "start_time": "2021-10-13T20:41:31.868Z"
   },
   {
    "duration": 20468,
    "start_time": "2021-10-13T20:41:31.887Z"
   },
   {
    "duration": 92,
    "start_time": "2021-10-13T20:41:52.358Z"
   },
   {
    "duration": 7,
    "start_time": "2021-10-13T20:41:52.453Z"
   },
   {
    "duration": 183943,
    "start_time": "2021-10-13T20:41:52.463Z"
   },
   {
    "duration": 67484,
    "start_time": "2021-10-13T20:44:56.407Z"
   },
   {
    "duration": 7704,
    "start_time": "2021-10-13T20:46:03.894Z"
   },
   {
    "duration": 467560,
    "start_time": "2021-10-13T20:46:11.600Z"
   },
   {
    "duration": 88,
    "start_time": "2021-10-13T20:53:59.162Z"
   },
   {
    "duration": 5,
    "start_time": "2021-10-13T20:53:59.252Z"
   },
   {
    "duration": 6594,
    "start_time": "2021-10-13T20:53:59.259Z"
   },
   {
    "duration": 20,
    "start_time": "2021-10-13T20:54:05.855Z"
   },
   {
    "duration": 239,
    "start_time": "2021-10-13T20:54:05.877Z"
   },
   {
    "duration": 4,
    "start_time": "2021-10-13T20:54:06.117Z"
   },
   {
    "duration": 27,
    "start_time": "2021-10-13T20:54:06.123Z"
   },
   {
    "duration": 3,
    "start_time": "2021-10-13T20:54:06.152Z"
   },
   {
    "duration": 1002,
    "start_time": "2021-10-13T20:54:06.156Z"
   },
   {
    "duration": 4,
    "start_time": "2021-10-13T20:54:07.159Z"
   },
   {
    "duration": 251793,
    "start_time": "2021-10-13T20:54:07.164Z"
   },
   {
    "duration": 5,
    "start_time": "2021-10-13T20:58:18.958Z"
   },
   {
    "duration": 14,
    "start_time": "2021-10-13T20:58:18.965Z"
   },
   {
    "duration": 28669,
    "start_time": "2021-10-13T20:58:18.981Z"
   },
   {
    "duration": 9618,
    "start_time": "2021-10-13T20:58:47.653Z"
   },
   {
    "duration": 252461,
    "start_time": "2021-10-13T20:58:57.273Z"
   },
   {
    "duration": 6723,
    "start_time": "2021-10-13T21:03:09.736Z"
   },
   {
    "duration": 12,
    "start_time": "2021-10-13T21:03:16.461Z"
   },
   {
    "duration": 319390,
    "start_time": "2021-10-13T21:03:16.474Z"
   },
   {
    "duration": 5,
    "start_time": "2021-10-13T21:08:35.866Z"
   },
   {
    "duration": 80,
    "start_time": "2021-10-13T21:08:35.873Z"
   },
   {
    "duration": 12,
    "start_time": "2021-10-13T21:08:35.955Z"
   },
   {
    "duration": 219,
    "start_time": "2021-10-13T21:08:35.968Z"
   },
   {
    "duration": 227,
    "start_time": "2021-10-13T21:08:36.189Z"
   },
   {
    "duration": 314,
    "start_time": "2021-10-13T21:08:36.418Z"
   },
   {
    "duration": 452,
    "start_time": "2021-10-13T21:08:36.734Z"
   },
   {
    "duration": 347,
    "start_time": "2021-10-13T21:08:37.187Z"
   },
   {
    "duration": 5,
    "start_time": "2021-10-13T21:09:31.542Z"
   },
   {
    "duration": 11,
    "start_time": "2021-10-13T21:09:31.873Z"
   },
   {
    "duration": 11,
    "start_time": "2021-10-13T21:09:32.816Z"
   },
   {
    "duration": 214,
    "start_time": "2021-10-13T21:09:33.482Z"
   },
   {
    "duration": 214,
    "start_time": "2021-10-13T21:09:33.894Z"
   },
   {
    "duration": 321,
    "start_time": "2021-10-13T21:09:34.697Z"
   },
   {
    "duration": 341,
    "start_time": "2021-10-13T21:09:35.074Z"
   },
   {
    "duration": 335,
    "start_time": "2021-10-13T21:09:35.487Z"
   },
   {
    "duration": 1275,
    "start_time": "2021-10-14T13:53:25.365Z"
   },
   {
    "duration": 338,
    "start_time": "2021-10-14T13:53:42.881Z"
   },
   {
    "duration": 337,
    "start_time": "2021-10-14T13:53:59.275Z"
   },
   {
    "duration": 826,
    "start_time": "2021-10-14T13:58:45.223Z"
   },
   {
    "duration": 399,
    "start_time": "2021-10-14T13:59:00.610Z"
   },
   {
    "duration": 8,
    "start_time": "2021-10-14T13:59:08.866Z"
   },
   {
    "duration": 1101,
    "start_time": "2021-10-14T13:59:10.823Z"
   },
   {
    "duration": 25,
    "start_time": "2021-10-14T13:59:12.857Z"
   },
   {
    "duration": 156,
    "start_time": "2021-10-14T13:59:16.088Z"
   },
   {
    "duration": 117,
    "start_time": "2021-10-14T13:59:17.094Z"
   },
   {
    "duration": 46,
    "start_time": "2021-10-14T13:59:20.838Z"
   },
   {
    "duration": 1261,
    "start_time": "2021-10-14T13:59:21.383Z"
   },
   {
    "duration": 124,
    "start_time": "2021-10-14T13:59:22.647Z"
   },
   {
    "duration": 635,
    "start_time": "2021-10-14T13:59:23.489Z"
   },
   {
    "duration": 687,
    "start_time": "2021-10-14T13:59:24.126Z"
   },
   {
    "duration": 3,
    "start_time": "2021-10-14T13:59:24.816Z"
   },
   {
    "duration": 35,
    "start_time": "2021-10-14T13:59:24.901Z"
   },
   {
    "duration": 700,
    "start_time": "2021-10-14T13:59:25.465Z"
   },
   {
    "duration": 267,
    "start_time": "2021-10-14T13:59:26.374Z"
   },
   {
    "duration": 9,
    "start_time": "2021-10-14T13:59:27.192Z"
   },
   {
    "duration": 308,
    "start_time": "2021-10-14T13:59:27.951Z"
   },
   {
    "duration": 72,
    "start_time": "2021-10-14T13:59:30.290Z"
   },
   {
    "duration": 5,
    "start_time": "2021-10-14T13:59:30.673Z"
   },
   {
    "duration": 98,
    "start_time": "2021-10-14T13:59:32.163Z"
   },
   {
    "duration": 908,
    "start_time": "2021-10-14T14:00:15.233Z"
   },
   {
    "duration": 48,
    "start_time": "2021-10-14T14:00:21.269Z"
   },
   {
    "duration": 76,
    "start_time": "2021-10-14T14:01:01.666Z"
   },
   {
    "duration": 697,
    "start_time": "2021-10-14T14:01:06.692Z"
   },
   {
    "duration": 403,
    "start_time": "2021-10-14T14:01:11.974Z"
   },
   {
    "duration": 421,
    "start_time": "2021-10-14T14:02:23.909Z"
   },
   {
    "duration": 25,
    "start_time": "2021-10-14T14:02:25.651Z"
   },
   {
    "duration": 72,
    "start_time": "2021-10-14T14:02:29.608Z"
   },
   {
    "duration": 36,
    "start_time": "2021-10-14T14:02:32.850Z"
   },
   {
    "duration": 360,
    "start_time": "2021-10-14T14:02:34.395Z"
   },
   {
    "duration": 588,
    "start_time": "2021-10-14T14:02:46.323Z"
   },
   {
    "duration": 26,
    "start_time": "2021-10-14T14:02:51.508Z"
   },
   {
    "duration": 51,
    "start_time": "2021-10-14T14:02:52.246Z"
   },
   {
    "duration": 49,
    "start_time": "2021-10-14T14:02:52.799Z"
   },
   {
    "duration": 4517,
    "start_time": "2021-10-14T14:02:53.840Z"
   },
   {
    "duration": 26,
    "start_time": "2021-10-14T14:02:58.360Z"
   },
   {
    "duration": 43,
    "start_time": "2021-10-14T14:02:58.390Z"
   },
   {
    "duration": 326,
    "start_time": "2021-10-14T14:02:58.436Z"
   },
   {
    "duration": 45,
    "start_time": "2021-10-14T14:02:58.764Z"
   },
   {
    "duration": 310,
    "start_time": "2021-10-14T14:02:58.812Z"
   },
   {
    "duration": 540,
    "start_time": "2021-10-14T14:02:59.125Z"
   },
   {
    "duration": 239,
    "start_time": "2021-10-14T14:03:00.762Z"
   },
   {
    "duration": 25,
    "start_time": "2021-10-14T14:03:02.348Z"
   },
   {
    "duration": 12,
    "start_time": "2021-10-14T14:03:05.350Z"
   },
   {
    "duration": 9,
    "start_time": "2021-10-14T14:06:31.993Z"
   },
   {
    "duration": 102,
    "start_time": "2021-10-14T14:06:32.641Z"
   },
   {
    "duration": 5,
    "start_time": "2021-10-14T14:06:33.295Z"
   },
   {
    "duration": 6099,
    "start_time": "2021-10-14T14:06:33.714Z"
   },
   {
    "duration": 7,
    "start_time": "2021-10-14T14:06:39.816Z"
   },
   {
    "duration": 7,
    "start_time": "2021-10-14T14:06:47.329Z"
   },
   {
    "duration": 344,
    "start_time": "2021-10-14T14:06:47.819Z"
   },
   {
    "duration": 101,
    "start_time": "2021-10-14T14:06:49.427Z"
   },
   {
    "duration": 800,
    "start_time": "2021-10-14T14:06:50.074Z"
   },
   {
    "duration": 4,
    "start_time": "2021-10-14T14:06:52.823Z"
   },
   {
    "duration": 6104,
    "start_time": "2021-10-14T14:06:53.342Z"
   },
   {
    "duration": 353,
    "start_time": "2021-10-14T14:06:59.449Z"
   },
   {
    "duration": 8,
    "start_time": "2021-10-14T14:06:59.805Z"
   },
   {
    "duration": 4,
    "start_time": "2021-10-14T14:09:45.456Z"
   },
   {
    "duration": 6227,
    "start_time": "2021-10-14T14:09:46.486Z"
   },
   {
    "duration": 352,
    "start_time": "2021-10-14T14:09:56.376Z"
   },
   {
    "duration": 10,
    "start_time": "2021-10-14T14:09:57.536Z"
   },
   {
    "duration": 1599,
    "start_time": "2021-10-14T14:10:42.230Z"
   },
   {
    "duration": 1105,
    "start_time": "2021-10-14T14:10:45.033Z"
   },
   {
    "duration": 38,
    "start_time": "2021-10-14T14:10:46.213Z"
   },
   {
    "duration": 157,
    "start_time": "2021-10-14T14:10:46.468Z"
   },
   {
    "duration": 133,
    "start_time": "2021-10-14T14:10:46.651Z"
   },
   {
    "duration": 44,
    "start_time": "2021-10-14T14:10:47.185Z"
   },
   {
    "duration": 1344,
    "start_time": "2021-10-14T14:10:47.343Z"
   },
   {
    "duration": 121,
    "start_time": "2021-10-14T14:10:48.689Z"
   },
   {
    "duration": 597,
    "start_time": "2021-10-14T14:10:48.814Z"
   },
   {
    "duration": 636,
    "start_time": "2021-10-14T14:10:49.414Z"
   },
   {
    "duration": 8,
    "start_time": "2021-10-14T14:10:50.053Z"
   },
   {
    "duration": 35,
    "start_time": "2021-10-14T14:10:50.064Z"
   },
   {
    "duration": 704,
    "start_time": "2021-10-14T14:10:50.102Z"
   },
   {
    "duration": 165,
    "start_time": "2021-10-14T14:10:50.810Z"
   },
   {
    "duration": 7,
    "start_time": "2021-10-14T14:10:50.978Z"
   },
   {
    "duration": 384,
    "start_time": "2021-10-14T14:10:50.987Z"
   },
   {
    "duration": 72,
    "start_time": "2021-10-14T14:10:51.373Z"
   },
   {
    "duration": 5,
    "start_time": "2021-10-14T14:10:51.462Z"
   },
   {
    "duration": 52,
    "start_time": "2021-10-14T14:10:51.470Z"
   },
   {
    "duration": 116,
    "start_time": "2021-10-14T14:10:51.525Z"
   },
   {
    "duration": 730,
    "start_time": "2021-10-14T14:10:51.731Z"
   },
   {
    "duration": 430,
    "start_time": "2021-10-14T14:10:52.464Z"
   },
   {
    "duration": 25,
    "start_time": "2021-10-14T14:10:56.441Z"
   },
   {
    "duration": 72,
    "start_time": "2021-10-14T14:11:00.117Z"
   },
   {
    "duration": 29,
    "start_time": "2021-10-14T14:11:00.502Z"
   },
   {
    "duration": 373,
    "start_time": "2021-10-14T14:11:01.313Z"
   },
   {
    "duration": 560,
    "start_time": "2021-10-14T14:11:01.911Z"
   },
   {
    "duration": 27,
    "start_time": "2021-10-14T14:11:02.473Z"
   },
   {
    "duration": 50,
    "start_time": "2021-10-14T14:11:02.857Z"
   },
   {
    "duration": 46,
    "start_time": "2021-10-14T14:11:03.100Z"
   },
   {
    "duration": 4565,
    "start_time": "2021-10-14T14:11:03.632Z"
   },
   {
    "duration": 26,
    "start_time": "2021-10-14T14:11:08.199Z"
   },
   {
    "duration": 63,
    "start_time": "2021-10-14T14:11:08.229Z"
   },
   {
    "duration": 367,
    "start_time": "2021-10-14T14:11:08.295Z"
   },
   {
    "duration": 45,
    "start_time": "2021-10-14T14:11:08.664Z"
   },
   {
    "duration": 311,
    "start_time": "2021-10-14T14:11:08.711Z"
   },
   {
    "duration": 543,
    "start_time": "2021-10-14T14:11:09.024Z"
   },
   {
    "duration": 245,
    "start_time": "2021-10-14T14:11:09.571Z"
   },
   {
    "duration": 43,
    "start_time": "2021-10-14T14:11:09.819Z"
   },
   {
    "duration": 10,
    "start_time": "2021-10-14T14:11:13.701Z"
   },
   {
    "duration": 115,
    "start_time": "2021-10-14T14:11:14.995Z"
   },
   {
    "duration": 5,
    "start_time": "2021-10-14T14:11:15.503Z"
   },
   {
    "duration": 6634,
    "start_time": "2021-10-14T14:11:15.989Z"
   },
   {
    "duration": 7,
    "start_time": "2021-10-14T14:11:22.625Z"
   },
   {
    "duration": 10,
    "start_time": "2021-10-14T14:11:22.635Z"
   },
   {
    "duration": 352,
    "start_time": "2021-10-14T14:11:22.663Z"
   },
   {
    "duration": 111,
    "start_time": "2021-10-14T14:11:23.018Z"
   },
   {
    "duration": 533,
    "start_time": "2021-10-14T14:11:23.131Z"
   },
   {
    "duration": 4,
    "start_time": "2021-10-14T14:12:13.720Z"
   },
   {
    "duration": 6028,
    "start_time": "2021-10-14T14:12:16.844Z"
   },
   {
    "duration": 113,
    "start_time": "2021-10-14T14:14:33.327Z"
   },
   {
    "duration": 11,
    "start_time": "2021-10-14T14:14:38.457Z"
   },
   {
    "duration": 128,
    "start_time": "2021-10-14T14:14:39.835Z"
   },
   {
    "duration": 1465,
    "start_time": "2021-10-14T14:14:51.716Z"
   },
   {
    "duration": 12,
    "start_time": "2021-10-14T14:16:02.661Z"
   },
   {
    "duration": 12,
    "start_time": "2021-10-14T14:16:08.222Z"
   },
   {
    "duration": 13,
    "start_time": "2021-10-14T14:16:14.200Z"
   },
   {
    "duration": 12,
    "start_time": "2021-10-14T14:16:21.030Z"
   },
   {
    "duration": 1614,
    "start_time": "2021-10-14T14:17:17.759Z"
   },
   {
    "duration": 1116,
    "start_time": "2021-10-14T14:17:19.375Z"
   },
   {
    "duration": 27,
    "start_time": "2021-10-14T14:17:20.494Z"
   },
   {
    "duration": 185,
    "start_time": "2021-10-14T14:17:20.523Z"
   },
   {
    "duration": 128,
    "start_time": "2021-10-14T14:17:20.710Z"
   },
   {
    "duration": 47,
    "start_time": "2021-10-14T14:17:20.841Z"
   },
   {
    "duration": 1281,
    "start_time": "2021-10-14T14:17:20.890Z"
   },
   {
    "duration": 118,
    "start_time": "2021-10-14T14:17:22.174Z"
   },
   {
    "duration": 625,
    "start_time": "2021-10-14T14:17:22.295Z"
   },
   {
    "duration": 673,
    "start_time": "2021-10-14T14:17:22.922Z"
   },
   {
    "duration": 3,
    "start_time": "2021-10-14T14:17:23.597Z"
   },
   {
    "duration": 44,
    "start_time": "2021-10-14T14:17:23.603Z"
   },
   {
    "duration": 685,
    "start_time": "2021-10-14T14:17:23.650Z"
   },
   {
    "duration": 154,
    "start_time": "2021-10-14T14:17:24.338Z"
   },
   {
    "duration": 7,
    "start_time": "2021-10-14T14:17:24.494Z"
   },
   {
    "duration": 331,
    "start_time": "2021-10-14T14:17:24.503Z"
   },
   {
    "duration": 85,
    "start_time": "2021-10-14T14:17:24.836Z"
   },
   {
    "duration": 5,
    "start_time": "2021-10-14T14:17:24.923Z"
   },
   {
    "duration": 63,
    "start_time": "2021-10-14T14:17:24.931Z"
   },
   {
    "duration": 98,
    "start_time": "2021-10-14T14:17:24.997Z"
   },
   {
    "duration": 714,
    "start_time": "2021-10-14T14:17:25.097Z"
   },
   {
    "duration": 419,
    "start_time": "2021-10-14T14:17:25.814Z"
   },
   {
    "duration": 28,
    "start_time": "2021-10-14T14:17:40.632Z"
   },
   {
    "duration": 72,
    "start_time": "2021-10-14T14:17:41.833Z"
   },
   {
    "duration": 30,
    "start_time": "2021-10-14T14:17:42.383Z"
   },
   {
    "duration": 358,
    "start_time": "2021-10-14T14:17:43.093Z"
   },
   {
    "duration": 518,
    "start_time": "2021-10-14T14:17:43.568Z"
   },
   {
    "duration": 26,
    "start_time": "2021-10-14T14:17:44.256Z"
   },
   {
    "duration": 51,
    "start_time": "2021-10-14T14:17:44.683Z"
   },
   {
    "duration": 46,
    "start_time": "2021-10-14T14:17:45.078Z"
   },
   {
    "duration": 4335,
    "start_time": "2021-10-14T14:17:45.945Z"
   },
   {
    "duration": 26,
    "start_time": "2021-10-14T14:17:50.283Z"
   },
   {
    "duration": 61,
    "start_time": "2021-10-14T14:17:50.312Z"
   },
   {
    "duration": 378,
    "start_time": "2021-10-14T14:17:50.376Z"
   },
   {
    "duration": 45,
    "start_time": "2021-10-14T14:17:50.757Z"
   },
   {
    "duration": 291,
    "start_time": "2021-10-14T14:17:50.804Z"
   },
   {
    "duration": 535,
    "start_time": "2021-10-14T14:17:51.097Z"
   },
   {
    "duration": 239,
    "start_time": "2021-10-14T14:17:51.635Z"
   },
   {
    "duration": 37,
    "start_time": "2021-10-14T14:17:54.471Z"
   },
   {
    "duration": 11,
    "start_time": "2021-10-14T14:17:57.349Z"
   },
   {
    "duration": 106,
    "start_time": "2021-10-14T14:17:57.926Z"
   },
   {
    "duration": 4,
    "start_time": "2021-10-14T14:18:00.020Z"
   },
   {
    "duration": 6217,
    "start_time": "2021-10-14T14:18:01.029Z"
   },
   {
    "duration": 7,
    "start_time": "2021-10-14T14:18:07.249Z"
   },
   {
    "duration": 7,
    "start_time": "2021-10-14T14:18:07.263Z"
   },
   {
    "duration": 365,
    "start_time": "2021-10-14T14:18:07.272Z"
   },
   {
    "duration": 113,
    "start_time": "2021-10-14T14:18:07.639Z"
   },
   {
    "duration": 205,
    "start_time": "2021-10-14T14:18:30.996Z"
   },
   {
    "duration": 27,
    "start_time": "2021-10-14T14:18:39.231Z"
   },
   {
    "duration": 28,
    "start_time": "2021-10-14T14:19:00.860Z"
   },
   {
    "duration": 4,
    "start_time": "2021-10-14T14:19:01.957Z"
   },
   {
    "duration": 6385,
    "start_time": "2021-10-14T14:19:03.470Z"
   },
   {
    "duration": 9,
    "start_time": "2021-10-14T14:19:16.618Z"
   },
   {
    "duration": 17,
    "start_time": "2021-10-14T14:19:46.769Z"
   },
   {
    "duration": 7,
    "start_time": "2021-10-14T14:20:20.395Z"
   },
   {
    "duration": 8,
    "start_time": "2021-10-14T14:20:24.262Z"
   },
   {
    "duration": 25,
    "start_time": "2021-10-14T14:21:02.489Z"
   },
   {
    "duration": 63,
    "start_time": "2021-10-14T14:23:10.616Z"
   },
   {
    "duration": 10,
    "start_time": "2021-10-14T14:23:14.769Z"
   },
   {
    "duration": 9,
    "start_time": "2021-10-14T14:23:22.047Z"
   },
   {
    "duration": 12,
    "start_time": "2021-10-14T14:23:26.077Z"
   },
   {
    "duration": 12,
    "start_time": "2021-10-14T14:23:40.696Z"
   },
   {
    "duration": 197,
    "start_time": "2021-10-14T14:23:41.225Z"
   },
   {
    "duration": 8,
    "start_time": "2021-10-14T14:23:56.558Z"
   },
   {
    "duration": 732,
    "start_time": "2021-10-14T14:24:01.810Z"
   },
   {
    "duration": 136,
    "start_time": "2021-10-14T14:24:06.095Z"
   },
   {
    "duration": 808,
    "start_time": "2021-10-14T14:24:10.243Z"
   },
   {
    "duration": 1665,
    "start_time": "2021-10-14T14:32:14.516Z"
   },
   {
    "duration": 1170,
    "start_time": "2021-10-14T14:32:16.184Z"
   },
   {
    "duration": 23,
    "start_time": "2021-10-14T14:32:17.357Z"
   },
   {
    "duration": 201,
    "start_time": "2021-10-14T14:32:17.383Z"
   },
   {
    "duration": 131,
    "start_time": "2021-10-14T14:32:17.586Z"
   },
   {
    "duration": 51,
    "start_time": "2021-10-14T14:32:17.720Z"
   },
   {
    "duration": 1252,
    "start_time": "2021-10-14T14:32:17.774Z"
   },
   {
    "duration": 116,
    "start_time": "2021-10-14T14:32:19.030Z"
   },
   {
    "duration": 619,
    "start_time": "2021-10-14T14:32:19.148Z"
   },
   {
    "duration": 671,
    "start_time": "2021-10-14T14:32:19.769Z"
   },
   {
    "duration": 3,
    "start_time": "2021-10-14T14:32:20.442Z"
   },
   {
    "duration": 48,
    "start_time": "2021-10-14T14:32:20.447Z"
   },
   {
    "duration": 739,
    "start_time": "2021-10-14T14:32:20.498Z"
   },
   {
    "duration": 162,
    "start_time": "2021-10-14T14:32:21.240Z"
   },
   {
    "duration": 6,
    "start_time": "2021-10-14T14:32:21.404Z"
   },
   {
    "duration": 329,
    "start_time": "2021-10-14T14:32:21.412Z"
   },
   {
    "duration": 84,
    "start_time": "2021-10-14T14:32:21.745Z"
   },
   {
    "duration": 4,
    "start_time": "2021-10-14T14:32:21.832Z"
   },
   {
    "duration": 66,
    "start_time": "2021-10-14T14:32:21.839Z"
   },
   {
    "duration": 103,
    "start_time": "2021-10-14T14:32:21.907Z"
   },
   {
    "duration": 717,
    "start_time": "2021-10-14T14:32:22.013Z"
   },
   {
    "duration": 428,
    "start_time": "2021-10-14T14:32:22.733Z"
   },
   {
    "duration": 27,
    "start_time": "2021-10-14T14:32:23.164Z"
   },
   {
    "duration": 71,
    "start_time": "2021-10-14T14:32:23.559Z"
   },
   {
    "duration": 30,
    "start_time": "2021-10-14T14:32:23.791Z"
   },
   {
    "duration": 378,
    "start_time": "2021-10-14T14:32:24.235Z"
   },
   {
    "duration": 553,
    "start_time": "2021-10-14T14:32:24.653Z"
   },
   {
    "duration": 33,
    "start_time": "2021-10-14T14:32:25.209Z"
   },
   {
    "duration": 52,
    "start_time": "2021-10-14T14:32:26.713Z"
   },
   {
    "duration": 48,
    "start_time": "2021-10-14T14:32:27.141Z"
   },
   {
    "duration": 4484,
    "start_time": "2021-10-14T14:32:27.868Z"
   },
   {
    "duration": 29,
    "start_time": "2021-10-14T14:32:32.355Z"
   },
   {
    "duration": 51,
    "start_time": "2021-10-14T14:32:32.387Z"
   },
   {
    "duration": 389,
    "start_time": "2021-10-14T14:32:32.443Z"
   },
   {
    "duration": 41,
    "start_time": "2021-10-14T14:32:32.834Z"
   },
   {
    "duration": 298,
    "start_time": "2021-10-14T14:32:32.877Z"
   },
   {
    "duration": 529,
    "start_time": "2021-10-14T14:32:33.177Z"
   },
   {
    "duration": 237,
    "start_time": "2021-10-14T14:32:33.709Z"
   },
   {
    "duration": 36,
    "start_time": "2021-10-14T14:32:33.950Z"
   },
   {
    "duration": 11,
    "start_time": "2021-10-14T14:32:33.989Z"
   },
   {
    "duration": 143,
    "start_time": "2021-10-14T14:32:34.003Z"
   },
   {
    "duration": 14,
    "start_time": "2021-10-14T14:32:34.149Z"
   },
   {
    "duration": 6113,
    "start_time": "2021-10-14T14:32:34.166Z"
   },
   {
    "duration": 7,
    "start_time": "2021-10-14T14:32:40.281Z"
   },
   {
    "duration": 8,
    "start_time": "2021-10-14T14:32:40.291Z"
   },
   {
    "duration": 364,
    "start_time": "2021-10-14T14:32:40.302Z"
   },
   {
    "duration": 119,
    "start_time": "2021-10-14T14:32:40.670Z"
   },
   {
    "duration": 535,
    "start_time": "2021-10-14T14:32:40.792Z"
   },
   {
    "duration": 52,
    "start_time": "2021-10-14T14:32:41.330Z"
   },
   {
    "duration": 4,
    "start_time": "2021-10-14T14:32:41.385Z"
   },
   {
    "duration": 6094,
    "start_time": "2021-10-14T14:32:41.391Z"
   },
   {
    "duration": 89,
    "start_time": "2021-10-14T14:32:47.488Z"
   },
   {
    "duration": 11,
    "start_time": "2021-10-14T14:32:47.581Z"
   },
   {
    "duration": 758,
    "start_time": "2021-10-14T14:32:47.594Z"
   },
   {
    "duration": 143,
    "start_time": "2021-10-14T14:32:48.362Z"
   },
   {
    "duration": 782,
    "start_time": "2021-10-14T14:32:48.507Z"
   },
   {
    "duration": 4,
    "start_time": "2021-10-14T14:32:49.292Z"
   },
   {
    "duration": 63,
    "start_time": "2021-10-14T14:32:49.299Z"
   },
   {
    "duration": 20,
    "start_time": "2021-10-14T14:32:58.041Z"
   },
   {
    "duration": 1037,
    "start_time": "2021-10-14T14:32:58.265Z"
   },
   {
    "duration": 4,
    "start_time": "2021-10-14T14:33:02.070Z"
   },
   {
    "duration": 214,
    "start_time": "2021-10-14T14:33:02.458Z"
   },
   {
    "duration": 160,
    "start_time": "2021-10-14T14:33:03.238Z"
   },
   {
    "duration": 6,
    "start_time": "2021-10-14T14:33:03.510Z"
   },
   {
    "duration": 1050,
    "start_time": "2021-10-14T14:33:05.993Z"
   },
   {
    "duration": 341,
    "start_time": "2021-10-14T14:33:07.045Z"
   },
   {
    "duration": 43,
    "start_time": "2021-10-14T14:33:07.389Z"
   },
   {
    "duration": 5,
    "start_time": "2021-10-14T14:33:07.435Z"
   },
   {
    "duration": 343,
    "start_time": "2021-10-14T14:33:09.519Z"
   },
   {
    "duration": 8,
    "start_time": "2021-10-14T14:33:11.046Z"
   },
   {
    "duration": 3,
    "start_time": "2021-10-14T14:33:16.035Z"
   },
   {
    "duration": 21876,
    "start_time": "2021-10-14T14:33:26.287Z"
   },
   {
    "duration": 4,
    "start_time": "2021-10-14T14:34:07.189Z"
   },
   {
    "duration": 4,
    "start_time": "2021-10-14T14:34:07.724Z"
   },
   {
    "duration": 164188,
    "start_time": "2021-10-14T14:34:08.274Z"
   },
   {
    "duration": 5,
    "start_time": "2021-10-14T14:37:03.756Z"
   },
   {
    "duration": 6737,
    "start_time": "2021-10-14T14:37:06.346Z"
   },
   {
    "duration": 6,
    "start_time": "2021-10-14T14:37:28.103Z"
   },
   {
    "duration": 891,
    "start_time": "2021-10-14T14:37:30.704Z"
   },
   {
    "duration": 4,
    "start_time": "2021-10-14T14:37:40.411Z"
   },
   {
    "duration": 3,
    "start_time": "2021-10-14T14:37:41.357Z"
   },
   {
    "duration": 9077,
    "start_time": "2021-10-14T14:37:42.895Z"
   },
   {
    "duration": 25,
    "start_time": "2021-10-14T14:38:38.324Z"
   },
   {
    "duration": 328,
    "start_time": "2021-10-14T14:38:39.477Z"
   },
   {
    "duration": 6,
    "start_time": "2021-10-14T14:38:40.500Z"
   },
   {
    "duration": 17,
    "start_time": "2021-10-14T14:38:43.139Z"
   },
   {
    "duration": 4,
    "start_time": "2021-10-14T14:38:46.141Z"
   },
   {
    "duration": 1257,
    "start_time": "2021-10-14T14:38:46.313Z"
   },
   {
    "duration": 5,
    "start_time": "2021-10-14T14:38:50.444Z"
   },
   {
    "duration": 331281,
    "start_time": "2021-10-14T14:38:50.606Z"
   },
   {
    "duration": 6,
    "start_time": "2021-10-14T14:45:50.323Z"
   },
   {
    "duration": 327091,
    "start_time": "2021-10-14T14:46:15.977Z"
   },
   {
    "duration": 21738,
    "start_time": "2021-10-14T14:52:08.227Z"
   },
   {
    "duration": 93,
    "start_time": "2021-10-14T14:52:29.969Z"
   },
   {
    "duration": 7,
    "start_time": "2021-10-14T14:52:30.065Z"
   },
   {
    "duration": 166556,
    "start_time": "2021-10-14T14:52:30.074Z"
   },
   {
    "duration": 5,
    "start_time": "2021-10-14T14:55:16.632Z"
   },
   {
    "duration": 6727,
    "start_time": "2021-10-14T14:55:16.640Z"
   },
   {
    "duration": 5,
    "start_time": "2021-10-14T14:55:23.370Z"
   },
   {
    "duration": 13,
    "start_time": "2021-10-14T14:55:23.379Z"
   },
   {
    "duration": 6,
    "start_time": "2021-10-14T14:55:23.395Z"
   },
   {
    "duration": 7667,
    "start_time": "2021-10-14T14:55:23.403Z"
   },
   {
    "duration": 7,
    "start_time": "2021-10-14T14:59:07.824Z"
   },
   {
    "duration": 15,
    "start_time": "2021-10-14T14:59:08.451Z"
   },
   {
    "duration": 7,
    "start_time": "2021-10-14T14:59:40.761Z"
   },
   {
    "duration": 16,
    "start_time": "2021-10-14T14:59:41.255Z"
   },
   {
    "duration": 28082,
    "start_time": "2021-10-14T15:00:37.689Z"
   },
   {
    "duration": 191,
    "start_time": "2021-10-14T15:01:05.775Z"
   },
   {
    "duration": 7,
    "start_time": "2021-10-14T15:01:06.062Z"
   },
   {
    "duration": 8351,
    "start_time": "2021-10-14T15:02:14.272Z"
   },
   {
    "duration": 167,
    "start_time": "2021-10-14T15:02:22.626Z"
   },
   {
    "duration": 6,
    "start_time": "2021-10-14T15:02:22.795Z"
   },
   {
    "duration": 223622,
    "start_time": "2021-10-14T15:03:13.562Z"
   },
   {
    "duration": 759,
    "start_time": "2021-10-14T15:06:57.187Z"
   },
   {
    "duration": 14,
    "start_time": "2021-10-14T15:06:57.949Z"
   },
   {
    "duration": 7306,
    "start_time": "2021-10-14T15:06:57.966Z"
   },
   {
    "duration": 702,
    "start_time": "2021-10-14T15:07:05.274Z"
   },
   {
    "duration": 87,
    "start_time": "2021-10-14T15:07:05.978Z"
   },
   {
    "duration": 21,
    "start_time": "2021-10-14T15:09:03.775Z"
   },
   {
    "duration": 423741,
    "start_time": "2021-10-14T15:09:04.327Z"
   },
   {
    "duration": 422336,
    "start_time": "2021-10-14T15:16:08.071Z"
   },
   {
    "duration": 774,
    "start_time": "2021-10-14T15:23:10.410Z"
   },
   {
    "duration": 76,
    "start_time": "2021-10-14T15:23:11.186Z"
   },
   {
    "duration": 8,
    "start_time": "2021-10-14T15:23:43.547Z"
   },
   {
    "duration": 16,
    "start_time": "2021-10-14T15:23:49.730Z"
   },
   {
    "duration": 15,
    "start_time": "2021-10-14T15:24:05.949Z"
   },
   {
    "duration": 363,
    "start_time": "2021-10-14T15:24:11.745Z"
   },
   {
    "duration": 368,
    "start_time": "2021-10-14T15:24:33.852Z"
   },
   {
    "duration": 6,
    "start_time": "2021-10-14T15:25:32.829Z"
   },
   {
    "duration": 380,
    "start_time": "2021-10-14T15:25:33.333Z"
   },
   {
    "duration": 7,
    "start_time": "2021-10-14T15:26:02.506Z"
   },
   {
    "duration": 477,
    "start_time": "2021-10-14T15:26:08.019Z"
   },
   {
    "duration": 469,
    "start_time": "2021-10-14T15:26:23.256Z"
   },
   {
    "duration": 514,
    "start_time": "2021-10-14T15:26:23.728Z"
   },
   {
    "duration": 491,
    "start_time": "2021-10-14T15:26:24.245Z"
   },
   {
    "duration": 483,
    "start_time": "2021-10-14T15:27:04.148Z"
   },
   {
    "duration": 1737,
    "start_time": "2021-10-14T15:32:00.719Z"
   },
   {
    "duration": 1140,
    "start_time": "2021-10-14T15:32:02.461Z"
   },
   {
    "duration": 24,
    "start_time": "2021-10-14T15:32:03.604Z"
   },
   {
    "duration": 174,
    "start_time": "2021-10-14T15:32:03.631Z"
   },
   {
    "duration": 129,
    "start_time": "2021-10-14T15:32:03.808Z"
   },
   {
    "duration": 55,
    "start_time": "2021-10-14T15:32:03.939Z"
   },
   {
    "duration": 1300,
    "start_time": "2021-10-14T15:32:03.996Z"
   },
   {
    "duration": 128,
    "start_time": "2021-10-14T15:32:05.298Z"
   },
   {
    "duration": 717,
    "start_time": "2021-10-14T15:32:05.429Z"
   },
   {
    "duration": 690,
    "start_time": "2021-10-14T15:32:06.149Z"
   },
   {
    "duration": 3,
    "start_time": "2021-10-14T15:32:06.841Z"
   },
   {
    "duration": 37,
    "start_time": "2021-10-14T15:32:06.863Z"
   },
   {
    "duration": 721,
    "start_time": "2021-10-14T15:32:06.903Z"
   },
   {
    "duration": 161,
    "start_time": "2021-10-14T15:32:07.626Z"
   },
   {
    "duration": 6,
    "start_time": "2021-10-14T15:32:07.789Z"
   },
   {
    "duration": 338,
    "start_time": "2021-10-14T15:32:07.798Z"
   },
   {
    "duration": 93,
    "start_time": "2021-10-14T15:32:08.139Z"
   },
   {
    "duration": 6,
    "start_time": "2021-10-14T15:32:08.235Z"
   },
   {
    "duration": 66,
    "start_time": "2021-10-14T15:32:08.244Z"
   },
   {
    "duration": 108,
    "start_time": "2021-10-14T15:32:08.313Z"
   },
   {
    "duration": 696,
    "start_time": "2021-10-14T15:32:08.424Z"
   },
   {
    "duration": 426,
    "start_time": "2021-10-14T15:32:09.122Z"
   },
   {
    "duration": 30,
    "start_time": "2021-10-14T15:32:09.550Z"
   },
   {
    "duration": 90,
    "start_time": "2021-10-14T15:32:09.583Z"
   },
   {
    "duration": 30,
    "start_time": "2021-10-14T15:32:09.676Z"
   },
   {
    "duration": 384,
    "start_time": "2021-10-14T15:32:09.708Z"
   },
   {
    "duration": 696,
    "start_time": "2021-10-14T15:32:10.099Z"
   },
   {
    "duration": 25,
    "start_time": "2021-10-14T15:32:10.799Z"
   },
   {
    "duration": 71,
    "start_time": "2021-10-14T15:32:10.826Z"
   },
   {
    "duration": 63,
    "start_time": "2021-10-14T15:32:10.901Z"
   },
   {
    "duration": 4557,
    "start_time": "2021-10-14T15:32:10.966Z"
   },
   {
    "duration": 37,
    "start_time": "2021-10-14T15:32:15.525Z"
   },
   {
    "duration": 45,
    "start_time": "2021-10-14T15:32:15.564Z"
   },
   {
    "duration": 351,
    "start_time": "2021-10-14T15:32:15.611Z"
   },
   {
    "duration": 44,
    "start_time": "2021-10-14T15:32:15.965Z"
   },
   {
    "duration": 294,
    "start_time": "2021-10-14T15:32:16.011Z"
   },
   {
    "duration": 545,
    "start_time": "2021-10-14T15:32:16.307Z"
   },
   {
    "duration": 240,
    "start_time": "2021-10-14T15:32:16.854Z"
   },
   {
    "duration": 24,
    "start_time": "2021-10-14T15:32:17.097Z"
   },
   {
    "duration": 9,
    "start_time": "2021-10-14T15:32:17.124Z"
   },
   {
    "duration": 143,
    "start_time": "2021-10-14T15:32:17.135Z"
   },
   {
    "duration": 4,
    "start_time": "2021-10-14T15:32:17.281Z"
   },
   {
    "duration": 6292,
    "start_time": "2021-10-14T15:32:17.287Z"
   },
   {
    "duration": 7,
    "start_time": "2021-10-14T15:32:23.581Z"
   },
   {
    "duration": 11,
    "start_time": "2021-10-14T15:32:23.590Z"
   },
   {
    "duration": 366,
    "start_time": "2021-10-14T15:32:23.603Z"
   },
   {
    "duration": 123,
    "start_time": "2021-10-14T15:32:23.972Z"
   },
   {
    "duration": 540,
    "start_time": "2021-10-14T15:32:24.098Z"
   },
   {
    "duration": 45,
    "start_time": "2021-10-14T15:32:24.641Z"
   },
   {
    "duration": 4,
    "start_time": "2021-10-14T15:32:24.688Z"
   },
   {
    "duration": 6300,
    "start_time": "2021-10-14T15:32:24.694Z"
   },
   {
    "duration": 92,
    "start_time": "2021-10-14T15:32:30.997Z"
   },
   {
    "duration": 9,
    "start_time": "2021-10-14T15:32:31.091Z"
   },
   {
    "duration": 715,
    "start_time": "2021-10-14T15:32:31.102Z"
   },
   {
    "duration": 148,
    "start_time": "2021-10-14T15:32:31.820Z"
   },
   {
    "duration": 750,
    "start_time": "2021-10-14T15:32:31.971Z"
   },
   {
    "duration": 4,
    "start_time": "2021-10-14T15:32:32.724Z"
   },
   {
    "duration": 66,
    "start_time": "2021-10-14T15:32:32.730Z"
   },
   {
    "duration": 17,
    "start_time": "2021-10-14T15:32:32.799Z"
   },
   {
    "duration": 1299,
    "start_time": "2021-10-14T15:32:32.818Z"
   },
   {
    "duration": 3,
    "start_time": "2021-10-14T15:32:34.120Z"
   },
   {
    "duration": 224,
    "start_time": "2021-10-14T15:32:34.125Z"
   },
   {
    "duration": 167,
    "start_time": "2021-10-14T15:32:34.352Z"
   },
   {
    "duration": 6,
    "start_time": "2021-10-14T15:32:34.522Z"
   },
   {
    "duration": 1082,
    "start_time": "2021-10-14T15:32:34.531Z"
   },
   {
    "duration": 353,
    "start_time": "2021-10-14T15:32:35.616Z"
   },
   {
    "duration": 46,
    "start_time": "2021-10-14T15:32:35.971Z"
   },
   {
    "duration": 6,
    "start_time": "2021-10-14T15:32:36.019Z"
   },
   {
    "duration": 367,
    "start_time": "2021-10-14T15:32:36.027Z"
   },
   {
    "duration": 8,
    "start_time": "2021-10-14T15:32:36.397Z"
   },
   {
    "duration": 24,
    "start_time": "2021-10-14T15:32:36.407Z"
   },
   {
    "duration": 20833,
    "start_time": "2021-10-14T15:32:36.435Z"
   },
   {
    "duration": 92,
    "start_time": "2021-10-14T15:32:57.271Z"
   },
   {
    "duration": 7,
    "start_time": "2021-10-14T15:32:57.366Z"
   },
   {
    "duration": 164390,
    "start_time": "2021-10-14T15:32:57.375Z"
   },
   {
    "duration": 5,
    "start_time": "2021-10-14T15:35:41.767Z"
   },
   {
    "duration": 6920,
    "start_time": "2021-10-14T15:35:41.774Z"
   },
   {
    "duration": 5,
    "start_time": "2021-10-14T15:35:48.697Z"
   },
   {
    "duration": 9,
    "start_time": "2021-10-14T15:35:48.705Z"
   },
   {
    "duration": 6,
    "start_time": "2021-10-14T15:35:48.716Z"
   },
   {
    "duration": 9432,
    "start_time": "2021-10-14T15:35:48.731Z"
   },
   {
    "duration": 26,
    "start_time": "2021-10-14T15:35:58.167Z"
   },
   {
    "duration": 358,
    "start_time": "2021-10-14T15:35:58.195Z"
   },
   {
    "duration": 7,
    "start_time": "2021-10-14T15:35:58.556Z"
   },
   {
    "duration": 25,
    "start_time": "2021-10-14T15:35:58.565Z"
   },
   {
    "duration": 9,
    "start_time": "2021-10-14T15:35:58.593Z"
   },
   {
    "duration": 1283,
    "start_time": "2021-10-14T15:35:58.604Z"
   },
   {
    "duration": 4,
    "start_time": "2021-10-14T15:35:59.889Z"
   },
   {
    "duration": 332879,
    "start_time": "2021-10-14T15:35:59.895Z"
   },
   {
    "duration": 9,
    "start_time": "2021-10-14T15:41:32.777Z"
   },
   {
    "duration": 25,
    "start_time": "2021-10-14T15:41:32.790Z"
   },
   {
    "duration": 25452,
    "start_time": "2021-10-14T15:41:32.818Z"
   },
   {
    "duration": 194,
    "start_time": "2021-10-14T15:41:58.272Z"
   },
   {
    "duration": 95,
    "start_time": "2021-10-14T15:41:58.469Z"
   },
   {
    "duration": 8512,
    "start_time": "2021-10-14T15:41:58.566Z"
   },
   {
    "duration": 158,
    "start_time": "2021-10-14T15:42:07.080Z"
   },
   {
    "duration": 6,
    "start_time": "2021-10-14T15:42:07.241Z"
   },
   {
    "duration": 226220,
    "start_time": "2021-10-14T15:42:07.262Z"
   },
   {
    "duration": 751,
    "start_time": "2021-10-14T15:45:53.485Z"
   },
   {
    "duration": 7,
    "start_time": "2021-10-14T15:45:54.239Z"
   },
   {
    "duration": 8112,
    "start_time": "2021-10-14T15:45:54.263Z"
   },
   {
    "duration": 706,
    "start_time": "2021-10-14T15:46:02.463Z"
   },
   {
    "duration": 7,
    "start_time": "2021-10-14T15:46:03.172Z"
   },
   {
    "duration": 4,
    "start_time": "2021-10-14T19:39:44.814Z"
   },
   {
    "duration": 485,
    "start_time": "2021-10-14T19:39:47.399Z"
   },
   {
    "duration": 1701,
    "start_time": "2021-10-14T19:40:13.900Z"
   },
   {
    "duration": 1139,
    "start_time": "2021-10-14T19:40:15.604Z"
   },
   {
    "duration": 27,
    "start_time": "2021-10-14T19:40:16.746Z"
   },
   {
    "duration": 184,
    "start_time": "2021-10-14T19:40:16.775Z"
   },
   {
    "duration": 137,
    "start_time": "2021-10-14T19:40:16.961Z"
   },
   {
    "duration": 46,
    "start_time": "2021-10-14T19:40:17.101Z"
   },
   {
    "duration": 1442,
    "start_time": "2021-10-14T19:40:17.150Z"
   },
   {
    "duration": 121,
    "start_time": "2021-10-14T19:40:18.602Z"
   },
   {
    "duration": 633,
    "start_time": "2021-10-14T19:40:18.726Z"
   },
   {
    "duration": 800,
    "start_time": "2021-10-14T19:40:19.362Z"
   },
   {
    "duration": 3,
    "start_time": "2021-10-14T19:40:20.165Z"
   },
   {
    "duration": 70,
    "start_time": "2021-10-14T19:40:20.170Z"
   },
   {
    "duration": 711,
    "start_time": "2021-10-14T19:40:20.243Z"
   },
   {
    "duration": 171,
    "start_time": "2021-10-14T19:40:20.957Z"
   },
   {
    "duration": 7,
    "start_time": "2021-10-14T19:40:21.130Z"
   },
   {
    "duration": 336,
    "start_time": "2021-10-14T19:40:21.139Z"
   },
   {
    "duration": 86,
    "start_time": "2021-10-14T19:40:21.478Z"
   },
   {
    "duration": 5,
    "start_time": "2021-10-14T19:40:21.567Z"
   },
   {
    "duration": 75,
    "start_time": "2021-10-14T19:40:21.574Z"
   },
   {
    "duration": 116,
    "start_time": "2021-10-14T19:40:21.651Z"
   },
   {
    "duration": 717,
    "start_time": "2021-10-14T19:40:21.770Z"
   },
   {
    "duration": 443,
    "start_time": "2021-10-14T19:40:22.490Z"
   },
   {
    "duration": 27,
    "start_time": "2021-10-14T19:40:22.938Z"
   },
   {
    "duration": 97,
    "start_time": "2021-10-14T19:40:22.968Z"
   },
   {
    "duration": 44,
    "start_time": "2021-10-14T19:40:23.069Z"
   },
   {
    "duration": 388,
    "start_time": "2021-10-14T19:40:23.116Z"
   },
   {
    "duration": 625,
    "start_time": "2021-10-14T19:40:23.507Z"
   },
   {
    "duration": 27,
    "start_time": "2021-10-14T19:40:24.135Z"
   },
   {
    "duration": 82,
    "start_time": "2021-10-14T19:40:24.165Z"
   },
   {
    "duration": 64,
    "start_time": "2021-10-14T19:40:24.249Z"
   },
   {
    "duration": 4311,
    "start_time": "2021-10-14T19:40:24.316Z"
   },
   {
    "duration": 27,
    "start_time": "2021-10-14T19:40:28.630Z"
   },
   {
    "duration": 60,
    "start_time": "2021-10-14T19:40:28.660Z"
   },
   {
    "duration": 301,
    "start_time": "2021-10-14T19:40:28.722Z"
   },
   {
    "duration": 44,
    "start_time": "2021-10-14T19:40:29.025Z"
   },
   {
    "duration": 395,
    "start_time": "2021-10-14T19:40:29.072Z"
   },
   {
    "duration": 561,
    "start_time": "2021-10-14T19:40:29.470Z"
   },
   {
    "duration": 340,
    "start_time": "2021-10-14T19:40:30.033Z"
   },
   {
    "duration": 40,
    "start_time": "2021-10-14T19:40:30.375Z"
   },
   {
    "duration": 10,
    "start_time": "2021-10-14T19:40:30.417Z"
   },
   {
    "duration": 136,
    "start_time": "2021-10-14T19:40:30.429Z"
   },
   {
    "duration": 5,
    "start_time": "2021-10-14T19:40:30.567Z"
   },
   {
    "duration": 6500,
    "start_time": "2021-10-14T19:40:30.574Z"
   },
   {
    "duration": 7,
    "start_time": "2021-10-14T19:40:37.076Z"
   },
   {
    "duration": 19,
    "start_time": "2021-10-14T19:40:37.086Z"
   },
   {
    "duration": 373,
    "start_time": "2021-10-14T19:40:37.108Z"
   },
   {
    "duration": 129,
    "start_time": "2021-10-14T19:40:37.484Z"
   },
   {
    "duration": 549,
    "start_time": "2021-10-14T19:40:37.616Z"
   },
   {
    "duration": 54,
    "start_time": "2021-10-14T19:40:38.168Z"
   },
   {
    "duration": 5,
    "start_time": "2021-10-14T19:40:38.224Z"
   },
   {
    "duration": 6528,
    "start_time": "2021-10-14T19:40:38.231Z"
   },
   {
    "duration": 95,
    "start_time": "2021-10-14T19:40:44.762Z"
   },
   {
    "duration": 8,
    "start_time": "2021-10-14T19:40:44.860Z"
   },
   {
    "duration": 729,
    "start_time": "2021-10-14T19:40:44.871Z"
   },
   {
    "duration": 148,
    "start_time": "2021-10-14T19:40:45.602Z"
   },
   {
    "duration": 798,
    "start_time": "2021-10-14T19:40:45.752Z"
   },
   {
    "duration": 4,
    "start_time": "2021-10-14T19:40:46.552Z"
   },
   {
    "duration": 67,
    "start_time": "2021-10-14T19:40:46.559Z"
   },
   {
    "duration": 18,
    "start_time": "2021-10-14T19:40:46.629Z"
   },
   {
    "duration": 1563,
    "start_time": "2021-10-14T19:40:46.650Z"
   },
   {
    "duration": 5,
    "start_time": "2021-10-14T19:40:48.216Z"
   },
   {
    "duration": 228,
    "start_time": "2021-10-14T19:40:48.223Z"
   },
   {
    "duration": 166,
    "start_time": "2021-10-14T19:40:48.454Z"
   },
   {
    "duration": 7,
    "start_time": "2021-10-14T19:40:48.622Z"
   },
   {
    "duration": 1114,
    "start_time": "2021-10-14T19:40:48.632Z"
   },
   {
    "duration": 339,
    "start_time": "2021-10-14T19:40:49.748Z"
   },
   {
    "duration": 45,
    "start_time": "2021-10-14T19:40:50.090Z"
   },
   {
    "duration": 5,
    "start_time": "2021-10-14T19:40:50.142Z"
   },
   {
    "duration": 365,
    "start_time": "2021-10-14T19:40:50.150Z"
   },
   {
    "duration": 117,
    "start_time": "2021-10-14T19:40:50.518Z"
   },
   {
    "duration": 63,
    "start_time": "2021-10-14T19:40:50.575Z"
   },
   {
    "duration": 103,
    "start_time": "2021-10-14T19:41:08.360Z"
   },
   {
    "duration": 308,
    "start_time": "2021-10-14T19:41:14.894Z"
   },
   {
    "duration": 4,
    "start_time": "2021-10-14T19:41:23.739Z"
   },
   {
    "duration": 215,
    "start_time": "2021-10-14T19:41:27.652Z"
   },
   {
    "duration": 351727,
    "start_time": "2021-10-14T19:41:33.582Z"
   },
   {
    "duration": 5,
    "start_time": "2021-10-14T19:47:25.312Z"
   },
   {
    "duration": 331,
    "start_time": "2021-10-14T19:50:30.214Z"
   },
   {
    "duration": 4,
    "start_time": "2021-10-14T19:50:32.905Z"
   },
   {
    "duration": 14628,
    "start_time": "2021-10-14T19:50:38.582Z"
   },
   {
    "duration": 4,
    "start_time": "2021-10-14T19:50:53.213Z"
   },
   {
    "duration": 4,
    "start_time": "2021-10-14T19:52:15.683Z"
   },
   {
    "duration": 5,
    "start_time": "2021-10-14T19:52:40.200Z"
   },
   {
    "duration": 3,
    "start_time": "2021-10-14T19:52:47.577Z"
   },
   {
    "duration": 3,
    "start_time": "2021-10-14T19:52:54.820Z"
   },
   {
    "duration": 1587,
    "start_time": "2022-03-03T08:17:20.075Z"
   },
   {
    "duration": 1082,
    "start_time": "2022-03-03T08:17:21.665Z"
   },
   {
    "duration": 40,
    "start_time": "2022-03-03T08:17:22.750Z"
   },
   {
    "duration": 180,
    "start_time": "2022-03-03T08:17:22.793Z"
   },
   {
    "duration": 127,
    "start_time": "2022-03-03T08:17:22.976Z"
   },
   {
    "duration": 44,
    "start_time": "2022-03-03T08:17:23.106Z"
   },
   {
    "duration": 1188,
    "start_time": "2022-03-03T08:17:23.152Z"
   },
   {
    "duration": 190,
    "start_time": "2022-03-03T08:17:24.344Z"
   },
   {
    "duration": 837,
    "start_time": "2022-03-03T08:17:24.540Z"
   },
   {
    "duration": 871,
    "start_time": "2022-03-03T08:17:25.382Z"
   },
   {
    "duration": 4,
    "start_time": "2022-03-03T08:17:26.256Z"
   },
   {
    "duration": 72,
    "start_time": "2022-03-03T08:17:26.263Z"
   },
   {
    "duration": 905,
    "start_time": "2022-03-03T08:17:26.338Z"
   },
   {
    "duration": 272,
    "start_time": "2022-03-03T08:17:27.246Z"
   },
   {
    "duration": 9,
    "start_time": "2022-03-03T08:17:27.521Z"
   },
   {
    "duration": 328,
    "start_time": "2022-03-03T08:17:27.532Z"
   },
   {
    "duration": 90,
    "start_time": "2022-03-03T08:17:27.862Z"
   },
   {
    "duration": 5,
    "start_time": "2022-03-03T08:17:27.954Z"
   },
   {
    "duration": 60,
    "start_time": "2022-03-03T08:17:27.961Z"
   },
   {
    "duration": 117,
    "start_time": "2022-03-03T08:17:28.024Z"
   },
   {
    "duration": 697,
    "start_time": "2022-03-03T08:17:28.143Z"
   },
   {
    "duration": 421,
    "start_time": "2022-03-03T08:17:28.843Z"
   },
   {
    "duration": 36,
    "start_time": "2022-03-03T08:17:29.266Z"
   },
   {
    "duration": 85,
    "start_time": "2022-03-03T08:17:29.305Z"
   },
   {
    "duration": 27,
    "start_time": "2022-03-03T08:17:29.393Z"
   },
   {
    "duration": 384,
    "start_time": "2022-03-03T08:17:29.422Z"
   },
   {
    "duration": 607,
    "start_time": "2022-03-03T08:17:29.813Z"
   },
   {
    "duration": 26,
    "start_time": "2022-03-03T08:17:30.424Z"
   },
   {
    "duration": 71,
    "start_time": "2022-03-03T08:17:30.452Z"
   },
   {
    "duration": 63,
    "start_time": "2022-03-03T08:17:30.526Z"
   },
   {
    "duration": 4097,
    "start_time": "2022-03-03T08:17:30.591Z"
   },
   {
    "duration": 26,
    "start_time": "2022-03-03T08:17:34.690Z"
   },
   {
    "duration": 43,
    "start_time": "2022-03-03T08:17:34.719Z"
   },
   {
    "duration": 284,
    "start_time": "2022-03-03T08:17:34.788Z"
   },
   {
    "duration": 53,
    "start_time": "2022-03-03T08:17:35.075Z"
   },
   {
    "duration": 295,
    "start_time": "2022-03-03T08:17:35.131Z"
   },
   {
    "duration": 540,
    "start_time": "2022-03-03T08:17:35.428Z"
   },
   {
    "duration": 239,
    "start_time": "2022-03-03T08:17:35.971Z"
   },
   {
    "duration": 25,
    "start_time": "2022-03-03T08:17:36.212Z"
   },
   {
    "duration": 15,
    "start_time": "2022-03-03T08:17:36.240Z"
   },
   {
    "duration": 136,
    "start_time": "2022-03-03T08:17:36.258Z"
   },
   {
    "duration": 5,
    "start_time": "2022-03-03T08:17:36.397Z"
   },
   {
    "duration": 5984,
    "start_time": "2022-03-03T08:17:36.405Z"
   },
   {
    "duration": 7,
    "start_time": "2022-03-03T08:17:42.391Z"
   },
   {
    "duration": 8,
    "start_time": "2022-03-03T08:17:42.401Z"
   },
   {
    "duration": 523,
    "start_time": "2022-03-03T08:17:42.412Z"
   },
   {
    "duration": 136,
    "start_time": "2022-03-03T08:17:42.938Z"
   },
   {
    "duration": 800,
    "start_time": "2022-03-03T08:17:43.077Z"
   },
   {
    "duration": 48,
    "start_time": "2022-03-03T08:17:43.888Z"
   },
   {
    "duration": 5,
    "start_time": "2022-03-03T08:17:43.939Z"
   },
   {
    "duration": 10276,
    "start_time": "2022-03-03T08:17:43.947Z"
   },
   {
    "duration": 104,
    "start_time": "2022-03-03T08:17:54.226Z"
   },
   {
    "duration": 11,
    "start_time": "2022-03-03T08:17:54.333Z"
   },
   {
    "duration": 679,
    "start_time": "2022-03-03T08:17:54.347Z"
   },
   {
    "duration": 150,
    "start_time": "2022-03-03T08:17:55.029Z"
   },
   {
    "duration": 749,
    "start_time": "2022-03-03T08:17:55.187Z"
   },
   {
    "duration": 3,
    "start_time": "2022-03-03T08:17:55.939Z"
   },
   {
    "duration": 61,
    "start_time": "2022-03-03T08:17:55.945Z"
   },
   {
    "duration": 16,
    "start_time": "2022-03-03T08:17:56.009Z"
   },
   {
    "duration": 1023,
    "start_time": "2022-03-03T08:17:56.027Z"
   },
   {
    "duration": 3,
    "start_time": "2022-03-03T08:17:57.052Z"
   },
   {
    "duration": 205,
    "start_time": "2022-03-03T08:17:57.057Z"
   },
   {
    "duration": 161,
    "start_time": "2022-03-03T08:17:57.264Z"
   },
   {
    "duration": 6,
    "start_time": "2022-03-03T08:17:57.427Z"
   },
   {
    "duration": 1029,
    "start_time": "2022-03-03T08:17:57.435Z"
   },
   {
    "duration": 311,
    "start_time": "2022-03-03T08:17:58.466Z"
   },
   {
    "duration": 40,
    "start_time": "2022-03-03T08:17:58.780Z"
   },
   {
    "duration": 5,
    "start_time": "2022-03-03T08:17:58.822Z"
   },
   {
    "duration": 346,
    "start_time": "2022-03-03T08:17:58.829Z"
   },
   {
    "duration": 12,
    "start_time": "2022-03-03T08:17:59.177Z"
   },
   {
    "duration": 9,
    "start_time": "2022-03-03T08:17:59.191Z"
   },
   {
    "duration": 26786,
    "start_time": "2022-03-03T08:17:59.202Z"
   },
   {
    "duration": 5,
    "start_time": "2022-03-03T08:18:25.994Z"
   },
   {
    "duration": 88,
    "start_time": "2022-03-03T08:18:26.001Z"
   },
   {
    "duration": 172727,
    "start_time": "2022-03-03T08:18:26.092Z"
   },
   {
    "duration": 6,
    "start_time": "2022-03-03T08:21:18.822Z"
   },
   {
    "duration": 6443,
    "start_time": "2022-03-03T08:21:18.830Z"
   },
   {
    "duration": 13,
    "start_time": "2022-03-03T08:21:25.275Z"
   },
   {
    "duration": 11,
    "start_time": "2022-03-03T08:21:25.291Z"
   },
   {
    "duration": 8,
    "start_time": "2022-03-03T08:21:25.304Z"
   },
   {
    "duration": 200679,
    "start_time": "2022-03-03T08:21:25.321Z"
   },
   {
    "duration": 27,
    "start_time": "2022-03-03T08:24:46.006Z"
   },
   {
    "duration": 415,
    "start_time": "2022-03-03T08:24:46.036Z"
   },
   {
    "duration": 7,
    "start_time": "2022-03-03T08:24:46.454Z"
   },
   {
    "duration": 44,
    "start_time": "2022-03-03T08:24:46.464Z"
   },
   {
    "duration": 8,
    "start_time": "2022-03-03T08:24:46.511Z"
   },
   {
    "duration": 2003,
    "start_time": "2022-03-03T08:24:46.522Z"
   },
   {
    "duration": 4,
    "start_time": "2022-03-03T08:24:48.529Z"
   },
   {
    "duration": 351573,
    "start_time": "2022-03-03T08:24:48.536Z"
   },
   {
    "duration": 8,
    "start_time": "2022-03-03T08:30:40.111Z"
   },
   {
    "duration": 19,
    "start_time": "2022-03-03T08:30:40.121Z"
   },
   {
    "duration": 33852,
    "start_time": "2022-03-03T08:30:40.142Z"
   },
   {
    "duration": 200,
    "start_time": "2022-03-03T08:31:13.997Z"
   },
   {
    "duration": 6,
    "start_time": "2022-03-03T08:31:14.201Z"
   },
   {
    "duration": 8355,
    "start_time": "2022-03-03T08:31:14.289Z"
   },
   {
    "duration": 185,
    "start_time": "2022-03-03T08:31:22.647Z"
   },
   {
    "duration": 8,
    "start_time": "2022-03-03T08:31:22.835Z"
   },
   {
    "duration": 228949,
    "start_time": "2022-03-03T08:31:22.846Z"
   },
   {
    "duration": 849,
    "start_time": "2022-03-03T08:35:11.798Z"
   },
   {
    "duration": 5,
    "start_time": "2022-03-03T08:35:12.650Z"
   },
   {
    "duration": 181947,
    "start_time": "2022-03-03T08:35:12.659Z"
   },
   {
    "duration": 714,
    "start_time": "2022-03-03T08:38:14.688Z"
   },
   {
    "duration": 6,
    "start_time": "2022-03-03T08:38:15.405Z"
   },
   {
    "duration": 446496,
    "start_time": "2022-03-03T08:38:15.414Z"
   },
   {
    "duration": 1090,
    "start_time": "2022-03-03T08:45:41.913Z"
   },
   {
    "duration": 7,
    "start_time": "2022-03-03T08:45:43.007Z"
   },
   {
    "duration": 11,
    "start_time": "2022-03-03T08:45:43.017Z"
   },
   {
    "duration": 76,
    "start_time": "2022-03-03T08:45:43.031Z"
   },
   {
    "duration": 16,
    "start_time": "2022-03-03T08:45:43.109Z"
   },
   {
    "duration": 486,
    "start_time": "2022-03-03T08:45:43.128Z"
   },
   {
    "duration": 6,
    "start_time": "2022-03-03T08:45:43.618Z"
   },
   {
    "duration": 400,
    "start_time": "2022-03-03T08:45:43.627Z"
   },
   {
    "duration": 7,
    "start_time": "2022-03-03T08:45:44.030Z"
   },
   {
    "duration": 495,
    "start_time": "2022-03-03T08:45:44.040Z"
   },
   {
    "duration": 497,
    "start_time": "2022-03-03T08:45:44.538Z"
   },
   {
    "duration": 518,
    "start_time": "2022-03-03T08:45:45.037Z"
   },
   {
    "duration": 524,
    "start_time": "2022-03-03T08:45:45.558Z"
   }
  ],
  "kernelspec": {
   "display_name": "Python 3",
   "language": "python",
   "name": "python3"
  },
  "language_info": {
   "codemirror_mode": {
    "name": "ipython",
    "version": 3
   },
   "file_extension": ".py",
   "mimetype": "text/x-python",
   "name": "python",
   "nbconvert_exporter": "python",
   "pygments_lexer": "ipython3",
   "version": "3.8.8"
  },
  "toc": {
   "base_numbering": 1,
   "nav_menu": {},
   "number_sections": false,
   "sideBar": true,
   "skip_h1_title": true,
   "title_cell": "Table of Contents",
   "title_sidebar": "Contents",
   "toc_cell": false,
   "toc_position": {
    "height": "calc(100% - 180px)",
    "left": "10px",
    "top": "150px",
    "width": "165px"
   },
   "toc_section_display": true,
   "toc_window_display": true
  }
 },
 "nbformat": 4,
 "nbformat_minor": 2
}
